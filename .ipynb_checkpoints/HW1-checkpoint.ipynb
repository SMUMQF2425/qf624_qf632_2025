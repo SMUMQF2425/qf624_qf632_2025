{
 "cells": [
  {
   "cell_type": "code",
   "execution_count": 1,
   "id": "f2f0a4c9-5e3c-4e8e-8ec3-46d7fbefc0c9",
   "metadata": {},
   "outputs": [
    {
     "name": "stderr",
     "output_type": "stream",
     "text": [
      "[*********************100%***********************]  5 of 5 completed"
     ]
    },
    {
     "name": "stdout",
     "output_type": "stream",
     "text": [
      "Missing values remaining: False\n"
     ]
    },
    {
     "name": "stderr",
     "output_type": "stream",
     "text": [
      "\n",
      "/var/folders/k1/7yl62fwx2879_758cjywcjrw0000gn/T/ipykernel_30670/924228541.py:20: FutureWarning: DataFrame.fillna with 'method' is deprecated and will raise in a future version. Use obj.ffill() or obj.bfill() instead.\n",
      "  data_filled = data.fillna(method='ffill')\n"
     ]
    }
   ],
   "source": [
    "# Import required libraries\n",
    "import yfinance as yf\n",
    "import pandas as pd\n",
    "import numpy as np\n",
    "import matplotlib.pyplot as plt\n",
    "import datetime\n",
    "\n",
    "# ========== Data Processing ==========\n",
    "# Define tickers for diverse financial instruments\n",
    "tickers = ['AAPL', 'TSLA', 'SPY', 'GLD', 'QQQ']\n",
    "\n",
    "# Set date range (past 5 years)\n",
    "end_date = datetime.datetime.today()\n",
    "start_date = end_date - datetime.timedelta(days=4*365+366)\n",
    "\n",
    "# Download historical market data\n",
    "data = yf.download(tickers, start=start_date, end=end_date, auto_adjust=False)\n",
    "\n",
    "# Handle missing values using forward-fill\n",
    "data_filled = data.fillna(method='ffill')\n",
    "\n",
    "# Verify data integrity\n",
    "print(\"Missing values remaining:\", data_filled.isnull().values.any())"
   ]
  },
  {
   "cell_type": "code",
   "execution_count": 2,
   "id": "ae7cc9d8-7389-4eba-bf9f-7d28a81eeb81",
   "metadata": {},
   "outputs": [
    {
     "name": "stdout",
     "output_type": "stream",
     "text": [
      "\n",
      "Trend Following Performance:\n",
      "      Annualized Return  Annualized Volatility  Sharpe Ratio  Max Drawdown\n",
      "AAPL          -0.026542               0.180545     -0.147012      0.366144\n",
      "GLD           -0.003980               0.081118     -0.049062      0.141946\n",
      "QQQ            0.103049               0.125512      0.821026      0.196576\n",
      "SPY            0.079446               0.090006      0.882670      0.118589\n",
      "TSLA          -0.223936               0.404055     -0.554223      0.860702\n"
     ]
    }
   ],
   "source": [
    "# Extract closing prices\n",
    "adj_close_prices = data_filled['Adj Close']\n",
    "\n",
    "# ========== Feature Extraction ==========\n",
    "# Trend Following Indicators\n",
    "ma_short = adj_close_prices.rolling(window=20).mean()\n",
    "ma_long = adj_close_prices.rolling(window=50).mean()\n",
    "\n",
    "def compute_rsi(series, window=14):\n",
    "    delta = series.diff()\n",
    "    gain = delta.where(delta > 0, 0)\n",
    "    loss = -delta.where(delta < 0, 0)\n",
    "    avg_gain = gain.rolling(window).mean()\n",
    "    avg_loss = loss.rolling(window).mean()\n",
    "    rs = avg_gain / avg_loss\n",
    "    return 100 - (100 / (1 + rs))\n",
    "\n",
    "rsi = adj_close_prices.apply(compute_rsi)\n",
    "\n",
    "# Mean Reversion Indicators\n",
    "rolling_mean = adj_close_prices.rolling(window=20).mean()\n",
    "rolling_std = adj_close_prices.rolling(window=20).std()\n",
    "upper_band = rolling_mean + (2 * rolling_std)\n",
    "lower_band = rolling_mean - (2 * rolling_std)\n",
    "z_score = (adj_close_prices - rolling_mean) / rolling_std\n",
    "\n",
    "# ========== Strategy Implementation ==========\n",
    "# Trend Following Strategy\n",
    "trend_signals = pd.DataFrame(index=adj_close_prices.index)\n",
    "\n",
    "for ticker in tickers:\n",
    "    # Entry signals\n",
    "    trend_signals[ticker] = 0\n",
    "    ma_crossover = (ma_short[ticker] > ma_long[ticker]) & (ma_short[ticker].shift(1) <= ma_long[ticker].shift(1))\n",
    "    oversold = rsi[ticker] < 30\n",
    "    trend_signals.loc[ma_crossover | oversold, ticker] = 1\n",
    "    \n",
    "    # Exit signals\n",
    "    ma_crossunder = (ma_short[ticker] < ma_long[ticker]) & (ma_short[ticker].shift(1) >= ma_long[ticker].shift(1))\n",
    "    overbought = rsi[ticker] > 70\n",
    "    trend_signals.loc[ma_crossunder | overbought, ticker] = -1\n",
    "\n",
    "# Mean Reversion Strategy\n",
    "mean_reversion_signals = pd.DataFrame(index=adj_close_prices.index)\n",
    "\n",
    "for ticker in tickers:\n",
    "    # Entry signals\n",
    "    mean_reversion_signals[ticker] = 0\n",
    "    below_lower = adj_close_prices[ticker] < lower_band[ticker]\n",
    "    z_undersold = z_score[ticker] < -1\n",
    "    mean_reversion_signals.loc[below_lower | z_undersold, ticker] = 1\n",
    "    \n",
    "    # Exit signals\n",
    "    above_upper = adj_close_prices[ticker] > upper_band[ticker]\n",
    "    z_overbought = z_score[ticker] > 1\n",
    "    mean_reversion_signals.loc[above_upper | z_overbought, ticker] = -1\n",
    "\n",
    "# ========== Backtesting & Evaluation ==========\n",
    "returns = adj_close_prices.pct_change()\n",
    "\n",
    "def performance_metrics(strategy_signals, returns):\n",
    "    strategy_returns = strategy_signals.shift(1) * returns\n",
    "    strategy_returns = strategy_returns.fillna(0)\n",
    "    \n",
    "    cumulative_returns = (1 + strategy_returns).cumprod() - 1\n",
    "    \n",
    "    metrics = pd.DataFrame({\n",
    "        'Annualized Return': strategy_returns.mean() * 252,\n",
    "        'Annualized Volatility': strategy_returns.std() * np.sqrt(252),\n",
    "        'Sharpe Ratio': (strategy_returns.mean() / strategy_returns.std()) * np.sqrt(252),\n",
    "        'Max Drawdown': (cumulative_returns.cummax() - cumulative_returns).max()\n",
    "    })\n",
    "    \n",
    "    return metrics\n",
    "\n",
    "# Evaluate strategies\n",
    "print(\"\\nTrend Following Performance:\")\n",
    "print(performance_metrics(trend_signals, returns))"
   ]
  },
  {
   "cell_type": "code",
   "execution_count": 3,
   "id": "babdc1b8-bd92-4c73-ad47-0f8b323213c0",
   "metadata": {},
   "outputs": [
    {
     "name": "stdout",
     "output_type": "stream",
     "text": [
      "\n",
      "Mean Reversion Performance:\n",
      "      Annualized Return  Annualized Volatility  Sharpe Ratio  Max Drawdown\n",
      "AAPL          -0.051043               0.222778     -0.229119      0.428548\n",
      "GLD           -0.020365               0.112359     -0.181251      0.232655\n",
      "QQQ            0.040314               0.176764      0.228064      0.217153\n",
      "SPY            0.024982               0.131098      0.190562      0.172089\n",
      "TSLA          -0.503976               0.499836     -1.008283      0.990114\n"
     ]
    }
   ],
   "source": [
    "print(\"\\nMean Reversion Performance:\")\n",
    "print(performance_metrics(mean_reversion_signals, returns))"
   ]
  },
  {
   "cell_type": "code",
   "execution_count": null,
   "id": "353e9419-07b4-4772-a0a7-229b202f5b60",
   "metadata": {},
   "outputs": [],
   "source": [
    "# 1. Price Series with Moving Averages\n",
    "for ticker in tickers:\n",
    "    plt.figure(figsize=(10, 4))\n",
    "    plt.plot(adj_close_prices[ticker], label=f'{ticker} Price')\n",
    "    plt.plot(ma_short[ticker],      label='20-day MA')\n",
    "    plt.plot(ma_long[ticker],       label='50-day MA')\n",
    "    plt.title(f'{ticker} Price & Moving Averages')\n",
    "    plt.legend()\n",
    "    plt.tight_layout()\n",
    "    plt.show()\n",
    "\n",
    "# 2. RSI with Overbought/Oversold Bands\n",
    "for ticker in tickers:\n",
    "    plt.figure(figsize=(10, 3))\n",
    "    plt.plot(rsi[ticker], label=f'{ticker} RSI')\n",
    "    plt.axhline(70, linestyle='--', label='Overbought (70)')\n",
    "    plt.axhline(30, linestyle='--', label='Oversold (30)')\n",
    "    plt.title(f'{ticker} Relative Strength Index')\n",
    "    plt.legend()\n",
    "    plt.tight_layout()\n",
    "    plt.show()\n",
    "\n",
    "# 3. Bollinger Bands\n",
    "for ticker in tickers:\n",
    "    plt.figure(figsize=(10, 4))\n",
    "    plt.plot(adj_close_prices[ticker], label=f'{ticker} Price')\n",
    "    plt.plot(rolling_mean[ticker],      label='20-day Mean')\n",
    "    plt.plot(upper_band[ticker],        label='Upper Band (Mean + 2σ)')\n",
    "    plt.plot(lower_band[ticker],        label='Lower Band (Mean – 2σ)')\n",
    "    plt.title(f'{ticker} Bollinger Bands')\n",
    "    plt.legend()\n",
    "    plt.tight_layout()\n",
    "    plt.show()\n",
    "\n",
    "# 4. Cumulative Returns Comparison\n",
    "# (re-compute inside plot scope for safety)\n",
    "cum_trend = (1 + trend_signals.shift(1) * returns).cumprod() - 1\n",
    "cum_mr    = (1 + mean_reversion_signals.shift(1) * returns).cumprod() - 1\n",
    "\n",
    "plt.figure(figsize=(10, 5))\n",
    "for ticker in tickers:\n",
    "    plt.plot(cum_trend[ticker], label=f'{ticker} Trend')\n",
    "    plt.plot(cum_mr[ticker],    label=f'{ticker} Mean Reversion')\n",
    "plt.title('Strategy Cumulative Returns')\n",
    "plt.legend(ncol=2)\n",
    "plt.tight_layout()\n",
    "plt.show()"
   ]
  }
 ],
 "metadata": {
  "kernelspec": {
   "display_name": "Python 3 (ipykernel)",
   "language": "python",
   "name": "python3"
  },
  "language_info": {
   "codemirror_mode": {
    "name": "ipython",
    "version": 3
   },
   "file_extension": ".py",
   "mimetype": "text/x-python",
   "name": "python",
   "nbconvert_exporter": "python",
   "pygments_lexer": "ipython3",
   "version": "3.12.9"
  }
 },
 "nbformat": 4,
 "nbformat_minor": 5
}
