{
 "cells": [
  {
   "cell_type": "markdown",
   "id": "0489c370",
   "metadata": {},
   "source": [
    "## Case Study: Advertising Data"
   ]
  },
  {
   "cell_type": "code",
   "execution_count": 1,
   "id": "2970b647",
   "metadata": {},
   "outputs": [],
   "source": [
    "# imports\n",
    "import numpy as np\n",
    "import pandas as pd\n",
    "import seaborn as sns\n",
    "import matplotlib.pyplot as plt\n",
    "from sklearn.linear_model import LinearRegression\n",
    "from sklearn import metrics\n",
    "from sklearn.model_selection import train_test_split\n",
    "\n",
    "# allow plots to appear directly in the notebook\n",
    "%matplotlib inline\n",
    "sns.set()"
   ]
  },
  {
   "cell_type": "markdown",
   "id": "d2865105",
   "metadata": {},
   "source": [
    "### Read data into a DataFrame\n",
    "\n",
    "Use pandas.read_csv() to load data into a dataframe. \n",
    "\n",
    "The data can be a file on your computer or even a file from an online source."
   ]
  },
  {
   "cell_type": "code",
   "execution_count": 2,
   "id": "17955293",
   "metadata": {},
   "outputs": [
    {
     "data": {
      "text/html": [
       "<div>\n",
       "<style scoped>\n",
       "    .dataframe tbody tr th:only-of-type {\n",
       "        vertical-align: middle;\n",
       "    }\n",
       "\n",
       "    .dataframe tbody tr th {\n",
       "        vertical-align: top;\n",
       "    }\n",
       "\n",
       "    .dataframe thead th {\n",
       "        text-align: right;\n",
       "    }\n",
       "</style>\n",
       "<table border=\"1\" class=\"dataframe\">\n",
       "  <thead>\n",
       "    <tr style=\"text-align: right;\">\n",
       "      <th></th>\n",
       "      <th>TV</th>\n",
       "      <th>Radio</th>\n",
       "      <th>Newspaper</th>\n",
       "      <th>Sales</th>\n",
       "    </tr>\n",
       "  </thead>\n",
       "  <tbody>\n",
       "    <tr>\n",
       "      <th>1</th>\n",
       "      <td>230.1</td>\n",
       "      <td>37.8</td>\n",
       "      <td>69.2</td>\n",
       "      <td>22.1</td>\n",
       "    </tr>\n",
       "    <tr>\n",
       "      <th>2</th>\n",
       "      <td>44.5</td>\n",
       "      <td>39.3</td>\n",
       "      <td>45.1</td>\n",
       "      <td>10.4</td>\n",
       "    </tr>\n",
       "    <tr>\n",
       "      <th>3</th>\n",
       "      <td>17.2</td>\n",
       "      <td>45.9</td>\n",
       "      <td>69.3</td>\n",
       "      <td>9.3</td>\n",
       "    </tr>\n",
       "    <tr>\n",
       "      <th>4</th>\n",
       "      <td>151.5</td>\n",
       "      <td>41.3</td>\n",
       "      <td>58.5</td>\n",
       "      <td>18.5</td>\n",
       "    </tr>\n",
       "    <tr>\n",
       "      <th>5</th>\n",
       "      <td>180.8</td>\n",
       "      <td>10.8</td>\n",
       "      <td>58.4</td>\n",
       "      <td>12.9</td>\n",
       "    </tr>\n",
       "  </tbody>\n",
       "</table>\n",
       "</div>"
      ],
      "text/plain": [
       "      TV  Radio  Newspaper  Sales\n",
       "1  230.1   37.8       69.2   22.1\n",
       "2   44.5   39.3       45.1   10.4\n",
       "3   17.2   45.9       69.3    9.3\n",
       "4  151.5   41.3       58.5   18.5\n",
       "5  180.8   10.8       58.4   12.9"
      ]
     },
     "execution_count": 2,
     "metadata": {},
     "output_type": "execute_result"
    }
   ],
   "source": [
    "data = pd.read_csv('Advertising.csv', index_col=0)   \n",
    "#index_col=0 sets the first col in csv file as row index\n",
    "data.head()"
   ]
  },
  {
   "cell_type": "markdown",
   "id": "1cc89c33",
   "metadata": {},
   "source": [
    "What are the input variables?\n",
    "- TV: advertising dollars spent on TV for a single product in a given market \n",
    "- Radio: advertising dollars spent on Radio\n",
    "- Newspaper: advertising dollars spent on Newspaper\n",
    "\n",
    "All above are in thousands of dollars.\n",
    "\n",
    "What is the target variable?\n",
    "- Sales: sales of a single product in a given market (in thousands of widgets)"
   ]
  },
  {
   "cell_type": "markdown",
   "id": "518b2fcd",
   "metadata": {},
   "source": [
    "### Exploratory Data Analysis"
   ]
  },
  {
   "cell_type": "markdown",
   "id": "42f7cccd",
   "metadata": {},
   "source": [
    "Show the shape of the DataFrame"
   ]
  },
  {
   "cell_type": "code",
   "execution_count": 3,
   "id": "1450ee65",
   "metadata": {},
   "outputs": [
    {
     "data": {
      "text/plain": [
       "(200, 4)"
      ]
     },
     "execution_count": 3,
     "metadata": {},
     "output_type": "execute_result"
    }
   ],
   "source": [
    "data.shape"
   ]
  },
  {
   "cell_type": "markdown",
   "id": "65b1237d",
   "metadata": {},
   "source": [
    "Get a high level overview of the data: column name, column types and any potential missing values."
   ]
  },
  {
   "cell_type": "code",
   "execution_count": 4,
   "id": "dfd250bd",
   "metadata": {},
   "outputs": [
    {
     "name": "stdout",
     "output_type": "stream",
     "text": [
      "<class 'pandas.core.frame.DataFrame'>\n",
      "Index: 200 entries, 1 to 200\n",
      "Data columns (total 4 columns):\n",
      " #   Column     Non-Null Count  Dtype  \n",
      "---  ------     --------------  -----  \n",
      " 0   TV         200 non-null    float64\n",
      " 1   Radio      200 non-null    float64\n",
      " 2   Newspaper  200 non-null    float64\n",
      " 3   Sales      200 non-null    float64\n",
      "dtypes: float64(4)\n",
      "memory usage: 7.8 KB\n"
     ]
    }
   ],
   "source": [
    "data.info()"
   ]
  },
  {
   "cell_type": "markdown",
   "id": "79e251a1",
   "metadata": {},
   "source": [
    "Get a high level summary of each numerical column"
   ]
  },
  {
   "cell_type": "code",
   "execution_count": 5,
   "id": "8392589f",
   "metadata": {},
   "outputs": [
    {
     "data": {
      "text/html": [
       "<div>\n",
       "<style scoped>\n",
       "    .dataframe tbody tr th:only-of-type {\n",
       "        vertical-align: middle;\n",
       "    }\n",
       "\n",
       "    .dataframe tbody tr th {\n",
       "        vertical-align: top;\n",
       "    }\n",
       "\n",
       "    .dataframe thead th {\n",
       "        text-align: right;\n",
       "    }\n",
       "</style>\n",
       "<table border=\"1\" class=\"dataframe\">\n",
       "  <thead>\n",
       "    <tr style=\"text-align: right;\">\n",
       "      <th></th>\n",
       "      <th>TV</th>\n",
       "      <th>Radio</th>\n",
       "      <th>Newspaper</th>\n",
       "      <th>Sales</th>\n",
       "    </tr>\n",
       "  </thead>\n",
       "  <tbody>\n",
       "    <tr>\n",
       "      <th>count</th>\n",
       "      <td>200.000000</td>\n",
       "      <td>200.000000</td>\n",
       "      <td>200.000000</td>\n",
       "      <td>200.000000</td>\n",
       "    </tr>\n",
       "    <tr>\n",
       "      <th>mean</th>\n",
       "      <td>147.042500</td>\n",
       "      <td>23.264000</td>\n",
       "      <td>30.554000</td>\n",
       "      <td>14.022500</td>\n",
       "    </tr>\n",
       "    <tr>\n",
       "      <th>std</th>\n",
       "      <td>85.854236</td>\n",
       "      <td>14.846809</td>\n",
       "      <td>21.778621</td>\n",
       "      <td>5.217457</td>\n",
       "    </tr>\n",
       "    <tr>\n",
       "      <th>min</th>\n",
       "      <td>0.700000</td>\n",
       "      <td>0.000000</td>\n",
       "      <td>0.300000</td>\n",
       "      <td>1.600000</td>\n",
       "    </tr>\n",
       "    <tr>\n",
       "      <th>25%</th>\n",
       "      <td>74.375000</td>\n",
       "      <td>9.975000</td>\n",
       "      <td>12.750000</td>\n",
       "      <td>10.375000</td>\n",
       "    </tr>\n",
       "    <tr>\n",
       "      <th>50%</th>\n",
       "      <td>149.750000</td>\n",
       "      <td>22.900000</td>\n",
       "      <td>25.750000</td>\n",
       "      <td>12.900000</td>\n",
       "    </tr>\n",
       "    <tr>\n",
       "      <th>75%</th>\n",
       "      <td>218.825000</td>\n",
       "      <td>36.525000</td>\n",
       "      <td>45.100000</td>\n",
       "      <td>17.400000</td>\n",
       "    </tr>\n",
       "    <tr>\n",
       "      <th>max</th>\n",
       "      <td>296.400000</td>\n",
       "      <td>49.600000</td>\n",
       "      <td>114.000000</td>\n",
       "      <td>27.000000</td>\n",
       "    </tr>\n",
       "  </tbody>\n",
       "</table>\n",
       "</div>"
      ],
      "text/plain": [
       "               TV       Radio   Newspaper       Sales\n",
       "count  200.000000  200.000000  200.000000  200.000000\n",
       "mean   147.042500   23.264000   30.554000   14.022500\n",
       "std     85.854236   14.846809   21.778621    5.217457\n",
       "min      0.700000    0.000000    0.300000    1.600000\n",
       "25%     74.375000    9.975000   12.750000   10.375000\n",
       "50%    149.750000   22.900000   25.750000   12.900000\n",
       "75%    218.825000   36.525000   45.100000   17.400000\n",
       "max    296.400000   49.600000  114.000000   27.000000"
      ]
     },
     "execution_count": 5,
     "metadata": {},
     "output_type": "execute_result"
    }
   ],
   "source": [
    "data.describe()"
   ]
  },
  {
   "cell_type": "markdown",
   "id": "b93d858b",
   "metadata": {},
   "source": [
    "Any missing values or no illogical values (i.e negative quantities)? If not, this is a clean data set."
   ]
  },
  {
   "cell_type": "markdown",
   "id": "99f1a2b2",
   "metadata": {},
   "source": [
    "### Simple Linear Regression"
   ]
  },
  {
   "cell_type": "markdown",
   "id": "ac0f3dd1",
   "metadata": {},
   "source": [
    "#### Relationship between sales and Newspaper spend\n",
    "\n",
    "$$y = \\beta_0 + \\beta_1x$$\n",
    "- $y$ is the target variable, i.e. the sales\n",
    "- $x$ corresponds to the input variable, i.e. Newspaper spend\n",
    "- $\\beta_0$ is the intercept with the y-axis\n",
    "- $\\beta_1$ is the coefficient for the input variable"
   ]
  },
  {
   "cell_type": "markdown",
   "id": "67962d6e",
   "metadata": {},
   "source": [
    "Prepare the data"
   ]
  },
  {
   "cell_type": "code",
   "execution_count": 6,
   "id": "493ca03a",
   "metadata": {},
   "outputs": [
    {
     "data": {
      "text/plain": [
       "array([[69.2],\n",
       "       [45.1],\n",
       "       [69.3],\n",
       "       [58.5],\n",
       "       [58.4]])"
      ]
     },
     "metadata": {},
     "output_type": "display_data"
    },
    {
     "data": {
      "text/plain": [
       "1    22.1\n",
       "2    10.4\n",
       "3     9.3\n",
       "4    18.5\n",
       "5    12.9\n",
       "Name: Sales, dtype: float64"
      ]
     },
     "metadata": {},
     "output_type": "display_data"
    }
   ],
   "source": [
    "# create x and y\n",
    "feature_cols = ['Newspaper']\n",
    "x_orig = data.loc[:,feature_cols].values \n",
    "# feature_cols must be a list of column names, even if just 1 col\n",
    "# x for linear regression must be 2D array (x cannot be 1D flat array)\n",
    "display(x_orig[:5])\n",
    "\n",
    "y = data.loc[:,\"Sales\"]\n",
    "\n",
    "y = data['Sales'] #alternative\n",
    "\n",
    "display(y[:5])"
   ]
  },
  {
   "cell_type": "markdown",
   "id": "05ae46a9",
   "metadata": {},
   "source": [
    "#### Use LinearRegression model \n",
    "\n",
    "Objective: minimize the **sum of squared residuals (SSR)**\n",
    "$$\n",
    "\\min~\\text{SSR} = \\min\\sum\\limits_{i=1}^nu_i^2 = \\min\\sum\\limits_{i=1}^n(y_i - \\hat{y}_i)^2. \n",
    "$$"
   ]
  },
  {
   "cell_type": "code",
   "execution_count": 7,
   "id": "36052967",
   "metadata": {},
   "outputs": [
    {
     "name": "stdout",
     "output_type": "stream",
     "text": [
      "12.35140706927816\n",
      "[0.0546931]\n"
     ]
    }
   ],
   "source": [
    "# create LinearRegression object and fit\n",
    "lm = LinearRegression()\n",
    "lm.fit(x_orig, y)\n",
    "\n",
    "# print the results\n",
    "print(lm.intercept_)\n",
    "print(lm.coef_)"
   ]
  },
  {
   "cell_type": "markdown",
   "id": "ba2899a1",
   "metadata": {},
   "source": [
    "#### Using the Model for Prediction\n",
    "\n",
    "Let's say that there were 2 new markets where the Newspaper advertising spend was **\\$100,000** and **\\$200,000**. What would we predict for the Sales in that market?\n",
    "\n",
    "$$y_1 = 12.3514 + 0.05469 \\times 100$$\n",
    "$$y_2 = 12.3514 + 0.05469 \\times 200$$"
   ]
  },
  {
   "cell_type": "code",
   "execution_count": 8,
   "id": "4335a91b",
   "metadata": {},
   "outputs": [
    {
     "data": {
      "text/plain": [
       "array([17.82071692, 23.29002676])"
      ]
     },
     "execution_count": 8,
     "metadata": {},
     "output_type": "execute_result"
    }
   ],
   "source": [
    "x_new = np.array([  [100],[200]   ]) \n",
    "# x must be 2D array with multiple rows and 1 column; x cannot be 1D array\n",
    "y_pred = lm.predict(x_new)\n",
    "y_pred"
   ]
  },
  {
   "cell_type": "markdown",
   "id": "0dde4d2f",
   "metadata": {},
   "source": [
    "#### How Well Does the Model Fit the data?\n",
    "Let's feed the original Newspaper column back to the trained linear model to get the predicted y value by the model"
   ]
  },
  {
   "cell_type": "code",
   "execution_count": 9,
   "id": "436052b2",
   "metadata": {},
   "outputs": [],
   "source": [
    "y_pred = lm.predict(x_orig)"
   ]
  },
  {
   "cell_type": "markdown",
   "id": "568ad4c9",
   "metadata": {},
   "source": [
    "Use a plot to check if the prediction (linear model) fits the original data (Newspaper spend vs. Sales) well"
   ]
  },
  {
   "cell_type": "code",
   "execution_count": 10,
   "id": "df22799d",
   "metadata": {},
   "outputs": [
    {
     "data": {
      "text/plain": [
       "<Axes: xlabel='Newspaper', ylabel='Sales'>"
      ]
     },
     "execution_count": 10,
     "metadata": {},
     "output_type": "execute_result"
    },
    {
     "data": {
      "image/png": "[encoded data removed]",
      "text/plain": [
       "<Figure size 640x480 with 1 Axes>"
      ]
     },
     "metadata": {},
     "output_type": "display_data"
    }
   ],
   "source": [
    "# Plot the original data set on a scatterplot\n",
    "sns.scatterplot(x=data['Newspaper'], y=y)\n",
    "\n",
    "# plot the linear fit as a lineplot\n",
    "sns.lineplot(x=data['Newspaper'], y=y_pred, color=\"orange\")"
   ]
  },
  {
   "cell_type": "markdown",
   "id": "c465914e",
   "metadata": {},
   "source": [
    "#### Mean Squared Error (MSE) and Root Mean Squared Error (RMSE) "
   ]
  },
  {
   "cell_type": "code",
   "execution_count": 11,
   "id": "dfa402a3",
   "metadata": {},
   "outputs": [
    {
     "name": "stdout",
     "output_type": "stream",
     "text": [
      "MSE: 25.674022720559698 RMSE: 5.066953988399707\n"
     ]
    }
   ],
   "source": [
    "from sklearn.metrics import mean_squared_error\n",
    "mse = mean_squared_error(y, y_pred)\n",
    "print(\"MSE:\", mse, \"RMSE:\", np.sqrt(mse))"
   ]
  },
  {
   "cell_type": "markdown",
   "id": "ae00e565",
   "metadata": {},
   "source": [
    "#### R-Squared\n",
    "\n",
    "$$\n",
    "  R^2 = 1 - \\frac{\\sum_i (y_i - \\hat{y}_i)^2}{\\sum_i (y_i - \\bar{y})^2}\n",
    "  $$\n",
    "\n"
   ]
  },
  {
   "cell_type": "code",
   "execution_count": 12,
   "id": "ab7f8983",
   "metadata": {},
   "outputs": [
    {
     "data": {
      "text/plain": [
       "0.05212044544430516"
      ]
     },
     "execution_count": 12,
     "metadata": {},
     "output_type": "execute_result"
    }
   ],
   "source": [
    "lm.score(x_orig, y)"
   ]
  },
  {
   "cell_type": "markdown",
   "id": "fcdecd88",
   "metadata": {},
   "source": [
    "### Multiple Linear Regression"
   ]
  },
  {
   "cell_type": "markdown",
   "id": "1d635752",
   "metadata": {},
   "source": [
    "Let's now consider all input variables, TV, Newspaper, Radio"
   ]
  },
  {
   "cell_type": "code",
   "execution_count": 13,
   "id": "3fd8f049",
   "metadata": {},
   "outputs": [
    {
     "name": "stdout",
     "output_type": "stream",
     "text": [
      "2.9388893694594085\n",
      "[ 0.04576465  0.18853002 -0.00103749]\n"
     ]
    },
    {
     "data": {
      "text/plain": [
       "0.8972106381789522"
      ]
     },
     "execution_count": 13,
     "metadata": {},
     "output_type": "execute_result"
    }
   ],
   "source": [
    "x_all = data.loc[:, 'TV':'Newspaper']\n",
    "y = data.loc[:,\"Sales\"]\n",
    "\n",
    "# create a LinearRegression model\n",
    "lm_all_sklearn = LinearRegression()\n",
    "\n",
    "lm_all_sklearn.fit(x_all, y)\n",
    "print(lm_all_sklearn.intercept_)\n",
    "print(lm_all_sklearn.coef_)\n",
    "\n",
    "#R2 score\n",
    "lm_all_sklearn.score(x_all,y)"
   ]
  },
  {
   "cell_type": "code",
   "execution_count": 14,
   "id": "2ad5cabc",
   "metadata": {},
   "outputs": [
    {
     "data": {
      "text/html": [
       "<div>\n",
       "<style scoped>\n",
       "    .dataframe tbody tr th:only-of-type {\n",
       "        vertical-align: middle;\n",
       "    }\n",
       "\n",
       "    .dataframe tbody tr th {\n",
       "        vertical-align: top;\n",
       "    }\n",
       "\n",
       "    .dataframe thead th {\n",
       "        text-align: right;\n",
       "    }\n",
       "</style>\n",
       "<table border=\"1\" class=\"dataframe\">\n",
       "  <thead>\n",
       "    <tr style=\"text-align: right;\">\n",
       "      <th></th>\n",
       "      <th>Newspaper</th>\n",
       "      <th>Sales</th>\n",
       "    </tr>\n",
       "  </thead>\n",
       "  <tbody>\n",
       "    <tr>\n",
       "      <th>Newspaper</th>\n",
       "      <td>1.000000</td>\n",
       "      <td>0.228299</td>\n",
       "    </tr>\n",
       "    <tr>\n",
       "      <th>Sales</th>\n",
       "      <td>0.228299</td>\n",
       "      <td>1.000000</td>\n",
       "    </tr>\n",
       "  </tbody>\n",
       "</table>\n",
       "</div>"
      ],
      "text/plain": [
       "           Newspaper     Sales\n",
       "Newspaper   1.000000  0.228299\n",
       "Sales       0.228299  1.000000"
      ]
     },
     "execution_count": 14,
     "metadata": {},
     "output_type": "execute_result"
    }
   ],
   "source": [
    "data.loc[:, ['Newspaper','Sales']].corr()"
   ]
  },
  {
   "cell_type": "markdown",
   "id": "a0cadbb0",
   "metadata": {},
   "source": [
    "### Dealing with categorical variables"
   ]
  },
  {
   "cell_type": "code",
   "execution_count": 15,
   "id": "c2d3d5e3",
   "metadata": {},
   "outputs": [
    {
     "data": {
      "text/html": [
       "<div>\n",
       "<style scoped>\n",
       "    .dataframe tbody tr th:only-of-type {\n",
       "        vertical-align: middle;\n",
       "    }\n",
       "\n",
       "    .dataframe tbody tr th {\n",
       "        vertical-align: top;\n",
       "    }\n",
       "\n",
       "    .dataframe thead th {\n",
       "        text-align: right;\n",
       "    }\n",
       "</style>\n",
       "<table border=\"1\" class=\"dataframe\">\n",
       "  <thead>\n",
       "    <tr style=\"text-align: right;\">\n",
       "      <th></th>\n",
       "      <th>name</th>\n",
       "      <th>price</th>\n",
       "      <th>unit_price</th>\n",
       "      <th>district_code</th>\n",
       "      <th>segment</th>\n",
       "      <th>type</th>\n",
       "      <th>area</th>\n",
       "      <th>level</th>\n",
       "      <th>remaining_years</th>\n",
       "      <th>date</th>\n",
       "    </tr>\n",
       "  </thead>\n",
       "  <tbody>\n",
       "    <tr>\n",
       "      <th>0</th>\n",
       "      <td>SEASCAPE</td>\n",
       "      <td>4388000</td>\n",
       "      <td>2028</td>\n",
       "      <td>4</td>\n",
       "      <td>CCR</td>\n",
       "      <td>Resale</td>\n",
       "      <td>2164</td>\n",
       "      <td>06 to 10</td>\n",
       "      <td>87.0</td>\n",
       "      <td>Nov-19</td>\n",
       "    </tr>\n",
       "    <tr>\n",
       "      <th>1</th>\n",
       "      <td>COMMONWEALTH TOWERS</td>\n",
       "      <td>1300000</td>\n",
       "      <td>1887</td>\n",
       "      <td>3</td>\n",
       "      <td>RCR</td>\n",
       "      <td>Resale</td>\n",
       "      <td>689</td>\n",
       "      <td>16 to 20</td>\n",
       "      <td>93.0</td>\n",
       "      <td>Nov-19</td>\n",
       "    </tr>\n",
       "    <tr>\n",
       "      <th>2</th>\n",
       "      <td>THE TRILINQ</td>\n",
       "      <td>1755000</td>\n",
       "      <td>1304</td>\n",
       "      <td>5</td>\n",
       "      <td>OCR</td>\n",
       "      <td>Resale</td>\n",
       "      <td>1346</td>\n",
       "      <td>06 to 10</td>\n",
       "      <td>92.0</td>\n",
       "      <td>Nov-19</td>\n",
       "    </tr>\n",
       "    <tr>\n",
       "      <th>3</th>\n",
       "      <td>THE CREST</td>\n",
       "      <td>2085000</td>\n",
       "      <td>2201</td>\n",
       "      <td>3</td>\n",
       "      <td>RCR</td>\n",
       "      <td>Resale</td>\n",
       "      <td>947</td>\n",
       "      <td>01 to 05</td>\n",
       "      <td>92.0</td>\n",
       "      <td>Nov-19</td>\n",
       "    </tr>\n",
       "    <tr>\n",
       "      <th>4</th>\n",
       "      <td>THE ANCHORAGE</td>\n",
       "      <td>1848888</td>\n",
       "      <td>1468</td>\n",
       "      <td>3</td>\n",
       "      <td>RCR</td>\n",
       "      <td>Resale</td>\n",
       "      <td>1259</td>\n",
       "      <td>01 to 05</td>\n",
       "      <td>999.0</td>\n",
       "      <td>Nov-19</td>\n",
       "    </tr>\n",
       "  </tbody>\n",
       "</table>\n",
       "</div>"
      ],
      "text/plain": [
       "                  name    price  unit_price  district_code segment    type  \\\n",
       "0             SEASCAPE  4388000        2028              4     CCR  Resale   \n",
       "1  COMMONWEALTH TOWERS  1300000        1887              3     RCR  Resale   \n",
       "2          THE TRILINQ  1755000        1304              5     OCR  Resale   \n",
       "3            THE CREST  2085000        2201              3     RCR  Resale   \n",
       "4        THE ANCHORAGE  1848888        1468              3     RCR  Resale   \n",
       "\n",
       "   area     level  remaining_years    date  \n",
       "0  2164  06 to 10             87.0  Nov-19  \n",
       "1   689  16 to 20             93.0  Nov-19  \n",
       "2  1346  06 to 10             92.0  Nov-19  \n",
       "3   947  01 to 05             92.0  Nov-19  \n",
       "4  1259  01 to 05            999.0  Nov-19  "
      ]
     },
     "execution_count": 15,
     "metadata": {},
     "output_type": "execute_result"
    }
   ],
   "source": [
    "data = pd.read_csv('condo.csv')\n",
    "data.head()"
   ]
  },
  {
   "cell_type": "markdown",
   "id": "8620409b",
   "metadata": {},
   "source": [
    "**_For student’s own exploration_**\n",
    "\n",
    "Option 1: Use pandas.get_dummies()"
   ]
  },
  {
   "cell_type": "code",
   "execution_count": 16,
   "id": "962d3539",
   "metadata": {},
   "outputs": [
    {
     "data": {
      "text/html": [
       "<div>\n",
       "<style scoped>\n",
       "    .dataframe tbody tr th:only-of-type {\n",
       "        vertical-align: middle;\n",
       "    }\n",
       "\n",
       "    .dataframe tbody tr th {\n",
       "        vertical-align: top;\n",
       "    }\n",
       "\n",
       "    .dataframe thead th {\n",
       "        text-align: right;\n",
       "    }\n",
       "</style>\n",
       "<table border=\"1\" class=\"dataframe\">\n",
       "  <thead>\n",
       "    <tr style=\"text-align: right;\">\n",
       "      <th></th>\n",
       "      <th>name</th>\n",
       "      <th>price</th>\n",
       "      <th>unit_price</th>\n",
       "      <th>district_code</th>\n",
       "      <th>segment</th>\n",
       "      <th>type</th>\n",
       "      <th>area</th>\n",
       "      <th>level</th>\n",
       "      <th>remaining_years</th>\n",
       "      <th>date</th>\n",
       "      <th>New Sale</th>\n",
       "      <th>Resale</th>\n",
       "    </tr>\n",
       "  </thead>\n",
       "  <tbody>\n",
       "    <tr>\n",
       "      <th>0</th>\n",
       "      <td>SEASCAPE</td>\n",
       "      <td>4388000</td>\n",
       "      <td>2028</td>\n",
       "      <td>4</td>\n",
       "      <td>CCR</td>\n",
       "      <td>Resale</td>\n",
       "      <td>2164</td>\n",
       "      <td>06 to 10</td>\n",
       "      <td>87.0</td>\n",
       "      <td>Nov-19</td>\n",
       "      <td>False</td>\n",
       "      <td>True</td>\n",
       "    </tr>\n",
       "    <tr>\n",
       "      <th>1</th>\n",
       "      <td>COMMONWEALTH TOWERS</td>\n",
       "      <td>1300000</td>\n",
       "      <td>1887</td>\n",
       "      <td>3</td>\n",
       "      <td>RCR</td>\n",
       "      <td>Resale</td>\n",
       "      <td>689</td>\n",
       "      <td>16 to 20</td>\n",
       "      <td>93.0</td>\n",
       "      <td>Nov-19</td>\n",
       "      <td>False</td>\n",
       "      <td>True</td>\n",
       "    </tr>\n",
       "    <tr>\n",
       "      <th>2</th>\n",
       "      <td>THE TRILINQ</td>\n",
       "      <td>1755000</td>\n",
       "      <td>1304</td>\n",
       "      <td>5</td>\n",
       "      <td>OCR</td>\n",
       "      <td>Resale</td>\n",
       "      <td>1346</td>\n",
       "      <td>06 to 10</td>\n",
       "      <td>92.0</td>\n",
       "      <td>Nov-19</td>\n",
       "      <td>False</td>\n",
       "      <td>True</td>\n",
       "    </tr>\n",
       "    <tr>\n",
       "      <th>3</th>\n",
       "      <td>THE CREST</td>\n",
       "      <td>2085000</td>\n",
       "      <td>2201</td>\n",
       "      <td>3</td>\n",
       "      <td>RCR</td>\n",
       "      <td>Resale</td>\n",
       "      <td>947</td>\n",
       "      <td>01 to 05</td>\n",
       "      <td>92.0</td>\n",
       "      <td>Nov-19</td>\n",
       "      <td>False</td>\n",
       "      <td>True</td>\n",
       "    </tr>\n",
       "    <tr>\n",
       "      <th>4</th>\n",
       "      <td>THE ANCHORAGE</td>\n",
       "      <td>1848888</td>\n",
       "      <td>1468</td>\n",
       "      <td>3</td>\n",
       "      <td>RCR</td>\n",
       "      <td>Resale</td>\n",
       "      <td>1259</td>\n",
       "      <td>01 to 05</td>\n",
       "      <td>999.0</td>\n",
       "      <td>Nov-19</td>\n",
       "      <td>False</td>\n",
       "      <td>True</td>\n",
       "    </tr>\n",
       "    <tr>\n",
       "      <th>...</th>\n",
       "      <td>...</td>\n",
       "      <td>...</td>\n",
       "      <td>...</td>\n",
       "      <td>...</td>\n",
       "      <td>...</td>\n",
       "      <td>...</td>\n",
       "      <td>...</td>\n",
       "      <td>...</td>\n",
       "      <td>...</td>\n",
       "      <td>...</td>\n",
       "      <td>...</td>\n",
       "      <td>...</td>\n",
       "    </tr>\n",
       "    <tr>\n",
       "      <th>32163</th>\n",
       "      <td>SKIES MILTONIA</td>\n",
       "      <td>1268000</td>\n",
       "      <td>1178</td>\n",
       "      <td>27</td>\n",
       "      <td>OCR</td>\n",
       "      <td>Resale</td>\n",
       "      <td>1076</td>\n",
       "      <td>11 to 15</td>\n",
       "      <td>95.0</td>\n",
       "      <td>Nov-16</td>\n",
       "      <td>False</td>\n",
       "      <td>True</td>\n",
       "    </tr>\n",
       "    <tr>\n",
       "      <th>32164</th>\n",
       "      <td>SYMPHONY SUITES</td>\n",
       "      <td>824000</td>\n",
       "      <td>1034</td>\n",
       "      <td>27</td>\n",
       "      <td>OCR</td>\n",
       "      <td>New Sale</td>\n",
       "      <td>797</td>\n",
       "      <td>06 to 10</td>\n",
       "      <td>97.0</td>\n",
       "      <td>Nov-16</td>\n",
       "      <td>True</td>\n",
       "      <td>False</td>\n",
       "    </tr>\n",
       "    <tr>\n",
       "      <th>32165</th>\n",
       "      <td>SELETARIS</td>\n",
       "      <td>1250000</td>\n",
       "      <td>754</td>\n",
       "      <td>27</td>\n",
       "      <td>OCR</td>\n",
       "      <td>Resale</td>\n",
       "      <td>1658</td>\n",
       "      <td>01 to 05</td>\n",
       "      <td>999.0</td>\n",
       "      <td>Nov-16</td>\n",
       "      <td>False</td>\n",
       "      <td>True</td>\n",
       "    </tr>\n",
       "    <tr>\n",
       "      <th>32166</th>\n",
       "      <td>RIVERBANK @ FERNVALE</td>\n",
       "      <td>1082000</td>\n",
       "      <td>1026</td>\n",
       "      <td>28</td>\n",
       "      <td>OCR</td>\n",
       "      <td>New Sale</td>\n",
       "      <td>1055</td>\n",
       "      <td>16 to 20</td>\n",
       "      <td>96.0</td>\n",
       "      <td>Nov-16</td>\n",
       "      <td>True</td>\n",
       "      <td>False</td>\n",
       "    </tr>\n",
       "    <tr>\n",
       "      <th>32167</th>\n",
       "      <td>THE ESTUARY</td>\n",
       "      <td>610000</td>\n",
       "      <td>1012</td>\n",
       "      <td>27</td>\n",
       "      <td>OCR</td>\n",
       "      <td>Resale</td>\n",
       "      <td>603</td>\n",
       "      <td>01 to 05</td>\n",
       "      <td>91.0</td>\n",
       "      <td>Nov-16</td>\n",
       "      <td>False</td>\n",
       "      <td>True</td>\n",
       "    </tr>\n",
       "  </tbody>\n",
       "</table>\n",
       "<p>32168 rows × 12 columns</p>\n",
       "</div>"
      ],
      "text/plain": [
       "                       name    price  unit_price  district_code segment  \\\n",
       "0                  SEASCAPE  4388000        2028              4     CCR   \n",
       "1       COMMONWEALTH TOWERS  1300000        1887              3     RCR   \n",
       "2               THE TRILINQ  1755000        1304              5     OCR   \n",
       "3                 THE CREST  2085000        2201              3     RCR   \n",
       "4             THE ANCHORAGE  1848888        1468              3     RCR   \n",
       "...                     ...      ...         ...            ...     ...   \n",
       "32163        SKIES MILTONIA  1268000        1178             27     OCR   \n",
       "32164       SYMPHONY SUITES   824000        1034             27     OCR   \n",
       "32165             SELETARIS  1250000         754             27     OCR   \n",
       "32166  RIVERBANK @ FERNVALE  1082000        1026             28     OCR   \n",
       "32167           THE ESTUARY   610000        1012             27     OCR   \n",
       "\n",
       "           type  area     level  remaining_years    date  New Sale  Resale  \n",
       "0        Resale  2164  06 to 10             87.0  Nov-19     False    True  \n",
       "1        Resale   689  16 to 20             93.0  Nov-19     False    True  \n",
       "2        Resale  1346  06 to 10             92.0  Nov-19     False    True  \n",
       "3        Resale   947  01 to 05             92.0  Nov-19     False    True  \n",
       "4        Resale  1259  01 to 05            999.0  Nov-19     False    True  \n",
       "...         ...   ...       ...              ...     ...       ...     ...  \n",
       "32163    Resale  1076  11 to 15             95.0  Nov-16     False    True  \n",
       "32164  New Sale   797  06 to 10             97.0  Nov-16      True   False  \n",
       "32165    Resale  1658  01 to 05            999.0  Nov-16     False    True  \n",
       "32166  New Sale  1055  16 to 20             96.0  Nov-16      True   False  \n",
       "32167    Resale   603  01 to 05             91.0  Nov-16     False    True  \n",
       "\n",
       "[32168 rows x 12 columns]"
      ]
     },
     "execution_count": 16,
     "metadata": {},
     "output_type": "execute_result"
    }
   ],
   "source": [
    "type_dummies = pd.get_dummies(data.type) \n",
    "data = pd.concat([data, type_dummies], axis=1) \n",
    "data"
   ]
  },
  {
   "cell_type": "markdown",
   "id": "42c800d3",
   "metadata": {},
   "source": [
    "Option 2: Use scikit-learn OneHotEncoder\n",
    "    \n",
    "https://scikit-learn.org/stable/modules/generated/sklearn.preprocessing.OneHotEncoder.html"
   ]
  },
  {
   "cell_type": "markdown",
   "id": "af56fde5",
   "metadata": {},
   "source": [
    "## Case Study: Condo Data"
   ]
  },
  {
   "cell_type": "markdown",
   "id": "29321d81",
   "metadata": {},
   "source": [
    "### Ordinary Least Square (OLS) model"
   ]
  },
  {
   "cell_type": "code",
   "execution_count": 17,
   "id": "619ea929",
   "metadata": {},
   "outputs": [],
   "source": [
    "import statsmodels.formula.api as smf"
   ]
  },
  {
   "cell_type": "code",
   "execution_count": 18,
   "id": "94eb4de0",
   "metadata": {},
   "outputs": [],
   "source": [
    "d5_condo = data.loc[(data['district_code']==5) & \n",
    "            (data['area']<1500) & \n",
    "            (data['remaining_years']<100)]"
   ]
  },
  {
   "cell_type": "markdown",
   "id": "f16964b0",
   "metadata": {},
   "source": [
    "#### Categorical variable 'type' with 2 values"
   ]
  },
  {
   "cell_type": "code",
   "execution_count": 19,
   "id": "a6c604cf",
   "metadata": {},
   "outputs": [
    {
     "name": "stdout",
     "output_type": "stream",
     "text": [
      "                            OLS Regression Results                            \n",
      "==============================================================================\n",
      "Dep. Variable:                  price   R-squared:                       0.824\n",
      "Model:                            OLS   Adj. R-squared:                  0.824\n",
      "Method:                 Least Squares   F-statistic:                     3271.\n",
      "Date:                Sun, 27 Apr 2025   Prob (F-statistic):               0.00\n",
      "Time:                        10:18:19   Log-Likelihood:                -18424.\n",
      "No. Observations:                1402   AIC:                         3.685e+04\n",
      "Df Residuals:                    1399   BIC:                         3.687e+04\n",
      "Df Model:                           2                                         \n",
      "Covariance Type:            nonrobust                                         \n",
      "==================================================================================\n",
      "                     coef    std err          t      P>|t|      [0.025      0.975]\n",
      "----------------------------------------------------------------------------------\n",
      "Intercept       1.887e+05   1.17e+04     16.087      0.000    1.66e+05    2.12e+05\n",
      "type[T.Resale] -1.614e+05   7465.490    -21.624      0.000   -1.76e+05   -1.47e+05\n",
      "area            1024.6680     12.803     80.035      0.000     999.553    1049.783\n",
      "==============================================================================\n",
      "Omnibus:                       74.849   Durbin-Watson:                   1.960\n",
      "Prob(Omnibus):                  0.000   Jarque-Bera (JB):              242.179\n",
      "Skew:                           0.163   Prob(JB):                     2.58e-53\n",
      "Kurtosis:                       5.010   Cond. No.                     3.54e+03\n",
      "==============================================================================\n",
      "\n",
      "Notes:\n",
      "[1] Standard Errors assume that the covariance matrix of the errors is correctly specified.\n",
      "[2] The condition number is large, 3.54e+03. This might indicate that there are\n",
      "strong multicollinearity or other numerical problems.\n"
     ]
    }
   ],
   "source": [
    "d5_model = smf.ols('price ~ area + type', data=d5_condo)\n",
    "result = d5_model.fit()\n",
    "print(result.summary())"
   ]
  },
  {
   "cell_type": "markdown",
   "id": "207d601e",
   "metadata": {},
   "source": [
    "#### Categorical variable 'segment' with more than 2 values"
   ]
  },
  {
   "cell_type": "code",
   "execution_count": 20,
   "id": "2b2d43aa",
   "metadata": {},
   "outputs": [
    {
     "name": "stdout",
     "output_type": "stream",
     "text": [
      "                            OLS Regression Results                            \n",
      "==============================================================================\n",
      "Dep. Variable:                  price   R-squared:                       0.674\n",
      "Model:                            OLS   Adj. R-squared:                  0.674\n",
      "Method:                 Least Squares   F-statistic:                 1.821e+04\n",
      "Date:                Sun, 27 Apr 2025   Prob (F-statistic):               0.00\n",
      "Time:                        10:18:19   Log-Likelihood:            -3.7052e+05\n",
      "No. Observations:               26480   AIC:                         7.410e+05\n",
      "Df Residuals:                   26476   BIC:                         7.411e+05\n",
      "Df Model:                           3                                         \n",
      "Covariance Type:            nonrobust                                         \n",
      "==================================================================================\n",
      "                     coef    std err          t      P>|t|      [0.025      0.975]\n",
      "----------------------------------------------------------------------------------\n",
      "Intercept       1.025e+06   8121.660    126.251      0.000    1.01e+06    1.04e+06\n",
      "segment[T.OCR] -9.232e+05   5830.701   -158.338      0.000   -9.35e+05   -9.12e+05\n",
      "segment[T.RCR] -5.096e+05   6169.381    -82.606      0.000   -5.22e+05   -4.98e+05\n",
      "area             979.6503      6.156    159.141      0.000     967.585     991.716\n",
      "==============================================================================\n",
      "Omnibus:                     8308.375   Durbin-Watson:                   1.638\n",
      "Prob(Omnibus):                  0.000   Jarque-Bera (JB):            61868.640\n",
      "Skew:                           1.308   Prob(JB):                         0.00\n",
      "Kurtosis:                      10.016   Cond. No.                     5.89e+03\n",
      "==============================================================================\n",
      "\n",
      "Notes:\n",
      "[1] Standard Errors assume that the covariance matrix of the errors is correctly specified.\n",
      "[2] The condition number is large, 5.89e+03. This might indicate that there are\n",
      "strong multicollinearity or other numerical problems.\n"
     ]
    }
   ],
   "source": [
    "small_condo = data.loc[data['area'] < 1500]\n",
    "small_condo_model = smf.ols('price ~ segment + area', data=small_condo)\n",
    "result = small_condo_model.fit()\n",
    "print(result.summary())"
   ]
  },
  {
   "cell_type": "markdown",
   "id": "d9bc63ec",
   "metadata": {},
   "source": [
    "#### Interaction terms"
   ]
  },
  {
   "cell_type": "code",
   "execution_count": 21,
   "id": "3533fcac",
   "metadata": {},
   "outputs": [
    {
     "name": "stdout",
     "output_type": "stream",
     "text": [
      "                            OLS Regression Results                            \n",
      "==============================================================================\n",
      "Dep. Variable:                  price   R-squared:                       0.833\n",
      "Model:                            OLS   Adj. R-squared:                  0.832\n",
      "Method:                 Least Squares   F-statistic:                     2317.\n",
      "Date:                Sun, 27 Apr 2025   Prob (F-statistic):               0.00\n",
      "Time:                        10:18:19   Log-Likelihood:                -18388.\n",
      "No. Observations:                1402   AIC:                         3.678e+04\n",
      "Df Residuals:                    1398   BIC:                         3.681e+04\n",
      "Df Model:                           3                                         \n",
      "Covariance Type:            nonrobust                                         \n",
      "=======================================================================================\n",
      "                          coef    std err          t      P>|t|      [0.025      0.975]\n",
      "---------------------------------------------------------------------------------------\n",
      "Intercept            1.408e+05   1.27e+04     11.051      0.000    1.16e+05    1.66e+05\n",
      "type[T.Resale]       1.081e+05   3.24e+04      3.333      0.001    4.45e+04    1.72e+05\n",
      "area                 1080.5225     14.100     76.631      0.000    1052.862    1108.183\n",
      "type[T.Resale]:area  -258.8491     30.355     -8.527      0.000    -318.395    -199.304\n",
      "==============================================================================\n",
      "Omnibus:                       92.170   Durbin-Watson:                   1.960\n",
      "Prob(Omnibus):                  0.000   Jarque-Bera (JB):              254.409\n",
      "Skew:                           0.332   Prob(JB):                     5.70e-56\n",
      "Kurtosis:                       4.979   Cond. No.                     1.14e+04\n",
      "==============================================================================\n",
      "\n",
      "Notes:\n",
      "[1] Standard Errors assume that the covariance matrix of the errors is correctly specified.\n",
      "[2] The condition number is large, 1.14e+04. This might indicate that there are\n",
      "strong multicollinearity or other numerical problems.\n"
     ]
    }
   ],
   "source": [
    "d5_model = smf.ols('price ~ type * area', d5_condo)\n",
    "result = d5_model.fit()\n",
    "print(result.summary())"
   ]
  },
  {
   "cell_type": "markdown",
   "id": "630a9f9a",
   "metadata": {},
   "source": [
    "#### How to treat numbers as categorical variables"
   ]
  },
  {
   "cell_type": "code",
   "execution_count": 22,
   "id": "ee94d04d",
   "metadata": {},
   "outputs": [
    {
     "name": "stdout",
     "output_type": "stream",
     "text": [
      "                            OLS Regression Results                            \n",
      "==============================================================================\n",
      "Dep. Variable:                  price   R-squared:                       0.448\n",
      "Model:                            OLS   Adj. R-squared:                  0.448\n",
      "Method:                 Least Squares   F-statistic:                 1.075e+04\n",
      "Date:                Sun, 27 Apr 2025   Prob (F-statistic):               0.00\n",
      "Time:                        10:18:19   Log-Likelihood:            -3.7747e+05\n",
      "No. Observations:               26480   AIC:                         7.550e+05\n",
      "Df Residuals:                   26477   BIC:                         7.550e+05\n",
      "Df Model:                           2                                         \n",
      "Covariance Type:            nonrobust                                         \n",
      "=================================================================================\n",
      "                    coef    std err          t      P>|t|      [0.025      0.975]\n",
      "---------------------------------------------------------------------------------\n",
      "Intercept      7.477e+05   9347.102     79.991      0.000    7.29e+05    7.66e+05\n",
      "district_code -2.798e+04    338.519    -82.662      0.000   -2.86e+04   -2.73e+04\n",
      "area            999.3194      7.989    125.080      0.000     983.660    1014.979\n",
      "==============================================================================\n",
      "Omnibus:                    10241.560   Durbin-Watson:                   1.149\n",
      "Prob(Omnibus):                  0.000   Jarque-Bera (JB):            66089.417\n",
      "Skew:                           1.726   Prob(JB):                         0.00\n",
      "Kurtosis:                       9.927   Cond. No.                     4.08e+03\n",
      "==============================================================================\n",
      "\n",
      "Notes:\n",
      "[1] Standard Errors assume that the covariance matrix of the errors is correctly specified.\n",
      "[2] The condition number is large, 4.08e+03. This might indicate that there are\n",
      "strong multicollinearity or other numerical problems.\n"
     ]
    }
   ],
   "source": [
    "small_condo_model = smf.ols('price ~ district_code + area', data=small_condo)\n",
    "result = small_condo_model.fit()\n",
    "print(result.summary())"
   ]
  },
  {
   "cell_type": "code",
   "execution_count": 23,
   "id": "dfc3a03e",
   "metadata": {},
   "outputs": [
    {
     "name": "stdout",
     "output_type": "stream",
     "text": [
      "                            OLS Regression Results                            \n",
      "==============================================================================\n",
      "Dep. Variable:                  price   R-squared:                       0.705\n",
      "Model:                            OLS   Adj. R-squared:                  0.705\n",
      "Method:                 Least Squares   F-statistic:                     2526.\n",
      "Date:                Sun, 27 Apr 2025   Prob (F-statistic):               0.00\n",
      "Time:                        10:18:19   Log-Likelihood:            -3.6919e+05\n",
      "No. Observations:               26480   AIC:                         7.384e+05\n",
      "Df Residuals:                   26454   BIC:                         7.386e+05\n",
      "Df Model:                          25                                         \n",
      "Covariance Type:            nonrobust                                         \n",
      "==========================================================================================\n",
      "                             coef    std err          t      P>|t|      [0.025      0.975]\n",
      "------------------------------------------------------------------------------------------\n",
      "Intercept               9.771e+05    4.1e+04     23.832      0.000    8.97e+05    1.06e+06\n",
      "C(district_code)[T.2]  -2.772e+05   6.17e+04     -4.496      0.000   -3.98e+05   -1.56e+05\n",
      "C(district_code)[T.3]  -3.864e+05    4.1e+04     -9.429      0.000   -4.67e+05   -3.06e+05\n",
      "C(district_code)[T.4]  -3.046e+05   4.28e+04     -7.123      0.000   -3.88e+05   -2.21e+05\n",
      "C(district_code)[T.5]  -7.972e+05    4.1e+04    -19.425      0.000   -8.78e+05   -7.17e+05\n",
      "C(district_code)[T.8]  -5.525e+05    4.3e+04    -12.856      0.000   -6.37e+05   -4.68e+05\n",
      "C(district_code)[T.9]   2.169e+05   4.12e+04      5.263      0.000    1.36e+05    2.98e+05\n",
      "C(district_code)[T.10] -4.541e+04   4.14e+04     -1.096      0.273   -1.27e+05    3.58e+04\n",
      "C(district_code)[T.11] -2.477e+05   4.21e+04     -5.879      0.000    -3.3e+05   -1.65e+05\n",
      "C(district_code)[T.12] -5.461e+05   4.21e+04    -12.969      0.000   -6.29e+05   -4.64e+05\n",
      "C(district_code)[T.13] -4.936e+05   4.12e+04    -11.988      0.000   -5.74e+05   -4.13e+05\n",
      "C(district_code)[T.14] -7.018e+05   4.14e+04    -16.965      0.000   -7.83e+05   -6.21e+05\n",
      "C(district_code)[T.15] -4.284e+05   4.12e+04    -10.389      0.000   -5.09e+05   -3.48e+05\n",
      "C(district_code)[T.16] -8.208e+05    4.1e+04    -20.022      0.000   -9.01e+05    -7.4e+05\n",
      "C(district_code)[T.17] -1.066e+06   4.18e+04    -25.485      0.000   -1.15e+06   -9.84e+05\n",
      "C(district_code)[T.18] -8.885e+05   4.08e+04    -21.786      0.000   -9.68e+05   -8.09e+05\n",
      "C(district_code)[T.19] -8.547e+05    4.1e+04    -20.853      0.000   -9.35e+05   -7.74e+05\n",
      "C(district_code)[T.20] -5.625e+05   4.14e+04    -13.590      0.000   -6.44e+05   -4.81e+05\n",
      "C(district_code)[T.21] -6.048e+05   4.13e+04    -14.652      0.000   -6.86e+05   -5.24e+05\n",
      "C(district_code)[T.22] -8.653e+05   4.19e+04    -20.653      0.000   -9.47e+05   -7.83e+05\n",
      "C(district_code)[T.23] -1.016e+06   4.14e+04    -24.564      0.000    -1.1e+06   -9.35e+05\n",
      "C(district_code)[T.25] -1.074e+06   4.42e+04    -24.292      0.000   -1.16e+06   -9.87e+05\n",
      "C(district_code)[T.26] -9.971e+05   4.42e+04    -22.573      0.000   -1.08e+06   -9.11e+05\n",
      "C(district_code)[T.27] -1.015e+06   4.15e+04    -24.471      0.000    -1.1e+06   -9.34e+05\n",
      "C(district_code)[T.28] -8.321e+05   4.15e+04    -20.055      0.000   -9.13e+05   -7.51e+05\n",
      "area                     992.8008      6.115    162.365      0.000     980.816    1004.786\n",
      "==============================================================================\n",
      "Omnibus:                     7898.393   Durbin-Watson:                   1.665\n",
      "Prob(Omnibus):                  0.000   Jarque-Bera (JB):            56864.862\n",
      "Skew:                           1.244   Prob(JB):                         0.00\n",
      "Kurtosis:                       9.734   Cond. No.                     1.21e+05\n",
      "==============================================================================\n",
      "\n",
      "Notes:\n",
      "[1] Standard Errors assume that the covariance matrix of the errors is correctly specified.\n",
      "[2] The condition number is large, 1.21e+05. This might indicate that there are\n",
      "strong multicollinearity or other numerical problems.\n"
     ]
    }
   ],
   "source": [
    "small_condo_model = smf.ols('price ~ C(district_code) + area', data=small_condo)\n",
    "result = small_condo_model.fit()\n",
    "print(result.summary())"
   ]
  },
  {
   "cell_type": "markdown",
   "id": "195396a0",
   "metadata": {},
   "source": [
    "## Case Study: Wage Data"
   ]
  },
  {
   "cell_type": "markdown",
   "id": "87eb9940",
   "metadata": {},
   "source": [
    "### OLS with nonlinear terms"
   ]
  },
  {
   "cell_type": "code",
   "execution_count": 24,
   "id": "2ccfdabb",
   "metadata": {},
   "outputs": [
    {
     "data": {
      "text/html": [
       "<div>\n",
       "<style scoped>\n",
       "    .dataframe tbody tr th:only-of-type {\n",
       "        vertical-align: middle;\n",
       "    }\n",
       "\n",
       "    .dataframe tbody tr th {\n",
       "        vertical-align: top;\n",
       "    }\n",
       "\n",
       "    .dataframe thead th {\n",
       "        text-align: right;\n",
       "    }\n",
       "</style>\n",
       "<table border=\"1\" class=\"dataframe\">\n",
       "  <thead>\n",
       "    <tr style=\"text-align: right;\">\n",
       "      <th></th>\n",
       "      <th>wage</th>\n",
       "      <th>educ</th>\n",
       "      <th>exper</th>\n",
       "      <th>female</th>\n",
       "      <th>married</th>\n",
       "    </tr>\n",
       "  </thead>\n",
       "  <tbody>\n",
       "    <tr>\n",
       "      <th>0</th>\n",
       "      <td>3.10</td>\n",
       "      <td>11.0</td>\n",
       "      <td>2.0</td>\n",
       "      <td>1.0</td>\n",
       "      <td>0.0</td>\n",
       "    </tr>\n",
       "    <tr>\n",
       "      <th>1</th>\n",
       "      <td>3.24</td>\n",
       "      <td>12.0</td>\n",
       "      <td>22.0</td>\n",
       "      <td>1.0</td>\n",
       "      <td>1.0</td>\n",
       "    </tr>\n",
       "    <tr>\n",
       "      <th>7</th>\n",
       "      <td>5.00</td>\n",
       "      <td>12.0</td>\n",
       "      <td>5.0</td>\n",
       "      <td>1.0</td>\n",
       "      <td>0.0</td>\n",
       "    </tr>\n",
       "    <tr>\n",
       "      <th>8</th>\n",
       "      <td>3.60</td>\n",
       "      <td>12.0</td>\n",
       "      <td>26.0</td>\n",
       "      <td>1.0</td>\n",
       "      <td>0.0</td>\n",
       "    </tr>\n",
       "    <tr>\n",
       "      <th>10</th>\n",
       "      <td>6.25</td>\n",
       "      <td>16.0</td>\n",
       "      <td>8.0</td>\n",
       "      <td>1.0</td>\n",
       "      <td>0.0</td>\n",
       "    </tr>\n",
       "  </tbody>\n",
       "</table>\n",
       "</div>"
      ],
      "text/plain": [
       "    wage  educ  exper  female  married\n",
       "0   3.10  11.0    2.0     1.0      0.0\n",
       "1   3.24  12.0   22.0     1.0      1.0\n",
       "7   5.00  12.0    5.0     1.0      0.0\n",
       "8   3.60  12.0   26.0     1.0      0.0\n",
       "10  6.25  16.0    8.0     1.0      0.0"
      ]
     },
     "execution_count": 24,
     "metadata": {},
     "output_type": "execute_result"
    }
   ],
   "source": [
    "wage = pd.read_csv('wage.csv')\n",
    "wage_female = wage.loc[wage['female']==1]\n",
    "wage_female.head()"
   ]
  },
  {
   "cell_type": "markdown",
   "id": "30b1eec4",
   "metadata": {},
   "source": [
    "Can the relationship be fitted to a straight line?"
   ]
  },
  {
   "cell_type": "code",
   "execution_count": 25,
   "id": "80a70576",
   "metadata": {},
   "outputs": [
    {
     "data": {
      "image/png": "[encoded data removed]",
      "text/plain": [
       "<Figure size 450x350 with 1 Axes>"
      ]
     },
     "metadata": {},
     "output_type": "display_data"
    }
   ],
   "source": [
    "plt.figure(figsize=(4.5, 3.5))\n",
    "plt.scatter(wage_female['exper'], wage_female['wage'], \n",
    "            c='b', alpha=0.3)\n",
    "\n",
    "plt.xlabel('Working experience (years)', fontsize=13)\n",
    "plt.ylabel('Hourly wage (Dollars)', fontsize=13)\n",
    "plt.show()"
   ]
  },
  {
   "cell_type": "markdown",
   "id": "f20f55bb",
   "metadata": {},
   "source": [
    "Let's try Model 1\n",
    "$$\n",
    "y_{wage} = \\beta_0 + \\beta_1 x_{exper}\n",
    "$$\n",
    "   "
   ]
  },
  {
   "cell_type": "code",
   "execution_count": 26,
   "id": "8a43b482",
   "metadata": {},
   "outputs": [
    {
     "name": "stdout",
     "output_type": "stream",
     "text": [
      "                            OLS Regression Results                            \n",
      "==============================================================================\n",
      "Dep. Variable:                   wage   R-squared:                       0.000\n",
      "Model:                            OLS   Adj. R-squared:                 -0.004\n",
      "Method:                 Least Squares   F-statistic:                   0.01564\n",
      "Date:                Sun, 27 Apr 2025   Prob (F-statistic):              0.901\n",
      "Time:                        10:18:19   Log-Likelihood:                -590.91\n",
      "No. Observations:                 252   AIC:                             1186.\n",
      "Df Residuals:                     250   BIC:                             1193.\n",
      "Df Model:                           1                                         \n",
      "Covariance Type:            nonrobust                                         \n",
      "==============================================================================\n",
      "                 coef    std err          t      P>|t|      [0.025      0.975]\n",
      "------------------------------------------------------------------------------\n",
      "Intercept      4.6117      0.250     18.441      0.000       4.119       5.104\n",
      "exper         -0.0015      0.012     -0.125      0.901      -0.025       0.022\n",
      "==============================================================================\n",
      "Omnibus:                      180.041   Durbin-Watson:                   1.964\n",
      "Prob(Omnibus):                  0.000   Jarque-Bera (JB):             1843.760\n",
      "Skew:                           2.815   Prob(JB):                         0.00\n",
      "Kurtosis:                      14.996   Cond. No.                         33.5\n",
      "==============================================================================\n",
      "\n",
      "Notes:\n",
      "[1] Standard Errors assume that the covariance matrix of the errors is correctly specified.\n"
     ]
    }
   ],
   "source": [
    "model1 = smf.ols('wage ~ exper', data=wage_female)\n",
    "result1 = model1.fit()\n",
    "print(result1.summary())"
   ]
  },
  {
   "cell_type": "markdown",
   "id": "9dc6c58c",
   "metadata": {},
   "source": [
    "Let's try Model 2 \n",
    "\n",
    "$$\n",
    "y_{wage} = \\beta_0 + \\beta_1 x_{exper} + \\beta_2 \\sqrt{x_{exper}}\n",
    "$$\n",
    "   "
   ]
  },
  {
   "cell_type": "code",
   "execution_count": 27,
   "id": "cfea88e0",
   "metadata": {},
   "outputs": [
    {
     "name": "stdout",
     "output_type": "stream",
     "text": [
      "                            OLS Regression Results                            \n",
      "==============================================================================\n",
      "Dep. Variable:                   wage   R-squared:                       0.052\n",
      "Model:                            OLS   Adj. R-squared:                  0.045\n",
      "Method:                 Least Squares   F-statistic:                     6.850\n",
      "Date:                Sun, 27 Apr 2025   Prob (F-statistic):            0.00127\n",
      "Time:                        10:18:19   Log-Likelihood:                -584.17\n",
      "No. Observations:                 252   AIC:                             1174.\n",
      "Df Residuals:                     249   BIC:                             1185.\n",
      "Df Model:                           2                                         \n",
      "Covariance Type:            nonrobust                                         \n",
      "==================================================================================\n",
      "                     coef    std err          t      P>|t|      [0.025      0.975]\n",
      "----------------------------------------------------------------------------------\n",
      "Intercept          1.9159      0.769      2.493      0.013       0.402       3.430\n",
      "exper             -0.2067      0.057     -3.649      0.000      -0.318      -0.095\n",
      "np.sqrt(exper)     1.6542      0.447      3.699      0.000       0.773       2.535\n",
      "==============================================================================\n",
      "Omnibus:                      177.203   Durbin-Watson:                   1.938\n",
      "Prob(Omnibus):                  0.000   Jarque-Bera (JB):             1807.206\n",
      "Skew:                           2.754   Prob(JB):                         0.00\n",
      "Kurtosis:                      14.907   Cond. No.                         123.\n",
      "==============================================================================\n",
      "\n",
      "Notes:\n",
      "[1] Standard Errors assume that the covariance matrix of the errors is correctly specified.\n"
     ]
    }
   ],
   "source": [
    "model2 = smf.ols('wage ~ exper + np.sqrt(exper)', data=wage_female)\n",
    "result2 = model2.fit()\n",
    "print(result2.summary())"
   ]
  },
  {
   "cell_type": "markdown",
   "id": "88f4b7ad",
   "metadata": {},
   "source": [
    "Let's try Model 3\n",
    "\n",
    "$$\n",
    "log(y_{wage}) = \\beta_0 + \\beta_1 x_{exper} + \\beta_2 \\sqrt{x_{exper}}\n",
    "$$\n",
    "   "
   ]
  },
  {
   "cell_type": "code",
   "execution_count": 28,
   "id": "5a634dfd",
   "metadata": {},
   "outputs": [
    {
     "name": "stdout",
     "output_type": "stream",
     "text": [
      "                            OLS Regression Results                            \n",
      "==============================================================================\n",
      "Dep. Variable:           np.log(wage)   R-squared:                       0.064\n",
      "Model:                            OLS   Adj. R-squared:                  0.056\n",
      "Method:                 Least Squares   F-statistic:                     8.463\n",
      "Date:                Sun, 27 Apr 2025   Prob (F-statistic):           0.000278\n",
      "Time:                        10:18:19   Log-Likelihood:                -144.31\n",
      "No. Observations:                 252   AIC:                             294.6\n",
      "Df Residuals:                     249   BIC:                             305.2\n",
      "Df Model:                           2                                         \n",
      "Covariance Type:            nonrobust                                         \n",
      "==================================================================================\n",
      "                     coef    std err          t      P>|t|      [0.025      0.975]\n",
      "----------------------------------------------------------------------------------\n",
      "Intercept          0.8830      0.134      6.582      0.000       0.619       1.147\n",
      "exper             -0.0389      0.010     -3.939      0.000      -0.058      -0.019\n",
      "np.sqrt(exper)     0.3198      0.078      4.097      0.000       0.166       0.474\n",
      "==============================================================================\n",
      "Omnibus:                       22.126   Durbin-Watson:                   2.111\n",
      "Prob(Omnibus):                  0.000   Jarque-Bera (JB):               61.688\n",
      "Skew:                           0.316   Prob(JB):                     4.02e-14\n",
      "Kurtosis:                       5.340   Cond. No.                         123.\n",
      "==============================================================================\n",
      "\n",
      "Notes:\n",
      "[1] Standard Errors assume that the covariance matrix of the errors is correctly specified.\n"
     ]
    }
   ],
   "source": [
    "model3 = smf.ols('np.log(wage) ~ exper + np.sqrt(exper)', data=wage_female)\n",
    "result3 = model3.fit()\n",
    "print(result3.summary())"
   ]
  },
  {
   "cell_type": "markdown",
   "id": "7d5a2a0d",
   "metadata": {},
   "source": [
    "## Coding exercise"
   ]
  },
  {
   "cell_type": "code",
   "execution_count": 29,
   "id": "9073948d",
   "metadata": {},
   "outputs": [
    {
     "data": {
      "text/html": [
       "<div>\n",
       "<style scoped>\n",
       "    .dataframe tbody tr th:only-of-type {\n",
       "        vertical-align: middle;\n",
       "    }\n",
       "\n",
       "    .dataframe tbody tr th {\n",
       "        vertical-align: top;\n",
       "    }\n",
       "\n",
       "    .dataframe thead th {\n",
       "        text-align: right;\n",
       "    }\n",
       "</style>\n",
       "<table border=\"1\" class=\"dataframe\">\n",
       "  <thead>\n",
       "    <tr style=\"text-align: right;\">\n",
       "      <th></th>\n",
       "      <th>age</th>\n",
       "      <th>sex</th>\n",
       "      <th>bmi</th>\n",
       "      <th>children</th>\n",
       "      <th>smoker</th>\n",
       "      <th>region</th>\n",
       "      <th>charges</th>\n",
       "    </tr>\n",
       "  </thead>\n",
       "  <tbody>\n",
       "    <tr>\n",
       "      <th>0</th>\n",
       "      <td>19</td>\n",
       "      <td>0</td>\n",
       "      <td>27.900</td>\n",
       "      <td>0</td>\n",
       "      <td>1</td>\n",
       "      <td>3</td>\n",
       "      <td>16884.92400</td>\n",
       "    </tr>\n",
       "    <tr>\n",
       "      <th>1</th>\n",
       "      <td>18</td>\n",
       "      <td>1</td>\n",
       "      <td>33.770</td>\n",
       "      <td>1</td>\n",
       "      <td>0</td>\n",
       "      <td>2</td>\n",
       "      <td>1725.55230</td>\n",
       "    </tr>\n",
       "    <tr>\n",
       "      <th>2</th>\n",
       "      <td>28</td>\n",
       "      <td>1</td>\n",
       "      <td>33.000</td>\n",
       "      <td>3</td>\n",
       "      <td>0</td>\n",
       "      <td>2</td>\n",
       "      <td>4449.46200</td>\n",
       "    </tr>\n",
       "    <tr>\n",
       "      <th>3</th>\n",
       "      <td>33</td>\n",
       "      <td>1</td>\n",
       "      <td>22.705</td>\n",
       "      <td>0</td>\n",
       "      <td>0</td>\n",
       "      <td>1</td>\n",
       "      <td>21984.47061</td>\n",
       "    </tr>\n",
       "    <tr>\n",
       "      <th>4</th>\n",
       "      <td>32</td>\n",
       "      <td>1</td>\n",
       "      <td>28.880</td>\n",
       "      <td>0</td>\n",
       "      <td>0</td>\n",
       "      <td>1</td>\n",
       "      <td>3866.85520</td>\n",
       "    </tr>\n",
       "  </tbody>\n",
       "</table>\n",
       "</div>"
      ],
      "text/plain": [
       "   age  sex     bmi  children  smoker  region      charges\n",
       "0   19    0  27.900         0       1       3  16884.92400\n",
       "1   18    1  33.770         1       0       2   1725.55230\n",
       "2   28    1  33.000         3       0       2   4449.46200\n",
       "3   33    1  22.705         0       0       1  21984.47061\n",
       "4   32    1  28.880         0       0       1   3866.85520"
      ]
     },
     "execution_count": 29,
     "metadata": {},
     "output_type": "execute_result"
    }
   ],
   "source": [
    "data = pd.read_csv('insurance.csv')  \n",
    "data.head()"
   ]
  },
  {
   "cell_type": "markdown",
   "id": "ee638713",
   "metadata": {},
   "source": [
    "Questions for exploration:\n",
    "\n",
    "- Which variable is the target variable y?\n",
    "- Which input variables are categorical? Which ones are numerical?\n",
    "- Any interaction terms?\n",
    "- Any non-linear terms?"
   ]
  },
  {
   "cell_type": "code",
   "execution_count": 30,
   "id": "baf28c89",
   "metadata": {},
   "outputs": [
    {
     "name": "stdout",
     "output_type": "stream",
     "text": [
      "                            OLS Regression Results                            \n",
      "==============================================================================\n",
      "Dep. Variable:                charges   R-squared:                       0.771\n",
      "Model:                            OLS   Adj. R-squared:                  0.766\n",
      "Method:                 Least Squares   F-statistic:                     190.8\n",
      "Date:                Sun, 27 Apr 2025   Prob (F-statistic):          9.03e-106\n",
      "Time:                        10:18:19   Log-Likelihood:                -3523.9\n",
      "No. Observations:                 348   AIC:                             7062.\n",
      "Df Residuals:                     341   BIC:                             7089.\n",
      "Df Model:                           6                                         \n",
      "Covariance Type:            nonrobust                                         \n",
      "==============================================================================\n",
      "                 coef    std err          t      P>|t|      [0.025      0.975]\n",
      "------------------------------------------------------------------------------\n",
      "Intercept   -1.31e+04   2019.547     -6.486      0.000   -1.71e+04   -9127.344\n",
      "age          266.5838     23.081     11.550      0.000     221.185     311.982\n",
      "sex          196.9701    665.598      0.296      0.767   -1112.225    1506.165\n",
      "bmi          344.1377     59.392      5.794      0.000     227.317     460.958\n",
      "children     547.6069    276.175      1.983      0.048       4.386    1090.827\n",
      "smoker      2.384e+04    783.803     30.418      0.000    2.23e+04    2.54e+04\n",
      "region      -162.2798    300.691     -0.540      0.590    -753.722     429.162\n",
      "==============================================================================\n",
      "Omnibus:                       77.693   Durbin-Watson:                   2.128\n",
      "Prob(Omnibus):                  0.000   Jarque-Bera (JB):              163.854\n",
      "Skew:                           1.147   Prob(JB):                     2.63e-36\n",
      "Kurtosis:                       5.458   Cond. No.                         320.\n",
      "==============================================================================\n",
      "\n",
      "Notes:\n",
      "[1] Standard Errors assume that the covariance matrix of the errors is correctly specified.\n"
     ]
    }
   ],
   "source": [
    "model = smf.ols('charges ~ age + sex + bmi + children + smoker + region', data=data)\n",
    "result = model.fit()\n",
    "print(result.summary())"
   ]
  },
  {
   "cell_type": "code",
   "execution_count": 31,
   "id": "c8a66622",
   "metadata": {},
   "outputs": [
    {
     "name": "stdout",
     "output_type": "stream",
     "text": [
      "                            OLS Regression Results                            \n",
      "==============================================================================\n",
      "Dep. Variable:                charges   R-squared:                       0.776\n",
      "Model:                            OLS   Adj. R-squared:                  0.771\n",
      "Method:                 Least Squares   F-statistic:                     130.5\n",
      "Date:                Sun, 27 Apr 2025   Prob (F-statistic):          2.57e-104\n",
      "Time:                        10:18:19   Log-Likelihood:                -3519.3\n",
      "No. Observations:                 348   AIC:                             7059.\n",
      "Df Residuals:                     338   BIC:                             7097.\n",
      "Df Model:                           9                                         \n",
      "Covariance Type:            nonrobust                                         \n",
      "===================================================================================\n",
      "                      coef    std err          t      P>|t|      [0.025      0.975]\n",
      "-----------------------------------------------------------------------------------\n",
      "Intercept       -8387.1804   2985.476     -2.809      0.005   -1.43e+04   -2514.727\n",
      "C(sex)[T.1]     -8195.6188   3707.235     -2.211      0.028   -1.55e+04    -903.460\n",
      "C(smoker)[T.1]   2.371e+04    784.397     30.231      0.000    2.22e+04    2.53e+04\n",
      "C(region)[T.1]    -31.2728    929.283     -0.034      0.973   -1859.179    1796.633\n",
      "C(region)[T.2]  -1637.3835    914.269     -1.791      0.074   -3435.758     160.991\n",
      "C(region)[T.3]   -134.9037    942.664     -0.143      0.886   -1989.130    1719.322\n",
      "age               260.5742     22.990     11.334      0.000     215.353     305.796\n",
      "bmi               205.4379     88.957      2.309      0.022      30.460     380.416\n",
      "C(sex)[T.1]:bmi   273.3607    119.003      2.297      0.022      39.281     507.440\n",
      "children          616.2946    275.256      2.239      0.026      74.865    1157.724\n",
      "==============================================================================\n",
      "Omnibus:                       80.830   Durbin-Watson:                   2.147\n",
      "Prob(Omnibus):                  0.000   Jarque-Bera (JB):              171.565\n",
      "Skew:                           1.189   Prob(JB):                     5.56e-38\n",
      "Kurtosis:                       5.485   Cond. No.                         742.\n",
      "==============================================================================\n",
      "\n",
      "Notes:\n",
      "[1] Standard Errors assume that the covariance matrix of the errors is correctly specified.\n"
     ]
    }
   ],
   "source": [
    "model = smf.ols('charges ~ age + C(sex) * bmi + children + C(smoker) + C(region)', data=data)\n",
    "result = model.fit()\n",
    "print(result.summary())"
   ]
  },
  {
   "cell_type": "code",
   "execution_count": 32,
   "id": "fdba6fc6",
   "metadata": {},
   "outputs": [
    {
     "name": "stdout",
     "output_type": "stream",
     "text": [
      "                            OLS Regression Results                            \n",
      "==============================================================================\n",
      "Dep. Variable:                charges   R-squared:                       0.776\n",
      "Model:                            OLS   Adj. R-squared:                  0.771\n",
      "Method:                 Least Squares   F-statistic:                     130.5\n",
      "Date:                Sun, 27 Apr 2025   Prob (F-statistic):          2.57e-104\n",
      "Time:                        10:18:19   Log-Likelihood:                -3519.3\n",
      "No. Observations:                 348   AIC:                             7059.\n",
      "Df Residuals:                     338   BIC:                             7097.\n",
      "Df Model:                           9                                         \n",
      "Covariance Type:            nonrobust                                         \n",
      "===================================================================================\n",
      "                      coef    std err          t      P>|t|      [0.025      0.975]\n",
      "-----------------------------------------------------------------------------------\n",
      "Intercept       -8387.1804   2985.476     -2.809      0.005   -1.43e+04   -2514.727\n",
      "C(sex)[T.1]     -8195.6188   3707.235     -2.211      0.028   -1.55e+04    -903.460\n",
      "C(smoker)[T.1]   2.371e+04    784.397     30.231      0.000    2.22e+04    2.53e+04\n",
      "C(region)[T.1]    -31.2728    929.283     -0.034      0.973   -1859.179    1796.633\n",
      "C(region)[T.2]  -1637.3835    914.269     -1.791      0.074   -3435.758     160.991\n",
      "C(region)[T.3]   -134.9037    942.664     -0.143      0.886   -1989.130    1719.322\n",
      "age               260.5742     22.990     11.334      0.000     215.353     305.796\n",
      "bmi               205.4379     88.957      2.309      0.022      30.460     380.416\n",
      "C(sex)[T.1]:bmi   273.3607    119.003      2.297      0.022      39.281     507.440\n",
      "children          616.2946    275.256      2.239      0.026      74.865    1157.724\n",
      "==============================================================================\n",
      "Omnibus:                       80.830   Durbin-Watson:                   2.147\n",
      "Prob(Omnibus):                  0.000   Jarque-Bera (JB):              171.565\n",
      "Skew:                           1.189   Prob(JB):                     5.56e-38\n",
      "Kurtosis:                       5.485   Cond. No.                         742.\n",
      "==============================================================================\n",
      "\n",
      "Notes:\n",
      "[1] Standard Errors assume that the covariance matrix of the errors is correctly specified.\n"
     ]
    }
   ],
   "source": [
    "model = smf.ols('charges ~ age + C(sex) * bmi + children + C(smoker) + C(region)', data=data)\n",
    "result = model.fit()\n",
    "print(result.summary())"
   ]
  },
  {
   "cell_type": "code",
   "execution_count": 33,
   "id": "6515f7c2",
   "metadata": {},
   "outputs": [
    {
     "name": "stdout",
     "output_type": "stream",
     "text": [
      "                            OLS Regression Results                            \n",
      "==============================================================================\n",
      "Dep. Variable:                charges   R-squared:                       0.867\n",
      "Model:                            OLS   Adj. R-squared:                  0.863\n",
      "Method:                 Least Squares   F-statistic:                     220.4\n",
      "Date:                Sun, 27 Apr 2025   Prob (F-statistic):          2.95e-141\n",
      "Time:                        10:18:19   Log-Likelihood:                -3428.5\n",
      "No. Observations:                 348   AIC:                             6879.\n",
      "Df Residuals:                     337   BIC:                             6921.\n",
      "Df Model:                          10                                         \n",
      "Covariance Type:            nonrobust                                         \n",
      "======================================================================================\n",
      "                         coef    std err          t      P>|t|      [0.025      0.975]\n",
      "--------------------------------------------------------------------------------------\n",
      "Intercept           -115.8339   2366.453     -0.049      0.961   -4770.715    4539.047\n",
      "C(sex)[T.1]         -257.3796   2907.102     -0.089      0.930   -5975.732    5460.972\n",
      "C(smoker)[T.1]     -2.411e+04   3204.282     -7.525      0.000   -3.04e+04   -1.78e+04\n",
      "C(region)[T.1]      -148.2144    716.899     -0.207      0.836   -1558.375    1261.947\n",
      "C(region)[T.2]      -996.0266    706.538     -1.410      0.160   -2385.806     393.753\n",
      "C(region)[T.3]      -411.6590    727.408     -0.566      0.572   -1842.491    1019.173\n",
      "age                  281.4620     17.788     15.823      0.000     246.473     316.451\n",
      "bmi                  -80.8146     71.160     -1.136      0.257    -220.788      59.159\n",
      "C(sex)[T.1]:bmi      -14.1591     93.729     -0.151      0.880    -198.527     170.208\n",
      "C(smoker)[T.1]:bmi  1564.0187    102.905     15.199      0.000    1361.601    1766.437\n",
      "children             549.2732    212.381      2.586      0.010     131.515     967.032\n",
      "==============================================================================\n",
      "Omnibus:                      206.624   Durbin-Watson:                   2.137\n",
      "Prob(Omnibus):                  0.000   Jarque-Bera (JB):             1184.956\n",
      "Skew:                           2.595   Prob(JB):                    4.90e-258\n",
      "Kurtosis:                      10.402   Cond. No.                         750.\n",
      "==============================================================================\n",
      "\n",
      "Notes:\n",
      "[1] Standard Errors assume that the covariance matrix of the errors is correctly specified.\n"
     ]
    }
   ],
   "source": [
    "model = smf.ols('charges ~ age + C(sex) * bmi + children + C(smoker) * bmi + C(region)', data=data)\n",
    "result = model.fit()\n",
    "print(result.summary())"
   ]
  },
  {
   "cell_type": "code",
   "execution_count": 34,
   "id": "ba9ab680",
   "metadata": {},
   "outputs": [
    {
     "name": "stdout",
     "output_type": "stream",
     "text": [
      "                            OLS Regression Results                            \n",
      "==============================================================================\n",
      "Dep. Variable:                charges   R-squared:                       0.868\n",
      "Model:                            OLS   Adj. R-squared:                  0.863\n",
      "Method:                 Least Squares   F-statistic:                     200.1\n",
      "Date:                Sun, 27 Apr 2025   Prob (F-statistic):          3.42e-140\n",
      "Time:                        10:18:19   Log-Likelihood:                -3428.2\n",
      "No. Observations:                 348   AIC:                             6880.\n",
      "Df Residuals:                     336   BIC:                             6927.\n",
      "Df Model:                          11                                         \n",
      "Covariance Type:            nonrobust                                         \n",
      "======================================================================================\n",
      "                         coef    std err          t      P>|t|      [0.025      0.975]\n",
      "--------------------------------------------------------------------------------------\n",
      "Intercept            396.8858   2467.535      0.161      0.872   -4456.877    5250.648\n",
      "C(sex)[T.1]         -997.2461   3076.425     -0.324      0.746   -7048.726    5054.233\n",
      "C(smoker)[T.1]     -2.439e+04   3227.896     -7.555      0.000   -3.07e+04    -1.8e+04\n",
      "C(region)[T.1]      -147.0352    717.384     -0.205      0.838   -1558.165    1264.094\n",
      "C(region)[T.2]     -1001.4066    707.051     -1.416      0.158   -2392.211     389.398\n",
      "C(region)[T.3]      -412.4647    727.899     -0.567      0.571   -1844.277    1019.348\n",
      "age                  269.2133     24.319     11.070      0.000     221.377     317.049\n",
      "C(sex)[T.1]:age       26.4766     35.817      0.739      0.460     -43.977      96.931\n",
      "bmi                  -81.5277     71.214     -1.145      0.253    -221.610      58.554\n",
      "C(sex)[T.1]:bmi      -24.4738     94.824     -0.258      0.796    -210.998     162.050\n",
      "C(smoker)[T.1]:bmi  1573.8079    103.823     15.159      0.000    1369.583    1778.033\n",
      "children             556.1052    212.725      2.614      0.009     137.665     974.545\n",
      "==============================================================================\n",
      "Omnibus:                      205.334   Durbin-Watson:                   2.132\n",
      "Prob(Omnibus):                  0.000   Jarque-Bera (JB):             1163.700\n",
      "Skew:                           2.580   Prob(JB):                    2.02e-253\n",
      "Kurtosis:                      10.323   Cond. No.                         866.\n",
      "==============================================================================\n",
      "\n",
      "Notes:\n",
      "[1] Standard Errors assume that the covariance matrix of the errors is correctly specified.\n"
     ]
    }
   ],
   "source": [
    "model = smf.ols('charges ~ C(sex) * age + C(sex) * bmi + children + C(smoker) * bmi + C(region)', data=data)\n",
    "result = model.fit()\n",
    "print(result.summary())"
   ]
  },
  {
   "cell_type": "code",
   "execution_count": 35,
   "id": "6d87ffb0",
   "metadata": {},
   "outputs": [
    {
     "name": "stdout",
     "output_type": "stream",
     "text": [
      "                            OLS Regression Results                            \n",
      "==============================================================================\n",
      "Dep. Variable:                charges   R-squared:                       0.869\n",
      "Model:                            OLS   Adj. R-squared:                  0.863\n",
      "Method:                 Least Squares   F-statistic:                     147.0\n",
      "Date:                Sun, 27 Apr 2025   Prob (F-statistic):          1.66e-136\n",
      "Time:                        10:18:19   Log-Likelihood:                -3426.1\n",
      "No. Observations:                 348   AIC:                             6884.\n",
      "Df Residuals:                     332   BIC:                             6946.\n",
      "Df Model:                          15                                         \n",
      "Covariance Type:            nonrobust                                         \n",
      "======================================================================================\n",
      "                         coef    std err          t      P>|t|      [0.025      0.975]\n",
      "--------------------------------------------------------------------------------------\n",
      "Intercept           1146.3210   2503.275      0.458      0.647   -3777.958    6070.600\n",
      "C(sex)[T.1]        -1337.9150   3085.643     -0.434      0.665   -7407.792    4731.962\n",
      "C(children)[T.1]      31.5730    646.450      0.049      0.961   -1240.081    1303.227\n",
      "C(children)[T.2]    1810.8732    711.050      2.547      0.011     412.141    3209.606\n",
      "C(children)[T.3]     948.4018    820.723      1.156      0.249    -666.070    2562.874\n",
      "C(children)[T.4]    3600.0150   1833.631      1.963      0.050      -6.984    7207.014\n",
      "C(children)[T.5]    1831.3548   2768.470      0.662      0.509   -3614.600    7277.310\n",
      "C(smoker)[T.1]     -2.489e+04   3239.752     -7.682      0.000   -3.13e+04   -1.85e+04\n",
      "C(region)[T.1]      -371.1625    726.822     -0.511      0.610   -1800.919    1058.594\n",
      "C(region)[T.2]     -1043.8490    708.198     -1.474      0.141   -2436.971     349.273\n",
      "C(region)[T.3]      -514.2245    733.633     -0.701      0.484   -1957.380     928.931\n",
      "age                  270.1319     24.659     10.955      0.000     221.625     318.639\n",
      "C(sex)[T.1]:age       26.8941     36.002      0.747      0.456     -43.927      97.716\n",
      "bmi                 -101.9457     71.997     -1.416      0.158    -243.574      39.683\n",
      "C(sex)[T.1]:bmi      -13.9874     95.075     -0.147      0.883    -201.013     173.038\n",
      "C(smoker)[T.1]:bmi  1590.0597    104.194     15.261      0.000    1385.096    1795.023\n",
      "==============================================================================\n",
      "Omnibus:                      202.015   Durbin-Watson:                   2.134\n",
      "Prob(Omnibus):                  0.000   Jarque-Bera (JB):             1111.047\n",
      "Skew:                           2.542   Prob(JB):                    5.48e-242\n",
      "Kurtosis:                      10.126   Cond. No.                         874.\n",
      "==============================================================================\n",
      "\n",
      "Notes:\n",
      "[1] Standard Errors assume that the covariance matrix of the errors is correctly specified.\n"
     ]
    }
   ],
   "source": [
    "# making children categorical variable is as good as introducing a few binary variables\n",
    "# R2 increases as we introduce more variables\n",
    "# shall we make children a categorical variable?\n",
    "\n",
    "model = smf.ols('charges ~ C(sex) * age + C(sex) * bmi + C(children) + C(smoker) * bmi + C(region)', data=data)\n",
    "result = model.fit()\n",
    "print(result.summary())"
   ]
  },
  {
   "cell_type": "code",
   "execution_count": 36,
   "id": "831a6dba",
   "metadata": {},
   "outputs": [
    {
     "data": {
      "text/html": [
       "<div>\n",
       "<style scoped>\n",
       "    .dataframe tbody tr th:only-of-type {\n",
       "        vertical-align: middle;\n",
       "    }\n",
       "\n",
       "    .dataframe tbody tr th {\n",
       "        vertical-align: top;\n",
       "    }\n",
       "\n",
       "    .dataframe thead th {\n",
       "        text-align: right;\n",
       "    }\n",
       "</style>\n",
       "<table border=\"1\" class=\"dataframe\">\n",
       "  <thead>\n",
       "    <tr style=\"text-align: right;\">\n",
       "      <th></th>\n",
       "      <th>age</th>\n",
       "      <th>sex</th>\n",
       "      <th>bmi</th>\n",
       "      <th>children</th>\n",
       "      <th>smoker</th>\n",
       "      <th>region</th>\n",
       "      <th>charges</th>\n",
       "    </tr>\n",
       "  </thead>\n",
       "  <tbody>\n",
       "    <tr>\n",
       "      <th>count</th>\n",
       "      <td>348.000000</td>\n",
       "      <td>348.000000</td>\n",
       "      <td>348.000000</td>\n",
       "      <td>348.000000</td>\n",
       "      <td>348.000000</td>\n",
       "      <td>348.000000</td>\n",
       "      <td>348.000000</td>\n",
       "    </tr>\n",
       "    <tr>\n",
       "      <th>mean</th>\n",
       "      <td>39.591954</td>\n",
       "      <td>0.508621</td>\n",
       "      <td>30.676552</td>\n",
       "      <td>1.091954</td>\n",
       "      <td>0.232759</td>\n",
       "      <td>1.497126</td>\n",
       "      <td>14016.426293</td>\n",
       "    </tr>\n",
       "    <tr>\n",
       "      <th>std</th>\n",
       "      <td>14.417015</td>\n",
       "      <td>0.500646</td>\n",
       "      <td>5.625850</td>\n",
       "      <td>1.192021</td>\n",
       "      <td>0.423198</td>\n",
       "      <td>1.104089</td>\n",
       "      <td>12638.887852</td>\n",
       "    </tr>\n",
       "    <tr>\n",
       "      <th>min</th>\n",
       "      <td>18.000000</td>\n",
       "      <td>0.000000</td>\n",
       "      <td>15.960000</td>\n",
       "      <td>0.000000</td>\n",
       "      <td>0.000000</td>\n",
       "      <td>0.000000</td>\n",
       "      <td>1137.011000</td>\n",
       "    </tr>\n",
       "    <tr>\n",
       "      <th>25%</th>\n",
       "      <td>27.000000</td>\n",
       "      <td>0.000000</td>\n",
       "      <td>26.782500</td>\n",
       "      <td>0.000000</td>\n",
       "      <td>0.000000</td>\n",
       "      <td>1.000000</td>\n",
       "      <td>4888.466125</td>\n",
       "    </tr>\n",
       "    <tr>\n",
       "      <th>50%</th>\n",
       "      <td>40.000000</td>\n",
       "      <td>1.000000</td>\n",
       "      <td>30.300000</td>\n",
       "      <td>1.000000</td>\n",
       "      <td>0.000000</td>\n",
       "      <td>2.000000</td>\n",
       "      <td>9719.305250</td>\n",
       "    </tr>\n",
       "    <tr>\n",
       "      <th>75%</th>\n",
       "      <td>53.000000</td>\n",
       "      <td>1.000000</td>\n",
       "      <td>34.777500</td>\n",
       "      <td>2.000000</td>\n",
       "      <td>0.000000</td>\n",
       "      <td>2.000000</td>\n",
       "      <td>19006.316150</td>\n",
       "    </tr>\n",
       "    <tr>\n",
       "      <th>max</th>\n",
       "      <td>64.000000</td>\n",
       "      <td>1.000000</td>\n",
       "      <td>49.060000</td>\n",
       "      <td>5.000000</td>\n",
       "      <td>1.000000</td>\n",
       "      <td>3.000000</td>\n",
       "      <td>51194.559140</td>\n",
       "    </tr>\n",
       "  </tbody>\n",
       "</table>\n",
       "</div>"
      ],
      "text/plain": [
       "              age         sex         bmi    children      smoker      region  \\\n",
       "count  348.000000  348.000000  348.000000  348.000000  348.000000  348.000000   \n",
       "mean    39.591954    0.508621   30.676552    1.091954    0.232759    1.497126   \n",
       "std     14.417015    0.500646    5.625850    1.192021    0.423198    1.104089   \n",
       "min     18.000000    0.000000   15.960000    0.000000    0.000000    0.000000   \n",
       "25%     27.000000    0.000000   26.782500    0.000000    0.000000    1.000000   \n",
       "50%     40.000000    1.000000   30.300000    1.000000    0.000000    2.000000   \n",
       "75%     53.000000    1.000000   34.777500    2.000000    0.000000    2.000000   \n",
       "max     64.000000    1.000000   49.060000    5.000000    1.000000    3.000000   \n",
       "\n",
       "            charges  \n",
       "count    348.000000  \n",
       "mean   14016.426293  \n",
       "std    12638.887852  \n",
       "min     1137.011000  \n",
       "25%     4888.466125  \n",
       "50%     9719.305250  \n",
       "75%    19006.316150  \n",
       "max    51194.559140  "
      ]
     },
     "execution_count": 36,
     "metadata": {},
     "output_type": "execute_result"
    }
   ],
   "source": [
    "data.describe() #maybe charges have outliers\n",
    "# shall we make 'charges' a log term?"
   ]
  },
  {
   "cell_type": "code",
   "execution_count": 37,
   "id": "fcfb1917",
   "metadata": {},
   "outputs": [
    {
     "name": "stdout",
     "output_type": "stream",
     "text": [
      "                            OLS Regression Results                            \n",
      "==============================================================================\n",
      "Dep. Variable:        np.log(charges)   R-squared:                       0.805\n",
      "Model:                            OLS   Adj. R-squared:                  0.799\n",
      "Method:                 Least Squares   F-statistic:                     126.2\n",
      "Date:                Sun, 27 Apr 2025   Prob (F-statistic):          4.05e-112\n",
      "Time:                        10:18:19   Log-Likelihood:                -186.81\n",
      "No. Observations:                 348   AIC:                             397.6\n",
      "Df Residuals:                     336   BIC:                             443.9\n",
      "Df Model:                          11                                         \n",
      "Covariance Type:            nonrobust                                         \n",
      "======================================================================================\n",
      "                         coef    std err          t      P>|t|      [0.025      0.975]\n",
      "--------------------------------------------------------------------------------------\n",
      "Intercept              7.6509      0.222     34.403      0.000       7.213       8.088\n",
      "C(sex)[T.1]           -0.5113      0.277     -1.844      0.066      -1.057       0.034\n",
      "C(smoker)[T.1]         0.0608      0.291      0.209      0.835      -0.511       0.633\n",
      "C(region)[T.1]         0.0108      0.065      0.167      0.868      -0.116       0.138\n",
      "C(region)[T.2]        -0.1054      0.064     -1.655      0.099      -0.231       0.020\n",
      "C(region)[T.3]        -0.0745      0.066     -1.136      0.257      -0.204       0.055\n",
      "age                    0.0320      0.002     14.581      0.000       0.028       0.036\n",
      "C(sex)[T.1]:age        0.0044      0.003      1.362      0.174      -0.002       0.011\n",
      "bmi                   -0.0051      0.006     -0.790      0.430      -0.018       0.008\n",
      "C(sex)[T.1]:bmi        0.0083      0.009      0.976      0.330      -0.008       0.025\n",
      "C(smoker)[T.1]:bmi     0.0485      0.009      5.179      0.000       0.030       0.067\n",
      "children               0.0990      0.019      5.163      0.000       0.061       0.137\n",
      "==============================================================================\n",
      "Omnibus:                      138.695   Durbin-Watson:                   2.062\n",
      "Prob(Omnibus):                  0.000   Jarque-Bera (JB):              530.665\n",
      "Skew:                           1.741   Prob(JB):                    5.86e-116\n",
      "Kurtosis:                       7.948   Cond. No.                         866.\n",
      "==============================================================================\n",
      "\n",
      "Notes:\n",
      "[1] Standard Errors assume that the covariance matrix of the errors is correctly specified.\n"
     ]
    }
   ],
   "source": [
    "model = smf.ols('np.log(charges) ~ C(sex) * age + C(sex) * bmi + children + C(smoker) * bmi + C(region)', data=data)\n",
    "result = model.fit()\n",
    "print(result.summary())"
   ]
  }
 ],
 "metadata": {
  "kernelspec": {
   "display_name": "Python 3 (ipykernel)",
   "language": "python",
   "name": "python3"
  },
  "language_info": {
   "codemirror_mode": {
    "name": "ipython",
    "version": 3
   },
   "file_extension": ".py",
   "mimetype": "text/x-python",
   "name": "python",
   "nbconvert_exporter": "python",
   "pygments_lexer": "ipython3",
   "version": "3.12.9"
  }
 },
 "nbformat": 4,
 "nbformat_minor": 5
}
