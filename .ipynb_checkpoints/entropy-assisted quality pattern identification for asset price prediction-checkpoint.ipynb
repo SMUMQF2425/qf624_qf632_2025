{
 "cells": [
  {
   "cell_type": "code",
   "execution_count": 1,
   "id": "bd853308-9b70-4ae5-b598-55b2f2228752",
   "metadata": {},
   "outputs": [],
   "source": [
    "import numpy as np\n",
    "import pandas as pd\n",
    "import matplotlib.pyplot as plt\n",
    "from sklearn.decomposition import PCA\n",
    "from scipy.spatial.distance import cityblock\n",
    "from scipy.stats import entropy\n",
    "from eodhd import APIClient\n",
    "from datetime import datetime, timedelta"
   ]
  },
  {
   "cell_type": "code",
   "execution_count": 2,
   "id": "b76523a4-2b57-41d3-a0b1-73d1114b0e42",
   "metadata": {},
   "outputs": [
    {
     "name": "stderr",
     "output_type": "stream",
     "text": [
      "/var/folders/k1/7yl62fwx2879_758cjywcjrw0000gn/T/ipykernel_49332/2750107864.py:19: DeprecationWarning: datetime.datetime.utcfromtimestamp() is deprecated and scheduled for removal in a future version. Use timezone-aware objects to represent datetimes in UTC: datetime.datetime.fromtimestamp(timestamp, datetime.UTC).\n",
      "  print(f\"Fetching data from {datetime.utcfromtimestamp(current_start)} to {datetime.utcfromtimestamp(current_end)}\")\n"
     ]
    },
    {
     "name": "stdout",
     "output_type": "stream",
     "text": [
      "Fetching data from 2017-01-01 00:00:00 to 2017-05-01 00:00:00\n"
     ]
    },
    {
     "data": {
      "text/html": [
       "<pre style=\"white-space:pre;overflow-x:auto;line-height:normal;font-family:Menlo,'DejaVu Sans Mono',consolas,'Courier New',monospace\"><span style=\"color: #7fbfbf; text-decoration-color: #7fbfbf\">[17:58:40] </span>Expecting value: line <span style=\"color: #008080; text-decoration-color: #008080; font-weight: bold\">1</span> column <span style=\"color: #008080; text-decoration-color: #008080; font-weight: bold\">1</span> <span style=\"font-weight: bold\">(</span>char <span style=\"color: #008080; text-decoration-color: #008080; font-weight: bold\">0</span><span style=\"font-weight: bold\">)</span>                                                  <a href=\"file:///Users/ch0002techvc/.venv/lib/python3.12/site-packages/eodhd/APIs/BaseAPI.py\" target=\"_blank\"><span style=\"color: #7f7f7f; text-decoration-color: #7f7f7f\">BaseAPI.py</span></a><span style=\"color: #7f7f7f; text-decoration-color: #7f7f7f\">:</span><a href=\"file:///Users/ch0002techvc/.venv/lib/python3.12/site-packages/eodhd/APIs/BaseAPI.py#39\" target=\"_blank\"><span style=\"color: #7f7f7f; text-decoration-color: #7f7f7f\">39</span></a>\n",
       "</pre>\n"
      ],
      "text/plain": [
       "\u001b[2;36m[17:58:40]\u001b[0m\u001b[2;36m \u001b[0mExpecting value: line \u001b[1;36m1\u001b[0m column \u001b[1;36m1\u001b[0m \u001b[1m(\u001b[0mchar \u001b[1;36m0\u001b[0m\u001b[1m)\u001b[0m                                                  \u001b]8;id=80064;file:///Users/ch0002techvc/.venv/lib/python3.12/site-packages/eodhd/APIs/BaseAPI.py\u001b\\\u001b[2mBaseAPI.py\u001b[0m\u001b]8;;\u001b\\\u001b[2m:\u001b[0m\u001b]8;id=530466;file:///Users/ch0002techvc/.venv/lib/python3.12/site-packages/eodhd/APIs/BaseAPI.py#39\u001b\\\u001b[2m39\u001b[0m\u001b]8;;\u001b\\\n"
      ]
     },
     "metadata": {},
     "output_type": "display_data"
    },
    {
     "data": {
      "text/html": [
       "<pre style=\"white-space:pre;overflow-x:auto;line-height:normal;font-family:Menlo,'DejaVu Sans Mono',consolas,'Courier New',monospace\"><span style=\"color: #7fbfbf; text-decoration-color: #7fbfbf\">           </span><span style=\"color: #008080; text-decoration-color: #008080; font-weight: bold\">403</span> Client Error: Forbidden for url:                                                       <a href=\"file:///Users/ch0002techvc/.venv/lib/python3.12/site-packages/eodhd/APIs/BaseAPI.py\" target=\"_blank\"><span style=\"color: #7f7f7f; text-decoration-color: #7f7f7f\">BaseAPI.py</span></a><span style=\"color: #7f7f7f; text-decoration-color: #7f7f7f\">:</span><a href=\"file:///Users/ch0002techvc/.venv/lib/python3.12/site-packages/eodhd/APIs/BaseAPI.py#52\" target=\"_blank\"><span style=\"color: #7f7f7f; text-decoration-color: #7f7f7f\">52</span></a>\n",
       "<span style=\"color: #7fbfbf; text-decoration-color: #7fbfbf\">           </span><span style=\"color: #0000ff; text-decoration-color: #0000ff; text-decoration: underline\">https://eodhd.com/api/intraday/XAUUSD?api_token=67f380ad6e7193.54825103&amp;fmt=json&amp;interval=</span> <span style=\"color: #7f7f7f; text-decoration-color: #7f7f7f\">             </span>\n",
       "<span style=\"color: #7fbfbf; text-decoration-color: #7fbfbf\">           </span><span style=\"color: #0000ff; text-decoration-color: #0000ff; text-decoration: underline\">1m&amp;from=1483228800&amp;to=1493596800</span>                                                           <span style=\"color: #7f7f7f; text-decoration-color: #7f7f7f\">             </span>\n",
       "</pre>\n"
      ],
      "text/plain": [
       "\u001b[2;36m          \u001b[0m\u001b[2;36m \u001b[0m\u001b[1;36m403\u001b[0m Client Error: Forbidden for url:                                                       \u001b]8;id=826492;file:///Users/ch0002techvc/.venv/lib/python3.12/site-packages/eodhd/APIs/BaseAPI.py\u001b\\\u001b[2mBaseAPI.py\u001b[0m\u001b]8;;\u001b\\\u001b[2m:\u001b[0m\u001b]8;id=342205;file:///Users/ch0002techvc/.venv/lib/python3.12/site-packages/eodhd/APIs/BaseAPI.py#52\u001b\\\u001b[2m52\u001b[0m\u001b]8;;\u001b\\\n",
       "\u001b[2;36m           \u001b[0m\u001b[4;94mhttps://eodhd.com/api/intraday/XAUUSD?\u001b[0m\u001b[4;94mapi_token\u001b[0m\u001b[4;94m=\u001b[0m\u001b[4;94m67f380ad6e7193\u001b[0m\u001b[4;94m.54825103&\u001b[0m\u001b[4;94mfmt\u001b[0m\u001b[4;94m=\u001b[0m\u001b[4;94mjson\u001b[0m\u001b[4;94m&\u001b[0m\u001b[4;94minterval\u001b[0m\u001b[4;94m=\u001b[0m \u001b[2m             \u001b[0m\n",
       "\u001b[2;36m           \u001b[0m\u001b[4;94m1m\u001b[0m\u001b[4;94m&\u001b[0m\u001b[4;94mfrom\u001b[0m\u001b[4;94m=\u001b[0m\u001b[4;94m1483228800\u001b[0m\u001b[4;94m&\u001b[0m\u001b[4;94mto\u001b[0m\u001b[4;94m=\u001b[0m\u001b[4;94m1493596800\u001b[0m                                                           \u001b[2m             \u001b[0m\n"
      ]
     },
     "metadata": {},
     "output_type": "display_data"
    },
    {
     "name": "stdout",
     "output_type": "stream",
     "text": [
      "Fetching data from 2017-05-01 00:00:00 to 2017-08-29 00:00:00\n"
     ]
    },
    {
     "data": {
      "text/html": [
       "<pre style=\"white-space:pre;overflow-x:auto;line-height:normal;font-family:Menlo,'DejaVu Sans Mono',consolas,'Courier New',monospace\"><span style=\"color: #7fbfbf; text-decoration-color: #7fbfbf\">[17:58:41] </span>Expecting value: line <span style=\"color: #008080; text-decoration-color: #008080; font-weight: bold\">1</span> column <span style=\"color: #008080; text-decoration-color: #008080; font-weight: bold\">1</span> <span style=\"font-weight: bold\">(</span>char <span style=\"color: #008080; text-decoration-color: #008080; font-weight: bold\">0</span><span style=\"font-weight: bold\">)</span>                                                  <a href=\"file:///Users/ch0002techvc/.venv/lib/python3.12/site-packages/eodhd/APIs/BaseAPI.py\" target=\"_blank\"><span style=\"color: #7f7f7f; text-decoration-color: #7f7f7f\">BaseAPI.py</span></a><span style=\"color: #7f7f7f; text-decoration-color: #7f7f7f\">:</span><a href=\"file:///Users/ch0002techvc/.venv/lib/python3.12/site-packages/eodhd/APIs/BaseAPI.py#39\" target=\"_blank\"><span style=\"color: #7f7f7f; text-decoration-color: #7f7f7f\">39</span></a>\n",
       "</pre>\n"
      ],
      "text/plain": [
       "\u001b[2;36m[17:58:41]\u001b[0m\u001b[2;36m \u001b[0mExpecting value: line \u001b[1;36m1\u001b[0m column \u001b[1;36m1\u001b[0m \u001b[1m(\u001b[0mchar \u001b[1;36m0\u001b[0m\u001b[1m)\u001b[0m                                                  \u001b]8;id=336988;file:///Users/ch0002techvc/.venv/lib/python3.12/site-packages/eodhd/APIs/BaseAPI.py\u001b\\\u001b[2mBaseAPI.py\u001b[0m\u001b]8;;\u001b\\\u001b[2m:\u001b[0m\u001b]8;id=531121;file:///Users/ch0002techvc/.venv/lib/python3.12/site-packages/eodhd/APIs/BaseAPI.py#39\u001b\\\u001b[2m39\u001b[0m\u001b]8;;\u001b\\\n"
      ]
     },
     "metadata": {},
     "output_type": "display_data"
    },
    {
     "data": {
      "text/html": [
       "<pre style=\"white-space:pre;overflow-x:auto;line-height:normal;font-family:Menlo,'DejaVu Sans Mono',consolas,'Courier New',monospace\"><span style=\"color: #7fbfbf; text-decoration-color: #7fbfbf\">           </span><span style=\"color: #008080; text-decoration-color: #008080; font-weight: bold\">403</span> Client Error: Forbidden for url:                                                       <a href=\"file:///Users/ch0002techvc/.venv/lib/python3.12/site-packages/eodhd/APIs/BaseAPI.py\" target=\"_blank\"><span style=\"color: #7f7f7f; text-decoration-color: #7f7f7f\">BaseAPI.py</span></a><span style=\"color: #7f7f7f; text-decoration-color: #7f7f7f\">:</span><a href=\"file:///Users/ch0002techvc/.venv/lib/python3.12/site-packages/eodhd/APIs/BaseAPI.py#52\" target=\"_blank\"><span style=\"color: #7f7f7f; text-decoration-color: #7f7f7f\">52</span></a>\n",
       "<span style=\"color: #7fbfbf; text-decoration-color: #7fbfbf\">           </span><span style=\"color: #0000ff; text-decoration-color: #0000ff; text-decoration: underline\">https://eodhd.com/api/intraday/XAUUSD?api_token=67f380ad6e7193.54825103&amp;fmt=json&amp;interval=</span> <span style=\"color: #7f7f7f; text-decoration-color: #7f7f7f\">             </span>\n",
       "<span style=\"color: #7fbfbf; text-decoration-color: #7fbfbf\">           </span><span style=\"color: #0000ff; text-decoration-color: #0000ff; text-decoration: underline\">1m&amp;from=1493596800&amp;to=1503964800</span>                                                           <span style=\"color: #7f7f7f; text-decoration-color: #7f7f7f\">             </span>\n",
       "</pre>\n"
      ],
      "text/plain": [
       "\u001b[2;36m          \u001b[0m\u001b[2;36m \u001b[0m\u001b[1;36m403\u001b[0m Client Error: Forbidden for url:                                                       \u001b]8;id=831211;file:///Users/ch0002techvc/.venv/lib/python3.12/site-packages/eodhd/APIs/BaseAPI.py\u001b\\\u001b[2mBaseAPI.py\u001b[0m\u001b]8;;\u001b\\\u001b[2m:\u001b[0m\u001b]8;id=581988;file:///Users/ch0002techvc/.venv/lib/python3.12/site-packages/eodhd/APIs/BaseAPI.py#52\u001b\\\u001b[2m52\u001b[0m\u001b]8;;\u001b\\\n",
       "\u001b[2;36m           \u001b[0m\u001b[4;94mhttps://eodhd.com/api/intraday/XAUUSD?\u001b[0m\u001b[4;94mapi_token\u001b[0m\u001b[4;94m=\u001b[0m\u001b[4;94m67f380ad6e7193\u001b[0m\u001b[4;94m.54825103&\u001b[0m\u001b[4;94mfmt\u001b[0m\u001b[4;94m=\u001b[0m\u001b[4;94mjson\u001b[0m\u001b[4;94m&\u001b[0m\u001b[4;94minterval\u001b[0m\u001b[4;94m=\u001b[0m \u001b[2m             \u001b[0m\n",
       "\u001b[2;36m           \u001b[0m\u001b[4;94m1m\u001b[0m\u001b[4;94m&\u001b[0m\u001b[4;94mfrom\u001b[0m\u001b[4;94m=\u001b[0m\u001b[4;94m1493596800\u001b[0m\u001b[4;94m&\u001b[0m\u001b[4;94mto\u001b[0m\u001b[4;94m=\u001b[0m\u001b[4;94m1503964800\u001b[0m                                                           \u001b[2m             \u001b[0m\n"
      ]
     },
     "metadata": {},
     "output_type": "display_data"
    },
    {
     "name": "stdout",
     "output_type": "stream",
     "text": [
      "Fetching data from 2017-08-29 00:00:00 to 2017-12-27 00:00:00\n"
     ]
    },
    {
     "data": {
      "text/html": [
       "<pre style=\"white-space:pre;overflow-x:auto;line-height:normal;font-family:Menlo,'DejaVu Sans Mono',consolas,'Courier New',monospace\"><span style=\"color: #7fbfbf; text-decoration-color: #7fbfbf\">[17:58:42] </span>Expecting value: line <span style=\"color: #008080; text-decoration-color: #008080; font-weight: bold\">1</span> column <span style=\"color: #008080; text-decoration-color: #008080; font-weight: bold\">1</span> <span style=\"font-weight: bold\">(</span>char <span style=\"color: #008080; text-decoration-color: #008080; font-weight: bold\">0</span><span style=\"font-weight: bold\">)</span>                                                  <a href=\"file:///Users/ch0002techvc/.venv/lib/python3.12/site-packages/eodhd/APIs/BaseAPI.py\" target=\"_blank\"><span style=\"color: #7f7f7f; text-decoration-color: #7f7f7f\">BaseAPI.py</span></a><span style=\"color: #7f7f7f; text-decoration-color: #7f7f7f\">:</span><a href=\"file:///Users/ch0002techvc/.venv/lib/python3.12/site-packages/eodhd/APIs/BaseAPI.py#39\" target=\"_blank\"><span style=\"color: #7f7f7f; text-decoration-color: #7f7f7f\">39</span></a>\n",
       "</pre>\n"
      ],
      "text/plain": [
       "\u001b[2;36m[17:58:42]\u001b[0m\u001b[2;36m \u001b[0mExpecting value: line \u001b[1;36m1\u001b[0m column \u001b[1;36m1\u001b[0m \u001b[1m(\u001b[0mchar \u001b[1;36m0\u001b[0m\u001b[1m)\u001b[0m                                                  \u001b]8;id=116230;file:///Users/ch0002techvc/.venv/lib/python3.12/site-packages/eodhd/APIs/BaseAPI.py\u001b\\\u001b[2mBaseAPI.py\u001b[0m\u001b]8;;\u001b\\\u001b[2m:\u001b[0m\u001b]8;id=661080;file:///Users/ch0002techvc/.venv/lib/python3.12/site-packages/eodhd/APIs/BaseAPI.py#39\u001b\\\u001b[2m39\u001b[0m\u001b]8;;\u001b\\\n"
      ]
     },
     "metadata": {},
     "output_type": "display_data"
    },
    {
     "data": {
      "text/html": [
       "<pre style=\"white-space:pre;overflow-x:auto;line-height:normal;font-family:Menlo,'DejaVu Sans Mono',consolas,'Courier New',monospace\"><span style=\"color: #7fbfbf; text-decoration-color: #7fbfbf\">           </span><span style=\"color: #008080; text-decoration-color: #008080; font-weight: bold\">403</span> Client Error: Forbidden for url:                                                       <a href=\"file:///Users/ch0002techvc/.venv/lib/python3.12/site-packages/eodhd/APIs/BaseAPI.py\" target=\"_blank\"><span style=\"color: #7f7f7f; text-decoration-color: #7f7f7f\">BaseAPI.py</span></a><span style=\"color: #7f7f7f; text-decoration-color: #7f7f7f\">:</span><a href=\"file:///Users/ch0002techvc/.venv/lib/python3.12/site-packages/eodhd/APIs/BaseAPI.py#52\" target=\"_blank\"><span style=\"color: #7f7f7f; text-decoration-color: #7f7f7f\">52</span></a>\n",
       "<span style=\"color: #7fbfbf; text-decoration-color: #7fbfbf\">           </span><span style=\"color: #0000ff; text-decoration-color: #0000ff; text-decoration: underline\">https://eodhd.com/api/intraday/XAUUSD?api_token=67f380ad6e7193.54825103&amp;fmt=json&amp;interval=</span> <span style=\"color: #7f7f7f; text-decoration-color: #7f7f7f\">             </span>\n",
       "<span style=\"color: #7fbfbf; text-decoration-color: #7fbfbf\">           </span><span style=\"color: #0000ff; text-decoration-color: #0000ff; text-decoration: underline\">1m&amp;from=1503964800&amp;to=1514332800</span>                                                           <span style=\"color: #7f7f7f; text-decoration-color: #7f7f7f\">             </span>\n",
       "</pre>\n"
      ],
      "text/plain": [
       "\u001b[2;36m          \u001b[0m\u001b[2;36m \u001b[0m\u001b[1;36m403\u001b[0m Client Error: Forbidden for url:                                                       \u001b]8;id=865922;file:///Users/ch0002techvc/.venv/lib/python3.12/site-packages/eodhd/APIs/BaseAPI.py\u001b\\\u001b[2mBaseAPI.py\u001b[0m\u001b]8;;\u001b\\\u001b[2m:\u001b[0m\u001b]8;id=616367;file:///Users/ch0002techvc/.venv/lib/python3.12/site-packages/eodhd/APIs/BaseAPI.py#52\u001b\\\u001b[2m52\u001b[0m\u001b]8;;\u001b\\\n",
       "\u001b[2;36m           \u001b[0m\u001b[4;94mhttps://eodhd.com/api/intraday/XAUUSD?\u001b[0m\u001b[4;94mapi_token\u001b[0m\u001b[4;94m=\u001b[0m\u001b[4;94m67f380ad6e7193\u001b[0m\u001b[4;94m.54825103&\u001b[0m\u001b[4;94mfmt\u001b[0m\u001b[4;94m=\u001b[0m\u001b[4;94mjson\u001b[0m\u001b[4;94m&\u001b[0m\u001b[4;94minterval\u001b[0m\u001b[4;94m=\u001b[0m \u001b[2m             \u001b[0m\n",
       "\u001b[2;36m           \u001b[0m\u001b[4;94m1m\u001b[0m\u001b[4;94m&\u001b[0m\u001b[4;94mfrom\u001b[0m\u001b[4;94m=\u001b[0m\u001b[4;94m1503964800\u001b[0m\u001b[4;94m&\u001b[0m\u001b[4;94mto\u001b[0m\u001b[4;94m=\u001b[0m\u001b[4;94m1514332800\u001b[0m                                                           \u001b[2m             \u001b[0m\n"
      ]
     },
     "metadata": {},
     "output_type": "display_data"
    },
    {
     "name": "stdout",
     "output_type": "stream",
     "text": [
      "Fetching data from 2017-12-27 00:00:00 to 2018-04-26 00:00:00\n"
     ]
    },
    {
     "data": {
      "text/html": [
       "<pre style=\"white-space:pre;overflow-x:auto;line-height:normal;font-family:Menlo,'DejaVu Sans Mono',consolas,'Courier New',monospace\"><span style=\"color: #7fbfbf; text-decoration-color: #7fbfbf\">[17:58:42] </span>Expecting value: line <span style=\"color: #008080; text-decoration-color: #008080; font-weight: bold\">1</span> column <span style=\"color: #008080; text-decoration-color: #008080; font-weight: bold\">1</span> <span style=\"font-weight: bold\">(</span>char <span style=\"color: #008080; text-decoration-color: #008080; font-weight: bold\">0</span><span style=\"font-weight: bold\">)</span>                                                  <a href=\"file:///Users/ch0002techvc/.venv/lib/python3.12/site-packages/eodhd/APIs/BaseAPI.py\" target=\"_blank\"><span style=\"color: #7f7f7f; text-decoration-color: #7f7f7f\">BaseAPI.py</span></a><span style=\"color: #7f7f7f; text-decoration-color: #7f7f7f\">:</span><a href=\"file:///Users/ch0002techvc/.venv/lib/python3.12/site-packages/eodhd/APIs/BaseAPI.py#39\" target=\"_blank\"><span style=\"color: #7f7f7f; text-decoration-color: #7f7f7f\">39</span></a>\n",
       "</pre>\n"
      ],
      "text/plain": [
       "\u001b[2;36m[17:58:42]\u001b[0m\u001b[2;36m \u001b[0mExpecting value: line \u001b[1;36m1\u001b[0m column \u001b[1;36m1\u001b[0m \u001b[1m(\u001b[0mchar \u001b[1;36m0\u001b[0m\u001b[1m)\u001b[0m                                                  \u001b]8;id=313387;file:///Users/ch0002techvc/.venv/lib/python3.12/site-packages/eodhd/APIs/BaseAPI.py\u001b\\\u001b[2mBaseAPI.py\u001b[0m\u001b]8;;\u001b\\\u001b[2m:\u001b[0m\u001b]8;id=925032;file:///Users/ch0002techvc/.venv/lib/python3.12/site-packages/eodhd/APIs/BaseAPI.py#39\u001b\\\u001b[2m39\u001b[0m\u001b]8;;\u001b\\\n"
      ]
     },
     "metadata": {},
     "output_type": "display_data"
    },
    {
     "data": {
      "text/html": [
       "<pre style=\"white-space:pre;overflow-x:auto;line-height:normal;font-family:Menlo,'DejaVu Sans Mono',consolas,'Courier New',monospace\"><span style=\"color: #7fbfbf; text-decoration-color: #7fbfbf\">           </span><span style=\"color: #008080; text-decoration-color: #008080; font-weight: bold\">403</span> Client Error: Forbidden for url:                                                       <a href=\"file:///Users/ch0002techvc/.venv/lib/python3.12/site-packages/eodhd/APIs/BaseAPI.py\" target=\"_blank\"><span style=\"color: #7f7f7f; text-decoration-color: #7f7f7f\">BaseAPI.py</span></a><span style=\"color: #7f7f7f; text-decoration-color: #7f7f7f\">:</span><a href=\"file:///Users/ch0002techvc/.venv/lib/python3.12/site-packages/eodhd/APIs/BaseAPI.py#52\" target=\"_blank\"><span style=\"color: #7f7f7f; text-decoration-color: #7f7f7f\">52</span></a>\n",
       "<span style=\"color: #7fbfbf; text-decoration-color: #7fbfbf\">           </span><span style=\"color: #0000ff; text-decoration-color: #0000ff; text-decoration: underline\">https://eodhd.com/api/intraday/XAUUSD?api_token=67f380ad6e7193.54825103&amp;fmt=json&amp;interval=</span> <span style=\"color: #7f7f7f; text-decoration-color: #7f7f7f\">             </span>\n",
       "<span style=\"color: #7fbfbf; text-decoration-color: #7fbfbf\">           </span><span style=\"color: #0000ff; text-decoration-color: #0000ff; text-decoration: underline\">1m&amp;from=1514332800&amp;to=1524700800</span>                                                           <span style=\"color: #7f7f7f; text-decoration-color: #7f7f7f\">             </span>\n",
       "</pre>\n"
      ],
      "text/plain": [
       "\u001b[2;36m          \u001b[0m\u001b[2;36m \u001b[0m\u001b[1;36m403\u001b[0m Client Error: Forbidden for url:                                                       \u001b]8;id=27912;file:///Users/ch0002techvc/.venv/lib/python3.12/site-packages/eodhd/APIs/BaseAPI.py\u001b\\\u001b[2mBaseAPI.py\u001b[0m\u001b]8;;\u001b\\\u001b[2m:\u001b[0m\u001b]8;id=718818;file:///Users/ch0002techvc/.venv/lib/python3.12/site-packages/eodhd/APIs/BaseAPI.py#52\u001b\\\u001b[2m52\u001b[0m\u001b]8;;\u001b\\\n",
       "\u001b[2;36m           \u001b[0m\u001b[4;94mhttps://eodhd.com/api/intraday/XAUUSD?\u001b[0m\u001b[4;94mapi_token\u001b[0m\u001b[4;94m=\u001b[0m\u001b[4;94m67f380ad6e7193\u001b[0m\u001b[4;94m.54825103&\u001b[0m\u001b[4;94mfmt\u001b[0m\u001b[4;94m=\u001b[0m\u001b[4;94mjson\u001b[0m\u001b[4;94m&\u001b[0m\u001b[4;94minterval\u001b[0m\u001b[4;94m=\u001b[0m \u001b[2m             \u001b[0m\n",
       "\u001b[2;36m           \u001b[0m\u001b[4;94m1m\u001b[0m\u001b[4;94m&\u001b[0m\u001b[4;94mfrom\u001b[0m\u001b[4;94m=\u001b[0m\u001b[4;94m1514332800\u001b[0m\u001b[4;94m&\u001b[0m\u001b[4;94mto\u001b[0m\u001b[4;94m=\u001b[0m\u001b[4;94m1524700800\u001b[0m                                                           \u001b[2m             \u001b[0m\n"
      ]
     },
     "metadata": {},
     "output_type": "display_data"
    },
    {
     "name": "stdout",
     "output_type": "stream",
     "text": [
      "Fetching data from 2018-04-26 00:00:00 to 2018-08-24 00:00:00\n"
     ]
    },
    {
     "data": {
      "text/html": [
       "<pre style=\"white-space:pre;overflow-x:auto;line-height:normal;font-family:Menlo,'DejaVu Sans Mono',consolas,'Courier New',monospace\"><span style=\"color: #7fbfbf; text-decoration-color: #7fbfbf\">[17:58:43] </span>Expecting value: line <span style=\"color: #008080; text-decoration-color: #008080; font-weight: bold\">1</span> column <span style=\"color: #008080; text-decoration-color: #008080; font-weight: bold\">1</span> <span style=\"font-weight: bold\">(</span>char <span style=\"color: #008080; text-decoration-color: #008080; font-weight: bold\">0</span><span style=\"font-weight: bold\">)</span>                                                  <a href=\"file:///Users/ch0002techvc/.venv/lib/python3.12/site-packages/eodhd/APIs/BaseAPI.py\" target=\"_blank\"><span style=\"color: #7f7f7f; text-decoration-color: #7f7f7f\">BaseAPI.py</span></a><span style=\"color: #7f7f7f; text-decoration-color: #7f7f7f\">:</span><a href=\"file:///Users/ch0002techvc/.venv/lib/python3.12/site-packages/eodhd/APIs/BaseAPI.py#39\" target=\"_blank\"><span style=\"color: #7f7f7f; text-decoration-color: #7f7f7f\">39</span></a>\n",
       "</pre>\n"
      ],
      "text/plain": [
       "\u001b[2;36m[17:58:43]\u001b[0m\u001b[2;36m \u001b[0mExpecting value: line \u001b[1;36m1\u001b[0m column \u001b[1;36m1\u001b[0m \u001b[1m(\u001b[0mchar \u001b[1;36m0\u001b[0m\u001b[1m)\u001b[0m                                                  \u001b]8;id=405182;file:///Users/ch0002techvc/.venv/lib/python3.12/site-packages/eodhd/APIs/BaseAPI.py\u001b\\\u001b[2mBaseAPI.py\u001b[0m\u001b]8;;\u001b\\\u001b[2m:\u001b[0m\u001b]8;id=31114;file:///Users/ch0002techvc/.venv/lib/python3.12/site-packages/eodhd/APIs/BaseAPI.py#39\u001b\\\u001b[2m39\u001b[0m\u001b]8;;\u001b\\\n"
      ]
     },
     "metadata": {},
     "output_type": "display_data"
    },
    {
     "data": {
      "text/html": [
       "<pre style=\"white-space:pre;overflow-x:auto;line-height:normal;font-family:Menlo,'DejaVu Sans Mono',consolas,'Courier New',monospace\"><span style=\"color: #7fbfbf; text-decoration-color: #7fbfbf\">           </span><span style=\"color: #008080; text-decoration-color: #008080; font-weight: bold\">403</span> Client Error: Forbidden for url:                                                       <a href=\"file:///Users/ch0002techvc/.venv/lib/python3.12/site-packages/eodhd/APIs/BaseAPI.py\" target=\"_blank\"><span style=\"color: #7f7f7f; text-decoration-color: #7f7f7f\">BaseAPI.py</span></a><span style=\"color: #7f7f7f; text-decoration-color: #7f7f7f\">:</span><a href=\"file:///Users/ch0002techvc/.venv/lib/python3.12/site-packages/eodhd/APIs/BaseAPI.py#52\" target=\"_blank\"><span style=\"color: #7f7f7f; text-decoration-color: #7f7f7f\">52</span></a>\n",
       "<span style=\"color: #7fbfbf; text-decoration-color: #7fbfbf\">           </span><span style=\"color: #0000ff; text-decoration-color: #0000ff; text-decoration: underline\">https://eodhd.com/api/intraday/XAUUSD?api_token=67f380ad6e7193.54825103&amp;fmt=json&amp;interval=</span> <span style=\"color: #7f7f7f; text-decoration-color: #7f7f7f\">             </span>\n",
       "<span style=\"color: #7fbfbf; text-decoration-color: #7fbfbf\">           </span><span style=\"color: #0000ff; text-decoration-color: #0000ff; text-decoration: underline\">1m&amp;from=1524700800&amp;to=1535068800</span>                                                           <span style=\"color: #7f7f7f; text-decoration-color: #7f7f7f\">             </span>\n",
       "</pre>\n"
      ],
      "text/plain": [
       "\u001b[2;36m          \u001b[0m\u001b[2;36m \u001b[0m\u001b[1;36m403\u001b[0m Client Error: Forbidden for url:                                                       \u001b]8;id=798308;file:///Users/ch0002techvc/.venv/lib/python3.12/site-packages/eodhd/APIs/BaseAPI.py\u001b\\\u001b[2mBaseAPI.py\u001b[0m\u001b]8;;\u001b\\\u001b[2m:\u001b[0m\u001b]8;id=788437;file:///Users/ch0002techvc/.venv/lib/python3.12/site-packages/eodhd/APIs/BaseAPI.py#52\u001b\\\u001b[2m52\u001b[0m\u001b]8;;\u001b\\\n",
       "\u001b[2;36m           \u001b[0m\u001b[4;94mhttps://eodhd.com/api/intraday/XAUUSD?\u001b[0m\u001b[4;94mapi_token\u001b[0m\u001b[4;94m=\u001b[0m\u001b[4;94m67f380ad6e7193\u001b[0m\u001b[4;94m.54825103&\u001b[0m\u001b[4;94mfmt\u001b[0m\u001b[4;94m=\u001b[0m\u001b[4;94mjson\u001b[0m\u001b[4;94m&\u001b[0m\u001b[4;94minterval\u001b[0m\u001b[4;94m=\u001b[0m \u001b[2m             \u001b[0m\n",
       "\u001b[2;36m           \u001b[0m\u001b[4;94m1m\u001b[0m\u001b[4;94m&\u001b[0m\u001b[4;94mfrom\u001b[0m\u001b[4;94m=\u001b[0m\u001b[4;94m1524700800\u001b[0m\u001b[4;94m&\u001b[0m\u001b[4;94mto\u001b[0m\u001b[4;94m=\u001b[0m\u001b[4;94m1535068800\u001b[0m                                                           \u001b[2m             \u001b[0m\n"
      ]
     },
     "metadata": {},
     "output_type": "display_data"
    },
    {
     "name": "stdout",
     "output_type": "stream",
     "text": [
      "Fetching data from 2018-08-24 00:00:00 to 2018-12-22 00:00:00\n"
     ]
    },
    {
     "data": {
      "text/html": [
       "<pre style=\"white-space:pre;overflow-x:auto;line-height:normal;font-family:Menlo,'DejaVu Sans Mono',consolas,'Courier New',monospace\"><span style=\"color: #7fbfbf; text-decoration-color: #7fbfbf\">[17:58:44] </span>Expecting value: line <span style=\"color: #008080; text-decoration-color: #008080; font-weight: bold\">1</span> column <span style=\"color: #008080; text-decoration-color: #008080; font-weight: bold\">1</span> <span style=\"font-weight: bold\">(</span>char <span style=\"color: #008080; text-decoration-color: #008080; font-weight: bold\">0</span><span style=\"font-weight: bold\">)</span>                                                  <a href=\"file:///Users/ch0002techvc/.venv/lib/python3.12/site-packages/eodhd/APIs/BaseAPI.py\" target=\"_blank\"><span style=\"color: #7f7f7f; text-decoration-color: #7f7f7f\">BaseAPI.py</span></a><span style=\"color: #7f7f7f; text-decoration-color: #7f7f7f\">:</span><a href=\"file:///Users/ch0002techvc/.venv/lib/python3.12/site-packages/eodhd/APIs/BaseAPI.py#39\" target=\"_blank\"><span style=\"color: #7f7f7f; text-decoration-color: #7f7f7f\">39</span></a>\n",
       "</pre>\n"
      ],
      "text/plain": [
       "\u001b[2;36m[17:58:44]\u001b[0m\u001b[2;36m \u001b[0mExpecting value: line \u001b[1;36m1\u001b[0m column \u001b[1;36m1\u001b[0m \u001b[1m(\u001b[0mchar \u001b[1;36m0\u001b[0m\u001b[1m)\u001b[0m                                                  \u001b]8;id=604158;file:///Users/ch0002techvc/.venv/lib/python3.12/site-packages/eodhd/APIs/BaseAPI.py\u001b\\\u001b[2mBaseAPI.py\u001b[0m\u001b]8;;\u001b\\\u001b[2m:\u001b[0m\u001b]8;id=786187;file:///Users/ch0002techvc/.venv/lib/python3.12/site-packages/eodhd/APIs/BaseAPI.py#39\u001b\\\u001b[2m39\u001b[0m\u001b]8;;\u001b\\\n"
      ]
     },
     "metadata": {},
     "output_type": "display_data"
    },
    {
     "data": {
      "text/html": [
       "<pre style=\"white-space:pre;overflow-x:auto;line-height:normal;font-family:Menlo,'DejaVu Sans Mono',consolas,'Courier New',monospace\"><span style=\"color: #7fbfbf; text-decoration-color: #7fbfbf\">           </span><span style=\"color: #008080; text-decoration-color: #008080; font-weight: bold\">403</span> Client Error: Forbidden for url:                                                       <a href=\"file:///Users/ch0002techvc/.venv/lib/python3.12/site-packages/eodhd/APIs/BaseAPI.py\" target=\"_blank\"><span style=\"color: #7f7f7f; text-decoration-color: #7f7f7f\">BaseAPI.py</span></a><span style=\"color: #7f7f7f; text-decoration-color: #7f7f7f\">:</span><a href=\"file:///Users/ch0002techvc/.venv/lib/python3.12/site-packages/eodhd/APIs/BaseAPI.py#52\" target=\"_blank\"><span style=\"color: #7f7f7f; text-decoration-color: #7f7f7f\">52</span></a>\n",
       "<span style=\"color: #7fbfbf; text-decoration-color: #7fbfbf\">           </span><span style=\"color: #0000ff; text-decoration-color: #0000ff; text-decoration: underline\">https://eodhd.com/api/intraday/XAUUSD?api_token=67f380ad6e7193.54825103&amp;fmt=json&amp;interval=</span> <span style=\"color: #7f7f7f; text-decoration-color: #7f7f7f\">             </span>\n",
       "<span style=\"color: #7fbfbf; text-decoration-color: #7fbfbf\">           </span><span style=\"color: #0000ff; text-decoration-color: #0000ff; text-decoration: underline\">1m&amp;from=1535068800&amp;to=1545436800</span>                                                           <span style=\"color: #7f7f7f; text-decoration-color: #7f7f7f\">             </span>\n",
       "</pre>\n"
      ],
      "text/plain": [
       "\u001b[2;36m          \u001b[0m\u001b[2;36m \u001b[0m\u001b[1;36m403\u001b[0m Client Error: Forbidden for url:                                                       \u001b]8;id=237253;file:///Users/ch0002techvc/.venv/lib/python3.12/site-packages/eodhd/APIs/BaseAPI.py\u001b\\\u001b[2mBaseAPI.py\u001b[0m\u001b]8;;\u001b\\\u001b[2m:\u001b[0m\u001b]8;id=343860;file:///Users/ch0002techvc/.venv/lib/python3.12/site-packages/eodhd/APIs/BaseAPI.py#52\u001b\\\u001b[2m52\u001b[0m\u001b]8;;\u001b\\\n",
       "\u001b[2;36m           \u001b[0m\u001b[4;94mhttps://eodhd.com/api/intraday/XAUUSD?\u001b[0m\u001b[4;94mapi_token\u001b[0m\u001b[4;94m=\u001b[0m\u001b[4;94m67f380ad6e7193\u001b[0m\u001b[4;94m.54825103&\u001b[0m\u001b[4;94mfmt\u001b[0m\u001b[4;94m=\u001b[0m\u001b[4;94mjson\u001b[0m\u001b[4;94m&\u001b[0m\u001b[4;94minterval\u001b[0m\u001b[4;94m=\u001b[0m \u001b[2m             \u001b[0m\n",
       "\u001b[2;36m           \u001b[0m\u001b[4;94m1m\u001b[0m\u001b[4;94m&\u001b[0m\u001b[4;94mfrom\u001b[0m\u001b[4;94m=\u001b[0m\u001b[4;94m1535068800\u001b[0m\u001b[4;94m&\u001b[0m\u001b[4;94mto\u001b[0m\u001b[4;94m=\u001b[0m\u001b[4;94m1545436800\u001b[0m                                                           \u001b[2m             \u001b[0m\n"
      ]
     },
     "metadata": {},
     "output_type": "display_data"
    },
    {
     "name": "stdout",
     "output_type": "stream",
     "text": [
      "Fetching data from 2018-12-22 00:00:00 to 2019-04-21 00:00:00\n"
     ]
    },
    {
     "data": {
      "text/html": [
       "<pre style=\"white-space:pre;overflow-x:auto;line-height:normal;font-family:Menlo,'DejaVu Sans Mono',consolas,'Courier New',monospace\"><span style=\"color: #7fbfbf; text-decoration-color: #7fbfbf\">[17:58:45] </span>Expecting value: line <span style=\"color: #008080; text-decoration-color: #008080; font-weight: bold\">1</span> column <span style=\"color: #008080; text-decoration-color: #008080; font-weight: bold\">1</span> <span style=\"font-weight: bold\">(</span>char <span style=\"color: #008080; text-decoration-color: #008080; font-weight: bold\">0</span><span style=\"font-weight: bold\">)</span>                                                  <a href=\"file:///Users/ch0002techvc/.venv/lib/python3.12/site-packages/eodhd/APIs/BaseAPI.py\" target=\"_blank\"><span style=\"color: #7f7f7f; text-decoration-color: #7f7f7f\">BaseAPI.py</span></a><span style=\"color: #7f7f7f; text-decoration-color: #7f7f7f\">:</span><a href=\"file:///Users/ch0002techvc/.venv/lib/python3.12/site-packages/eodhd/APIs/BaseAPI.py#39\" target=\"_blank\"><span style=\"color: #7f7f7f; text-decoration-color: #7f7f7f\">39</span></a>\n",
       "</pre>\n"
      ],
      "text/plain": [
       "\u001b[2;36m[17:58:45]\u001b[0m\u001b[2;36m \u001b[0mExpecting value: line \u001b[1;36m1\u001b[0m column \u001b[1;36m1\u001b[0m \u001b[1m(\u001b[0mchar \u001b[1;36m0\u001b[0m\u001b[1m)\u001b[0m                                                  \u001b]8;id=470260;file:///Users/ch0002techvc/.venv/lib/python3.12/site-packages/eodhd/APIs/BaseAPI.py\u001b\\\u001b[2mBaseAPI.py\u001b[0m\u001b]8;;\u001b\\\u001b[2m:\u001b[0m\u001b]8;id=957475;file:///Users/ch0002techvc/.venv/lib/python3.12/site-packages/eodhd/APIs/BaseAPI.py#39\u001b\\\u001b[2m39\u001b[0m\u001b]8;;\u001b\\\n"
      ]
     },
     "metadata": {},
     "output_type": "display_data"
    },
    {
     "data": {
      "text/html": [
       "<pre style=\"white-space:pre;overflow-x:auto;line-height:normal;font-family:Menlo,'DejaVu Sans Mono',consolas,'Courier New',monospace\"><span style=\"color: #7fbfbf; text-decoration-color: #7fbfbf\">           </span><span style=\"color: #008080; text-decoration-color: #008080; font-weight: bold\">403</span> Client Error: Forbidden for url:                                                       <a href=\"file:///Users/ch0002techvc/.venv/lib/python3.12/site-packages/eodhd/APIs/BaseAPI.py\" target=\"_blank\"><span style=\"color: #7f7f7f; text-decoration-color: #7f7f7f\">BaseAPI.py</span></a><span style=\"color: #7f7f7f; text-decoration-color: #7f7f7f\">:</span><a href=\"file:///Users/ch0002techvc/.venv/lib/python3.12/site-packages/eodhd/APIs/BaseAPI.py#52\" target=\"_blank\"><span style=\"color: #7f7f7f; text-decoration-color: #7f7f7f\">52</span></a>\n",
       "<span style=\"color: #7fbfbf; text-decoration-color: #7fbfbf\">           </span><span style=\"color: #0000ff; text-decoration-color: #0000ff; text-decoration: underline\">https://eodhd.com/api/intraday/XAUUSD?api_token=67f380ad6e7193.54825103&amp;fmt=json&amp;interval=</span> <span style=\"color: #7f7f7f; text-decoration-color: #7f7f7f\">             </span>\n",
       "<span style=\"color: #7fbfbf; text-decoration-color: #7fbfbf\">           </span><span style=\"color: #0000ff; text-decoration-color: #0000ff; text-decoration: underline\">1m&amp;from=1545436800&amp;to=1555804800</span>                                                           <span style=\"color: #7f7f7f; text-decoration-color: #7f7f7f\">             </span>\n",
       "</pre>\n"
      ],
      "text/plain": [
       "\u001b[2;36m          \u001b[0m\u001b[2;36m \u001b[0m\u001b[1;36m403\u001b[0m Client Error: Forbidden for url:                                                       \u001b]8;id=975640;file:///Users/ch0002techvc/.venv/lib/python3.12/site-packages/eodhd/APIs/BaseAPI.py\u001b\\\u001b[2mBaseAPI.py\u001b[0m\u001b]8;;\u001b\\\u001b[2m:\u001b[0m\u001b]8;id=373151;file:///Users/ch0002techvc/.venv/lib/python3.12/site-packages/eodhd/APIs/BaseAPI.py#52\u001b\\\u001b[2m52\u001b[0m\u001b]8;;\u001b\\\n",
       "\u001b[2;36m           \u001b[0m\u001b[4;94mhttps://eodhd.com/api/intraday/XAUUSD?\u001b[0m\u001b[4;94mapi_token\u001b[0m\u001b[4;94m=\u001b[0m\u001b[4;94m67f380ad6e7193\u001b[0m\u001b[4;94m.54825103&\u001b[0m\u001b[4;94mfmt\u001b[0m\u001b[4;94m=\u001b[0m\u001b[4;94mjson\u001b[0m\u001b[4;94m&\u001b[0m\u001b[4;94minterval\u001b[0m\u001b[4;94m=\u001b[0m \u001b[2m             \u001b[0m\n",
       "\u001b[2;36m           \u001b[0m\u001b[4;94m1m\u001b[0m\u001b[4;94m&\u001b[0m\u001b[4;94mfrom\u001b[0m\u001b[4;94m=\u001b[0m\u001b[4;94m1545436800\u001b[0m\u001b[4;94m&\u001b[0m\u001b[4;94mto\u001b[0m\u001b[4;94m=\u001b[0m\u001b[4;94m1555804800\u001b[0m                                                           \u001b[2m             \u001b[0m\n"
      ]
     },
     "metadata": {},
     "output_type": "display_data"
    },
    {
     "name": "stdout",
     "output_type": "stream",
     "text": [
      "Fetching data from 2019-04-21 00:00:00 to 2019-08-19 00:00:00\n"
     ]
    },
    {
     "data": {
      "text/html": [
       "<pre style=\"white-space:pre;overflow-x:auto;line-height:normal;font-family:Menlo,'DejaVu Sans Mono',consolas,'Courier New',monospace\"><span style=\"color: #7fbfbf; text-decoration-color: #7fbfbf\">[17:58:45] </span>Expecting value: line <span style=\"color: #008080; text-decoration-color: #008080; font-weight: bold\">1</span> column <span style=\"color: #008080; text-decoration-color: #008080; font-weight: bold\">1</span> <span style=\"font-weight: bold\">(</span>char <span style=\"color: #008080; text-decoration-color: #008080; font-weight: bold\">0</span><span style=\"font-weight: bold\">)</span>                                                  <a href=\"file:///Users/ch0002techvc/.venv/lib/python3.12/site-packages/eodhd/APIs/BaseAPI.py\" target=\"_blank\"><span style=\"color: #7f7f7f; text-decoration-color: #7f7f7f\">BaseAPI.py</span></a><span style=\"color: #7f7f7f; text-decoration-color: #7f7f7f\">:</span><a href=\"file:///Users/ch0002techvc/.venv/lib/python3.12/site-packages/eodhd/APIs/BaseAPI.py#39\" target=\"_blank\"><span style=\"color: #7f7f7f; text-decoration-color: #7f7f7f\">39</span></a>\n",
       "</pre>\n"
      ],
      "text/plain": [
       "\u001b[2;36m[17:58:45]\u001b[0m\u001b[2;36m \u001b[0mExpecting value: line \u001b[1;36m1\u001b[0m column \u001b[1;36m1\u001b[0m \u001b[1m(\u001b[0mchar \u001b[1;36m0\u001b[0m\u001b[1m)\u001b[0m                                                  \u001b]8;id=431699;file:///Users/ch0002techvc/.venv/lib/python3.12/site-packages/eodhd/APIs/BaseAPI.py\u001b\\\u001b[2mBaseAPI.py\u001b[0m\u001b]8;;\u001b\\\u001b[2m:\u001b[0m\u001b]8;id=239805;file:///Users/ch0002techvc/.venv/lib/python3.12/site-packages/eodhd/APIs/BaseAPI.py#39\u001b\\\u001b[2m39\u001b[0m\u001b]8;;\u001b\\\n"
      ]
     },
     "metadata": {},
     "output_type": "display_data"
    },
    {
     "data": {
      "text/html": [
       "<pre style=\"white-space:pre;overflow-x:auto;line-height:normal;font-family:Menlo,'DejaVu Sans Mono',consolas,'Courier New',monospace\"><span style=\"color: #7fbfbf; text-decoration-color: #7fbfbf\">           </span><span style=\"color: #008080; text-decoration-color: #008080; font-weight: bold\">403</span> Client Error: Forbidden for url:                                                       <a href=\"file:///Users/ch0002techvc/.venv/lib/python3.12/site-packages/eodhd/APIs/BaseAPI.py\" target=\"_blank\"><span style=\"color: #7f7f7f; text-decoration-color: #7f7f7f\">BaseAPI.py</span></a><span style=\"color: #7f7f7f; text-decoration-color: #7f7f7f\">:</span><a href=\"file:///Users/ch0002techvc/.venv/lib/python3.12/site-packages/eodhd/APIs/BaseAPI.py#52\" target=\"_blank\"><span style=\"color: #7f7f7f; text-decoration-color: #7f7f7f\">52</span></a>\n",
       "<span style=\"color: #7fbfbf; text-decoration-color: #7fbfbf\">           </span><span style=\"color: #0000ff; text-decoration-color: #0000ff; text-decoration: underline\">https://eodhd.com/api/intraday/XAUUSD?api_token=67f380ad6e7193.54825103&amp;fmt=json&amp;interval=</span> <span style=\"color: #7f7f7f; text-decoration-color: #7f7f7f\">             </span>\n",
       "<span style=\"color: #7fbfbf; text-decoration-color: #7fbfbf\">           </span><span style=\"color: #0000ff; text-decoration-color: #0000ff; text-decoration: underline\">1m&amp;from=1555804800&amp;to=1566172800</span>                                                           <span style=\"color: #7f7f7f; text-decoration-color: #7f7f7f\">             </span>\n",
       "</pre>\n"
      ],
      "text/plain": [
       "\u001b[2;36m          \u001b[0m\u001b[2;36m \u001b[0m\u001b[1;36m403\u001b[0m Client Error: Forbidden for url:                                                       \u001b]8;id=372220;file:///Users/ch0002techvc/.venv/lib/python3.12/site-packages/eodhd/APIs/BaseAPI.py\u001b\\\u001b[2mBaseAPI.py\u001b[0m\u001b]8;;\u001b\\\u001b[2m:\u001b[0m\u001b]8;id=2745;file:///Users/ch0002techvc/.venv/lib/python3.12/site-packages/eodhd/APIs/BaseAPI.py#52\u001b\\\u001b[2m52\u001b[0m\u001b]8;;\u001b\\\n",
       "\u001b[2;36m           \u001b[0m\u001b[4;94mhttps://eodhd.com/api/intraday/XAUUSD?\u001b[0m\u001b[4;94mapi_token\u001b[0m\u001b[4;94m=\u001b[0m\u001b[4;94m67f380ad6e7193\u001b[0m\u001b[4;94m.54825103&\u001b[0m\u001b[4;94mfmt\u001b[0m\u001b[4;94m=\u001b[0m\u001b[4;94mjson\u001b[0m\u001b[4;94m&\u001b[0m\u001b[4;94minterval\u001b[0m\u001b[4;94m=\u001b[0m \u001b[2m             \u001b[0m\n",
       "\u001b[2;36m           \u001b[0m\u001b[4;94m1m\u001b[0m\u001b[4;94m&\u001b[0m\u001b[4;94mfrom\u001b[0m\u001b[4;94m=\u001b[0m\u001b[4;94m1555804800\u001b[0m\u001b[4;94m&\u001b[0m\u001b[4;94mto\u001b[0m\u001b[4;94m=\u001b[0m\u001b[4;94m1566172800\u001b[0m                                                           \u001b[2m             \u001b[0m\n"
      ]
     },
     "metadata": {},
     "output_type": "display_data"
    },
    {
     "name": "stdout",
     "output_type": "stream",
     "text": [
      "Fetching data from 2019-08-19 00:00:00 to 2019-12-17 00:00:00\n"
     ]
    },
    {
     "data": {
      "text/html": [
       "<pre style=\"white-space:pre;overflow-x:auto;line-height:normal;font-family:Menlo,'DejaVu Sans Mono',consolas,'Courier New',monospace\"><span style=\"color: #7fbfbf; text-decoration-color: #7fbfbf\">[17:58:46] </span>Expecting value: line <span style=\"color: #008080; text-decoration-color: #008080; font-weight: bold\">1</span> column <span style=\"color: #008080; text-decoration-color: #008080; font-weight: bold\">1</span> <span style=\"font-weight: bold\">(</span>char <span style=\"color: #008080; text-decoration-color: #008080; font-weight: bold\">0</span><span style=\"font-weight: bold\">)</span>                                                  <a href=\"file:///Users/ch0002techvc/.venv/lib/python3.12/site-packages/eodhd/APIs/BaseAPI.py\" target=\"_blank\"><span style=\"color: #7f7f7f; text-decoration-color: #7f7f7f\">BaseAPI.py</span></a><span style=\"color: #7f7f7f; text-decoration-color: #7f7f7f\">:</span><a href=\"file:///Users/ch0002techvc/.venv/lib/python3.12/site-packages/eodhd/APIs/BaseAPI.py#39\" target=\"_blank\"><span style=\"color: #7f7f7f; text-decoration-color: #7f7f7f\">39</span></a>\n",
       "</pre>\n"
      ],
      "text/plain": [
       "\u001b[2;36m[17:58:46]\u001b[0m\u001b[2;36m \u001b[0mExpecting value: line \u001b[1;36m1\u001b[0m column \u001b[1;36m1\u001b[0m \u001b[1m(\u001b[0mchar \u001b[1;36m0\u001b[0m\u001b[1m)\u001b[0m                                                  \u001b]8;id=627826;file:///Users/ch0002techvc/.venv/lib/python3.12/site-packages/eodhd/APIs/BaseAPI.py\u001b\\\u001b[2mBaseAPI.py\u001b[0m\u001b]8;;\u001b\\\u001b[2m:\u001b[0m\u001b]8;id=832518;file:///Users/ch0002techvc/.venv/lib/python3.12/site-packages/eodhd/APIs/BaseAPI.py#39\u001b\\\u001b[2m39\u001b[0m\u001b]8;;\u001b\\\n"
      ]
     },
     "metadata": {},
     "output_type": "display_data"
    },
    {
     "data": {
      "text/html": [
       "<pre style=\"white-space:pre;overflow-x:auto;line-height:normal;font-family:Menlo,'DejaVu Sans Mono',consolas,'Courier New',monospace\"><span style=\"color: #7fbfbf; text-decoration-color: #7fbfbf\">           </span><span style=\"color: #008080; text-decoration-color: #008080; font-weight: bold\">403</span> Client Error: Forbidden for url:                                                       <a href=\"file:///Users/ch0002techvc/.venv/lib/python3.12/site-packages/eodhd/APIs/BaseAPI.py\" target=\"_blank\"><span style=\"color: #7f7f7f; text-decoration-color: #7f7f7f\">BaseAPI.py</span></a><span style=\"color: #7f7f7f; text-decoration-color: #7f7f7f\">:</span><a href=\"file:///Users/ch0002techvc/.venv/lib/python3.12/site-packages/eodhd/APIs/BaseAPI.py#52\" target=\"_blank\"><span style=\"color: #7f7f7f; text-decoration-color: #7f7f7f\">52</span></a>\n",
       "<span style=\"color: #7fbfbf; text-decoration-color: #7fbfbf\">           </span><span style=\"color: #0000ff; text-decoration-color: #0000ff; text-decoration: underline\">https://eodhd.com/api/intraday/XAUUSD?api_token=67f380ad6e7193.54825103&amp;fmt=json&amp;interval=</span> <span style=\"color: #7f7f7f; text-decoration-color: #7f7f7f\">             </span>\n",
       "<span style=\"color: #7fbfbf; text-decoration-color: #7fbfbf\">           </span><span style=\"color: #0000ff; text-decoration-color: #0000ff; text-decoration: underline\">1m&amp;from=1566172800&amp;to=1576540800</span>                                                           <span style=\"color: #7f7f7f; text-decoration-color: #7f7f7f\">             </span>\n",
       "</pre>\n"
      ],
      "text/plain": [
       "\u001b[2;36m          \u001b[0m\u001b[2;36m \u001b[0m\u001b[1;36m403\u001b[0m Client Error: Forbidden for url:                                                       \u001b]8;id=472415;file:///Users/ch0002techvc/.venv/lib/python3.12/site-packages/eodhd/APIs/BaseAPI.py\u001b\\\u001b[2mBaseAPI.py\u001b[0m\u001b]8;;\u001b\\\u001b[2m:\u001b[0m\u001b]8;id=722469;file:///Users/ch0002techvc/.venv/lib/python3.12/site-packages/eodhd/APIs/BaseAPI.py#52\u001b\\\u001b[2m52\u001b[0m\u001b]8;;\u001b\\\n",
       "\u001b[2;36m           \u001b[0m\u001b[4;94mhttps://eodhd.com/api/intraday/XAUUSD?\u001b[0m\u001b[4;94mapi_token\u001b[0m\u001b[4;94m=\u001b[0m\u001b[4;94m67f380ad6e7193\u001b[0m\u001b[4;94m.54825103&\u001b[0m\u001b[4;94mfmt\u001b[0m\u001b[4;94m=\u001b[0m\u001b[4;94mjson\u001b[0m\u001b[4;94m&\u001b[0m\u001b[4;94minterval\u001b[0m\u001b[4;94m=\u001b[0m \u001b[2m             \u001b[0m\n",
       "\u001b[2;36m           \u001b[0m\u001b[4;94m1m\u001b[0m\u001b[4;94m&\u001b[0m\u001b[4;94mfrom\u001b[0m\u001b[4;94m=\u001b[0m\u001b[4;94m1566172800\u001b[0m\u001b[4;94m&\u001b[0m\u001b[4;94mto\u001b[0m\u001b[4;94m=\u001b[0m\u001b[4;94m1576540800\u001b[0m                                                           \u001b[2m             \u001b[0m\n"
      ]
     },
     "metadata": {},
     "output_type": "display_data"
    },
    {
     "name": "stdout",
     "output_type": "stream",
     "text": [
      "Fetching data from 2019-12-17 00:00:00 to 2020-04-15 00:00:00\n"
     ]
    },
    {
     "data": {
      "text/html": [
       "<pre style=\"white-space:pre;overflow-x:auto;line-height:normal;font-family:Menlo,'DejaVu Sans Mono',consolas,'Courier New',monospace\"><span style=\"color: #7fbfbf; text-decoration-color: #7fbfbf\">[17:58:47] </span>Expecting value: line <span style=\"color: #008080; text-decoration-color: #008080; font-weight: bold\">1</span> column <span style=\"color: #008080; text-decoration-color: #008080; font-weight: bold\">1</span> <span style=\"font-weight: bold\">(</span>char <span style=\"color: #008080; text-decoration-color: #008080; font-weight: bold\">0</span><span style=\"font-weight: bold\">)</span>                                                  <a href=\"file:///Users/ch0002techvc/.venv/lib/python3.12/site-packages/eodhd/APIs/BaseAPI.py\" target=\"_blank\"><span style=\"color: #7f7f7f; text-decoration-color: #7f7f7f\">BaseAPI.py</span></a><span style=\"color: #7f7f7f; text-decoration-color: #7f7f7f\">:</span><a href=\"file:///Users/ch0002techvc/.venv/lib/python3.12/site-packages/eodhd/APIs/BaseAPI.py#39\" target=\"_blank\"><span style=\"color: #7f7f7f; text-decoration-color: #7f7f7f\">39</span></a>\n",
       "</pre>\n"
      ],
      "text/plain": [
       "\u001b[2;36m[17:58:47]\u001b[0m\u001b[2;36m \u001b[0mExpecting value: line \u001b[1;36m1\u001b[0m column \u001b[1;36m1\u001b[0m \u001b[1m(\u001b[0mchar \u001b[1;36m0\u001b[0m\u001b[1m)\u001b[0m                                                  \u001b]8;id=610721;file:///Users/ch0002techvc/.venv/lib/python3.12/site-packages/eodhd/APIs/BaseAPI.py\u001b\\\u001b[2mBaseAPI.py\u001b[0m\u001b]8;;\u001b\\\u001b[2m:\u001b[0m\u001b]8;id=700401;file:///Users/ch0002techvc/.venv/lib/python3.12/site-packages/eodhd/APIs/BaseAPI.py#39\u001b\\\u001b[2m39\u001b[0m\u001b]8;;\u001b\\\n"
      ]
     },
     "metadata": {},
     "output_type": "display_data"
    },
    {
     "data": {
      "text/html": [
       "<pre style=\"white-space:pre;overflow-x:auto;line-height:normal;font-family:Menlo,'DejaVu Sans Mono',consolas,'Courier New',monospace\"><span style=\"color: #7fbfbf; text-decoration-color: #7fbfbf\">           </span><span style=\"color: #008080; text-decoration-color: #008080; font-weight: bold\">403</span> Client Error: Forbidden for url:                                                       <a href=\"file:///Users/ch0002techvc/.venv/lib/python3.12/site-packages/eodhd/APIs/BaseAPI.py\" target=\"_blank\"><span style=\"color: #7f7f7f; text-decoration-color: #7f7f7f\">BaseAPI.py</span></a><span style=\"color: #7f7f7f; text-decoration-color: #7f7f7f\">:</span><a href=\"file:///Users/ch0002techvc/.venv/lib/python3.12/site-packages/eodhd/APIs/BaseAPI.py#52\" target=\"_blank\"><span style=\"color: #7f7f7f; text-decoration-color: #7f7f7f\">52</span></a>\n",
       "<span style=\"color: #7fbfbf; text-decoration-color: #7fbfbf\">           </span><span style=\"color: #0000ff; text-decoration-color: #0000ff; text-decoration: underline\">https://eodhd.com/api/intraday/XAUUSD?api_token=67f380ad6e7193.54825103&amp;fmt=json&amp;interval=</span> <span style=\"color: #7f7f7f; text-decoration-color: #7f7f7f\">             </span>\n",
       "<span style=\"color: #7fbfbf; text-decoration-color: #7fbfbf\">           </span><span style=\"color: #0000ff; text-decoration-color: #0000ff; text-decoration: underline\">1m&amp;from=1576540800&amp;to=1586908800</span>                                                           <span style=\"color: #7f7f7f; text-decoration-color: #7f7f7f\">             </span>\n",
       "</pre>\n"
      ],
      "text/plain": [
       "\u001b[2;36m          \u001b[0m\u001b[2;36m \u001b[0m\u001b[1;36m403\u001b[0m Client Error: Forbidden for url:                                                       \u001b]8;id=686929;file:///Users/ch0002techvc/.venv/lib/python3.12/site-packages/eodhd/APIs/BaseAPI.py\u001b\\\u001b[2mBaseAPI.py\u001b[0m\u001b]8;;\u001b\\\u001b[2m:\u001b[0m\u001b]8;id=731624;file:///Users/ch0002techvc/.venv/lib/python3.12/site-packages/eodhd/APIs/BaseAPI.py#52\u001b\\\u001b[2m52\u001b[0m\u001b]8;;\u001b\\\n",
       "\u001b[2;36m           \u001b[0m\u001b[4;94mhttps://eodhd.com/api/intraday/XAUUSD?\u001b[0m\u001b[4;94mapi_token\u001b[0m\u001b[4;94m=\u001b[0m\u001b[4;94m67f380ad6e7193\u001b[0m\u001b[4;94m.54825103&\u001b[0m\u001b[4;94mfmt\u001b[0m\u001b[4;94m=\u001b[0m\u001b[4;94mjson\u001b[0m\u001b[4;94m&\u001b[0m\u001b[4;94minterval\u001b[0m\u001b[4;94m=\u001b[0m \u001b[2m             \u001b[0m\n",
       "\u001b[2;36m           \u001b[0m\u001b[4;94m1m\u001b[0m\u001b[4;94m&\u001b[0m\u001b[4;94mfrom\u001b[0m\u001b[4;94m=\u001b[0m\u001b[4;94m1576540800\u001b[0m\u001b[4;94m&\u001b[0m\u001b[4;94mto\u001b[0m\u001b[4;94m=\u001b[0m\u001b[4;94m1586908800\u001b[0m                                                           \u001b[2m             \u001b[0m\n"
      ]
     },
     "metadata": {},
     "output_type": "display_data"
    },
    {
     "name": "stdout",
     "output_type": "stream",
     "text": [
      "Fetching data from 2020-04-15 00:00:00 to 2020-08-13 00:00:00\n"
     ]
    },
    {
     "data": {
      "text/html": [
       "<pre style=\"white-space:pre;overflow-x:auto;line-height:normal;font-family:Menlo,'DejaVu Sans Mono',consolas,'Courier New',monospace\"><span style=\"color: #7fbfbf; text-decoration-color: #7fbfbf\">[17:58:48] </span>Expecting value: line <span style=\"color: #008080; text-decoration-color: #008080; font-weight: bold\">1</span> column <span style=\"color: #008080; text-decoration-color: #008080; font-weight: bold\">1</span> <span style=\"font-weight: bold\">(</span>char <span style=\"color: #008080; text-decoration-color: #008080; font-weight: bold\">0</span><span style=\"font-weight: bold\">)</span>                                                  <a href=\"file:///Users/ch0002techvc/.venv/lib/python3.12/site-packages/eodhd/APIs/BaseAPI.py\" target=\"_blank\"><span style=\"color: #7f7f7f; text-decoration-color: #7f7f7f\">BaseAPI.py</span></a><span style=\"color: #7f7f7f; text-decoration-color: #7f7f7f\">:</span><a href=\"file:///Users/ch0002techvc/.venv/lib/python3.12/site-packages/eodhd/APIs/BaseAPI.py#39\" target=\"_blank\"><span style=\"color: #7f7f7f; text-decoration-color: #7f7f7f\">39</span></a>\n",
       "</pre>\n"
      ],
      "text/plain": [
       "\u001b[2;36m[17:58:48]\u001b[0m\u001b[2;36m \u001b[0mExpecting value: line \u001b[1;36m1\u001b[0m column \u001b[1;36m1\u001b[0m \u001b[1m(\u001b[0mchar \u001b[1;36m0\u001b[0m\u001b[1m)\u001b[0m                                                  \u001b]8;id=952530;file:///Users/ch0002techvc/.venv/lib/python3.12/site-packages/eodhd/APIs/BaseAPI.py\u001b\\\u001b[2mBaseAPI.py\u001b[0m\u001b]8;;\u001b\\\u001b[2m:\u001b[0m\u001b]8;id=882457;file:///Users/ch0002techvc/.venv/lib/python3.12/site-packages/eodhd/APIs/BaseAPI.py#39\u001b\\\u001b[2m39\u001b[0m\u001b]8;;\u001b\\\n"
      ]
     },
     "metadata": {},
     "output_type": "display_data"
    },
    {
     "data": {
      "text/html": [
       "<pre style=\"white-space:pre;overflow-x:auto;line-height:normal;font-family:Menlo,'DejaVu Sans Mono',consolas,'Courier New',monospace\"><span style=\"color: #7fbfbf; text-decoration-color: #7fbfbf\">           </span><span style=\"color: #008080; text-decoration-color: #008080; font-weight: bold\">403</span> Client Error: Forbidden for url:                                                       <a href=\"file:///Users/ch0002techvc/.venv/lib/python3.12/site-packages/eodhd/APIs/BaseAPI.py\" target=\"_blank\"><span style=\"color: #7f7f7f; text-decoration-color: #7f7f7f\">BaseAPI.py</span></a><span style=\"color: #7f7f7f; text-decoration-color: #7f7f7f\">:</span><a href=\"file:///Users/ch0002techvc/.venv/lib/python3.12/site-packages/eodhd/APIs/BaseAPI.py#52\" target=\"_blank\"><span style=\"color: #7f7f7f; text-decoration-color: #7f7f7f\">52</span></a>\n",
       "<span style=\"color: #7fbfbf; text-decoration-color: #7fbfbf\">           </span><span style=\"color: #0000ff; text-decoration-color: #0000ff; text-decoration: underline\">https://eodhd.com/api/intraday/XAUUSD?api_token=67f380ad6e7193.54825103&amp;fmt=json&amp;interval=</span> <span style=\"color: #7f7f7f; text-decoration-color: #7f7f7f\">             </span>\n",
       "<span style=\"color: #7fbfbf; text-decoration-color: #7fbfbf\">           </span><span style=\"color: #0000ff; text-decoration-color: #0000ff; text-decoration: underline\">1m&amp;from=1586908800&amp;to=1597276800</span>                                                           <span style=\"color: #7f7f7f; text-decoration-color: #7f7f7f\">             </span>\n",
       "</pre>\n"
      ],
      "text/plain": [
       "\u001b[2;36m          \u001b[0m\u001b[2;36m \u001b[0m\u001b[1;36m403\u001b[0m Client Error: Forbidden for url:                                                       \u001b]8;id=254100;file:///Users/ch0002techvc/.venv/lib/python3.12/site-packages/eodhd/APIs/BaseAPI.py\u001b\\\u001b[2mBaseAPI.py\u001b[0m\u001b]8;;\u001b\\\u001b[2m:\u001b[0m\u001b]8;id=637402;file:///Users/ch0002techvc/.venv/lib/python3.12/site-packages/eodhd/APIs/BaseAPI.py#52\u001b\\\u001b[2m52\u001b[0m\u001b]8;;\u001b\\\n",
       "\u001b[2;36m           \u001b[0m\u001b[4;94mhttps://eodhd.com/api/intraday/XAUUSD?\u001b[0m\u001b[4;94mapi_token\u001b[0m\u001b[4;94m=\u001b[0m\u001b[4;94m67f380ad6e7193\u001b[0m\u001b[4;94m.54825103&\u001b[0m\u001b[4;94mfmt\u001b[0m\u001b[4;94m=\u001b[0m\u001b[4;94mjson\u001b[0m\u001b[4;94m&\u001b[0m\u001b[4;94minterval\u001b[0m\u001b[4;94m=\u001b[0m \u001b[2m             \u001b[0m\n",
       "\u001b[2;36m           \u001b[0m\u001b[4;94m1m\u001b[0m\u001b[4;94m&\u001b[0m\u001b[4;94mfrom\u001b[0m\u001b[4;94m=\u001b[0m\u001b[4;94m1586908800\u001b[0m\u001b[4;94m&\u001b[0m\u001b[4;94mto\u001b[0m\u001b[4;94m=\u001b[0m\u001b[4;94m1597276800\u001b[0m                                                           \u001b[2m             \u001b[0m\n"
      ]
     },
     "metadata": {},
     "output_type": "display_data"
    },
    {
     "name": "stdout",
     "output_type": "stream",
     "text": [
      "Fetching data from 2020-08-13 00:00:00 to 2020-12-11 00:00:00\n"
     ]
    },
    {
     "data": {
      "text/html": [
       "<pre style=\"white-space:pre;overflow-x:auto;line-height:normal;font-family:Menlo,'DejaVu Sans Mono',consolas,'Courier New',monospace\"><span style=\"color: #7fbfbf; text-decoration-color: #7fbfbf\">[17:58:48] </span>Expecting value: line <span style=\"color: #008080; text-decoration-color: #008080; font-weight: bold\">1</span> column <span style=\"color: #008080; text-decoration-color: #008080; font-weight: bold\">1</span> <span style=\"font-weight: bold\">(</span>char <span style=\"color: #008080; text-decoration-color: #008080; font-weight: bold\">0</span><span style=\"font-weight: bold\">)</span>                                                  <a href=\"file:///Users/ch0002techvc/.venv/lib/python3.12/site-packages/eodhd/APIs/BaseAPI.py\" target=\"_blank\"><span style=\"color: #7f7f7f; text-decoration-color: #7f7f7f\">BaseAPI.py</span></a><span style=\"color: #7f7f7f; text-decoration-color: #7f7f7f\">:</span><a href=\"file:///Users/ch0002techvc/.venv/lib/python3.12/site-packages/eodhd/APIs/BaseAPI.py#39\" target=\"_blank\"><span style=\"color: #7f7f7f; text-decoration-color: #7f7f7f\">39</span></a>\n",
       "</pre>\n"
      ],
      "text/plain": [
       "\u001b[2;36m[17:58:48]\u001b[0m\u001b[2;36m \u001b[0mExpecting value: line \u001b[1;36m1\u001b[0m column \u001b[1;36m1\u001b[0m \u001b[1m(\u001b[0mchar \u001b[1;36m0\u001b[0m\u001b[1m)\u001b[0m                                                  \u001b]8;id=597538;file:///Users/ch0002techvc/.venv/lib/python3.12/site-packages/eodhd/APIs/BaseAPI.py\u001b\\\u001b[2mBaseAPI.py\u001b[0m\u001b]8;;\u001b\\\u001b[2m:\u001b[0m\u001b]8;id=818585;file:///Users/ch0002techvc/.venv/lib/python3.12/site-packages/eodhd/APIs/BaseAPI.py#39\u001b\\\u001b[2m39\u001b[0m\u001b]8;;\u001b\\\n"
      ]
     },
     "metadata": {},
     "output_type": "display_data"
    },
    {
     "data": {
      "text/html": [
       "<pre style=\"white-space:pre;overflow-x:auto;line-height:normal;font-family:Menlo,'DejaVu Sans Mono',consolas,'Courier New',monospace\"><span style=\"color: #7fbfbf; text-decoration-color: #7fbfbf\">           </span><span style=\"color: #008080; text-decoration-color: #008080; font-weight: bold\">403</span> Client Error: Forbidden for url:                                                       <a href=\"file:///Users/ch0002techvc/.venv/lib/python3.12/site-packages/eodhd/APIs/BaseAPI.py\" target=\"_blank\"><span style=\"color: #7f7f7f; text-decoration-color: #7f7f7f\">BaseAPI.py</span></a><span style=\"color: #7f7f7f; text-decoration-color: #7f7f7f\">:</span><a href=\"file:///Users/ch0002techvc/.venv/lib/python3.12/site-packages/eodhd/APIs/BaseAPI.py#52\" target=\"_blank\"><span style=\"color: #7f7f7f; text-decoration-color: #7f7f7f\">52</span></a>\n",
       "<span style=\"color: #7fbfbf; text-decoration-color: #7fbfbf\">           </span><span style=\"color: #0000ff; text-decoration-color: #0000ff; text-decoration: underline\">https://eodhd.com/api/intraday/XAUUSD?api_token=67f380ad6e7193.54825103&amp;fmt=json&amp;interval=</span> <span style=\"color: #7f7f7f; text-decoration-color: #7f7f7f\">             </span>\n",
       "<span style=\"color: #7fbfbf; text-decoration-color: #7fbfbf\">           </span><span style=\"color: #0000ff; text-decoration-color: #0000ff; text-decoration: underline\">1m&amp;from=1597276800&amp;to=1607644800</span>                                                           <span style=\"color: #7f7f7f; text-decoration-color: #7f7f7f\">             </span>\n",
       "</pre>\n"
      ],
      "text/plain": [
       "\u001b[2;36m          \u001b[0m\u001b[2;36m \u001b[0m\u001b[1;36m403\u001b[0m Client Error: Forbidden for url:                                                       \u001b]8;id=89612;file:///Users/ch0002techvc/.venv/lib/python3.12/site-packages/eodhd/APIs/BaseAPI.py\u001b\\\u001b[2mBaseAPI.py\u001b[0m\u001b]8;;\u001b\\\u001b[2m:\u001b[0m\u001b]8;id=175900;file:///Users/ch0002techvc/.venv/lib/python3.12/site-packages/eodhd/APIs/BaseAPI.py#52\u001b\\\u001b[2m52\u001b[0m\u001b]8;;\u001b\\\n",
       "\u001b[2;36m           \u001b[0m\u001b[4;94mhttps://eodhd.com/api/intraday/XAUUSD?\u001b[0m\u001b[4;94mapi_token\u001b[0m\u001b[4;94m=\u001b[0m\u001b[4;94m67f380ad6e7193\u001b[0m\u001b[4;94m.54825103&\u001b[0m\u001b[4;94mfmt\u001b[0m\u001b[4;94m=\u001b[0m\u001b[4;94mjson\u001b[0m\u001b[4;94m&\u001b[0m\u001b[4;94minterval\u001b[0m\u001b[4;94m=\u001b[0m \u001b[2m             \u001b[0m\n",
       "\u001b[2;36m           \u001b[0m\u001b[4;94m1m\u001b[0m\u001b[4;94m&\u001b[0m\u001b[4;94mfrom\u001b[0m\u001b[4;94m=\u001b[0m\u001b[4;94m1597276800\u001b[0m\u001b[4;94m&\u001b[0m\u001b[4;94mto\u001b[0m\u001b[4;94m=\u001b[0m\u001b[4;94m1607644800\u001b[0m                                                           \u001b[2m             \u001b[0m\n"
      ]
     },
     "metadata": {},
     "output_type": "display_data"
    },
    {
     "name": "stdout",
     "output_type": "stream",
     "text": [
      "Fetching data from 2020-12-11 00:00:00 to 2021-04-10 00:00:00\n"
     ]
    },
    {
     "data": {
      "text/html": [
       "<pre style=\"white-space:pre;overflow-x:auto;line-height:normal;font-family:Menlo,'DejaVu Sans Mono',consolas,'Courier New',monospace\"><span style=\"color: #7fbfbf; text-decoration-color: #7fbfbf\">[17:58:49] </span>Expecting value: line <span style=\"color: #008080; text-decoration-color: #008080; font-weight: bold\">1</span> column <span style=\"color: #008080; text-decoration-color: #008080; font-weight: bold\">1</span> <span style=\"font-weight: bold\">(</span>char <span style=\"color: #008080; text-decoration-color: #008080; font-weight: bold\">0</span><span style=\"font-weight: bold\">)</span>                                                  <a href=\"file:///Users/ch0002techvc/.venv/lib/python3.12/site-packages/eodhd/APIs/BaseAPI.py\" target=\"_blank\"><span style=\"color: #7f7f7f; text-decoration-color: #7f7f7f\">BaseAPI.py</span></a><span style=\"color: #7f7f7f; text-decoration-color: #7f7f7f\">:</span><a href=\"file:///Users/ch0002techvc/.venv/lib/python3.12/site-packages/eodhd/APIs/BaseAPI.py#39\" target=\"_blank\"><span style=\"color: #7f7f7f; text-decoration-color: #7f7f7f\">39</span></a>\n",
       "</pre>\n"
      ],
      "text/plain": [
       "\u001b[2;36m[17:58:49]\u001b[0m\u001b[2;36m \u001b[0mExpecting value: line \u001b[1;36m1\u001b[0m column \u001b[1;36m1\u001b[0m \u001b[1m(\u001b[0mchar \u001b[1;36m0\u001b[0m\u001b[1m)\u001b[0m                                                  \u001b]8;id=286707;file:///Users/ch0002techvc/.venv/lib/python3.12/site-packages/eodhd/APIs/BaseAPI.py\u001b\\\u001b[2mBaseAPI.py\u001b[0m\u001b]8;;\u001b\\\u001b[2m:\u001b[0m\u001b]8;id=80854;file:///Users/ch0002techvc/.venv/lib/python3.12/site-packages/eodhd/APIs/BaseAPI.py#39\u001b\\\u001b[2m39\u001b[0m\u001b]8;;\u001b\\\n"
      ]
     },
     "metadata": {},
     "output_type": "display_data"
    },
    {
     "data": {
      "text/html": [
       "<pre style=\"white-space:pre;overflow-x:auto;line-height:normal;font-family:Menlo,'DejaVu Sans Mono',consolas,'Courier New',monospace\"><span style=\"color: #7fbfbf; text-decoration-color: #7fbfbf\">           </span><span style=\"color: #008080; text-decoration-color: #008080; font-weight: bold\">403</span> Client Error: Forbidden for url:                                                       <a href=\"file:///Users/ch0002techvc/.venv/lib/python3.12/site-packages/eodhd/APIs/BaseAPI.py\" target=\"_blank\"><span style=\"color: #7f7f7f; text-decoration-color: #7f7f7f\">BaseAPI.py</span></a><span style=\"color: #7f7f7f; text-decoration-color: #7f7f7f\">:</span><a href=\"file:///Users/ch0002techvc/.venv/lib/python3.12/site-packages/eodhd/APIs/BaseAPI.py#52\" target=\"_blank\"><span style=\"color: #7f7f7f; text-decoration-color: #7f7f7f\">52</span></a>\n",
       "<span style=\"color: #7fbfbf; text-decoration-color: #7fbfbf\">           </span><span style=\"color: #0000ff; text-decoration-color: #0000ff; text-decoration: underline\">https://eodhd.com/api/intraday/XAUUSD?api_token=67f380ad6e7193.54825103&amp;fmt=json&amp;interval=</span> <span style=\"color: #7f7f7f; text-decoration-color: #7f7f7f\">             </span>\n",
       "<span style=\"color: #7fbfbf; text-decoration-color: #7fbfbf\">           </span><span style=\"color: #0000ff; text-decoration-color: #0000ff; text-decoration: underline\">1m&amp;from=1607644800&amp;to=1618012800</span>                                                           <span style=\"color: #7f7f7f; text-decoration-color: #7f7f7f\">             </span>\n",
       "</pre>\n"
      ],
      "text/plain": [
       "\u001b[2;36m          \u001b[0m\u001b[2;36m \u001b[0m\u001b[1;36m403\u001b[0m Client Error: Forbidden for url:                                                       \u001b]8;id=326173;file:///Users/ch0002techvc/.venv/lib/python3.12/site-packages/eodhd/APIs/BaseAPI.py\u001b\\\u001b[2mBaseAPI.py\u001b[0m\u001b]8;;\u001b\\\u001b[2m:\u001b[0m\u001b]8;id=616535;file:///Users/ch0002techvc/.venv/lib/python3.12/site-packages/eodhd/APIs/BaseAPI.py#52\u001b\\\u001b[2m52\u001b[0m\u001b]8;;\u001b\\\n",
       "\u001b[2;36m           \u001b[0m\u001b[4;94mhttps://eodhd.com/api/intraday/XAUUSD?\u001b[0m\u001b[4;94mapi_token\u001b[0m\u001b[4;94m=\u001b[0m\u001b[4;94m67f380ad6e7193\u001b[0m\u001b[4;94m.54825103&\u001b[0m\u001b[4;94mfmt\u001b[0m\u001b[4;94m=\u001b[0m\u001b[4;94mjson\u001b[0m\u001b[4;94m&\u001b[0m\u001b[4;94minterval\u001b[0m\u001b[4;94m=\u001b[0m \u001b[2m             \u001b[0m\n",
       "\u001b[2;36m           \u001b[0m\u001b[4;94m1m\u001b[0m\u001b[4;94m&\u001b[0m\u001b[4;94mfrom\u001b[0m\u001b[4;94m=\u001b[0m\u001b[4;94m1607644800\u001b[0m\u001b[4;94m&\u001b[0m\u001b[4;94mto\u001b[0m\u001b[4;94m=\u001b[0m\u001b[4;94m1618012800\u001b[0m                                                           \u001b[2m             \u001b[0m\n"
      ]
     },
     "metadata": {},
     "output_type": "display_data"
    },
    {
     "name": "stdout",
     "output_type": "stream",
     "text": [
      "Fetching data from 2021-04-10 00:00:00 to 2021-08-08 00:00:00\n"
     ]
    },
    {
     "data": {
      "text/html": [
       "<pre style=\"white-space:pre;overflow-x:auto;line-height:normal;font-family:Menlo,'DejaVu Sans Mono',consolas,'Courier New',monospace\"><span style=\"color: #7fbfbf; text-decoration-color: #7fbfbf\">[17:58:50] </span>Expecting value: line <span style=\"color: #008080; text-decoration-color: #008080; font-weight: bold\">1</span> column <span style=\"color: #008080; text-decoration-color: #008080; font-weight: bold\">1</span> <span style=\"font-weight: bold\">(</span>char <span style=\"color: #008080; text-decoration-color: #008080; font-weight: bold\">0</span><span style=\"font-weight: bold\">)</span>                                                  <a href=\"file:///Users/ch0002techvc/.venv/lib/python3.12/site-packages/eodhd/APIs/BaseAPI.py\" target=\"_blank\"><span style=\"color: #7f7f7f; text-decoration-color: #7f7f7f\">BaseAPI.py</span></a><span style=\"color: #7f7f7f; text-decoration-color: #7f7f7f\">:</span><a href=\"file:///Users/ch0002techvc/.venv/lib/python3.12/site-packages/eodhd/APIs/BaseAPI.py#39\" target=\"_blank\"><span style=\"color: #7f7f7f; text-decoration-color: #7f7f7f\">39</span></a>\n",
       "</pre>\n"
      ],
      "text/plain": [
       "\u001b[2;36m[17:58:50]\u001b[0m\u001b[2;36m \u001b[0mExpecting value: line \u001b[1;36m1\u001b[0m column \u001b[1;36m1\u001b[0m \u001b[1m(\u001b[0mchar \u001b[1;36m0\u001b[0m\u001b[1m)\u001b[0m                                                  \u001b]8;id=419029;file:///Users/ch0002techvc/.venv/lib/python3.12/site-packages/eodhd/APIs/BaseAPI.py\u001b\\\u001b[2mBaseAPI.py\u001b[0m\u001b]8;;\u001b\\\u001b[2m:\u001b[0m\u001b]8;id=19918;file:///Users/ch0002techvc/.venv/lib/python3.12/site-packages/eodhd/APIs/BaseAPI.py#39\u001b\\\u001b[2m39\u001b[0m\u001b]8;;\u001b\\\n"
      ]
     },
     "metadata": {},
     "output_type": "display_data"
    },
    {
     "data": {
      "text/html": [
       "<pre style=\"white-space:pre;overflow-x:auto;line-height:normal;font-family:Menlo,'DejaVu Sans Mono',consolas,'Courier New',monospace\"><span style=\"color: #7fbfbf; text-decoration-color: #7fbfbf\">           </span><span style=\"color: #008080; text-decoration-color: #008080; font-weight: bold\">403</span> Client Error: Forbidden for url:                                                       <a href=\"file:///Users/ch0002techvc/.venv/lib/python3.12/site-packages/eodhd/APIs/BaseAPI.py\" target=\"_blank\"><span style=\"color: #7f7f7f; text-decoration-color: #7f7f7f\">BaseAPI.py</span></a><span style=\"color: #7f7f7f; text-decoration-color: #7f7f7f\">:</span><a href=\"file:///Users/ch0002techvc/.venv/lib/python3.12/site-packages/eodhd/APIs/BaseAPI.py#52\" target=\"_blank\"><span style=\"color: #7f7f7f; text-decoration-color: #7f7f7f\">52</span></a>\n",
       "<span style=\"color: #7fbfbf; text-decoration-color: #7fbfbf\">           </span><span style=\"color: #0000ff; text-decoration-color: #0000ff; text-decoration: underline\">https://eodhd.com/api/intraday/XAUUSD?api_token=67f380ad6e7193.54825103&amp;fmt=json&amp;interval=</span> <span style=\"color: #7f7f7f; text-decoration-color: #7f7f7f\">             </span>\n",
       "<span style=\"color: #7fbfbf; text-decoration-color: #7fbfbf\">           </span><span style=\"color: #0000ff; text-decoration-color: #0000ff; text-decoration: underline\">1m&amp;from=1618012800&amp;to=1628380800</span>                                                           <span style=\"color: #7f7f7f; text-decoration-color: #7f7f7f\">             </span>\n",
       "</pre>\n"
      ],
      "text/plain": [
       "\u001b[2;36m          \u001b[0m\u001b[2;36m \u001b[0m\u001b[1;36m403\u001b[0m Client Error: Forbidden for url:                                                       \u001b]8;id=568068;file:///Users/ch0002techvc/.venv/lib/python3.12/site-packages/eodhd/APIs/BaseAPI.py\u001b\\\u001b[2mBaseAPI.py\u001b[0m\u001b]8;;\u001b\\\u001b[2m:\u001b[0m\u001b]8;id=226579;file:///Users/ch0002techvc/.venv/lib/python3.12/site-packages/eodhd/APIs/BaseAPI.py#52\u001b\\\u001b[2m52\u001b[0m\u001b]8;;\u001b\\\n",
       "\u001b[2;36m           \u001b[0m\u001b[4;94mhttps://eodhd.com/api/intraday/XAUUSD?\u001b[0m\u001b[4;94mapi_token\u001b[0m\u001b[4;94m=\u001b[0m\u001b[4;94m67f380ad6e7193\u001b[0m\u001b[4;94m.54825103&\u001b[0m\u001b[4;94mfmt\u001b[0m\u001b[4;94m=\u001b[0m\u001b[4;94mjson\u001b[0m\u001b[4;94m&\u001b[0m\u001b[4;94minterval\u001b[0m\u001b[4;94m=\u001b[0m \u001b[2m             \u001b[0m\n",
       "\u001b[2;36m           \u001b[0m\u001b[4;94m1m\u001b[0m\u001b[4;94m&\u001b[0m\u001b[4;94mfrom\u001b[0m\u001b[4;94m=\u001b[0m\u001b[4;94m1618012800\u001b[0m\u001b[4;94m&\u001b[0m\u001b[4;94mto\u001b[0m\u001b[4;94m=\u001b[0m\u001b[4;94m1628380800\u001b[0m                                                           \u001b[2m             \u001b[0m\n"
      ]
     },
     "metadata": {},
     "output_type": "display_data"
    },
    {
     "name": "stdout",
     "output_type": "stream",
     "text": [
      "Fetching data from 2021-08-08 00:00:00 to 2021-12-06 00:00:00\n"
     ]
    },
    {
     "data": {
      "text/html": [
       "<pre style=\"white-space:pre;overflow-x:auto;line-height:normal;font-family:Menlo,'DejaVu Sans Mono',consolas,'Courier New',monospace\"><span style=\"color: #7fbfbf; text-decoration-color: #7fbfbf\">[17:58:51] </span>Expecting value: line <span style=\"color: #008080; text-decoration-color: #008080; font-weight: bold\">1</span> column <span style=\"color: #008080; text-decoration-color: #008080; font-weight: bold\">1</span> <span style=\"font-weight: bold\">(</span>char <span style=\"color: #008080; text-decoration-color: #008080; font-weight: bold\">0</span><span style=\"font-weight: bold\">)</span>                                                  <a href=\"file:///Users/ch0002techvc/.venv/lib/python3.12/site-packages/eodhd/APIs/BaseAPI.py\" target=\"_blank\"><span style=\"color: #7f7f7f; text-decoration-color: #7f7f7f\">BaseAPI.py</span></a><span style=\"color: #7f7f7f; text-decoration-color: #7f7f7f\">:</span><a href=\"file:///Users/ch0002techvc/.venv/lib/python3.12/site-packages/eodhd/APIs/BaseAPI.py#39\" target=\"_blank\"><span style=\"color: #7f7f7f; text-decoration-color: #7f7f7f\">39</span></a>\n",
       "</pre>\n"
      ],
      "text/plain": [
       "\u001b[2;36m[17:58:51]\u001b[0m\u001b[2;36m \u001b[0mExpecting value: line \u001b[1;36m1\u001b[0m column \u001b[1;36m1\u001b[0m \u001b[1m(\u001b[0mchar \u001b[1;36m0\u001b[0m\u001b[1m)\u001b[0m                                                  \u001b]8;id=834891;file:///Users/ch0002techvc/.venv/lib/python3.12/site-packages/eodhd/APIs/BaseAPI.py\u001b\\\u001b[2mBaseAPI.py\u001b[0m\u001b]8;;\u001b\\\u001b[2m:\u001b[0m\u001b]8;id=743777;file:///Users/ch0002techvc/.venv/lib/python3.12/site-packages/eodhd/APIs/BaseAPI.py#39\u001b\\\u001b[2m39\u001b[0m\u001b]8;;\u001b\\\n"
      ]
     },
     "metadata": {},
     "output_type": "display_data"
    },
    {
     "data": {
      "text/html": [
       "<pre style=\"white-space:pre;overflow-x:auto;line-height:normal;font-family:Menlo,'DejaVu Sans Mono',consolas,'Courier New',monospace\"><span style=\"color: #7fbfbf; text-decoration-color: #7fbfbf\">           </span><span style=\"color: #008080; text-decoration-color: #008080; font-weight: bold\">403</span> Client Error: Forbidden for url:                                                       <a href=\"file:///Users/ch0002techvc/.venv/lib/python3.12/site-packages/eodhd/APIs/BaseAPI.py\" target=\"_blank\"><span style=\"color: #7f7f7f; text-decoration-color: #7f7f7f\">BaseAPI.py</span></a><span style=\"color: #7f7f7f; text-decoration-color: #7f7f7f\">:</span><a href=\"file:///Users/ch0002techvc/.venv/lib/python3.12/site-packages/eodhd/APIs/BaseAPI.py#52\" target=\"_blank\"><span style=\"color: #7f7f7f; text-decoration-color: #7f7f7f\">52</span></a>\n",
       "<span style=\"color: #7fbfbf; text-decoration-color: #7fbfbf\">           </span><span style=\"color: #0000ff; text-decoration-color: #0000ff; text-decoration: underline\">https://eodhd.com/api/intraday/XAUUSD?api_token=67f380ad6e7193.54825103&amp;fmt=json&amp;interval=</span> <span style=\"color: #7f7f7f; text-decoration-color: #7f7f7f\">             </span>\n",
       "<span style=\"color: #7fbfbf; text-decoration-color: #7fbfbf\">           </span><span style=\"color: #0000ff; text-decoration-color: #0000ff; text-decoration: underline\">1m&amp;from=1628380800&amp;to=1638748800</span>                                                           <span style=\"color: #7f7f7f; text-decoration-color: #7f7f7f\">             </span>\n",
       "</pre>\n"
      ],
      "text/plain": [
       "\u001b[2;36m          \u001b[0m\u001b[2;36m \u001b[0m\u001b[1;36m403\u001b[0m Client Error: Forbidden for url:                                                       \u001b]8;id=407990;file:///Users/ch0002techvc/.venv/lib/python3.12/site-packages/eodhd/APIs/BaseAPI.py\u001b\\\u001b[2mBaseAPI.py\u001b[0m\u001b]8;;\u001b\\\u001b[2m:\u001b[0m\u001b]8;id=309025;file:///Users/ch0002techvc/.venv/lib/python3.12/site-packages/eodhd/APIs/BaseAPI.py#52\u001b\\\u001b[2m52\u001b[0m\u001b]8;;\u001b\\\n",
       "\u001b[2;36m           \u001b[0m\u001b[4;94mhttps://eodhd.com/api/intraday/XAUUSD?\u001b[0m\u001b[4;94mapi_token\u001b[0m\u001b[4;94m=\u001b[0m\u001b[4;94m67f380ad6e7193\u001b[0m\u001b[4;94m.54825103&\u001b[0m\u001b[4;94mfmt\u001b[0m\u001b[4;94m=\u001b[0m\u001b[4;94mjson\u001b[0m\u001b[4;94m&\u001b[0m\u001b[4;94minterval\u001b[0m\u001b[4;94m=\u001b[0m \u001b[2m             \u001b[0m\n",
       "\u001b[2;36m           \u001b[0m\u001b[4;94m1m\u001b[0m\u001b[4;94m&\u001b[0m\u001b[4;94mfrom\u001b[0m\u001b[4;94m=\u001b[0m\u001b[4;94m1628380800\u001b[0m\u001b[4;94m&\u001b[0m\u001b[4;94mto\u001b[0m\u001b[4;94m=\u001b[0m\u001b[4;94m1638748800\u001b[0m                                                           \u001b[2m             \u001b[0m\n"
      ]
     },
     "metadata": {},
     "output_type": "display_data"
    },
    {
     "name": "stdout",
     "output_type": "stream",
     "text": [
      "Fetching data from 2021-12-06 00:00:00 to 2022-04-05 00:00:00\n"
     ]
    },
    {
     "data": {
      "text/html": [
       "<pre style=\"white-space:pre;overflow-x:auto;line-height:normal;font-family:Menlo,'DejaVu Sans Mono',consolas,'Courier New',monospace\"><span style=\"color: #7fbfbf; text-decoration-color: #7fbfbf\">[17:58:52] </span>Expecting value: line <span style=\"color: #008080; text-decoration-color: #008080; font-weight: bold\">1</span> column <span style=\"color: #008080; text-decoration-color: #008080; font-weight: bold\">1</span> <span style=\"font-weight: bold\">(</span>char <span style=\"color: #008080; text-decoration-color: #008080; font-weight: bold\">0</span><span style=\"font-weight: bold\">)</span>                                                  <a href=\"file:///Users/ch0002techvc/.venv/lib/python3.12/site-packages/eodhd/APIs/BaseAPI.py\" target=\"_blank\"><span style=\"color: #7f7f7f; text-decoration-color: #7f7f7f\">BaseAPI.py</span></a><span style=\"color: #7f7f7f; text-decoration-color: #7f7f7f\">:</span><a href=\"file:///Users/ch0002techvc/.venv/lib/python3.12/site-packages/eodhd/APIs/BaseAPI.py#39\" target=\"_blank\"><span style=\"color: #7f7f7f; text-decoration-color: #7f7f7f\">39</span></a>\n",
       "</pre>\n"
      ],
      "text/plain": [
       "\u001b[2;36m[17:58:52]\u001b[0m\u001b[2;36m \u001b[0mExpecting value: line \u001b[1;36m1\u001b[0m column \u001b[1;36m1\u001b[0m \u001b[1m(\u001b[0mchar \u001b[1;36m0\u001b[0m\u001b[1m)\u001b[0m                                                  \u001b]8;id=224305;file:///Users/ch0002techvc/.venv/lib/python3.12/site-packages/eodhd/APIs/BaseAPI.py\u001b\\\u001b[2mBaseAPI.py\u001b[0m\u001b]8;;\u001b\\\u001b[2m:\u001b[0m\u001b]8;id=67999;file:///Users/ch0002techvc/.venv/lib/python3.12/site-packages/eodhd/APIs/BaseAPI.py#39\u001b\\\u001b[2m39\u001b[0m\u001b]8;;\u001b\\\n"
      ]
     },
     "metadata": {},
     "output_type": "display_data"
    },
    {
     "data": {
      "text/html": [
       "<pre style=\"white-space:pre;overflow-x:auto;line-height:normal;font-family:Menlo,'DejaVu Sans Mono',consolas,'Courier New',monospace\"><span style=\"color: #7fbfbf; text-decoration-color: #7fbfbf\">           </span><span style=\"color: #008080; text-decoration-color: #008080; font-weight: bold\">403</span> Client Error: Forbidden for url:                                                       <a href=\"file:///Users/ch0002techvc/.venv/lib/python3.12/site-packages/eodhd/APIs/BaseAPI.py\" target=\"_blank\"><span style=\"color: #7f7f7f; text-decoration-color: #7f7f7f\">BaseAPI.py</span></a><span style=\"color: #7f7f7f; text-decoration-color: #7f7f7f\">:</span><a href=\"file:///Users/ch0002techvc/.venv/lib/python3.12/site-packages/eodhd/APIs/BaseAPI.py#52\" target=\"_blank\"><span style=\"color: #7f7f7f; text-decoration-color: #7f7f7f\">52</span></a>\n",
       "<span style=\"color: #7fbfbf; text-decoration-color: #7fbfbf\">           </span><span style=\"color: #0000ff; text-decoration-color: #0000ff; text-decoration: underline\">https://eodhd.com/api/intraday/XAUUSD?api_token=67f380ad6e7193.54825103&amp;fmt=json&amp;interval=</span> <span style=\"color: #7f7f7f; text-decoration-color: #7f7f7f\">             </span>\n",
       "<span style=\"color: #7fbfbf; text-decoration-color: #7fbfbf\">           </span><span style=\"color: #0000ff; text-decoration-color: #0000ff; text-decoration: underline\">1m&amp;from=1638748800&amp;to=1649116800</span>                                                           <span style=\"color: #7f7f7f; text-decoration-color: #7f7f7f\">             </span>\n",
       "</pre>\n"
      ],
      "text/plain": [
       "\u001b[2;36m          \u001b[0m\u001b[2;36m \u001b[0m\u001b[1;36m403\u001b[0m Client Error: Forbidden for url:                                                       \u001b]8;id=670229;file:///Users/ch0002techvc/.venv/lib/python3.12/site-packages/eodhd/APIs/BaseAPI.py\u001b\\\u001b[2mBaseAPI.py\u001b[0m\u001b]8;;\u001b\\\u001b[2m:\u001b[0m\u001b]8;id=290346;file:///Users/ch0002techvc/.venv/lib/python3.12/site-packages/eodhd/APIs/BaseAPI.py#52\u001b\\\u001b[2m52\u001b[0m\u001b]8;;\u001b\\\n",
       "\u001b[2;36m           \u001b[0m\u001b[4;94mhttps://eodhd.com/api/intraday/XAUUSD?\u001b[0m\u001b[4;94mapi_token\u001b[0m\u001b[4;94m=\u001b[0m\u001b[4;94m67f380ad6e7193\u001b[0m\u001b[4;94m.54825103&\u001b[0m\u001b[4;94mfmt\u001b[0m\u001b[4;94m=\u001b[0m\u001b[4;94mjson\u001b[0m\u001b[4;94m&\u001b[0m\u001b[4;94minterval\u001b[0m\u001b[4;94m=\u001b[0m \u001b[2m             \u001b[0m\n",
       "\u001b[2;36m           \u001b[0m\u001b[4;94m1m\u001b[0m\u001b[4;94m&\u001b[0m\u001b[4;94mfrom\u001b[0m\u001b[4;94m=\u001b[0m\u001b[4;94m1638748800\u001b[0m\u001b[4;94m&\u001b[0m\u001b[4;94mto\u001b[0m\u001b[4;94m=\u001b[0m\u001b[4;94m1649116800\u001b[0m                                                           \u001b[2m             \u001b[0m\n"
      ]
     },
     "metadata": {},
     "output_type": "display_data"
    },
    {
     "name": "stdout",
     "output_type": "stream",
     "text": [
      "Fetching data from 2022-04-05 00:00:00 to 2022-08-03 00:00:00\n"
     ]
    },
    {
     "data": {
      "text/html": [
       "<pre style=\"white-space:pre;overflow-x:auto;line-height:normal;font-family:Menlo,'DejaVu Sans Mono',consolas,'Courier New',monospace\"><span style=\"color: #7fbfbf; text-decoration-color: #7fbfbf\">[17:58:52] </span>Expecting value: line <span style=\"color: #008080; text-decoration-color: #008080; font-weight: bold\">1</span> column <span style=\"color: #008080; text-decoration-color: #008080; font-weight: bold\">1</span> <span style=\"font-weight: bold\">(</span>char <span style=\"color: #008080; text-decoration-color: #008080; font-weight: bold\">0</span><span style=\"font-weight: bold\">)</span>                                                  <a href=\"file:///Users/ch0002techvc/.venv/lib/python3.12/site-packages/eodhd/APIs/BaseAPI.py\" target=\"_blank\"><span style=\"color: #7f7f7f; text-decoration-color: #7f7f7f\">BaseAPI.py</span></a><span style=\"color: #7f7f7f; text-decoration-color: #7f7f7f\">:</span><a href=\"file:///Users/ch0002techvc/.venv/lib/python3.12/site-packages/eodhd/APIs/BaseAPI.py#39\" target=\"_blank\"><span style=\"color: #7f7f7f; text-decoration-color: #7f7f7f\">39</span></a>\n",
       "</pre>\n"
      ],
      "text/plain": [
       "\u001b[2;36m[17:58:52]\u001b[0m\u001b[2;36m \u001b[0mExpecting value: line \u001b[1;36m1\u001b[0m column \u001b[1;36m1\u001b[0m \u001b[1m(\u001b[0mchar \u001b[1;36m0\u001b[0m\u001b[1m)\u001b[0m                                                  \u001b]8;id=243016;file:///Users/ch0002techvc/.venv/lib/python3.12/site-packages/eodhd/APIs/BaseAPI.py\u001b\\\u001b[2mBaseAPI.py\u001b[0m\u001b]8;;\u001b\\\u001b[2m:\u001b[0m\u001b]8;id=965669;file:///Users/ch0002techvc/.venv/lib/python3.12/site-packages/eodhd/APIs/BaseAPI.py#39\u001b\\\u001b[2m39\u001b[0m\u001b]8;;\u001b\\\n"
      ]
     },
     "metadata": {},
     "output_type": "display_data"
    },
    {
     "data": {
      "text/html": [
       "<pre style=\"white-space:pre;overflow-x:auto;line-height:normal;font-family:Menlo,'DejaVu Sans Mono',consolas,'Courier New',monospace\"><span style=\"color: #7fbfbf; text-decoration-color: #7fbfbf\">           </span><span style=\"color: #008080; text-decoration-color: #008080; font-weight: bold\">403</span> Client Error: Forbidden for url:                                                       <a href=\"file:///Users/ch0002techvc/.venv/lib/python3.12/site-packages/eodhd/APIs/BaseAPI.py\" target=\"_blank\"><span style=\"color: #7f7f7f; text-decoration-color: #7f7f7f\">BaseAPI.py</span></a><span style=\"color: #7f7f7f; text-decoration-color: #7f7f7f\">:</span><a href=\"file:///Users/ch0002techvc/.venv/lib/python3.12/site-packages/eodhd/APIs/BaseAPI.py#52\" target=\"_blank\"><span style=\"color: #7f7f7f; text-decoration-color: #7f7f7f\">52</span></a>\n",
       "<span style=\"color: #7fbfbf; text-decoration-color: #7fbfbf\">           </span><span style=\"color: #0000ff; text-decoration-color: #0000ff; text-decoration: underline\">https://eodhd.com/api/intraday/XAUUSD?api_token=67f380ad6e7193.54825103&amp;fmt=json&amp;interval=</span> <span style=\"color: #7f7f7f; text-decoration-color: #7f7f7f\">             </span>\n",
       "<span style=\"color: #7fbfbf; text-decoration-color: #7fbfbf\">           </span><span style=\"color: #0000ff; text-decoration-color: #0000ff; text-decoration: underline\">1m&amp;from=1649116800&amp;to=1659484800</span>                                                           <span style=\"color: #7f7f7f; text-decoration-color: #7f7f7f\">             </span>\n",
       "</pre>\n"
      ],
      "text/plain": [
       "\u001b[2;36m          \u001b[0m\u001b[2;36m \u001b[0m\u001b[1;36m403\u001b[0m Client Error: Forbidden for url:                                                       \u001b]8;id=662799;file:///Users/ch0002techvc/.venv/lib/python3.12/site-packages/eodhd/APIs/BaseAPI.py\u001b\\\u001b[2mBaseAPI.py\u001b[0m\u001b]8;;\u001b\\\u001b[2m:\u001b[0m\u001b]8;id=264695;file:///Users/ch0002techvc/.venv/lib/python3.12/site-packages/eodhd/APIs/BaseAPI.py#52\u001b\\\u001b[2m52\u001b[0m\u001b]8;;\u001b\\\n",
       "\u001b[2;36m           \u001b[0m\u001b[4;94mhttps://eodhd.com/api/intraday/XAUUSD?\u001b[0m\u001b[4;94mapi_token\u001b[0m\u001b[4;94m=\u001b[0m\u001b[4;94m67f380ad6e7193\u001b[0m\u001b[4;94m.54825103&\u001b[0m\u001b[4;94mfmt\u001b[0m\u001b[4;94m=\u001b[0m\u001b[4;94mjson\u001b[0m\u001b[4;94m&\u001b[0m\u001b[4;94minterval\u001b[0m\u001b[4;94m=\u001b[0m \u001b[2m             \u001b[0m\n",
       "\u001b[2;36m           \u001b[0m\u001b[4;94m1m\u001b[0m\u001b[4;94m&\u001b[0m\u001b[4;94mfrom\u001b[0m\u001b[4;94m=\u001b[0m\u001b[4;94m1649116800\u001b[0m\u001b[4;94m&\u001b[0m\u001b[4;94mto\u001b[0m\u001b[4;94m=\u001b[0m\u001b[4;94m1659484800\u001b[0m                                                           \u001b[2m             \u001b[0m\n"
      ]
     },
     "metadata": {},
     "output_type": "display_data"
    },
    {
     "name": "stdout",
     "output_type": "stream",
     "text": [
      "Fetching data from 2022-08-03 00:00:00 to 2022-12-01 00:00:00\n"
     ]
    },
    {
     "data": {
      "text/html": [
       "<pre style=\"white-space:pre;overflow-x:auto;line-height:normal;font-family:Menlo,'DejaVu Sans Mono',consolas,'Courier New',monospace\"><span style=\"color: #7fbfbf; text-decoration-color: #7fbfbf\">[17:58:53] </span>Expecting value: line <span style=\"color: #008080; text-decoration-color: #008080; font-weight: bold\">1</span> column <span style=\"color: #008080; text-decoration-color: #008080; font-weight: bold\">1</span> <span style=\"font-weight: bold\">(</span>char <span style=\"color: #008080; text-decoration-color: #008080; font-weight: bold\">0</span><span style=\"font-weight: bold\">)</span>                                                  <a href=\"file:///Users/ch0002techvc/.venv/lib/python3.12/site-packages/eodhd/APIs/BaseAPI.py\" target=\"_blank\"><span style=\"color: #7f7f7f; text-decoration-color: #7f7f7f\">BaseAPI.py</span></a><span style=\"color: #7f7f7f; text-decoration-color: #7f7f7f\">:</span><a href=\"file:///Users/ch0002techvc/.venv/lib/python3.12/site-packages/eodhd/APIs/BaseAPI.py#39\" target=\"_blank\"><span style=\"color: #7f7f7f; text-decoration-color: #7f7f7f\">39</span></a>\n",
       "</pre>\n"
      ],
      "text/plain": [
       "\u001b[2;36m[17:58:53]\u001b[0m\u001b[2;36m \u001b[0mExpecting value: line \u001b[1;36m1\u001b[0m column \u001b[1;36m1\u001b[0m \u001b[1m(\u001b[0mchar \u001b[1;36m0\u001b[0m\u001b[1m)\u001b[0m                                                  \u001b]8;id=83700;file:///Users/ch0002techvc/.venv/lib/python3.12/site-packages/eodhd/APIs/BaseAPI.py\u001b\\\u001b[2mBaseAPI.py\u001b[0m\u001b]8;;\u001b\\\u001b[2m:\u001b[0m\u001b]8;id=352829;file:///Users/ch0002techvc/.venv/lib/python3.12/site-packages/eodhd/APIs/BaseAPI.py#39\u001b\\\u001b[2m39\u001b[0m\u001b]8;;\u001b\\\n"
      ]
     },
     "metadata": {},
     "output_type": "display_data"
    },
    {
     "data": {
      "text/html": [
       "<pre style=\"white-space:pre;overflow-x:auto;line-height:normal;font-family:Menlo,'DejaVu Sans Mono',consolas,'Courier New',monospace\"><span style=\"color: #7fbfbf; text-decoration-color: #7fbfbf\">           </span><span style=\"color: #008080; text-decoration-color: #008080; font-weight: bold\">403</span> Client Error: Forbidden for url:                                                       <a href=\"file:///Users/ch0002techvc/.venv/lib/python3.12/site-packages/eodhd/APIs/BaseAPI.py\" target=\"_blank\"><span style=\"color: #7f7f7f; text-decoration-color: #7f7f7f\">BaseAPI.py</span></a><span style=\"color: #7f7f7f; text-decoration-color: #7f7f7f\">:</span><a href=\"file:///Users/ch0002techvc/.venv/lib/python3.12/site-packages/eodhd/APIs/BaseAPI.py#52\" target=\"_blank\"><span style=\"color: #7f7f7f; text-decoration-color: #7f7f7f\">52</span></a>\n",
       "<span style=\"color: #7fbfbf; text-decoration-color: #7fbfbf\">           </span><span style=\"color: #0000ff; text-decoration-color: #0000ff; text-decoration: underline\">https://eodhd.com/api/intraday/XAUUSD?api_token=67f380ad6e7193.54825103&amp;fmt=json&amp;interval=</span> <span style=\"color: #7f7f7f; text-decoration-color: #7f7f7f\">             </span>\n",
       "<span style=\"color: #7fbfbf; text-decoration-color: #7fbfbf\">           </span><span style=\"color: #0000ff; text-decoration-color: #0000ff; text-decoration: underline\">1m&amp;from=1659484800&amp;to=1669852800</span>                                                           <span style=\"color: #7f7f7f; text-decoration-color: #7f7f7f\">             </span>\n",
       "</pre>\n"
      ],
      "text/plain": [
       "\u001b[2;36m          \u001b[0m\u001b[2;36m \u001b[0m\u001b[1;36m403\u001b[0m Client Error: Forbidden for url:                                                       \u001b]8;id=924595;file:///Users/ch0002techvc/.venv/lib/python3.12/site-packages/eodhd/APIs/BaseAPI.py\u001b\\\u001b[2mBaseAPI.py\u001b[0m\u001b]8;;\u001b\\\u001b[2m:\u001b[0m\u001b]8;id=521278;file:///Users/ch0002techvc/.venv/lib/python3.12/site-packages/eodhd/APIs/BaseAPI.py#52\u001b\\\u001b[2m52\u001b[0m\u001b]8;;\u001b\\\n",
       "\u001b[2;36m           \u001b[0m\u001b[4;94mhttps://eodhd.com/api/intraday/XAUUSD?\u001b[0m\u001b[4;94mapi_token\u001b[0m\u001b[4;94m=\u001b[0m\u001b[4;94m67f380ad6e7193\u001b[0m\u001b[4;94m.54825103&\u001b[0m\u001b[4;94mfmt\u001b[0m\u001b[4;94m=\u001b[0m\u001b[4;94mjson\u001b[0m\u001b[4;94m&\u001b[0m\u001b[4;94minterval\u001b[0m\u001b[4;94m=\u001b[0m \u001b[2m             \u001b[0m\n",
       "\u001b[2;36m           \u001b[0m\u001b[4;94m1m\u001b[0m\u001b[4;94m&\u001b[0m\u001b[4;94mfrom\u001b[0m\u001b[4;94m=\u001b[0m\u001b[4;94m1659484800\u001b[0m\u001b[4;94m&\u001b[0m\u001b[4;94mto\u001b[0m\u001b[4;94m=\u001b[0m\u001b[4;94m1669852800\u001b[0m                                                           \u001b[2m             \u001b[0m\n"
      ]
     },
     "metadata": {},
     "output_type": "display_data"
    },
    {
     "name": "stdout",
     "output_type": "stream",
     "text": [
      "Fetching data from 2022-12-01 00:00:00 to 2023-03-31 00:00:00\n"
     ]
    },
    {
     "data": {
      "text/html": [
       "<pre style=\"white-space:pre;overflow-x:auto;line-height:normal;font-family:Menlo,'DejaVu Sans Mono',consolas,'Courier New',monospace\"><span style=\"color: #7fbfbf; text-decoration-color: #7fbfbf\">[17:58:54] </span>Expecting value: line <span style=\"color: #008080; text-decoration-color: #008080; font-weight: bold\">1</span> column <span style=\"color: #008080; text-decoration-color: #008080; font-weight: bold\">1</span> <span style=\"font-weight: bold\">(</span>char <span style=\"color: #008080; text-decoration-color: #008080; font-weight: bold\">0</span><span style=\"font-weight: bold\">)</span>                                                  <a href=\"file:///Users/ch0002techvc/.venv/lib/python3.12/site-packages/eodhd/APIs/BaseAPI.py\" target=\"_blank\"><span style=\"color: #7f7f7f; text-decoration-color: #7f7f7f\">BaseAPI.py</span></a><span style=\"color: #7f7f7f; text-decoration-color: #7f7f7f\">:</span><a href=\"file:///Users/ch0002techvc/.venv/lib/python3.12/site-packages/eodhd/APIs/BaseAPI.py#39\" target=\"_blank\"><span style=\"color: #7f7f7f; text-decoration-color: #7f7f7f\">39</span></a>\n",
       "</pre>\n"
      ],
      "text/plain": [
       "\u001b[2;36m[17:58:54]\u001b[0m\u001b[2;36m \u001b[0mExpecting value: line \u001b[1;36m1\u001b[0m column \u001b[1;36m1\u001b[0m \u001b[1m(\u001b[0mchar \u001b[1;36m0\u001b[0m\u001b[1m)\u001b[0m                                                  \u001b]8;id=410970;file:///Users/ch0002techvc/.venv/lib/python3.12/site-packages/eodhd/APIs/BaseAPI.py\u001b\\\u001b[2mBaseAPI.py\u001b[0m\u001b]8;;\u001b\\\u001b[2m:\u001b[0m\u001b]8;id=252418;file:///Users/ch0002techvc/.venv/lib/python3.12/site-packages/eodhd/APIs/BaseAPI.py#39\u001b\\\u001b[2m39\u001b[0m\u001b]8;;\u001b\\\n"
      ]
     },
     "metadata": {},
     "output_type": "display_data"
    },
    {
     "data": {
      "text/html": [
       "<pre style=\"white-space:pre;overflow-x:auto;line-height:normal;font-family:Menlo,'DejaVu Sans Mono',consolas,'Courier New',monospace\"><span style=\"color: #7fbfbf; text-decoration-color: #7fbfbf\">           </span><span style=\"color: #008080; text-decoration-color: #008080; font-weight: bold\">403</span> Client Error: Forbidden for url:                                                       <a href=\"file:///Users/ch0002techvc/.venv/lib/python3.12/site-packages/eodhd/APIs/BaseAPI.py\" target=\"_blank\"><span style=\"color: #7f7f7f; text-decoration-color: #7f7f7f\">BaseAPI.py</span></a><span style=\"color: #7f7f7f; text-decoration-color: #7f7f7f\">:</span><a href=\"file:///Users/ch0002techvc/.venv/lib/python3.12/site-packages/eodhd/APIs/BaseAPI.py#52\" target=\"_blank\"><span style=\"color: #7f7f7f; text-decoration-color: #7f7f7f\">52</span></a>\n",
       "<span style=\"color: #7fbfbf; text-decoration-color: #7fbfbf\">           </span><span style=\"color: #0000ff; text-decoration-color: #0000ff; text-decoration: underline\">https://eodhd.com/api/intraday/XAUUSD?api_token=67f380ad6e7193.54825103&amp;fmt=json&amp;interval=</span> <span style=\"color: #7f7f7f; text-decoration-color: #7f7f7f\">             </span>\n",
       "<span style=\"color: #7fbfbf; text-decoration-color: #7fbfbf\">           </span><span style=\"color: #0000ff; text-decoration-color: #0000ff; text-decoration: underline\">1m&amp;from=1669852800&amp;to=1680220800</span>                                                           <span style=\"color: #7f7f7f; text-decoration-color: #7f7f7f\">             </span>\n",
       "</pre>\n"
      ],
      "text/plain": [
       "\u001b[2;36m          \u001b[0m\u001b[2;36m \u001b[0m\u001b[1;36m403\u001b[0m Client Error: Forbidden for url:                                                       \u001b]8;id=329274;file:///Users/ch0002techvc/.venv/lib/python3.12/site-packages/eodhd/APIs/BaseAPI.py\u001b\\\u001b[2mBaseAPI.py\u001b[0m\u001b]8;;\u001b\\\u001b[2m:\u001b[0m\u001b]8;id=501;file:///Users/ch0002techvc/.venv/lib/python3.12/site-packages/eodhd/APIs/BaseAPI.py#52\u001b\\\u001b[2m52\u001b[0m\u001b]8;;\u001b\\\n",
       "\u001b[2;36m           \u001b[0m\u001b[4;94mhttps://eodhd.com/api/intraday/XAUUSD?\u001b[0m\u001b[4;94mapi_token\u001b[0m\u001b[4;94m=\u001b[0m\u001b[4;94m67f380ad6e7193\u001b[0m\u001b[4;94m.54825103&\u001b[0m\u001b[4;94mfmt\u001b[0m\u001b[4;94m=\u001b[0m\u001b[4;94mjson\u001b[0m\u001b[4;94m&\u001b[0m\u001b[4;94minterval\u001b[0m\u001b[4;94m=\u001b[0m \u001b[2m             \u001b[0m\n",
       "\u001b[2;36m           \u001b[0m\u001b[4;94m1m\u001b[0m\u001b[4;94m&\u001b[0m\u001b[4;94mfrom\u001b[0m\u001b[4;94m=\u001b[0m\u001b[4;94m1669852800\u001b[0m\u001b[4;94m&\u001b[0m\u001b[4;94mto\u001b[0m\u001b[4;94m=\u001b[0m\u001b[4;94m1680220800\u001b[0m                                                           \u001b[2m             \u001b[0m\n"
      ]
     },
     "metadata": {},
     "output_type": "display_data"
    },
    {
     "name": "stdout",
     "output_type": "stream",
     "text": [
      "Fetching data from 2023-03-31 00:00:00 to 2023-07-29 00:00:00\n"
     ]
    },
    {
     "data": {
      "text/html": [
       "<pre style=\"white-space:pre;overflow-x:auto;line-height:normal;font-family:Menlo,'DejaVu Sans Mono',consolas,'Courier New',monospace\"><span style=\"color: #7fbfbf; text-decoration-color: #7fbfbf\">[17:58:55] </span>Expecting value: line <span style=\"color: #008080; text-decoration-color: #008080; font-weight: bold\">1</span> column <span style=\"color: #008080; text-decoration-color: #008080; font-weight: bold\">1</span> <span style=\"font-weight: bold\">(</span>char <span style=\"color: #008080; text-decoration-color: #008080; font-weight: bold\">0</span><span style=\"font-weight: bold\">)</span>                                                  <a href=\"file:///Users/ch0002techvc/.venv/lib/python3.12/site-packages/eodhd/APIs/BaseAPI.py\" target=\"_blank\"><span style=\"color: #7f7f7f; text-decoration-color: #7f7f7f\">BaseAPI.py</span></a><span style=\"color: #7f7f7f; text-decoration-color: #7f7f7f\">:</span><a href=\"file:///Users/ch0002techvc/.venv/lib/python3.12/site-packages/eodhd/APIs/BaseAPI.py#39\" target=\"_blank\"><span style=\"color: #7f7f7f; text-decoration-color: #7f7f7f\">39</span></a>\n",
       "</pre>\n"
      ],
      "text/plain": [
       "\u001b[2;36m[17:58:55]\u001b[0m\u001b[2;36m \u001b[0mExpecting value: line \u001b[1;36m1\u001b[0m column \u001b[1;36m1\u001b[0m \u001b[1m(\u001b[0mchar \u001b[1;36m0\u001b[0m\u001b[1m)\u001b[0m                                                  \u001b]8;id=164406;file:///Users/ch0002techvc/.venv/lib/python3.12/site-packages/eodhd/APIs/BaseAPI.py\u001b\\\u001b[2mBaseAPI.py\u001b[0m\u001b]8;;\u001b\\\u001b[2m:\u001b[0m\u001b]8;id=614124;file:///Users/ch0002techvc/.venv/lib/python3.12/site-packages/eodhd/APIs/BaseAPI.py#39\u001b\\\u001b[2m39\u001b[0m\u001b]8;;\u001b\\\n"
      ]
     },
     "metadata": {},
     "output_type": "display_data"
    },
    {
     "data": {
      "text/html": [
       "<pre style=\"white-space:pre;overflow-x:auto;line-height:normal;font-family:Menlo,'DejaVu Sans Mono',consolas,'Courier New',monospace\"><span style=\"color: #7fbfbf; text-decoration-color: #7fbfbf\">           </span><span style=\"color: #008080; text-decoration-color: #008080; font-weight: bold\">403</span> Client Error: Forbidden for url:                                                       <a href=\"file:///Users/ch0002techvc/.venv/lib/python3.12/site-packages/eodhd/APIs/BaseAPI.py\" target=\"_blank\"><span style=\"color: #7f7f7f; text-decoration-color: #7f7f7f\">BaseAPI.py</span></a><span style=\"color: #7f7f7f; text-decoration-color: #7f7f7f\">:</span><a href=\"file:///Users/ch0002techvc/.venv/lib/python3.12/site-packages/eodhd/APIs/BaseAPI.py#52\" target=\"_blank\"><span style=\"color: #7f7f7f; text-decoration-color: #7f7f7f\">52</span></a>\n",
       "<span style=\"color: #7fbfbf; text-decoration-color: #7fbfbf\">           </span><span style=\"color: #0000ff; text-decoration-color: #0000ff; text-decoration: underline\">https://eodhd.com/api/intraday/XAUUSD?api_token=67f380ad6e7193.54825103&amp;fmt=json&amp;interval=</span> <span style=\"color: #7f7f7f; text-decoration-color: #7f7f7f\">             </span>\n",
       "<span style=\"color: #7fbfbf; text-decoration-color: #7fbfbf\">           </span><span style=\"color: #0000ff; text-decoration-color: #0000ff; text-decoration: underline\">1m&amp;from=1680220800&amp;to=1690588800</span>                                                           <span style=\"color: #7f7f7f; text-decoration-color: #7f7f7f\">             </span>\n",
       "</pre>\n"
      ],
      "text/plain": [
       "\u001b[2;36m          \u001b[0m\u001b[2;36m \u001b[0m\u001b[1;36m403\u001b[0m Client Error: Forbidden for url:                                                       \u001b]8;id=181408;file:///Users/ch0002techvc/.venv/lib/python3.12/site-packages/eodhd/APIs/BaseAPI.py\u001b\\\u001b[2mBaseAPI.py\u001b[0m\u001b]8;;\u001b\\\u001b[2m:\u001b[0m\u001b]8;id=119995;file:///Users/ch0002techvc/.venv/lib/python3.12/site-packages/eodhd/APIs/BaseAPI.py#52\u001b\\\u001b[2m52\u001b[0m\u001b]8;;\u001b\\\n",
       "\u001b[2;36m           \u001b[0m\u001b[4;94mhttps://eodhd.com/api/intraday/XAUUSD?\u001b[0m\u001b[4;94mapi_token\u001b[0m\u001b[4;94m=\u001b[0m\u001b[4;94m67f380ad6e7193\u001b[0m\u001b[4;94m.54825103&\u001b[0m\u001b[4;94mfmt\u001b[0m\u001b[4;94m=\u001b[0m\u001b[4;94mjson\u001b[0m\u001b[4;94m&\u001b[0m\u001b[4;94minterval\u001b[0m\u001b[4;94m=\u001b[0m \u001b[2m             \u001b[0m\n",
       "\u001b[2;36m           \u001b[0m\u001b[4;94m1m\u001b[0m\u001b[4;94m&\u001b[0m\u001b[4;94mfrom\u001b[0m\u001b[4;94m=\u001b[0m\u001b[4;94m1680220800\u001b[0m\u001b[4;94m&\u001b[0m\u001b[4;94mto\u001b[0m\u001b[4;94m=\u001b[0m\u001b[4;94m1690588800\u001b[0m                                                           \u001b[2m             \u001b[0m\n"
      ]
     },
     "metadata": {},
     "output_type": "display_data"
    },
    {
     "name": "stdout",
     "output_type": "stream",
     "text": [
      "Fetching data from 2023-07-29 00:00:00 to 2023-11-26 00:00:00\n"
     ]
    },
    {
     "data": {
      "text/html": [
       "<pre style=\"white-space:pre;overflow-x:auto;line-height:normal;font-family:Menlo,'DejaVu Sans Mono',consolas,'Courier New',monospace\"><span style=\"color: #7fbfbf; text-decoration-color: #7fbfbf\">[17:58:55] </span>Expecting value: line <span style=\"color: #008080; text-decoration-color: #008080; font-weight: bold\">1</span> column <span style=\"color: #008080; text-decoration-color: #008080; font-weight: bold\">1</span> <span style=\"font-weight: bold\">(</span>char <span style=\"color: #008080; text-decoration-color: #008080; font-weight: bold\">0</span><span style=\"font-weight: bold\">)</span>                                                  <a href=\"file:///Users/ch0002techvc/.venv/lib/python3.12/site-packages/eodhd/APIs/BaseAPI.py\" target=\"_blank\"><span style=\"color: #7f7f7f; text-decoration-color: #7f7f7f\">BaseAPI.py</span></a><span style=\"color: #7f7f7f; text-decoration-color: #7f7f7f\">:</span><a href=\"file:///Users/ch0002techvc/.venv/lib/python3.12/site-packages/eodhd/APIs/BaseAPI.py#39\" target=\"_blank\"><span style=\"color: #7f7f7f; text-decoration-color: #7f7f7f\">39</span></a>\n",
       "</pre>\n"
      ],
      "text/plain": [
       "\u001b[2;36m[17:58:55]\u001b[0m\u001b[2;36m \u001b[0mExpecting value: line \u001b[1;36m1\u001b[0m column \u001b[1;36m1\u001b[0m \u001b[1m(\u001b[0mchar \u001b[1;36m0\u001b[0m\u001b[1m)\u001b[0m                                                  \u001b]8;id=444957;file:///Users/ch0002techvc/.venv/lib/python3.12/site-packages/eodhd/APIs/BaseAPI.py\u001b\\\u001b[2mBaseAPI.py\u001b[0m\u001b]8;;\u001b\\\u001b[2m:\u001b[0m\u001b]8;id=880473;file:///Users/ch0002techvc/.venv/lib/python3.12/site-packages/eodhd/APIs/BaseAPI.py#39\u001b\\\u001b[2m39\u001b[0m\u001b]8;;\u001b\\\n"
      ]
     },
     "metadata": {},
     "output_type": "display_data"
    },
    {
     "data": {
      "text/html": [
       "<pre style=\"white-space:pre;overflow-x:auto;line-height:normal;font-family:Menlo,'DejaVu Sans Mono',consolas,'Courier New',monospace\"><span style=\"color: #7fbfbf; text-decoration-color: #7fbfbf\">           </span><span style=\"color: #008080; text-decoration-color: #008080; font-weight: bold\">403</span> Client Error: Forbidden for url:                                                       <a href=\"file:///Users/ch0002techvc/.venv/lib/python3.12/site-packages/eodhd/APIs/BaseAPI.py\" target=\"_blank\"><span style=\"color: #7f7f7f; text-decoration-color: #7f7f7f\">BaseAPI.py</span></a><span style=\"color: #7f7f7f; text-decoration-color: #7f7f7f\">:</span><a href=\"file:///Users/ch0002techvc/.venv/lib/python3.12/site-packages/eodhd/APIs/BaseAPI.py#52\" target=\"_blank\"><span style=\"color: #7f7f7f; text-decoration-color: #7f7f7f\">52</span></a>\n",
       "<span style=\"color: #7fbfbf; text-decoration-color: #7fbfbf\">           </span><span style=\"color: #0000ff; text-decoration-color: #0000ff; text-decoration: underline\">https://eodhd.com/api/intraday/XAUUSD?api_token=67f380ad6e7193.54825103&amp;fmt=json&amp;interval=</span> <span style=\"color: #7f7f7f; text-decoration-color: #7f7f7f\">             </span>\n",
       "<span style=\"color: #7fbfbf; text-decoration-color: #7fbfbf\">           </span><span style=\"color: #0000ff; text-decoration-color: #0000ff; text-decoration: underline\">1m&amp;from=1690588800&amp;to=1700956800</span>                                                           <span style=\"color: #7f7f7f; text-decoration-color: #7f7f7f\">             </span>\n",
       "</pre>\n"
      ],
      "text/plain": [
       "\u001b[2;36m          \u001b[0m\u001b[2;36m \u001b[0m\u001b[1;36m403\u001b[0m Client Error: Forbidden for url:                                                       \u001b]8;id=157099;file:///Users/ch0002techvc/.venv/lib/python3.12/site-packages/eodhd/APIs/BaseAPI.py\u001b\\\u001b[2mBaseAPI.py\u001b[0m\u001b]8;;\u001b\\\u001b[2m:\u001b[0m\u001b]8;id=918792;file:///Users/ch0002techvc/.venv/lib/python3.12/site-packages/eodhd/APIs/BaseAPI.py#52\u001b\\\u001b[2m52\u001b[0m\u001b]8;;\u001b\\\n",
       "\u001b[2;36m           \u001b[0m\u001b[4;94mhttps://eodhd.com/api/intraday/XAUUSD?\u001b[0m\u001b[4;94mapi_token\u001b[0m\u001b[4;94m=\u001b[0m\u001b[4;94m67f380ad6e7193\u001b[0m\u001b[4;94m.54825103&\u001b[0m\u001b[4;94mfmt\u001b[0m\u001b[4;94m=\u001b[0m\u001b[4;94mjson\u001b[0m\u001b[4;94m&\u001b[0m\u001b[4;94minterval\u001b[0m\u001b[4;94m=\u001b[0m \u001b[2m             \u001b[0m\n",
       "\u001b[2;36m           \u001b[0m\u001b[4;94m1m\u001b[0m\u001b[4;94m&\u001b[0m\u001b[4;94mfrom\u001b[0m\u001b[4;94m=\u001b[0m\u001b[4;94m1690588800\u001b[0m\u001b[4;94m&\u001b[0m\u001b[4;94mto\u001b[0m\u001b[4;94m=\u001b[0m\u001b[4;94m1700956800\u001b[0m                                                           \u001b[2m             \u001b[0m\n"
      ]
     },
     "metadata": {},
     "output_type": "display_data"
    },
    {
     "name": "stdout",
     "output_type": "stream",
     "text": [
      "Fetching data from 2023-11-26 00:00:00 to 2024-01-01 00:00:00\n"
     ]
    },
    {
     "data": {
      "text/html": [
       "<pre style=\"white-space:pre;overflow-x:auto;line-height:normal;font-family:Menlo,'DejaVu Sans Mono',consolas,'Courier New',monospace\"><span style=\"color: #7fbfbf; text-decoration-color: #7fbfbf\">[17:58:56] </span>Expecting value: line <span style=\"color: #008080; text-decoration-color: #008080; font-weight: bold\">1</span> column <span style=\"color: #008080; text-decoration-color: #008080; font-weight: bold\">1</span> <span style=\"font-weight: bold\">(</span>char <span style=\"color: #008080; text-decoration-color: #008080; font-weight: bold\">0</span><span style=\"font-weight: bold\">)</span>                                                  <a href=\"file:///Users/ch0002techvc/.venv/lib/python3.12/site-packages/eodhd/APIs/BaseAPI.py\" target=\"_blank\"><span style=\"color: #7f7f7f; text-decoration-color: #7f7f7f\">BaseAPI.py</span></a><span style=\"color: #7f7f7f; text-decoration-color: #7f7f7f\">:</span><a href=\"file:///Users/ch0002techvc/.venv/lib/python3.12/site-packages/eodhd/APIs/BaseAPI.py#39\" target=\"_blank\"><span style=\"color: #7f7f7f; text-decoration-color: #7f7f7f\">39</span></a>\n",
       "</pre>\n"
      ],
      "text/plain": [
       "\u001b[2;36m[17:58:56]\u001b[0m\u001b[2;36m \u001b[0mExpecting value: line \u001b[1;36m1\u001b[0m column \u001b[1;36m1\u001b[0m \u001b[1m(\u001b[0mchar \u001b[1;36m0\u001b[0m\u001b[1m)\u001b[0m                                                  \u001b]8;id=850679;file:///Users/ch0002techvc/.venv/lib/python3.12/site-packages/eodhd/APIs/BaseAPI.py\u001b\\\u001b[2mBaseAPI.py\u001b[0m\u001b]8;;\u001b\\\u001b[2m:\u001b[0m\u001b]8;id=354303;file:///Users/ch0002techvc/.venv/lib/python3.12/site-packages/eodhd/APIs/BaseAPI.py#39\u001b\\\u001b[2m39\u001b[0m\u001b]8;;\u001b\\\n"
      ]
     },
     "metadata": {},
     "output_type": "display_data"
    },
    {
     "data": {
      "text/html": [
       "<pre style=\"white-space:pre;overflow-x:auto;line-height:normal;font-family:Menlo,'DejaVu Sans Mono',consolas,'Courier New',monospace\"><span style=\"color: #7fbfbf; text-decoration-color: #7fbfbf\">           </span><span style=\"color: #008080; text-decoration-color: #008080; font-weight: bold\">403</span> Client Error: Forbidden for url:                                                       <a href=\"file:///Users/ch0002techvc/.venv/lib/python3.12/site-packages/eodhd/APIs/BaseAPI.py\" target=\"_blank\"><span style=\"color: #7f7f7f; text-decoration-color: #7f7f7f\">BaseAPI.py</span></a><span style=\"color: #7f7f7f; text-decoration-color: #7f7f7f\">:</span><a href=\"file:///Users/ch0002techvc/.venv/lib/python3.12/site-packages/eodhd/APIs/BaseAPI.py#52\" target=\"_blank\"><span style=\"color: #7f7f7f; text-decoration-color: #7f7f7f\">52</span></a>\n",
       "<span style=\"color: #7fbfbf; text-decoration-color: #7fbfbf\">           </span><span style=\"color: #0000ff; text-decoration-color: #0000ff; text-decoration: underline\">https://eodhd.com/api/intraday/XAUUSD?api_token=67f380ad6e7193.54825103&amp;fmt=json&amp;interval=</span> <span style=\"color: #7f7f7f; text-decoration-color: #7f7f7f\">             </span>\n",
       "<span style=\"color: #7fbfbf; text-decoration-color: #7fbfbf\">           </span><span style=\"color: #0000ff; text-decoration-color: #0000ff; text-decoration: underline\">1m&amp;from=1700956800&amp;to=1704067200</span>                                                           <span style=\"color: #7f7f7f; text-decoration-color: #7f7f7f\">             </span>\n",
       "</pre>\n"
      ],
      "text/plain": [
       "\u001b[2;36m          \u001b[0m\u001b[2;36m \u001b[0m\u001b[1;36m403\u001b[0m Client Error: Forbidden for url:                                                       \u001b]8;id=933938;file:///Users/ch0002techvc/.venv/lib/python3.12/site-packages/eodhd/APIs/BaseAPI.py\u001b\\\u001b[2mBaseAPI.py\u001b[0m\u001b]8;;\u001b\\\u001b[2m:\u001b[0m\u001b]8;id=380642;file:///Users/ch0002techvc/.venv/lib/python3.12/site-packages/eodhd/APIs/BaseAPI.py#52\u001b\\\u001b[2m52\u001b[0m\u001b]8;;\u001b\\\n",
       "\u001b[2;36m           \u001b[0m\u001b[4;94mhttps://eodhd.com/api/intraday/XAUUSD?\u001b[0m\u001b[4;94mapi_token\u001b[0m\u001b[4;94m=\u001b[0m\u001b[4;94m67f380ad6e7193\u001b[0m\u001b[4;94m.54825103&\u001b[0m\u001b[4;94mfmt\u001b[0m\u001b[4;94m=\u001b[0m\u001b[4;94mjson\u001b[0m\u001b[4;94m&\u001b[0m\u001b[4;94minterval\u001b[0m\u001b[4;94m=\u001b[0m \u001b[2m             \u001b[0m\n",
       "\u001b[2;36m           \u001b[0m\u001b[4;94m1m\u001b[0m\u001b[4;94m&\u001b[0m\u001b[4;94mfrom\u001b[0m\u001b[4;94m=\u001b[0m\u001b[4;94m1700956800\u001b[0m\u001b[4;94m&\u001b[0m\u001b[4;94mto\u001b[0m\u001b[4;94m=\u001b[0m\u001b[4;94m1704067200\u001b[0m                                                           \u001b[2m             \u001b[0m\n"
      ]
     },
     "metadata": {},
     "output_type": "display_data"
    },
    {
     "ename": "KeyError",
     "evalue": "'date'",
     "output_type": "error",
     "traceback": [
      "\u001b[31m---------------------------------------------------------------------------\u001b[39m",
      "\u001b[31mKeyError\u001b[39m                                  Traceback (most recent call last)",
      "\u001b[36mCell\u001b[39m\u001b[36m \u001b[39m\u001b[32mIn[2]\u001b[39m\u001b[32m, line 46\u001b[39m\n\u001b[32m     44\u001b[39m df_minute = pd.concat(data_chunks)\n\u001b[32m     45\u001b[39m \u001b[38;5;66;03m# Ensure proper datetime formatting and sorting\u001b[39;00m\n\u001b[32m---> \u001b[39m\u001b[32m46\u001b[39m df_minute[\u001b[33m'\u001b[39m\u001b[33mdate\u001b[39m\u001b[33m'\u001b[39m] = pd.to_datetime(\u001b[43mdf_minute\u001b[49m\u001b[43m[\u001b[49m\u001b[33;43m'\u001b[39;49m\u001b[33;43mdate\u001b[39;49m\u001b[33;43m'\u001b[39;49m\u001b[43m]\u001b[49m)\n\u001b[32m     47\u001b[39m df_minute.set_index(\u001b[33m'\u001b[39m\u001b[33mdate\u001b[39m\u001b[33m'\u001b[39m, inplace=\u001b[38;5;28;01mTrue\u001b[39;00m)\n\u001b[32m     48\u001b[39m df_minute.sort_index(inplace=\u001b[38;5;28;01mTrue\u001b[39;00m)\n",
      "\u001b[36mFile \u001b[39m\u001b[32m~/.venv/lib/python3.12/site-packages/pandas/core/frame.py:4102\u001b[39m, in \u001b[36mDataFrame.__getitem__\u001b[39m\u001b[34m(self, key)\u001b[39m\n\u001b[32m   4100\u001b[39m \u001b[38;5;28;01mif\u001b[39;00m \u001b[38;5;28mself\u001b[39m.columns.nlevels > \u001b[32m1\u001b[39m:\n\u001b[32m   4101\u001b[39m     \u001b[38;5;28;01mreturn\u001b[39;00m \u001b[38;5;28mself\u001b[39m._getitem_multilevel(key)\n\u001b[32m-> \u001b[39m\u001b[32m4102\u001b[39m indexer = \u001b[38;5;28;43mself\u001b[39;49m\u001b[43m.\u001b[49m\u001b[43mcolumns\u001b[49m\u001b[43m.\u001b[49m\u001b[43mget_loc\u001b[49m\u001b[43m(\u001b[49m\u001b[43mkey\u001b[49m\u001b[43m)\u001b[49m\n\u001b[32m   4103\u001b[39m \u001b[38;5;28;01mif\u001b[39;00m is_integer(indexer):\n\u001b[32m   4104\u001b[39m     indexer = [indexer]\n",
      "\u001b[36mFile \u001b[39m\u001b[32m~/.venv/lib/python3.12/site-packages/pandas/core/indexes/range.py:417\u001b[39m, in \u001b[36mRangeIndex.get_loc\u001b[39m\u001b[34m(self, key)\u001b[39m\n\u001b[32m    415\u001b[39m         \u001b[38;5;28;01mraise\u001b[39;00m \u001b[38;5;167;01mKeyError\u001b[39;00m(key) \u001b[38;5;28;01mfrom\u001b[39;00m\u001b[38;5;250m \u001b[39m\u001b[34;01merr\u001b[39;00m\n\u001b[32m    416\u001b[39m \u001b[38;5;28;01mif\u001b[39;00m \u001b[38;5;28misinstance\u001b[39m(key, Hashable):\n\u001b[32m--> \u001b[39m\u001b[32m417\u001b[39m     \u001b[38;5;28;01mraise\u001b[39;00m \u001b[38;5;167;01mKeyError\u001b[39;00m(key)\n\u001b[32m    418\u001b[39m \u001b[38;5;28mself\u001b[39m._check_indexing_error(key)\n\u001b[32m    419\u001b[39m \u001b[38;5;28;01mraise\u001b[39;00m \u001b[38;5;167;01mKeyError\u001b[39;00m(key)\n",
      "\u001b[31mKeyError\u001b[39m: 'date'"
     ]
    }
   ],
   "source": [
    "# Initialize API client with your API key\n",
    "api = APIClient(\"67f380ad6e7193.54825103\")\n",
    "\n",
    "# Define the overall period (using UNIX timestamps)\n",
    "# 2017-01-01 00:00:00 and 2023-12-31 00:00:00 in UNIX time\n",
    "overall_start = 1483228800  # 2017-01-01\n",
    "overall_end = 1704067200    # 2024-01-01 (end of 2023)\n",
    "\n",
    "# Maximum period allowed by the API in seconds (120 days)\n",
    "max_period = 120 * 24 * 3600  # 120 days in seconds\n",
    "\n",
    "# Container to hold fetched data chunks\n",
    "data_chunks = []\n",
    "\n",
    "# Loop over the full period in 120-day chunks\n",
    "current_start = overall_start\n",
    "while current_start < overall_end:\n",
    "    current_end = min(current_start + max_period, overall_end)\n",
    "    print(f\"Fetching data from {datetime.utcfromtimestamp(current_start)} to {datetime.utcfromtimestamp(current_end)}\")\n",
    "    \n",
    "    try:\n",
    "        # Fetch data for the current chunk\n",
    "        chunk = api.get_intraday_historical_data(\n",
    "            symbol=\"XAUUSD\",\n",
    "            interval=\"1m\",\n",
    "            from_unix_time=current_start,\n",
    "            to_unix_time=current_end\n",
    "        )\n",
    "        # Check if the API returned an error or empty result\n",
    "        if isinstance(chunk, dict) and 'errors' in chunk:\n",
    "            print(\"Error fetching data for this period:\", chunk['errors'])\n",
    "        elif not chunk:\n",
    "            print(\"No data returned for this period.\")\n",
    "        else:\n",
    "            # Convert the chunk to a DataFrame if it contains the expected data\n",
    "            df_chunk = pd.DataFrame(chunk)\n",
    "            if 'date' in df_chunk.columns:\n",
    "                data_chunks.append(df_chunk)\n",
    "            else:\n",
    "                print(\"Chunk missing 'date' column. Skipping this chunk.\")\n",
    "    except Exception as e:\n",
    "        print(f\"Exception occurred: {e}\")\n",
    "    \n",
    "    # Move to the next period\n",
    "    current_start = current_end\n",
    "\n",
    "# Combine all valid chunks into one DataFrame\n",
    "if data_chunks:\n",
    "    df_minute = pd.concat(data_chunks)\n",
    "    # Ensure proper datetime formatting and sorting if 'date' column exists\n",
    "    df_minute['date'] = pd.to_datetime(df_minute['date'])\n",
    "    df_minute.set_index('date', inplace=True)\n",
    "    df_minute.sort_index(inplace=True)\n",
    "else:\n",
    "    raise ValueError(\"No valid data fetched. Check API limits or parameters.\")\n",
    "\n",
    "# Resample 1-minute data to 30-minute intervals using OHLC aggregation\n",
    "ohlc_data = df_minute.resample('30T').agg({\n",
    "    'open': 'first',\n",
    "    'high': 'max',\n",
    "    'low': 'min',\n",
    "    'close': 'last'\n",
    "}).dropna()\n",
    "\n",
    "# Save to CSV\n",
    "ohlc_data.to_csv('ohlc_data.csv', index=False)\n",
    "ohlc_data"
   ]
  },
  {
   "cell_type": "markdown",
   "id": "3ac6f5ef-95e2-40ac-887b-c50600e94e81",
   "metadata": {},
   "source": [
    "Check below"
   ]
  },
  {
   "cell_type": "code",
   "execution_count": null,
   "id": "f59e4742-47f4-4fcb-8627-f4e5e1ae55d0",
   "metadata": {},
   "outputs": [],
   "source": [
    "def extract_patterns(data, window=8, threshold=15):\n",
    "    \"\"\"\n",
    "    Extract patterns from OHLC data.\n",
    "    Each pattern corresponds to an 8-period (4-hour) window with features:\n",
    "    H-L, C-O, H-O, O-L.\n",
    "    \"\"\"\n",
    "    features = []\n",
    "    labels = []\n",
    "    \n",
    "    for i in range(len(data) - window - 4):  # Ensure future price comparison is possible\n",
    "        window_data = data.iloc[i:i + window]\n",
    "        future_price = data['Close'].iloc[i + window + 4]\n",
    "        \n",
    "        # Features: H-L, C-O, H-O, O-L for each period in the window\n",
    "        feature_vector = np.concatenate([\n",
    "            (window_data['High'] - window_data['Low']).values,\n",
    "            (window_data['Close'] - window_data['Open']).values,\n",
    "            (window_data['High'] - window_data['Open']).values,\n",
    "            (window_data['Open'] - window_data['Low']).values,\n",
    "        ])\n",
    "        \n",
    "        # Label based on future price change (+/- threshold)\n",
    "        price_change = future_price - window_data['Close'].iloc[-1]\n",
    "        label = 1 if price_change > threshold else -1 if price_change < -threshold else 0\n",
    "        \n",
    "        if label != 0:  # Ignore neutral patterns\n",
    "            features.append(feature_vector)\n",
    "            labels.append(label)\n",
    "    \n",
    "    return np.array(features), np.array(labels)\n",
    "\n",
    "features, labels = extract_patterns(ohlc_data)"
   ]
  },
  {
   "cell_type": "code",
   "execution_count": null,
   "id": "d6a2cf96-82db-4158-bef8-54a8e4ffc018",
   "metadata": {},
   "outputs": [],
   "source": [
    "def calculate_entropy_and_scores(features, labels, alpha=0.8):\n",
    "    \"\"\"\n",
    "    Compute local entropy, information gain, and profitability scores.\n",
    "    \"\"\"\n",
    "    global_entropy = entropy(np.bincount((labels > 0).astype(int)))  # Shannon entropy\n",
    "    \n",
    "    scores = []\n",
    "    for i, feature in enumerate(features):\n",
    "        neighbors = [cityblock(feature, f) for f in features]  # Manhattan distances\n",
    "        k_neighbors_idx = np.argsort(neighbors)[:50]           # Top-50 nearest neighbors\n",
    "        \n",
    "        neighbor_labels = labels[k_neighbors_idx]\n",
    "        p_buy = np.mean(neighbor_labels == labels[i])          # Purity measure\n",
    "        \n",
    "        local_entropy = -p_buy * np.log(p_buy) - (1-p_buy) * np.log(1-p_buy) if p_buy not in [0, 1] else 0\n",
    "        \n",
    "        pnl_score = np.mean(neighbor_labels == labels[i])      # Simplified profitability score\n",
    "        \n",
    "        info_gain = global_entropy - local_entropy             # Information gain\n",
    "        combined_score = alpha * info_gain + (1-alpha) * pnl_score\n",
    "        \n",
    "        scores.append((combined_score, feature, labels[i]))\n",
    "    \n",
    "    return sorted(scores, key=lambda x: x[0], reverse=True)\n",
    "\n",
    "scored_patterns = calculate_entropy_and_scores(features, labels)"
   ]
  },
  {
   "cell_type": "code",
   "execution_count": null,
   "id": "a0cf2b99-2281-49ad-af5e-720c17ff3fc8",
   "metadata": {},
   "outputs": [],
   "source": [
    "def filter_patterns(scored_patterns, theta=5):\n",
    "    \"\"\"\n",
    "    Filter Buy and Sell patterns using distance-based criteria.\n",
    "    \"\"\"\n",
    "    buy_patterns = []\n",
    "    sell_patterns = []\n",
    "    \n",
    "    for score, feature, label in scored_patterns:\n",
    "        if label == 1:  # Buy pattern\n",
    "            if all(cityblock(feature, b) >= theta for b in sell_patterns):\n",
    "                buy_patterns.append(feature)\n",
    "        elif label == -1:  # Sell pattern\n",
    "            if all(cityblock(feature, s) >= theta for s in buy_patterns):\n",
    "                sell_patterns.append(feature)\n",
    "    \n",
    "    return buy_patterns, sell_patterns\n",
    "\n",
    "filtered_buy, filtered_sell = filter_patterns(scored_patterns)"
   ]
  },
  {
   "cell_type": "code",
   "execution_count": null,
   "id": "441e2fbe-fd8a-4d63-b7dc-dc25b0dff57a",
   "metadata": {},
   "outputs": [],
   "source": [
    "def plot_distance_histograms(raw_buy, raw_sell, filtered_buy, filtered_sell):\n",
    "    plt.figure(figsize=(12, 6))\n",
    "    \n",
    "    raw_distances = [cityblock(buy_pattern, sell_pattern) for buy_pattern in raw_buy for sell_pattern in raw_sell]\n",
    "    plt.subplot(121)\n",
    "    plt.hist(raw_distances, bins=50)\n",
    "    plt.title(\"Raw Pattern Distances\")\n",
    "    \n",
    "    filtered_distances = [cityblock(buy_pattern, sell_pattern) for buy_pattern in filtered_buy for sell_pattern in filtered_sell]\n",
    "    plt.subplot(122)\n",
    "    plt.hist(filtered_distances, bins=50)\n",
    "    plt.title(\"Filtered Pattern Distances\")\n",
    "    \n",
    "    plt.tight_layout()\n",
    "\n",
    "plot_distance_histograms(features[labels==1], features[labels==-1], filtered_buy, filtered_sell)"
   ]
  },
  {
   "cell_type": "code",
   "execution_count": null,
   "id": "d83b1f63-3757-41ba-8b78-8cc14707c37b",
   "metadata": {},
   "outputs": [],
   "source": [
    "def plot_volatility(data):\n",
    "    data['Year'] = pd.to_datetime(data.index).year\n",
    "    volatility_by_year = data.groupby('Year')['Open'].std()\n",
    "    \n",
    "    plt.boxplot(volatility_by_year.values)\n",
    "    plt.title(\"Volatility Distribution by Year\")\n",
    "\n",
    "plot_volatility(ohlc_data)"
   ]
  },
  {
   "cell_type": "code",
   "execution_count": null,
   "id": "fded6ecf-24fe-4e01-80ad-d827051669d8",
   "metadata": {},
   "outputs": [],
   "source": [
    "from sklearn.cluster import KMeans\n",
    "from sklearn.mixture import GaussianMixture\n",
    "\n",
    "def plot_pca(features_raw, features_filtered):\n",
    "    pca_raw = PCA(n_components=2).fit_transform(features_raw)\n",
    "    pca_filtered = PCA(n_components=2).fit_transform(features_filtered)\n",
    "\n",
    "# Add KMeans/GMM cluster visualizations here..."
   ]
  }
 ],
 "metadata": {
  "kernelspec": {
   "display_name": "Python 3 (ipykernel)",
   "language": "python",
   "name": "python3"
  },
  "language_info": {
   "codemirror_mode": {
    "name": "ipython",
    "version": 3
   },
   "file_extension": ".py",
   "mimetype": "text/x-python",
   "name": "python",
   "nbconvert_exporter": "python",
   "pygments_lexer": "ipython3",
   "version": "3.12.9"
  }
 },
 "nbformat": 4,
 "nbformat_minor": 5
}
