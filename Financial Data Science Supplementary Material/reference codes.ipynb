{
 "cells": [
  {
   "cell_type": "code",
   "execution_count": 165,
   "metadata": {
    "colab": {
     "base_uri": "https://localhost:8080/"
    },
    "id": "af6ctsco2HYe",
    "outputId": "00ec92ed-c4bd-4ba7-8d09-3db4fc91aff5"
   },
   "outputs": [
    {
     "name": "stdout",
     "output_type": "stream",
     "text": [
      "Requirement already satisfied: yfinance in /usr/local/lib/python3.10/dist-packages (0.2.36)\n",
      "Requirement already satisfied: pandas>=1.3.0 in /usr/local/lib/python3.10/dist-packages (from yfinance) (1.5.3)\n",
      "Requirement already satisfied: numpy>=1.16.5 in /usr/local/lib/python3.10/dist-packages (from yfinance) (1.23.5)\n",
      "Requirement already satisfied: requests>=2.31 in /usr/local/lib/python3.10/dist-packages (from yfinance) (2.31.0)\n",
      "Requirement already satisfied: multitasking>=0.0.7 in /usr/local/lib/python3.10/dist-packages (from yfinance) (0.0.11)\n",
      "Requirement already satisfied: lxml>=4.9.1 in /usr/local/lib/python3.10/dist-packages (from yfinance) (4.9.4)\n",
      "Requirement already satisfied: appdirs>=1.4.4 in /usr/local/lib/python3.10/dist-packages (from yfinance) (1.4.4)\n",
      "Requirement already satisfied: pytz>=2022.5 in /usr/local/lib/python3.10/dist-packages (from yfinance) (2023.3.post1)\n",
      "Requirement already satisfied: frozendict>=2.3.4 in /usr/local/lib/python3.10/dist-packages (from yfinance) (2.4.0)\n",
      "Requirement already satisfied: peewee>=3.16.2 in /usr/local/lib/python3.10/dist-packages (from yfinance) (3.17.0)\n",
      "Requirement already satisfied: beautifulsoup4>=4.11.1 in /usr/local/lib/python3.10/dist-packages (from yfinance) (4.11.2)\n",
      "Requirement already satisfied: html5lib>=1.1 in /usr/local/lib/python3.10/dist-packages (from yfinance) (1.1)\n",
      "Requirement already satisfied: soupsieve>1.2 in /usr/local/lib/python3.10/dist-packages (from beautifulsoup4>=4.11.1->yfinance) (2.5)\n",
      "Requirement already satisfied: six>=1.9 in /usr/local/lib/python3.10/dist-packages (from html5lib>=1.1->yfinance) (1.16.0)\n",
      "Requirement already satisfied: webencodings in /usr/local/lib/python3.10/dist-packages (from html5lib>=1.1->yfinance) (0.5.1)\n",
      "Requirement already satisfied: python-dateutil>=2.8.1 in /usr/local/lib/python3.10/dist-packages (from pandas>=1.3.0->yfinance) (2.8.2)\n",
      "Requirement already satisfied: charset-normalizer<4,>=2 in /usr/local/lib/python3.10/dist-packages (from requests>=2.31->yfinance) (3.3.2)\n",
      "Requirement already satisfied: idna<4,>=2.5 in /usr/local/lib/python3.10/dist-packages (from requests>=2.31->yfinance) (3.6)\n",
      "Requirement already satisfied: urllib3<3,>=1.21.1 in /usr/local/lib/python3.10/dist-packages (from requests>=2.31->yfinance) (2.0.7)\n",
      "Requirement already satisfied: certifi>=2017.4.17 in /usr/local/lib/python3.10/dist-packages (from requests>=2.31->yfinance) (2023.11.17)\n"
     ]
    }
   ],
   "source": [
    "!pip install yfinance"
   ]
  },
  {
   "cell_type": "code",
   "execution_count": 166,
   "metadata": {
    "id": "4NIN2VG83Khi"
   },
   "outputs": [],
   "source": [
    "import numpy as np\n",
    "import pandas as pd\n",
    "import matplotlib.pyplot as plt\n",
    "import yfinance as yf"
   ]
  },
  {
   "cell_type": "markdown",
   "metadata": {
    "id": "b_HdettSWV0f"
   },
   "source": [
    "# One risky asset + one risk-free asset"
   ]
  },
  {
   "cell_type": "code",
   "execution_count": 167,
   "metadata": {
    "colab": {
     "base_uri": "https://localhost:8080/",
     "height": 255
    },
    "id": "IvpVL9Qg31IW",
    "outputId": "de336d32-e61b-4c4a-a60d-df23274d92af"
   },
   "outputs": [
    {
     "name": "stderr",
     "output_type": "stream",
     "text": [
      "\r",
      "[*********************100%%**********************]  1 of 1 completed\n"
     ]
    },
    {
     "data": {
      "text/html": [
       "\n",
       "  <div id=\"df-ae30d0aa-1c46-4a44-8723-70c81f7d181f\" class=\"colab-df-container\">\n",
       "    <div>\n",
       "<style scoped>\n",
       "    .dataframe tbody tr th:only-of-type {\n",
       "        vertical-align: middle;\n",
       "    }\n",
       "\n",
       "    .dataframe tbody tr th {\n",
       "        vertical-align: top;\n",
       "    }\n",
       "\n",
       "    .dataframe thead th {\n",
       "        text-align: right;\n",
       "    }\n",
       "</style>\n",
       "<table border=\"1\" class=\"dataframe\">\n",
       "  <thead>\n",
       "    <tr style=\"text-align: right;\">\n",
       "      <th></th>\n",
       "      <th>Open</th>\n",
       "      <th>High</th>\n",
       "      <th>Low</th>\n",
       "      <th>Close</th>\n",
       "      <th>Adj Close</th>\n",
       "      <th>Volume</th>\n",
       "    </tr>\n",
       "    <tr>\n",
       "      <th>Date</th>\n",
       "      <th></th>\n",
       "      <th></th>\n",
       "      <th></th>\n",
       "      <th></th>\n",
       "      <th></th>\n",
       "      <th></th>\n",
       "    </tr>\n",
       "  </thead>\n",
       "  <tbody>\n",
       "    <tr>\n",
       "      <th>2023-01-03</th>\n",
       "      <td>130.279999</td>\n",
       "      <td>130.899994</td>\n",
       "      <td>124.169998</td>\n",
       "      <td>125.070000</td>\n",
       "      <td>124.374802</td>\n",
       "      <td>112117500</td>\n",
       "    </tr>\n",
       "    <tr>\n",
       "      <th>2023-01-04</th>\n",
       "      <td>126.889999</td>\n",
       "      <td>128.660004</td>\n",
       "      <td>125.080002</td>\n",
       "      <td>126.360001</td>\n",
       "      <td>125.657639</td>\n",
       "      <td>89113600</td>\n",
       "    </tr>\n",
       "    <tr>\n",
       "      <th>2023-01-05</th>\n",
       "      <td>127.129997</td>\n",
       "      <td>127.769997</td>\n",
       "      <td>124.760002</td>\n",
       "      <td>125.019997</td>\n",
       "      <td>124.325081</td>\n",
       "      <td>80962700</td>\n",
       "    </tr>\n",
       "    <tr>\n",
       "      <th>2023-01-06</th>\n",
       "      <td>126.010002</td>\n",
       "      <td>130.289993</td>\n",
       "      <td>124.889999</td>\n",
       "      <td>129.619995</td>\n",
       "      <td>128.899521</td>\n",
       "      <td>87754700</td>\n",
       "    </tr>\n",
       "    <tr>\n",
       "      <th>2023-01-09</th>\n",
       "      <td>130.470001</td>\n",
       "      <td>133.410004</td>\n",
       "      <td>129.889999</td>\n",
       "      <td>130.149994</td>\n",
       "      <td>129.426575</td>\n",
       "      <td>70790800</td>\n",
       "    </tr>\n",
       "  </tbody>\n",
       "</table>\n",
       "</div>\n",
       "    <div class=\"colab-df-buttons\">\n",
       "\n",
       "  <div class=\"colab-df-container\">\n",
       "    <button class=\"colab-df-convert\" onclick=\"convertToInteractive('df-ae30d0aa-1c46-4a44-8723-70c81f7d181f')\"\n",
       "            title=\"Convert this dataframe to an interactive table.\"\n",
       "            style=\"display:none;\">\n",
       "\n",
       "  <svg xmlns=\"http://www.w3.org/2000/svg\" height=\"24px\" viewBox=\"0 -960 960 960\">\n",
       "    <path d=\"M120-120v-720h720v720H120Zm60-500h600v-160H180v160Zm220 220h160v-160H400v160Zm0 220h160v-160H400v160ZM180-400h160v-160H180v160Zm440 0h160v-160H620v160ZM180-180h160v-160H180v160Zm440 0h160v-160H620v160Z\"/>\n",
       "  </svg>\n",
       "    </button>\n",
       "\n",
       "  <style>\n",
       "    .colab-df-container {\n",
       "      display:flex;\n",
       "      gap: 12px;\n",
       "    }\n",
       "\n",
       "    .colab-df-convert {\n",
       "      background-color: #E8F0FE;\n",
       "      border: none;\n",
       "      border-radius: 50%;\n",
       "      cursor: pointer;\n",
       "      display: none;\n",
       "      fill: #1967D2;\n",
       "      height: 32px;\n",
       "      padding: 0 0 0 0;\n",
       "      width: 32px;\n",
       "    }\n",
       "\n",
       "    .colab-df-convert:hover {\n",
       "      background-color: #E2EBFA;\n",
       "      box-shadow: 0px 1px 2px rgba(60, 64, 67, 0.3), 0px 1px 3px 1px rgba(60, 64, 67, 0.15);\n",
       "      fill: #174EA6;\n",
       "    }\n",
       "\n",
       "    .colab-df-buttons div {\n",
       "      margin-bottom: 4px;\n",
       "    }\n",
       "\n",
       "    [theme=dark] .colab-df-convert {\n",
       "      background-color: #3B4455;\n",
       "      fill: #D2E3FC;\n",
       "    }\n",
       "\n",
       "    [theme=dark] .colab-df-convert:hover {\n",
       "      background-color: #434B5C;\n",
       "      box-shadow: 0px 1px 3px 1px rgba(0, 0, 0, 0.15);\n",
       "      filter: drop-shadow(0px 1px 2px rgba(0, 0, 0, 0.3));\n",
       "      fill: #FFFFFF;\n",
       "    }\n",
       "  </style>\n",
       "\n",
       "    <script>\n",
       "      const buttonEl =\n",
       "        document.querySelector('#df-ae30d0aa-1c46-4a44-8723-70c81f7d181f button.colab-df-convert');\n",
       "      buttonEl.style.display =\n",
       "        google.colab.kernel.accessAllowed ? 'block' : 'none';\n",
       "\n",
       "      async function convertToInteractive(key) {\n",
       "        const element = document.querySelector('#df-ae30d0aa-1c46-4a44-8723-70c81f7d181f');\n",
       "        const dataTable =\n",
       "          await google.colab.kernel.invokeFunction('convertToInteractive',\n",
       "                                                    [key], {});\n",
       "        if (!dataTable) return;\n",
       "\n",
       "        const docLinkHtml = 'Like what you see? Visit the ' +\n",
       "          '<a target=\"_blank\" href=https://colab.research.google.com/notebooks/data_table.ipynb>data table notebook</a>'\n",
       "          + ' to learn more about interactive tables.';\n",
       "        element.innerHTML = '';\n",
       "        dataTable['output_type'] = 'display_data';\n",
       "        await google.colab.output.renderOutput(dataTable, element);\n",
       "        const docLink = document.createElement('div');\n",
       "        docLink.innerHTML = docLinkHtml;\n",
       "        element.appendChild(docLink);\n",
       "      }\n",
       "    </script>\n",
       "  </div>\n",
       "\n",
       "\n",
       "<div id=\"df-29b65224-9f0d-4e7d-8688-b4465dab5927\">\n",
       "  <button class=\"colab-df-quickchart\" onclick=\"quickchart('df-29b65224-9f0d-4e7d-8688-b4465dab5927')\"\n",
       "            title=\"Suggest charts\"\n",
       "            style=\"display:none;\">\n",
       "\n",
       "<svg xmlns=\"http://www.w3.org/2000/svg\" height=\"24px\"viewBox=\"0 0 24 24\"\n",
       "     width=\"24px\">\n",
       "    <g>\n",
       "        <path d=\"M19 3H5c-1.1 0-2 .9-2 2v14c0 1.1.9 2 2 2h14c1.1 0 2-.9 2-2V5c0-1.1-.9-2-2-2zM9 17H7v-7h2v7zm4 0h-2V7h2v10zm4 0h-2v-4h2v4z\"/>\n",
       "    </g>\n",
       "</svg>\n",
       "  </button>\n",
       "\n",
       "<style>\n",
       "  .colab-df-quickchart {\n",
       "      --bg-color: #E8F0FE;\n",
       "      --fill-color: #1967D2;\n",
       "      --hover-bg-color: #E2EBFA;\n",
       "      --hover-fill-color: #174EA6;\n",
       "      --disabled-fill-color: #AAA;\n",
       "      --disabled-bg-color: #DDD;\n",
       "  }\n",
       "\n",
       "  [theme=dark] .colab-df-quickchart {\n",
       "      --bg-color: #3B4455;\n",
       "      --fill-color: #D2E3FC;\n",
       "      --hover-bg-color: #434B5C;\n",
       "      --hover-fill-color: #FFFFFF;\n",
       "      --disabled-bg-color: #3B4455;\n",
       "      --disabled-fill-color: #666;\n",
       "  }\n",
       "\n",
       "  .colab-df-quickchart {\n",
       "    background-color: var(--bg-color);\n",
       "    border: none;\n",
       "    border-radius: 50%;\n",
       "    cursor: pointer;\n",
       "    display: none;\n",
       "    fill: var(--fill-color);\n",
       "    height: 32px;\n",
       "    padding: 0;\n",
       "    width: 32px;\n",
       "  }\n",
       "\n",
       "  .colab-df-quickchart:hover {\n",
       "    background-color: var(--hover-bg-color);\n",
       "    box-shadow: 0 1px 2px rgba(60, 64, 67, 0.3), 0 1px 3px 1px rgba(60, 64, 67, 0.15);\n",
       "    fill: var(--button-hover-fill-color);\n",
       "  }\n",
       "\n",
       "  .colab-df-quickchart-complete:disabled,\n",
       "  .colab-df-quickchart-complete:disabled:hover {\n",
       "    background-color: var(--disabled-bg-color);\n",
       "    fill: var(--disabled-fill-color);\n",
       "    box-shadow: none;\n",
       "  }\n",
       "\n",
       "  .colab-df-spinner {\n",
       "    border: 2px solid var(--fill-color);\n",
       "    border-color: transparent;\n",
       "    border-bottom-color: var(--fill-color);\n",
       "    animation:\n",
       "      spin 1s steps(1) infinite;\n",
       "  }\n",
       "\n",
       "  @keyframes spin {\n",
       "    0% {\n",
       "      border-color: transparent;\n",
       "      border-bottom-color: var(--fill-color);\n",
       "      border-left-color: var(--fill-color);\n",
       "    }\n",
       "    20% {\n",
       "      border-color: transparent;\n",
       "      border-left-color: var(--fill-color);\n",
       "      border-top-color: var(--fill-color);\n",
       "    }\n",
       "    30% {\n",
       "      border-color: transparent;\n",
       "      border-left-color: var(--fill-color);\n",
       "      border-top-color: var(--fill-color);\n",
       "      border-right-color: var(--fill-color);\n",
       "    }\n",
       "    40% {\n",
       "      border-color: transparent;\n",
       "      border-right-color: var(--fill-color);\n",
       "      border-top-color: var(--fill-color);\n",
       "    }\n",
       "    60% {\n",
       "      border-color: transparent;\n",
       "      border-right-color: var(--fill-color);\n",
       "    }\n",
       "    80% {\n",
       "      border-color: transparent;\n",
       "      border-right-color: var(--fill-color);\n",
       "      border-bottom-color: var(--fill-color);\n",
       "    }\n",
       "    90% {\n",
       "      border-color: transparent;\n",
       "      border-bottom-color: var(--fill-color);\n",
       "    }\n",
       "  }\n",
       "</style>\n",
       "\n",
       "  <script>\n",
       "    async function quickchart(key) {\n",
       "      const quickchartButtonEl =\n",
       "        document.querySelector('#' + key + ' button');\n",
       "      quickchartButtonEl.disabled = true;  // To prevent multiple clicks.\n",
       "      quickchartButtonEl.classList.add('colab-df-spinner');\n",
       "      try {\n",
       "        const charts = await google.colab.kernel.invokeFunction(\n",
       "            'suggestCharts', [key], {});\n",
       "      } catch (error) {\n",
       "        console.error('Error during call to suggestCharts:', error);\n",
       "      }\n",
       "      quickchartButtonEl.classList.remove('colab-df-spinner');\n",
       "      quickchartButtonEl.classList.add('colab-df-quickchart-complete');\n",
       "    }\n",
       "    (() => {\n",
       "      let quickchartButtonEl =\n",
       "        document.querySelector('#df-29b65224-9f0d-4e7d-8688-b4465dab5927 button');\n",
       "      quickchartButtonEl.style.display =\n",
       "        google.colab.kernel.accessAllowed ? 'block' : 'none';\n",
       "    })();\n",
       "  </script>\n",
       "</div>\n",
       "\n",
       "    </div>\n",
       "  </div>\n"
      ],
      "text/plain": [
       "                  Open        High         Low       Close   Adj Close  \\\n",
       "Date                                                                     \n",
       "2023-01-03  130.279999  130.899994  124.169998  125.070000  124.374802   \n",
       "2023-01-04  126.889999  128.660004  125.080002  126.360001  125.657639   \n",
       "2023-01-05  127.129997  127.769997  124.760002  125.019997  124.325081   \n",
       "2023-01-06  126.010002  130.289993  124.889999  129.619995  128.899521   \n",
       "2023-01-09  130.470001  133.410004  129.889999  130.149994  129.426575   \n",
       "\n",
       "               Volume  \n",
       "Date                   \n",
       "2023-01-03  112117500  \n",
       "2023-01-04   89113600  \n",
       "2023-01-05   80962700  \n",
       "2023-01-06   87754700  \n",
       "2023-01-09   70790800  "
      ]
     },
     "execution_count": 167,
     "metadata": {},
     "output_type": "execute_result"
    }
   ],
   "source": [
    "# Download stock data, which is automatically indexed by date\n",
    "symbol = 'AAPL'\n",
    "df = yf.download(symbol, start=\"2023-01-01\", end=\"2023-12-31\")\n",
    "df.head()"
   ]
  },
  {
   "cell_type": "code",
   "execution_count": 168,
   "metadata": {
    "colab": {
     "base_uri": "https://localhost:8080/",
     "height": 238
    },
    "id": "Ia2W7XtMO2CL",
    "outputId": "119c1645-6e80-4873-d5b8-f9f049c7a9b8"
   },
   "outputs": [
    {
     "data": {
      "text/html": [
       "\n",
       "  <div id=\"df-2f50ca91-3f1b-4807-8776-2257ad02f4c3\" class=\"colab-df-container\">\n",
       "    <div>\n",
       "<style scoped>\n",
       "    .dataframe tbody tr th:only-of-type {\n",
       "        vertical-align: middle;\n",
       "    }\n",
       "\n",
       "    .dataframe tbody tr th {\n",
       "        vertical-align: top;\n",
       "    }\n",
       "\n",
       "    .dataframe thead th {\n",
       "        text-align: right;\n",
       "    }\n",
       "</style>\n",
       "<table border=\"1\" class=\"dataframe\">\n",
       "  <thead>\n",
       "    <tr style=\"text-align: right;\">\n",
       "      <th></th>\n",
       "      <th>Open</th>\n",
       "      <th>High</th>\n",
       "      <th>Low</th>\n",
       "      <th>Close</th>\n",
       "      <th>Adj Close</th>\n",
       "      <th>Volume</th>\n",
       "      <th>Log Return</th>\n",
       "    </tr>\n",
       "    <tr>\n",
       "      <th>Date</th>\n",
       "      <th></th>\n",
       "      <th></th>\n",
       "      <th></th>\n",
       "      <th></th>\n",
       "      <th></th>\n",
       "      <th></th>\n",
       "      <th></th>\n",
       "    </tr>\n",
       "  </thead>\n",
       "  <tbody>\n",
       "    <tr>\n",
       "      <th>2023-01-03</th>\n",
       "      <td>130.279999</td>\n",
       "      <td>130.899994</td>\n",
       "      <td>124.169998</td>\n",
       "      <td>125.070000</td>\n",
       "      <td>124.374802</td>\n",
       "      <td>112117500</td>\n",
       "      <td>NaN</td>\n",
       "    </tr>\n",
       "    <tr>\n",
       "      <th>2023-01-04</th>\n",
       "      <td>126.889999</td>\n",
       "      <td>128.660004</td>\n",
       "      <td>125.080002</td>\n",
       "      <td>126.360001</td>\n",
       "      <td>125.657639</td>\n",
       "      <td>89113600</td>\n",
       "      <td>0.010261</td>\n",
       "    </tr>\n",
       "    <tr>\n",
       "      <th>2023-01-05</th>\n",
       "      <td>127.129997</td>\n",
       "      <td>127.769997</td>\n",
       "      <td>124.760002</td>\n",
       "      <td>125.019997</td>\n",
       "      <td>124.325081</td>\n",
       "      <td>80962700</td>\n",
       "      <td>-0.010661</td>\n",
       "    </tr>\n",
       "    <tr>\n",
       "      <th>2023-01-06</th>\n",
       "      <td>126.010002</td>\n",
       "      <td>130.289993</td>\n",
       "      <td>124.889999</td>\n",
       "      <td>129.619995</td>\n",
       "      <td>128.899521</td>\n",
       "      <td>87754700</td>\n",
       "      <td>0.036133</td>\n",
       "    </tr>\n",
       "    <tr>\n",
       "      <th>2023-01-09</th>\n",
       "      <td>130.470001</td>\n",
       "      <td>133.410004</td>\n",
       "      <td>129.889999</td>\n",
       "      <td>130.149994</td>\n",
       "      <td>129.426575</td>\n",
       "      <td>70790800</td>\n",
       "      <td>0.004081</td>\n",
       "    </tr>\n",
       "  </tbody>\n",
       "</table>\n",
       "</div>\n",
       "    <div class=\"colab-df-buttons\">\n",
       "\n",
       "  <div class=\"colab-df-container\">\n",
       "    <button class=\"colab-df-convert\" onclick=\"convertToInteractive('df-2f50ca91-3f1b-4807-8776-2257ad02f4c3')\"\n",
       "            title=\"Convert this dataframe to an interactive table.\"\n",
       "            style=\"display:none;\">\n",
       "\n",
       "  <svg xmlns=\"http://www.w3.org/2000/svg\" height=\"24px\" viewBox=\"0 -960 960 960\">\n",
       "    <path d=\"M120-120v-720h720v720H120Zm60-500h600v-160H180v160Zm220 220h160v-160H400v160Zm0 220h160v-160H400v160ZM180-400h160v-160H180v160Zm440 0h160v-160H620v160ZM180-180h160v-160H180v160Zm440 0h160v-160H620v160Z\"/>\n",
       "  </svg>\n",
       "    </button>\n",
       "\n",
       "  <style>\n",
       "    .colab-df-container {\n",
       "      display:flex;\n",
       "      gap: 12px;\n",
       "    }\n",
       "\n",
       "    .colab-df-convert {\n",
       "      background-color: #E8F0FE;\n",
       "      border: none;\n",
       "      border-radius: 50%;\n",
       "      cursor: pointer;\n",
       "      display: none;\n",
       "      fill: #1967D2;\n",
       "      height: 32px;\n",
       "      padding: 0 0 0 0;\n",
       "      width: 32px;\n",
       "    }\n",
       "\n",
       "    .colab-df-convert:hover {\n",
       "      background-color: #E2EBFA;\n",
       "      box-shadow: 0px 1px 2px rgba(60, 64, 67, 0.3), 0px 1px 3px 1px rgba(60, 64, 67, 0.15);\n",
       "      fill: #174EA6;\n",
       "    }\n",
       "\n",
       "    .colab-df-buttons div {\n",
       "      margin-bottom: 4px;\n",
       "    }\n",
       "\n",
       "    [theme=dark] .colab-df-convert {\n",
       "      background-color: #3B4455;\n",
       "      fill: #D2E3FC;\n",
       "    }\n",
       "\n",
       "    [theme=dark] .colab-df-convert:hover {\n",
       "      background-color: #434B5C;\n",
       "      box-shadow: 0px 1px 3px 1px rgba(0, 0, 0, 0.15);\n",
       "      filter: drop-shadow(0px 1px 2px rgba(0, 0, 0, 0.3));\n",
       "      fill: #FFFFFF;\n",
       "    }\n",
       "  </style>\n",
       "\n",
       "    <script>\n",
       "      const buttonEl =\n",
       "        document.querySelector('#df-2f50ca91-3f1b-4807-8776-2257ad02f4c3 button.colab-df-convert');\n",
       "      buttonEl.style.display =\n",
       "        google.colab.kernel.accessAllowed ? 'block' : 'none';\n",
       "\n",
       "      async function convertToInteractive(key) {\n",
       "        const element = document.querySelector('#df-2f50ca91-3f1b-4807-8776-2257ad02f4c3');\n",
       "        const dataTable =\n",
       "          await google.colab.kernel.invokeFunction('convertToInteractive',\n",
       "                                                    [key], {});\n",
       "        if (!dataTable) return;\n",
       "\n",
       "        const docLinkHtml = 'Like what you see? Visit the ' +\n",
       "          '<a target=\"_blank\" href=https://colab.research.google.com/notebooks/data_table.ipynb>data table notebook</a>'\n",
       "          + ' to learn more about interactive tables.';\n",
       "        element.innerHTML = '';\n",
       "        dataTable['output_type'] = 'display_data';\n",
       "        await google.colab.output.renderOutput(dataTable, element);\n",
       "        const docLink = document.createElement('div');\n",
       "        docLink.innerHTML = docLinkHtml;\n",
       "        element.appendChild(docLink);\n",
       "      }\n",
       "    </script>\n",
       "  </div>\n",
       "\n",
       "\n",
       "<div id=\"df-776d65ca-3528-4c95-bbb7-07372fd8f756\">\n",
       "  <button class=\"colab-df-quickchart\" onclick=\"quickchart('df-776d65ca-3528-4c95-bbb7-07372fd8f756')\"\n",
       "            title=\"Suggest charts\"\n",
       "            style=\"display:none;\">\n",
       "\n",
       "<svg xmlns=\"http://www.w3.org/2000/svg\" height=\"24px\"viewBox=\"0 0 24 24\"\n",
       "     width=\"24px\">\n",
       "    <g>\n",
       "        <path d=\"M19 3H5c-1.1 0-2 .9-2 2v14c0 1.1.9 2 2 2h14c1.1 0 2-.9 2-2V5c0-1.1-.9-2-2-2zM9 17H7v-7h2v7zm4 0h-2V7h2v10zm4 0h-2v-4h2v4z\"/>\n",
       "    </g>\n",
       "</svg>\n",
       "  </button>\n",
       "\n",
       "<style>\n",
       "  .colab-df-quickchart {\n",
       "      --bg-color: #E8F0FE;\n",
       "      --fill-color: #1967D2;\n",
       "      --hover-bg-color: #E2EBFA;\n",
       "      --hover-fill-color: #174EA6;\n",
       "      --disabled-fill-color: #AAA;\n",
       "      --disabled-bg-color: #DDD;\n",
       "  }\n",
       "\n",
       "  [theme=dark] .colab-df-quickchart {\n",
       "      --bg-color: #3B4455;\n",
       "      --fill-color: #D2E3FC;\n",
       "      --hover-bg-color: #434B5C;\n",
       "      --hover-fill-color: #FFFFFF;\n",
       "      --disabled-bg-color: #3B4455;\n",
       "      --disabled-fill-color: #666;\n",
       "  }\n",
       "\n",
       "  .colab-df-quickchart {\n",
       "    background-color: var(--bg-color);\n",
       "    border: none;\n",
       "    border-radius: 50%;\n",
       "    cursor: pointer;\n",
       "    display: none;\n",
       "    fill: var(--fill-color);\n",
       "    height: 32px;\n",
       "    padding: 0;\n",
       "    width: 32px;\n",
       "  }\n",
       "\n",
       "  .colab-df-quickchart:hover {\n",
       "    background-color: var(--hover-bg-color);\n",
       "    box-shadow: 0 1px 2px rgba(60, 64, 67, 0.3), 0 1px 3px 1px rgba(60, 64, 67, 0.15);\n",
       "    fill: var(--button-hover-fill-color);\n",
       "  }\n",
       "\n",
       "  .colab-df-quickchart-complete:disabled,\n",
       "  .colab-df-quickchart-complete:disabled:hover {\n",
       "    background-color: var(--disabled-bg-color);\n",
       "    fill: var(--disabled-fill-color);\n",
       "    box-shadow: none;\n",
       "  }\n",
       "\n",
       "  .colab-df-spinner {\n",
       "    border: 2px solid var(--fill-color);\n",
       "    border-color: transparent;\n",
       "    border-bottom-color: var(--fill-color);\n",
       "    animation:\n",
       "      spin 1s steps(1) infinite;\n",
       "  }\n",
       "\n",
       "  @keyframes spin {\n",
       "    0% {\n",
       "      border-color: transparent;\n",
       "      border-bottom-color: var(--fill-color);\n",
       "      border-left-color: var(--fill-color);\n",
       "    }\n",
       "    20% {\n",
       "      border-color: transparent;\n",
       "      border-left-color: var(--fill-color);\n",
       "      border-top-color: var(--fill-color);\n",
       "    }\n",
       "    30% {\n",
       "      border-color: transparent;\n",
       "      border-left-color: var(--fill-color);\n",
       "      border-top-color: var(--fill-color);\n",
       "      border-right-color: var(--fill-color);\n",
       "    }\n",
       "    40% {\n",
       "      border-color: transparent;\n",
       "      border-right-color: var(--fill-color);\n",
       "      border-top-color: var(--fill-color);\n",
       "    }\n",
       "    60% {\n",
       "      border-color: transparent;\n",
       "      border-right-color: var(--fill-color);\n",
       "    }\n",
       "    80% {\n",
       "      border-color: transparent;\n",
       "      border-right-color: var(--fill-color);\n",
       "      border-bottom-color: var(--fill-color);\n",
       "    }\n",
       "    90% {\n",
       "      border-color: transparent;\n",
       "      border-bottom-color: var(--fill-color);\n",
       "    }\n",
       "  }\n",
       "</style>\n",
       "\n",
       "  <script>\n",
       "    async function quickchart(key) {\n",
       "      const quickchartButtonEl =\n",
       "        document.querySelector('#' + key + ' button');\n",
       "      quickchartButtonEl.disabled = true;  // To prevent multiple clicks.\n",
       "      quickchartButtonEl.classList.add('colab-df-spinner');\n",
       "      try {\n",
       "        const charts = await google.colab.kernel.invokeFunction(\n",
       "            'suggestCharts', [key], {});\n",
       "      } catch (error) {\n",
       "        console.error('Error during call to suggestCharts:', error);\n",
       "      }\n",
       "      quickchartButtonEl.classList.remove('colab-df-spinner');\n",
       "      quickchartButtonEl.classList.add('colab-df-quickchart-complete');\n",
       "    }\n",
       "    (() => {\n",
       "      let quickchartButtonEl =\n",
       "        document.querySelector('#df-776d65ca-3528-4c95-bbb7-07372fd8f756 button');\n",
       "      quickchartButtonEl.style.display =\n",
       "        google.colab.kernel.accessAllowed ? 'block' : 'none';\n",
       "    })();\n",
       "  </script>\n",
       "</div>\n",
       "\n",
       "    </div>\n",
       "  </div>\n"
      ],
      "text/plain": [
       "                  Open        High         Low       Close   Adj Close  \\\n",
       "Date                                                                     \n",
       "2023-01-03  130.279999  130.899994  124.169998  125.070000  124.374802   \n",
       "2023-01-04  126.889999  128.660004  125.080002  126.360001  125.657639   \n",
       "2023-01-05  127.129997  127.769997  124.760002  125.019997  124.325081   \n",
       "2023-01-06  126.010002  130.289993  124.889999  129.619995  128.899521   \n",
       "2023-01-09  130.470001  133.410004  129.889999  130.149994  129.426575   \n",
       "\n",
       "               Volume  Log Return  \n",
       "Date                               \n",
       "2023-01-03  112117500         NaN  \n",
       "2023-01-04   89113600    0.010261  \n",
       "2023-01-05   80962700   -0.010661  \n",
       "2023-01-06   87754700    0.036133  \n",
       "2023-01-09   70790800    0.004081  "
      ]
     },
     "execution_count": 168,
     "metadata": {},
     "output_type": "execute_result"
    }
   ],
   "source": [
    "# Calculate log return based on adjusted closing price\n",
    "df['Log Return'] = np.log(df['Adj Close'] / df['Adj Close'].shift(1))\n",
    "df.head()"
   ]
  },
  {
   "cell_type": "code",
   "execution_count": 169,
   "metadata": {
    "colab": {
     "base_uri": "https://localhost:8080/",
     "height": 433
    },
    "id": "SNPg1m-t4vSU",
    "outputId": "d3032396-14c9-472a-943e-013b503ce8b1"
   },
   "outputs": [
    {
     "data": {
      "image/png": "[encoded data removed]",
      "text/plain": [
       "<Figure size 640x480 with 1 Axes>"
      ]
     },
     "metadata": {},
     "output_type": "display_data"
    }
   ],
   "source": [
    "# Plot time series, where each observation is denoted as a dot and connected via line chart with each other\n",
    "df['Log Return'].plot()\n",
    "plt.show()"
   ]
  },
  {
   "cell_type": "code",
   "execution_count": 170,
   "metadata": {
    "colab": {
     "base_uri": "https://localhost:8080/"
    },
    "id": "9m-vaguFM2wy",
    "outputId": "ce2a3852-9301-45a2-c2ce-5dc74d3c98c2"
   },
   "outputs": [
    {
     "data": {
      "text/plain": [
       "0.0017548288305700257"
      ]
     },
     "execution_count": 170,
     "metadata": {},
     "output_type": "execute_result"
    }
   ],
   "source": [
    "# Estimate asset return via sample mean\n",
    "mu_bar = df['Log Return'].mean()\n",
    "mu_bar"
   ]
  },
  {
   "cell_type": "code",
   "execution_count": 171,
   "metadata": {
    "colab": {
     "base_uri": "https://localhost:8080/"
    },
    "id": "wA8StOVEPrHC",
    "outputId": "d5c83c4b-2efc-44b6-9174-6820af45b1e4"
   },
   "outputs": [
    {
     "data": {
      "text/plain": [
       "0.5561531794751624"
      ]
     },
     "execution_count": 171,
     "metadata": {},
     "output_type": "execute_result"
    }
   ],
   "source": [
    "# Calculate annualized asset return via compounding, assuming 252 trading days\n",
    "ann_mu_bar = np.exp(mu_bar * 252) - 1\n",
    "ann_mu_bar"
   ]
  },
  {
   "cell_type": "code",
   "execution_count": 172,
   "metadata": {
    "colab": {
     "base_uri": "https://localhost:8080/"
    },
    "id": "kitRqxNzNilg",
    "outputId": "1563d1cb-3834-455d-c4bb-ca9414894cdb"
   },
   "outputs": [
    {
     "data": {
      "text/plain": [
       "0.012549821501632703"
      ]
     },
     "execution_count": 172,
     "metadata": {},
     "output_type": "execute_result"
    }
   ],
   "source": [
    "# Estimate asset volatility via sample standard deviation\n",
    "sigma_bar = df['Log Return'].std()\n",
    "sigma_bar"
   ]
  },
  {
   "cell_type": "code",
   "execution_count": 173,
   "metadata": {
    "colab": {
     "base_uri": "https://localhost:8080/"
    },
    "id": "KCUeKkAyNosJ",
    "outputId": "f07fb764-695c-4257-c03d-cf7499815f92"
   },
   "outputs": [
    {
     "name": "stdout",
     "output_type": "stream",
     "text": [
      "0.012549821501632703\n",
      "0.012524595704264506\n"
     ]
    }
   ],
   "source": [
    "# We can also calculate the std manually\n",
    "print(np.sqrt(df['Log Return'].var()))\n",
    "print(np.sqrt(np.sum((df['Log Return'] - mu_bar)**2) / (len(df) - 1)))"
   ]
  },
  {
   "cell_type": "code",
   "execution_count": 174,
   "metadata": {
    "colab": {
     "base_uri": "https://localhost:8080/"
    },
    "id": "GapBat18REbg",
    "outputId": "87a06a82-0cbb-4803-b3fe-2804f33c64fd"
   },
   "outputs": [
    {
     "data": {
      "text/plain": [
       "0.19922224014942788"
      ]
     },
     "execution_count": 174,
     "metadata": {},
     "output_type": "execute_result"
    }
   ],
   "source": [
    "# Calculate annualized volatility\n",
    "ann_sigma_bar = sigma_bar * np.sqrt(252)\n",
    "ann_sigma_bar"
   ]
  },
  {
   "cell_type": "code",
   "execution_count": 175,
   "metadata": {
    "id": "RQsaO8x0R9im"
   },
   "outputs": [],
   "source": [
    "# Introduce risk-free asset\n",
    "rf = 0.01"
   ]
  },
  {
   "cell_type": "code",
   "execution_count": 176,
   "metadata": {
    "colab": {
     "base_uri": "https://localhost:8080/"
    },
    "id": "IDLbKpLHRNKw",
    "outputId": "87b17392-8d8d-4292-e4f8-7bb119eb28d8"
   },
   "outputs": [
    {
     "data": {
      "text/plain": [
       "2.741426755695131"
      ]
     },
     "execution_count": 176,
     "metadata": {},
     "output_type": "execute_result"
    }
   ],
   "source": [
    "# Calculate asset Sharpe ratio\n",
    "sharpe_ratio = (ann_mu_bar - rf) / ann_sigma_bar\n",
    "sharpe_ratio"
   ]
  },
  {
   "cell_type": "code",
   "execution_count": 177,
   "metadata": {
    "colab": {
     "base_uri": "https://localhost:8080/"
    },
    "id": "yCw_gxyqRoxu",
    "outputId": "7acca58c-19e3-462b-8384-8e9b9f0bc7fa"
   },
   "outputs": [
    {
     "data": {
      "text/plain": [
       "0.2830765897375812"
      ]
     },
     "execution_count": 177,
     "metadata": {},
     "output_type": "execute_result"
    }
   ],
   "source": [
    "# Form a portfolio of risky asset and risk-free asset with equal weightage\n",
    "# Calculate the portfolio return\n",
    "w1 = 0.5\n",
    "w2 = 1 - w1\n",
    "mu_bar_port = w1 * ann_mu_bar + w2 * rf\n",
    "mu_bar_port"
   ]
  },
  {
   "cell_type": "code",
   "execution_count": 178,
   "metadata": {
    "colab": {
     "base_uri": "https://localhost:8080/"
    },
    "id": "6htU7D0SR4kv",
    "outputId": "7883cb41-ee29-4ef0-cd9a-0e96c549f20b"
   },
   "outputs": [
    {
     "data": {
      "text/plain": [
       "0.09961112007471394"
      ]
     },
     "execution_count": 178,
     "metadata": {},
     "output_type": "execute_result"
    }
   ],
   "source": [
    "# Calculate the portfolio volatility\n",
    "sigma_bar_port = np.sqrt(w1**2 * ann_sigma_bar**2)\n",
    "sigma_bar_port"
   ]
  },
  {
   "cell_type": "code",
   "execution_count": 179,
   "metadata": {
    "id": "0FVASpulS-Cw"
   },
   "outputs": [],
   "source": [
    "# Q: why is sigma_bar_port smaller than sigma_bar"
   ]
  },
  {
   "cell_type": "code",
   "execution_count": 180,
   "metadata": {
    "colab": {
     "base_uri": "https://localhost:8080/"
    },
    "id": "iL1vMA-iSR8S",
    "outputId": "da7e6ac0-cfb3-4a55-8bfe-0a21ab5004d8"
   },
   "outputs": [
    {
     "data": {
      "text/plain": [
       "2.741426755695131"
      ]
     },
     "execution_count": 180,
     "metadata": {},
     "output_type": "execute_result"
    }
   ],
   "source": [
    "# Calculate portfolio Sharpe ratio\n",
    "sharpe_ratio_port = (mu_bar_port - rf) / sigma_bar_port\n",
    "sharpe_ratio_port"
   ]
  },
  {
   "cell_type": "code",
   "execution_count": 181,
   "metadata": {
    "id": "TXGIqSMWSX6k"
   },
   "outputs": [],
   "source": [
    "# Q: why is the Sharpe ratio the same?"
   ]
  },
  {
   "cell_type": "code",
   "execution_count": 182,
   "metadata": {
    "colab": {
     "base_uri": "https://localhost:8080/"
    },
    "id": "lApLxj_ASvc1",
    "outputId": "268dc0a2-739d-4558-d6c3-9385e63d12b5"
   },
   "outputs": [
    {
     "name": "stdout",
     "output_type": "stream",
     "text": [
      "Optimized Weights: [0.5 0.5]\n",
      "Maximized Sharpe Ratio: 2.741426755695131\n"
     ]
    }
   ],
   "source": [
    "# Now we formulate a portfolio optimization problem and solve for optimal weights w1 and w2\n",
    "# We aim to maximize the Sharpe ratio of the portfolio subject to long-only and budget constraint\n",
    "from scipy.optimize import minimize\n",
    "\n",
    "# Define the objective function (negative Sharpe ratio)\n",
    "def neg_sharpe_ratio(weights, ann_mu_bar, ann_sigma_bar, rf):\n",
    "    # Portfolio return\n",
    "    port_return = weights[0] * ann_mu_bar + weights[1] * rf\n",
    "    # Portfolio volatility\n",
    "    port_volatility = weights[0] * ann_sigma_bar  # risk-free asset has zero volatility\n",
    "    # Sharpe ratio (negative for minimization)\n",
    "    return -(port_return - rf) / port_volatility\n",
    "\n",
    "# Constraints for weights (budget constraint: weights sum to 1)\n",
    "constraints = ({'type': 'eq', 'fun': lambda x: np.sum(x) - 1})\n",
    "\n",
    "# Bounds for weights (long-only constraint)\n",
    "bounds = ((0, 1), (0, 1))  # no short selling, weights between 0 and 1\n",
    "\n",
    "# Initial guess (start with equal allocation)\n",
    "init_guess = [0.5, 0.5]\n",
    "\n",
    "# Run the optimization\n",
    "opt_results = minimize(neg_sharpe_ratio, init_guess, args=(ann_mu_bar, ann_sigma_bar, rf),\n",
    "                       method='SLSQP', bounds=bounds, constraints=constraints)\n",
    "\n",
    "# Optimized weights\n",
    "optimized_weights = opt_results.x\n",
    "\n",
    "print(f\"Optimized Weights: {optimized_weights}\")\n",
    "print(f\"Maximized Sharpe Ratio: {-opt_results.fun}\")\n"
   ]
  },
  {
   "cell_type": "code",
   "execution_count": 183,
   "metadata": {
    "id": "H57VuOZlUks7"
   },
   "outputs": [],
   "source": [
    "# Q: why the optimal Sharpe ratio portfolio is also the same?"
   ]
  },
  {
   "cell_type": "code",
   "execution_count": 184,
   "metadata": {
    "colab": {
     "base_uri": "https://localhost:8080/"
    },
    "id": "P8BDBLDqUyaF",
    "outputId": "e047034a-3924-4ed4-be49-c00ef57b984c"
   },
   "outputs": [
    {
     "name": "stdout",
     "output_type": "stream",
     "text": [
      "Optimized Weights for Maximum Return: [1.00000000e+00 3.88578059e-16]\n",
      "Maximum Expected Portfolio Return: 0.5561531794751622\n"
     ]
    }
   ],
   "source": [
    "# Let us look at the maximum return portfolio\n",
    "# We aim to maximize the return of the portfolio subject to long-only and budget constraint\n",
    "\n",
    "# Define the objective function for return (which we want to maximize)\n",
    "def portfolio_return(weights, ann_mu_bar, rf):\n",
    "    # Portfolio return is the weighted average of the individual asset returns\n",
    "    return weights[0] * ann_mu_bar + weights[1] * rf\n",
    "\n",
    "# Since scipy's minimize function only minimizes, we can multiply the objective function by -1 to maximize\n",
    "opt_results = minimize(lambda weights: -portfolio_return(weights, ann_mu_bar, rf),\n",
    "                       init_guess,\n",
    "                       method='SLSQP',\n",
    "                       bounds=bounds,\n",
    "                       constraints=constraints)\n",
    "\n",
    "# Optimized weights for maximum return\n",
    "optimized_weights_max_return = opt_results.x\n",
    "\n",
    "print(f\"Optimized Weights for Maximum Return: {optimized_weights_max_return}\")\n",
    "print(f\"Maximum Expected Portfolio Return: {-opt_results.fun}\")\n"
   ]
  },
  {
   "cell_type": "code",
   "execution_count": 185,
   "metadata": {
    "id": "G2Riqu41V1QP"
   },
   "outputs": [],
   "source": [
    "# Q: why does the risky asset gets 100%?"
   ]
  },
  {
   "cell_type": "code",
   "execution_count": 186,
   "metadata": {
    "colab": {
     "base_uri": "https://localhost:8080/"
    },
    "id": "N_0KKZeBV9Ai",
    "outputId": "4d8e7080-32dd-4389-dfe3-3871d40e768f"
   },
   "outputs": [
    {
     "name": "stdout",
     "output_type": "stream",
     "text": [
      "Optimized Weights for Minimum Volatility: [0. 1.]\n",
      "Minimum Expected Portfolio Volatility: 0.0\n"
     ]
    }
   ],
   "source": [
    "# Let us look at the minimum variance portfolio\n",
    "# We aim to minimize the portfolio volatility subject to long-only and budget constraint\n",
    "\n",
    "# Define the objective function for volatility (which we want to minimize)\n",
    "def portfolio_volatility(weights, ann_sigma_bar):\n",
    "    # Portfolio volatility is the weighted average of the individual asset volatilities\n",
    "    return weights[0] * ann_sigma_bar\n",
    "\n",
    "opt_results = minimize(lambda weights: portfolio_volatility(weights, ann_sigma_bar),\n",
    "                       init_guess,\n",
    "                       method='SLSQP',\n",
    "                       bounds=bounds,\n",
    "                       constraints=constraints)\n",
    "\n",
    "# Optimized weights for minimum volatility\n",
    "optimized_weights_min_vol = opt_results.x\n",
    "\n",
    "print(f\"Optimized Weights for Minimum Volatility: {optimized_weights_min_vol}\")\n",
    "print(f\"Minimum Expected Portfolio Volatility: {opt_results.fun}\")"
   ]
  },
  {
   "cell_type": "code",
   "execution_count": 187,
   "metadata": {
    "id": "6TBtd662WJfM"
   },
   "outputs": [],
   "source": [
    "# Q: why does the risky asset gets 0%?"
   ]
  },
  {
   "cell_type": "markdown",
   "metadata": {
    "id": "Dap-xT3GWalh"
   },
   "source": [
    "# Two risky assets"
   ]
  },
  {
   "cell_type": "code",
   "execution_count": 188,
   "metadata": {
    "colab": {
     "base_uri": "https://localhost:8080/",
     "height": 287
    },
    "id": "GxoxIIzsWO0H",
    "outputId": "958ac027-7c7d-4b6d-fa6a-62e82821d1bb"
   },
   "outputs": [
    {
     "name": "stderr",
     "output_type": "stream",
     "text": [
      "\r",
      "[                       0%%                      ]\r",
      "[*********************100%%**********************]  2 of 2 completed\n"
     ]
    },
    {
     "data": {
      "text/html": [
       "\n",
       "  <div id=\"df-4993bfa9-f678-4a95-955c-11766b33bbb8\" class=\"colab-df-container\">\n",
       "    <div>\n",
       "<style scoped>\n",
       "    .dataframe tbody tr th:only-of-type {\n",
       "        vertical-align: middle;\n",
       "    }\n",
       "\n",
       "    .dataframe tbody tr th {\n",
       "        vertical-align: top;\n",
       "    }\n",
       "\n",
       "    .dataframe thead tr th {\n",
       "        text-align: left;\n",
       "    }\n",
       "\n",
       "    .dataframe thead tr:last-of-type th {\n",
       "        text-align: right;\n",
       "    }\n",
       "</style>\n",
       "<table border=\"1\" class=\"dataframe\">\n",
       "  <thead>\n",
       "    <tr>\n",
       "      <th>Price</th>\n",
       "      <th colspan=\"2\" halign=\"left\">Adj Close</th>\n",
       "      <th colspan=\"2\" halign=\"left\">Close</th>\n",
       "      <th colspan=\"2\" halign=\"left\">High</th>\n",
       "      <th colspan=\"2\" halign=\"left\">Low</th>\n",
       "      <th colspan=\"2\" halign=\"left\">Open</th>\n",
       "      <th colspan=\"2\" halign=\"left\">Volume</th>\n",
       "    </tr>\n",
       "    <tr>\n",
       "      <th>Ticker</th>\n",
       "      <th>GOOG</th>\n",
       "      <th>WMT</th>\n",
       "      <th>GOOG</th>\n",
       "      <th>WMT</th>\n",
       "      <th>GOOG</th>\n",
       "      <th>WMT</th>\n",
       "      <th>GOOG</th>\n",
       "      <th>WMT</th>\n",
       "      <th>GOOG</th>\n",
       "      <th>WMT</th>\n",
       "      <th>GOOG</th>\n",
       "      <th>WMT</th>\n",
       "    </tr>\n",
       "    <tr>\n",
       "      <th>Date</th>\n",
       "      <th></th>\n",
       "      <th></th>\n",
       "      <th></th>\n",
       "      <th></th>\n",
       "      <th></th>\n",
       "      <th></th>\n",
       "      <th></th>\n",
       "      <th></th>\n",
       "      <th></th>\n",
       "      <th></th>\n",
       "      <th></th>\n",
       "      <th></th>\n",
       "    </tr>\n",
       "  </thead>\n",
       "  <tbody>\n",
       "    <tr>\n",
       "      <th>2023-01-03</th>\n",
       "      <td>89.699997</td>\n",
       "      <td>141.442596</td>\n",
       "      <td>89.699997</td>\n",
       "      <td>143.600006</td>\n",
       "      <td>91.550003</td>\n",
       "      <td>143.710007</td>\n",
       "      <td>89.019997</td>\n",
       "      <td>142.089996</td>\n",
       "      <td>89.830002</td>\n",
       "      <td>142.550003</td>\n",
       "      <td>20738500</td>\n",
       "      <td>5749900</td>\n",
       "    </tr>\n",
       "    <tr>\n",
       "      <th>2023-01-04</th>\n",
       "      <td>88.709999</td>\n",
       "      <td>141.600204</td>\n",
       "      <td>88.709999</td>\n",
       "      <td>143.759995</td>\n",
       "      <td>91.239998</td>\n",
       "      <td>144.050003</td>\n",
       "      <td>87.800003</td>\n",
       "      <td>142.070007</td>\n",
       "      <td>91.010002</td>\n",
       "      <td>143.419998</td>\n",
       "      <td>27046500</td>\n",
       "      <td>4446100</td>\n",
       "    </tr>\n",
       "    <tr>\n",
       "      <th>2023-01-05</th>\n",
       "      <td>86.769997</td>\n",
       "      <td>141.117569</td>\n",
       "      <td>86.769997</td>\n",
       "      <td>143.270004</td>\n",
       "      <td>88.209999</td>\n",
       "      <td>144.130005</td>\n",
       "      <td>86.559998</td>\n",
       "      <td>142.649994</td>\n",
       "      <td>88.070000</td>\n",
       "      <td>143.460007</td>\n",
       "      <td>23136100</td>\n",
       "      <td>4424800</td>\n",
       "    </tr>\n",
       "    <tr>\n",
       "      <th>2023-01-06</th>\n",
       "      <td>88.160004</td>\n",
       "      <td>144.574829</td>\n",
       "      <td>88.160004</td>\n",
       "      <td>146.779999</td>\n",
       "      <td>88.470001</td>\n",
       "      <td>147.550003</td>\n",
       "      <td>85.570000</td>\n",
       "      <td>144.240005</td>\n",
       "      <td>87.360001</td>\n",
       "      <td>144.600006</td>\n",
       "      <td>26612600</td>\n",
       "      <td>7077300</td>\n",
       "    </tr>\n",
       "    <tr>\n",
       "      <th>2023-01-09</th>\n",
       "      <td>88.800003</td>\n",
       "      <td>142.772324</td>\n",
       "      <td>88.800003</td>\n",
       "      <td>144.949997</td>\n",
       "      <td>90.830002</td>\n",
       "      <td>147.860001</td>\n",
       "      <td>88.580002</td>\n",
       "      <td>144.800003</td>\n",
       "      <td>89.195000</td>\n",
       "      <td>146.320007</td>\n",
       "      <td>22996700</td>\n",
       "      <td>5918900</td>\n",
       "    </tr>\n",
       "  </tbody>\n",
       "</table>\n",
       "</div>\n",
       "    <div class=\"colab-df-buttons\">\n",
       "\n",
       "  <div class=\"colab-df-container\">\n",
       "    <button class=\"colab-df-convert\" onclick=\"convertToInteractive('df-4993bfa9-f678-4a95-955c-11766b33bbb8')\"\n",
       "            title=\"Convert this dataframe to an interactive table.\"\n",
       "            style=\"display:none;\">\n",
       "\n",
       "  <svg xmlns=\"http://www.w3.org/2000/svg\" height=\"24px\" viewBox=\"0 -960 960 960\">\n",
       "    <path d=\"M120-120v-720h720v720H120Zm60-500h600v-160H180v160Zm220 220h160v-160H400v160Zm0 220h160v-160H400v160ZM180-400h160v-160H180v160Zm440 0h160v-160H620v160ZM180-180h160v-160H180v160Zm440 0h160v-160H620v160Z\"/>\n",
       "  </svg>\n",
       "    </button>\n",
       "\n",
       "  <style>\n",
       "    .colab-df-container {\n",
       "      display:flex;\n",
       "      gap: 12px;\n",
       "    }\n",
       "\n",
       "    .colab-df-convert {\n",
       "      background-color: #E8F0FE;\n",
       "      border: none;\n",
       "      border-radius: 50%;\n",
       "      cursor: pointer;\n",
       "      display: none;\n",
       "      fill: #1967D2;\n",
       "      height: 32px;\n",
       "      padding: 0 0 0 0;\n",
       "      width: 32px;\n",
       "    }\n",
       "\n",
       "    .colab-df-convert:hover {\n",
       "      background-color: #E2EBFA;\n",
       "      box-shadow: 0px 1px 2px rgba(60, 64, 67, 0.3), 0px 1px 3px 1px rgba(60, 64, 67, 0.15);\n",
       "      fill: #174EA6;\n",
       "    }\n",
       "\n",
       "    .colab-df-buttons div {\n",
       "      margin-bottom: 4px;\n",
       "    }\n",
       "\n",
       "    [theme=dark] .colab-df-convert {\n",
       "      background-color: #3B4455;\n",
       "      fill: #D2E3FC;\n",
       "    }\n",
       "\n",
       "    [theme=dark] .colab-df-convert:hover {\n",
       "      background-color: #434B5C;\n",
       "      box-shadow: 0px 1px 3px 1px rgba(0, 0, 0, 0.15);\n",
       "      filter: drop-shadow(0px 1px 2px rgba(0, 0, 0, 0.3));\n",
       "      fill: #FFFFFF;\n",
       "    }\n",
       "  </style>\n",
       "\n",
       "    <script>\n",
       "      const buttonEl =\n",
       "        document.querySelector('#df-4993bfa9-f678-4a95-955c-11766b33bbb8 button.colab-df-convert');\n",
       "      buttonEl.style.display =\n",
       "        google.colab.kernel.accessAllowed ? 'block' : 'none';\n",
       "\n",
       "      async function convertToInteractive(key) {\n",
       "        const element = document.querySelector('#df-4993bfa9-f678-4a95-955c-11766b33bbb8');\n",
       "        const dataTable =\n",
       "          await google.colab.kernel.invokeFunction('convertToInteractive',\n",
       "                                                    [key], {});\n",
       "        if (!dataTable) return;\n",
       "\n",
       "        const docLinkHtml = 'Like what you see? Visit the ' +\n",
       "          '<a target=\"_blank\" href=https://colab.research.google.com/notebooks/data_table.ipynb>data table notebook</a>'\n",
       "          + ' to learn more about interactive tables.';\n",
       "        element.innerHTML = '';\n",
       "        dataTable['output_type'] = 'display_data';\n",
       "        await google.colab.output.renderOutput(dataTable, element);\n",
       "        const docLink = document.createElement('div');\n",
       "        docLink.innerHTML = docLinkHtml;\n",
       "        element.appendChild(docLink);\n",
       "      }\n",
       "    </script>\n",
       "  </div>\n",
       "\n",
       "\n",
       "<div id=\"df-beed6407-90c5-4c37-81f7-1df9f2a05420\">\n",
       "  <button class=\"colab-df-quickchart\" onclick=\"quickchart('df-beed6407-90c5-4c37-81f7-1df9f2a05420')\"\n",
       "            title=\"Suggest charts\"\n",
       "            style=\"display:none;\">\n",
       "\n",
       "<svg xmlns=\"http://www.w3.org/2000/svg\" height=\"24px\"viewBox=\"0 0 24 24\"\n",
       "     width=\"24px\">\n",
       "    <g>\n",
       "        <path d=\"M19 3H5c-1.1 0-2 .9-2 2v14c0 1.1.9 2 2 2h14c1.1 0 2-.9 2-2V5c0-1.1-.9-2-2-2zM9 17H7v-7h2v7zm4 0h-2V7h2v10zm4 0h-2v-4h2v4z\"/>\n",
       "    </g>\n",
       "</svg>\n",
       "  </button>\n",
       "\n",
       "<style>\n",
       "  .colab-df-quickchart {\n",
       "      --bg-color: #E8F0FE;\n",
       "      --fill-color: #1967D2;\n",
       "      --hover-bg-color: #E2EBFA;\n",
       "      --hover-fill-color: #174EA6;\n",
       "      --disabled-fill-color: #AAA;\n",
       "      --disabled-bg-color: #DDD;\n",
       "  }\n",
       "\n",
       "  [theme=dark] .colab-df-quickchart {\n",
       "      --bg-color: #3B4455;\n",
       "      --fill-color: #D2E3FC;\n",
       "      --hover-bg-color: #434B5C;\n",
       "      --hover-fill-color: #FFFFFF;\n",
       "      --disabled-bg-color: #3B4455;\n",
       "      --disabled-fill-color: #666;\n",
       "  }\n",
       "\n",
       "  .colab-df-quickchart {\n",
       "    background-color: var(--bg-color);\n",
       "    border: none;\n",
       "    border-radius: 50%;\n",
       "    cursor: pointer;\n",
       "    display: none;\n",
       "    fill: var(--fill-color);\n",
       "    height: 32px;\n",
       "    padding: 0;\n",
       "    width: 32px;\n",
       "  }\n",
       "\n",
       "  .colab-df-quickchart:hover {\n",
       "    background-color: var(--hover-bg-color);\n",
       "    box-shadow: 0 1px 2px rgba(60, 64, 67, 0.3), 0 1px 3px 1px rgba(60, 64, 67, 0.15);\n",
       "    fill: var(--button-hover-fill-color);\n",
       "  }\n",
       "\n",
       "  .colab-df-quickchart-complete:disabled,\n",
       "  .colab-df-quickchart-complete:disabled:hover {\n",
       "    background-color: var(--disabled-bg-color);\n",
       "    fill: var(--disabled-fill-color);\n",
       "    box-shadow: none;\n",
       "  }\n",
       "\n",
       "  .colab-df-spinner {\n",
       "    border: 2px solid var(--fill-color);\n",
       "    border-color: transparent;\n",
       "    border-bottom-color: var(--fill-color);\n",
       "    animation:\n",
       "      spin 1s steps(1) infinite;\n",
       "  }\n",
       "\n",
       "  @keyframes spin {\n",
       "    0% {\n",
       "      border-color: transparent;\n",
       "      border-bottom-color: var(--fill-color);\n",
       "      border-left-color: var(--fill-color);\n",
       "    }\n",
       "    20% {\n",
       "      border-color: transparent;\n",
       "      border-left-color: var(--fill-color);\n",
       "      border-top-color: var(--fill-color);\n",
       "    }\n",
       "    30% {\n",
       "      border-color: transparent;\n",
       "      border-left-color: var(--fill-color);\n",
       "      border-top-color: var(--fill-color);\n",
       "      border-right-color: var(--fill-color);\n",
       "    }\n",
       "    40% {\n",
       "      border-color: transparent;\n",
       "      border-right-color: var(--fill-color);\n",
       "      border-top-color: var(--fill-color);\n",
       "    }\n",
       "    60% {\n",
       "      border-color: transparent;\n",
       "      border-right-color: var(--fill-color);\n",
       "    }\n",
       "    80% {\n",
       "      border-color: transparent;\n",
       "      border-right-color: var(--fill-color);\n",
       "      border-bottom-color: var(--fill-color);\n",
       "    }\n",
       "    90% {\n",
       "      border-color: transparent;\n",
       "      border-bottom-color: var(--fill-color);\n",
       "    }\n",
       "  }\n",
       "</style>\n",
       "\n",
       "  <script>\n",
       "    async function quickchart(key) {\n",
       "      const quickchartButtonEl =\n",
       "        document.querySelector('#' + key + ' button');\n",
       "      quickchartButtonEl.disabled = true;  // To prevent multiple clicks.\n",
       "      quickchartButtonEl.classList.add('colab-df-spinner');\n",
       "      try {\n",
       "        const charts = await google.colab.kernel.invokeFunction(\n",
       "            'suggestCharts', [key], {});\n",
       "      } catch (error) {\n",
       "        console.error('Error during call to suggestCharts:', error);\n",
       "      }\n",
       "      quickchartButtonEl.classList.remove('colab-df-spinner');\n",
       "      quickchartButtonEl.classList.add('colab-df-quickchart-complete');\n",
       "    }\n",
       "    (() => {\n",
       "      let quickchartButtonEl =\n",
       "        document.querySelector('#df-beed6407-90c5-4c37-81f7-1df9f2a05420 button');\n",
       "      quickchartButtonEl.style.display =\n",
       "        google.colab.kernel.accessAllowed ? 'block' : 'none';\n",
       "    })();\n",
       "  </script>\n",
       "</div>\n",
       "\n",
       "    </div>\n",
       "  </div>\n"
      ],
      "text/plain": [
       "Price       Adj Close                  Close                   High  \\\n",
       "Ticker           GOOG         WMT       GOOG         WMT       GOOG   \n",
       "Date                                                                  \n",
       "2023-01-03  89.699997  141.442596  89.699997  143.600006  91.550003   \n",
       "2023-01-04  88.709999  141.600204  88.709999  143.759995  91.239998   \n",
       "2023-01-05  86.769997  141.117569  86.769997  143.270004  88.209999   \n",
       "2023-01-06  88.160004  144.574829  88.160004  146.779999  88.470001   \n",
       "2023-01-09  88.800003  142.772324  88.800003  144.949997  90.830002   \n",
       "\n",
       "Price                         Low                   Open              \\\n",
       "Ticker             WMT       GOOG         WMT       GOOG         WMT   \n",
       "Date                                                                   \n",
       "2023-01-03  143.710007  89.019997  142.089996  89.830002  142.550003   \n",
       "2023-01-04  144.050003  87.800003  142.070007  91.010002  143.419998   \n",
       "2023-01-05  144.130005  86.559998  142.649994  88.070000  143.460007   \n",
       "2023-01-06  147.550003  85.570000  144.240005  87.360001  144.600006   \n",
       "2023-01-09  147.860001  88.580002  144.800003  89.195000  146.320007   \n",
       "\n",
       "Price         Volume           \n",
       "Ticker          GOOG      WMT  \n",
       "Date                           \n",
       "2023-01-03  20738500  5749900  \n",
       "2023-01-04  27046500  4446100  \n",
       "2023-01-05  23136100  4424800  \n",
       "2023-01-06  26612600  7077300  \n",
       "2023-01-09  22996700  5918900  "
      ]
     },
     "execution_count": 188,
     "metadata": {},
     "output_type": "execute_result"
    }
   ],
   "source": [
    "# Download stock data, which is automatically indexed by date\n",
    "symbol = ['GOOG','WMT']\n",
    "df = yf.download(symbol, start=\"2023-01-01\", end=\"2023-12-31\")\n",
    "df.head()"
   ]
  },
  {
   "cell_type": "code",
   "execution_count": 189,
   "metadata": {
    "colab": {
     "base_uri": "https://localhost:8080/",
     "height": 238
    },
    "id": "bQiqv3G0Ww-q",
    "outputId": "7545c4b8-e4d2-4be6-c080-6d2746eb70bb"
   },
   "outputs": [
    {
     "data": {
      "text/html": [
       "\n",
       "  <div id=\"df-245633cb-fe4a-434c-af64-16e536cbea4c\" class=\"colab-df-container\">\n",
       "    <div>\n",
       "<style scoped>\n",
       "    .dataframe tbody tr th:only-of-type {\n",
       "        vertical-align: middle;\n",
       "    }\n",
       "\n",
       "    .dataframe tbody tr th {\n",
       "        vertical-align: top;\n",
       "    }\n",
       "\n",
       "    .dataframe thead th {\n",
       "        text-align: right;\n",
       "    }\n",
       "</style>\n",
       "<table border=\"1\" class=\"dataframe\">\n",
       "  <thead>\n",
       "    <tr style=\"text-align: right;\">\n",
       "      <th>Ticker</th>\n",
       "      <th>GOOG</th>\n",
       "      <th>WMT</th>\n",
       "    </tr>\n",
       "    <tr>\n",
       "      <th>Date</th>\n",
       "      <th></th>\n",
       "      <th></th>\n",
       "    </tr>\n",
       "  </thead>\n",
       "  <tbody>\n",
       "    <tr>\n",
       "      <th>2023-01-03</th>\n",
       "      <td>89.699997</td>\n",
       "      <td>141.442596</td>\n",
       "    </tr>\n",
       "    <tr>\n",
       "      <th>2023-01-04</th>\n",
       "      <td>88.709999</td>\n",
       "      <td>141.600204</td>\n",
       "    </tr>\n",
       "    <tr>\n",
       "      <th>2023-01-05</th>\n",
       "      <td>86.769997</td>\n",
       "      <td>141.117569</td>\n",
       "    </tr>\n",
       "    <tr>\n",
       "      <th>2023-01-06</th>\n",
       "      <td>88.160004</td>\n",
       "      <td>144.574829</td>\n",
       "    </tr>\n",
       "    <tr>\n",
       "      <th>2023-01-09</th>\n",
       "      <td>88.800003</td>\n",
       "      <td>142.772324</td>\n",
       "    </tr>\n",
       "  </tbody>\n",
       "</table>\n",
       "</div>\n",
       "    <div class=\"colab-df-buttons\">\n",
       "\n",
       "  <div class=\"colab-df-container\">\n",
       "    <button class=\"colab-df-convert\" onclick=\"convertToInteractive('df-245633cb-fe4a-434c-af64-16e536cbea4c')\"\n",
       "            title=\"Convert this dataframe to an interactive table.\"\n",
       "            style=\"display:none;\">\n",
       "\n",
       "  <svg xmlns=\"http://www.w3.org/2000/svg\" height=\"24px\" viewBox=\"0 -960 960 960\">\n",
       "    <path d=\"M120-120v-720h720v720H120Zm60-500h600v-160H180v160Zm220 220h160v-160H400v160Zm0 220h160v-160H400v160ZM180-400h160v-160H180v160Zm440 0h160v-160H620v160ZM180-180h160v-160H180v160Zm440 0h160v-160H620v160Z\"/>\n",
       "  </svg>\n",
       "    </button>\n",
       "\n",
       "  <style>\n",
       "    .colab-df-container {\n",
       "      display:flex;\n",
       "      gap: 12px;\n",
       "    }\n",
       "\n",
       "    .colab-df-convert {\n",
       "      background-color: #E8F0FE;\n",
       "      border: none;\n",
       "      border-radius: 50%;\n",
       "      cursor: pointer;\n",
       "      display: none;\n",
       "      fill: #1967D2;\n",
       "      height: 32px;\n",
       "      padding: 0 0 0 0;\n",
       "      width: 32px;\n",
       "    }\n",
       "\n",
       "    .colab-df-convert:hover {\n",
       "      background-color: #E2EBFA;\n",
       "      box-shadow: 0px 1px 2px rgba(60, 64, 67, 0.3), 0px 1px 3px 1px rgba(60, 64, 67, 0.15);\n",
       "      fill: #174EA6;\n",
       "    }\n",
       "\n",
       "    .colab-df-buttons div {\n",
       "      margin-bottom: 4px;\n",
       "    }\n",
       "\n",
       "    [theme=dark] .colab-df-convert {\n",
       "      background-color: #3B4455;\n",
       "      fill: #D2E3FC;\n",
       "    }\n",
       "\n",
       "    [theme=dark] .colab-df-convert:hover {\n",
       "      background-color: #434B5C;\n",
       "      box-shadow: 0px 1px 3px 1px rgba(0, 0, 0, 0.15);\n",
       "      filter: drop-shadow(0px 1px 2px rgba(0, 0, 0, 0.3));\n",
       "      fill: #FFFFFF;\n",
       "    }\n",
       "  </style>\n",
       "\n",
       "    <script>\n",
       "      const buttonEl =\n",
       "        document.querySelector('#df-245633cb-fe4a-434c-af64-16e536cbea4c button.colab-df-convert');\n",
       "      buttonEl.style.display =\n",
       "        google.colab.kernel.accessAllowed ? 'block' : 'none';\n",
       "\n",
       "      async function convertToInteractive(key) {\n",
       "        const element = document.querySelector('#df-245633cb-fe4a-434c-af64-16e536cbea4c');\n",
       "        const dataTable =\n",
       "          await google.colab.kernel.invokeFunction('convertToInteractive',\n",
       "                                                    [key], {});\n",
       "        if (!dataTable) return;\n",
       "\n",
       "        const docLinkHtml = 'Like what you see? Visit the ' +\n",
       "          '<a target=\"_blank\" href=https://colab.research.google.com/notebooks/data_table.ipynb>data table notebook</a>'\n",
       "          + ' to learn more about interactive tables.';\n",
       "        element.innerHTML = '';\n",
       "        dataTable['output_type'] = 'display_data';\n",
       "        await google.colab.output.renderOutput(dataTable, element);\n",
       "        const docLink = document.createElement('div');\n",
       "        docLink.innerHTML = docLinkHtml;\n",
       "        element.appendChild(docLink);\n",
       "      }\n",
       "    </script>\n",
       "  </div>\n",
       "\n",
       "\n",
       "<div id=\"df-7c95a2d7-331a-4eff-bc69-147855fd2d40\">\n",
       "  <button class=\"colab-df-quickchart\" onclick=\"quickchart('df-7c95a2d7-331a-4eff-bc69-147855fd2d40')\"\n",
       "            title=\"Suggest charts\"\n",
       "            style=\"display:none;\">\n",
       "\n",
       "<svg xmlns=\"http://www.w3.org/2000/svg\" height=\"24px\"viewBox=\"0 0 24 24\"\n",
       "     width=\"24px\">\n",
       "    <g>\n",
       "        <path d=\"M19 3H5c-1.1 0-2 .9-2 2v14c0 1.1.9 2 2 2h14c1.1 0 2-.9 2-2V5c0-1.1-.9-2-2-2zM9 17H7v-7h2v7zm4 0h-2V7h2v10zm4 0h-2v-4h2v4z\"/>\n",
       "    </g>\n",
       "</svg>\n",
       "  </button>\n",
       "\n",
       "<style>\n",
       "  .colab-df-quickchart {\n",
       "      --bg-color: #E8F0FE;\n",
       "      --fill-color: #1967D2;\n",
       "      --hover-bg-color: #E2EBFA;\n",
       "      --hover-fill-color: #174EA6;\n",
       "      --disabled-fill-color: #AAA;\n",
       "      --disabled-bg-color: #DDD;\n",
       "  }\n",
       "\n",
       "  [theme=dark] .colab-df-quickchart {\n",
       "      --bg-color: #3B4455;\n",
       "      --fill-color: #D2E3FC;\n",
       "      --hover-bg-color: #434B5C;\n",
       "      --hover-fill-color: #FFFFFF;\n",
       "      --disabled-bg-color: #3B4455;\n",
       "      --disabled-fill-color: #666;\n",
       "  }\n",
       "\n",
       "  .colab-df-quickchart {\n",
       "    background-color: var(--bg-color);\n",
       "    border: none;\n",
       "    border-radius: 50%;\n",
       "    cursor: pointer;\n",
       "    display: none;\n",
       "    fill: var(--fill-color);\n",
       "    height: 32px;\n",
       "    padding: 0;\n",
       "    width: 32px;\n",
       "  }\n",
       "\n",
       "  .colab-df-quickchart:hover {\n",
       "    background-color: var(--hover-bg-color);\n",
       "    box-shadow: 0 1px 2px rgba(60, 64, 67, 0.3), 0 1px 3px 1px rgba(60, 64, 67, 0.15);\n",
       "    fill: var(--button-hover-fill-color);\n",
       "  }\n",
       "\n",
       "  .colab-df-quickchart-complete:disabled,\n",
       "  .colab-df-quickchart-complete:disabled:hover {\n",
       "    background-color: var(--disabled-bg-color);\n",
       "    fill: var(--disabled-fill-color);\n",
       "    box-shadow: none;\n",
       "  }\n",
       "\n",
       "  .colab-df-spinner {\n",
       "    border: 2px solid var(--fill-color);\n",
       "    border-color: transparent;\n",
       "    border-bottom-color: var(--fill-color);\n",
       "    animation:\n",
       "      spin 1s steps(1) infinite;\n",
       "  }\n",
       "\n",
       "  @keyframes spin {\n",
       "    0% {\n",
       "      border-color: transparent;\n",
       "      border-bottom-color: var(--fill-color);\n",
       "      border-left-color: var(--fill-color);\n",
       "    }\n",
       "    20% {\n",
       "      border-color: transparent;\n",
       "      border-left-color: var(--fill-color);\n",
       "      border-top-color: var(--fill-color);\n",
       "    }\n",
       "    30% {\n",
       "      border-color: transparent;\n",
       "      border-left-color: var(--fill-color);\n",
       "      border-top-color: var(--fill-color);\n",
       "      border-right-color: var(--fill-color);\n",
       "    }\n",
       "    40% {\n",
       "      border-color: transparent;\n",
       "      border-right-color: var(--fill-color);\n",
       "      border-top-color: var(--fill-color);\n",
       "    }\n",
       "    60% {\n",
       "      border-color: transparent;\n",
       "      border-right-color: var(--fill-color);\n",
       "    }\n",
       "    80% {\n",
       "      border-color: transparent;\n",
       "      border-right-color: var(--fill-color);\n",
       "      border-bottom-color: var(--fill-color);\n",
       "    }\n",
       "    90% {\n",
       "      border-color: transparent;\n",
       "      border-bottom-color: var(--fill-color);\n",
       "    }\n",
       "  }\n",
       "</style>\n",
       "\n",
       "  <script>\n",
       "    async function quickchart(key) {\n",
       "      const quickchartButtonEl =\n",
       "        document.querySelector('#' + key + ' button');\n",
       "      quickchartButtonEl.disabled = true;  // To prevent multiple clicks.\n",
       "      quickchartButtonEl.classList.add('colab-df-spinner');\n",
       "      try {\n",
       "        const charts = await google.colab.kernel.invokeFunction(\n",
       "            'suggestCharts', [key], {});\n",
       "      } catch (error) {\n",
       "        console.error('Error during call to suggestCharts:', error);\n",
       "      }\n",
       "      quickchartButtonEl.classList.remove('colab-df-spinner');\n",
       "      quickchartButtonEl.classList.add('colab-df-quickchart-complete');\n",
       "    }\n",
       "    (() => {\n",
       "      let quickchartButtonEl =\n",
       "        document.querySelector('#df-7c95a2d7-331a-4eff-bc69-147855fd2d40 button');\n",
       "      quickchartButtonEl.style.display =\n",
       "        google.colab.kernel.accessAllowed ? 'block' : 'none';\n",
       "    })();\n",
       "  </script>\n",
       "</div>\n",
       "\n",
       "    </div>\n",
       "  </div>\n"
      ],
      "text/plain": [
       "Ticker           GOOG         WMT\n",
       "Date                             \n",
       "2023-01-03  89.699997  141.442596\n",
       "2023-01-04  88.709999  141.600204\n",
       "2023-01-05  86.769997  141.117569\n",
       "2023-01-06  88.160004  144.574829\n",
       "2023-01-09  88.800003  142.772324"
      ]
     },
     "execution_count": 189,
     "metadata": {},
     "output_type": "execute_result"
    }
   ],
   "source": [
    "# Focus on adj close\n",
    "df = df['Adj Close']\n",
    "df.head()"
   ]
  },
  {
   "cell_type": "code",
   "execution_count": 190,
   "metadata": {
    "colab": {
     "base_uri": "https://localhost:8080/",
     "height": 238
    },
    "id": "BgvtbCZdXHqC",
    "outputId": "1f9bf31b-a045-40b2-d4c2-4b345e38eb0b"
   },
   "outputs": [
    {
     "data": {
      "text/html": [
       "\n",
       "  <div id=\"df-f31be9c3-a007-4b6e-b22e-a51afef29e7e\" class=\"colab-df-container\">\n",
       "    <div>\n",
       "<style scoped>\n",
       "    .dataframe tbody tr th:only-of-type {\n",
       "        vertical-align: middle;\n",
       "    }\n",
       "\n",
       "    .dataframe tbody tr th {\n",
       "        vertical-align: top;\n",
       "    }\n",
       "\n",
       "    .dataframe thead th {\n",
       "        text-align: right;\n",
       "    }\n",
       "</style>\n",
       "<table border=\"1\" class=\"dataframe\">\n",
       "  <thead>\n",
       "    <tr style=\"text-align: right;\">\n",
       "      <th>Ticker</th>\n",
       "      <th>GOOG</th>\n",
       "      <th>WMT</th>\n",
       "    </tr>\n",
       "    <tr>\n",
       "      <th>Date</th>\n",
       "      <th></th>\n",
       "      <th></th>\n",
       "    </tr>\n",
       "  </thead>\n",
       "  <tbody>\n",
       "    <tr>\n",
       "      <th>2023-01-03</th>\n",
       "      <td>NaN</td>\n",
       "      <td>NaN</td>\n",
       "    </tr>\n",
       "    <tr>\n",
       "      <th>2023-01-04</th>\n",
       "      <td>-0.011098</td>\n",
       "      <td>0.001114</td>\n",
       "    </tr>\n",
       "    <tr>\n",
       "      <th>2023-01-05</th>\n",
       "      <td>-0.022112</td>\n",
       "      <td>-0.003414</td>\n",
       "    </tr>\n",
       "    <tr>\n",
       "      <th>2023-01-06</th>\n",
       "      <td>0.015892</td>\n",
       "      <td>0.024204</td>\n",
       "    </tr>\n",
       "    <tr>\n",
       "      <th>2023-01-09</th>\n",
       "      <td>0.007233</td>\n",
       "      <td>-0.012546</td>\n",
       "    </tr>\n",
       "  </tbody>\n",
       "</table>\n",
       "</div>\n",
       "    <div class=\"colab-df-buttons\">\n",
       "\n",
       "  <div class=\"colab-df-container\">\n",
       "    <button class=\"colab-df-convert\" onclick=\"convertToInteractive('df-f31be9c3-a007-4b6e-b22e-a51afef29e7e')\"\n",
       "            title=\"Convert this dataframe to an interactive table.\"\n",
       "            style=\"display:none;\">\n",
       "\n",
       "  <svg xmlns=\"http://www.w3.org/2000/svg\" height=\"24px\" viewBox=\"0 -960 960 960\">\n",
       "    <path d=\"M120-120v-720h720v720H120Zm60-500h600v-160H180v160Zm220 220h160v-160H400v160Zm0 220h160v-160H400v160ZM180-400h160v-160H180v160Zm440 0h160v-160H620v160ZM180-180h160v-160H180v160Zm440 0h160v-160H620v160Z\"/>\n",
       "  </svg>\n",
       "    </button>\n",
       "\n",
       "  <style>\n",
       "    .colab-df-container {\n",
       "      display:flex;\n",
       "      gap: 12px;\n",
       "    }\n",
       "\n",
       "    .colab-df-convert {\n",
       "      background-color: #E8F0FE;\n",
       "      border: none;\n",
       "      border-radius: 50%;\n",
       "      cursor: pointer;\n",
       "      display: none;\n",
       "      fill: #1967D2;\n",
       "      height: 32px;\n",
       "      padding: 0 0 0 0;\n",
       "      width: 32px;\n",
       "    }\n",
       "\n",
       "    .colab-df-convert:hover {\n",
       "      background-color: #E2EBFA;\n",
       "      box-shadow: 0px 1px 2px rgba(60, 64, 67, 0.3), 0px 1px 3px 1px rgba(60, 64, 67, 0.15);\n",
       "      fill: #174EA6;\n",
       "    }\n",
       "\n",
       "    .colab-df-buttons div {\n",
       "      margin-bottom: 4px;\n",
       "    }\n",
       "\n",
       "    [theme=dark] .colab-df-convert {\n",
       "      background-color: #3B4455;\n",
       "      fill: #D2E3FC;\n",
       "    }\n",
       "\n",
       "    [theme=dark] .colab-df-convert:hover {\n",
       "      background-color: #434B5C;\n",
       "      box-shadow: 0px 1px 3px 1px rgba(0, 0, 0, 0.15);\n",
       "      filter: drop-shadow(0px 1px 2px rgba(0, 0, 0, 0.3));\n",
       "      fill: #FFFFFF;\n",
       "    }\n",
       "  </style>\n",
       "\n",
       "    <script>\n",
       "      const buttonEl =\n",
       "        document.querySelector('#df-f31be9c3-a007-4b6e-b22e-a51afef29e7e button.colab-df-convert');\n",
       "      buttonEl.style.display =\n",
       "        google.colab.kernel.accessAllowed ? 'block' : 'none';\n",
       "\n",
       "      async function convertToInteractive(key) {\n",
       "        const element = document.querySelector('#df-f31be9c3-a007-4b6e-b22e-a51afef29e7e');\n",
       "        const dataTable =\n",
       "          await google.colab.kernel.invokeFunction('convertToInteractive',\n",
       "                                                    [key], {});\n",
       "        if (!dataTable) return;\n",
       "\n",
       "        const docLinkHtml = 'Like what you see? Visit the ' +\n",
       "          '<a target=\"_blank\" href=https://colab.research.google.com/notebooks/data_table.ipynb>data table notebook</a>'\n",
       "          + ' to learn more about interactive tables.';\n",
       "        element.innerHTML = '';\n",
       "        dataTable['output_type'] = 'display_data';\n",
       "        await google.colab.output.renderOutput(dataTable, element);\n",
       "        const docLink = document.createElement('div');\n",
       "        docLink.innerHTML = docLinkHtml;\n",
       "        element.appendChild(docLink);\n",
       "      }\n",
       "    </script>\n",
       "  </div>\n",
       "\n",
       "\n",
       "<div id=\"df-43deb9fa-9e31-4b58-80d1-f5c6f98d4aaa\">\n",
       "  <button class=\"colab-df-quickchart\" onclick=\"quickchart('df-43deb9fa-9e31-4b58-80d1-f5c6f98d4aaa')\"\n",
       "            title=\"Suggest charts\"\n",
       "            style=\"display:none;\">\n",
       "\n",
       "<svg xmlns=\"http://www.w3.org/2000/svg\" height=\"24px\"viewBox=\"0 0 24 24\"\n",
       "     width=\"24px\">\n",
       "    <g>\n",
       "        <path d=\"M19 3H5c-1.1 0-2 .9-2 2v14c0 1.1.9 2 2 2h14c1.1 0 2-.9 2-2V5c0-1.1-.9-2-2-2zM9 17H7v-7h2v7zm4 0h-2V7h2v10zm4 0h-2v-4h2v4z\"/>\n",
       "    </g>\n",
       "</svg>\n",
       "  </button>\n",
       "\n",
       "<style>\n",
       "  .colab-df-quickchart {\n",
       "      --bg-color: #E8F0FE;\n",
       "      --fill-color: #1967D2;\n",
       "      --hover-bg-color: #E2EBFA;\n",
       "      --hover-fill-color: #174EA6;\n",
       "      --disabled-fill-color: #AAA;\n",
       "      --disabled-bg-color: #DDD;\n",
       "  }\n",
       "\n",
       "  [theme=dark] .colab-df-quickchart {\n",
       "      --bg-color: #3B4455;\n",
       "      --fill-color: #D2E3FC;\n",
       "      --hover-bg-color: #434B5C;\n",
       "      --hover-fill-color: #FFFFFF;\n",
       "      --disabled-bg-color: #3B4455;\n",
       "      --disabled-fill-color: #666;\n",
       "  }\n",
       "\n",
       "  .colab-df-quickchart {\n",
       "    background-color: var(--bg-color);\n",
       "    border: none;\n",
       "    border-radius: 50%;\n",
       "    cursor: pointer;\n",
       "    display: none;\n",
       "    fill: var(--fill-color);\n",
       "    height: 32px;\n",
       "    padding: 0;\n",
       "    width: 32px;\n",
       "  }\n",
       "\n",
       "  .colab-df-quickchart:hover {\n",
       "    background-color: var(--hover-bg-color);\n",
       "    box-shadow: 0 1px 2px rgba(60, 64, 67, 0.3), 0 1px 3px 1px rgba(60, 64, 67, 0.15);\n",
       "    fill: var(--button-hover-fill-color);\n",
       "  }\n",
       "\n",
       "  .colab-df-quickchart-complete:disabled,\n",
       "  .colab-df-quickchart-complete:disabled:hover {\n",
       "    background-color: var(--disabled-bg-color);\n",
       "    fill: var(--disabled-fill-color);\n",
       "    box-shadow: none;\n",
       "  }\n",
       "\n",
       "  .colab-df-spinner {\n",
       "    border: 2px solid var(--fill-color);\n",
       "    border-color: transparent;\n",
       "    border-bottom-color: var(--fill-color);\n",
       "    animation:\n",
       "      spin 1s steps(1) infinite;\n",
       "  }\n",
       "\n",
       "  @keyframes spin {\n",
       "    0% {\n",
       "      border-color: transparent;\n",
       "      border-bottom-color: var(--fill-color);\n",
       "      border-left-color: var(--fill-color);\n",
       "    }\n",
       "    20% {\n",
       "      border-color: transparent;\n",
       "      border-left-color: var(--fill-color);\n",
       "      border-top-color: var(--fill-color);\n",
       "    }\n",
       "    30% {\n",
       "      border-color: transparent;\n",
       "      border-left-color: var(--fill-color);\n",
       "      border-top-color: var(--fill-color);\n",
       "      border-right-color: var(--fill-color);\n",
       "    }\n",
       "    40% {\n",
       "      border-color: transparent;\n",
       "      border-right-color: var(--fill-color);\n",
       "      border-top-color: var(--fill-color);\n",
       "    }\n",
       "    60% {\n",
       "      border-color: transparent;\n",
       "      border-right-color: var(--fill-color);\n",
       "    }\n",
       "    80% {\n",
       "      border-color: transparent;\n",
       "      border-right-color: var(--fill-color);\n",
       "      border-bottom-color: var(--fill-color);\n",
       "    }\n",
       "    90% {\n",
       "      border-color: transparent;\n",
       "      border-bottom-color: var(--fill-color);\n",
       "    }\n",
       "  }\n",
       "</style>\n",
       "\n",
       "  <script>\n",
       "    async function quickchart(key) {\n",
       "      const quickchartButtonEl =\n",
       "        document.querySelector('#' + key + ' button');\n",
       "      quickchartButtonEl.disabled = true;  // To prevent multiple clicks.\n",
       "      quickchartButtonEl.classList.add('colab-df-spinner');\n",
       "      try {\n",
       "        const charts = await google.colab.kernel.invokeFunction(\n",
       "            'suggestCharts', [key], {});\n",
       "      } catch (error) {\n",
       "        console.error('Error during call to suggestCharts:', error);\n",
       "      }\n",
       "      quickchartButtonEl.classList.remove('colab-df-spinner');\n",
       "      quickchartButtonEl.classList.add('colab-df-quickchart-complete');\n",
       "    }\n",
       "    (() => {\n",
       "      let quickchartButtonEl =\n",
       "        document.querySelector('#df-43deb9fa-9e31-4b58-80d1-f5c6f98d4aaa button');\n",
       "      quickchartButtonEl.style.display =\n",
       "        google.colab.kernel.accessAllowed ? 'block' : 'none';\n",
       "    })();\n",
       "  </script>\n",
       "</div>\n",
       "\n",
       "    </div>\n",
       "  </div>\n"
      ],
      "text/plain": [
       "Ticker          GOOG       WMT\n",
       "Date                          \n",
       "2023-01-03       NaN       NaN\n",
       "2023-01-04 -0.011098  0.001114\n",
       "2023-01-05 -0.022112 -0.003414\n",
       "2023-01-06  0.015892  0.024204\n",
       "2023-01-09  0.007233 -0.012546"
      ]
     },
     "execution_count": 190,
     "metadata": {},
     "output_type": "execute_result"
    }
   ],
   "source": [
    "# Calculate the log return based on adj closing price for each asset\n",
    "df = np.log(df / df.shift(1))\n",
    "df.head()"
   ]
  },
  {
   "cell_type": "code",
   "execution_count": 191,
   "metadata": {
    "colab": {
     "base_uri": "https://localhost:8080/",
     "height": 451
    },
    "id": "uwu5pPkyXa1G",
    "outputId": "f73064bb-d02c-42a8-d414-7dbfb31dc032"
   },
   "outputs": [
    {
     "data": {
      "text/plain": [
       "<Axes: xlabel='Date'>"
      ]
     },
     "execution_count": 191,
     "metadata": {},
     "output_type": "execute_result"
    },
    {
     "data": {
      "image/png": "[encoded data removed]",
      "text/plain": [
       "<Figure size 640x480 with 1 Axes>"
      ]
     },
     "metadata": {},
     "output_type": "display_data"
    }
   ],
   "source": [
    "# Plot the log returns\n",
    "df.plot()"
   ]
  },
  {
   "cell_type": "code",
   "execution_count": 192,
   "metadata": {
    "colab": {
     "base_uri": "https://localhost:8080/"
    },
    "id": "JEFZwEJrXhDr",
    "outputId": "f26fdb0d-4baf-48b3-f2a3-a25affc07ba2"
   },
   "outputs": [
    {
     "name": "stdout",
     "output_type": "stream",
     "text": [
      "Annualized Return: Ticker\n",
      "GOOG    0.457236\n",
      "WMT     0.109790\n",
      "dtype: float64\n",
      "Annualized Volatility: Ticker\n",
      "GOOG    0.306677\n",
      "WMT     0.158127\n",
      "dtype: float64\n"
     ]
    }
   ],
   "source": [
    "# Calculate annualized return and volatility for each asset\n",
    "ann_mu = df.mean() * 252\n",
    "ann_sigma = df.std() * np.sqrt(252)\n",
    "print(f\"Annualized Return: {ann_mu}\")\n",
    "print(f\"Annualized Volatility: {ann_sigma}\")"
   ]
  },
  {
   "cell_type": "code",
   "execution_count": 193,
   "metadata": {
    "colab": {
     "base_uri": "https://localhost:8080/"
    },
    "id": "9ksdv2odXuKQ",
    "outputId": "9bb84ff1-d228-4691-f0db-e69c72889719"
   },
   "outputs": [
    {
     "name": "stdout",
     "output_type": "stream",
     "text": [
      "Annualized Sample Covariance Matrix: \n",
      "Ticker      GOOG       WMT\n",
      "Ticker                    \n",
      "GOOG    0.094051  0.005888\n",
      "WMT     0.005888  0.025004\n"
     ]
    }
   ],
   "source": [
    "# Calculate annualized sample covariance matrix\n",
    "cov_matrix = df.cov() * 252\n",
    "print(f\"Annualized Sample Covariance Matrix: \\n{cov_matrix}\")"
   ]
  },
  {
   "cell_type": "code",
   "execution_count": 194,
   "metadata": {
    "colab": {
     "base_uri": "https://localhost:8080/"
    },
    "id": "fhhGl5v6X8z5",
    "outputId": "b8ac10d5-d4ca-442c-d441-ca1530a91393"
   },
   "outputs": [
    {
     "name": "stdout",
     "output_type": "stream",
     "text": [
      "Portfolio Return: 0.2835131149264394\n",
      "Portfolio Volatility: 0.18085285697603787\n"
     ]
    }
   ],
   "source": [
    "# Assume a portfolio of equal weightage\n",
    "# Calculate the portfolio return and volatility\n",
    "portfolio_return = ann_mu[0] * 0.5 + ann_mu[1] * 0.5\n",
    "portfolio_volatility = np.sqrt(\n",
    "    0.5**2 * cov_matrix.iloc[0, 0] +\n",
    "    0.5**2 * cov_matrix.iloc[1, 1] +\n",
    "    2 * 0.5 * 0.5 * cov_matrix.iloc[0, 1]\n",
    ")\n",
    "print(f\"Portfolio Return: {portfolio_return}\")\n",
    "print(f\"Portfolio Volatility: {portfolio_volatility}\")"
   ]
  },
  {
   "cell_type": "code",
   "execution_count": 195,
   "metadata": {
    "colab": {
     "base_uri": "https://localhost:8080/"
    },
    "id": "t39jv40HaMb9",
    "outputId": "35883039-9779-40f2-f1b2-9ca6e90ce6a7"
   },
   "outputs": [
    {
     "name": "stdout",
     "output_type": "stream",
     "text": [
      "Optimized Weights: [0.6109601 0.3890399]\n",
      "Maximized Sharpe Ratio: 1.5283754208860696\n"
     ]
    }
   ],
   "source": [
    "# Maximize Sharpe ratio\n",
    "# We aim to maximize the Sharpe ratio subject to long-only and budget constraint\n",
    "\n",
    "# Function to calculate the portfolio return\n",
    "def portfolio_return(weights, mean_returns):\n",
    "    return np.dot(weights, mean_returns)\n",
    "\n",
    "# Function to calculate the portfolio volatility\n",
    "def portfolio_volatility(weights, cov_matrix):\n",
    "    return np.sqrt(np.dot(weights.T, np.dot(cov_matrix, weights)))\n",
    "\n",
    "# Function to calculate the negative Sharpe ratio (since we're minimizing)\n",
    "def neg_sharpe_ratio(weights, mean_returns, cov_matrix, risk_free_rate):\n",
    "    p_ret = portfolio_return(weights, mean_returns)\n",
    "    p_vol = portfolio_volatility(weights, cov_matrix)\n",
    "    return -(p_ret - risk_free_rate) / p_vol\n",
    "\n",
    "# Function to be called by the optimizer\n",
    "def max_sharpe_ratio(mean_returns, cov_matrix, risk_free_rate):\n",
    "    num_assets = len(mean_returns)\n",
    "    args = (mean_returns, cov_matrix, risk_free_rate)\n",
    "    constraints = ({'type': 'eq', 'fun': lambda x: np.sum(x) - 1})  # Budget constraint\n",
    "    bounds = tuple((0, 1) for asset in range(num_assets))  # Long-only constraint\n",
    "\n",
    "    # Initial guess (equal distribution)\n",
    "    init_guess = num_assets * [1. / num_assets,]\n",
    "\n",
    "    # Optimization\n",
    "    opt_results = minimize(neg_sharpe_ratio, init_guess, args=args,\n",
    "                           method='SLSQP', bounds=bounds, constraints=constraints)\n",
    "\n",
    "    return opt_results\n",
    "\n",
    "# Example usage:\n",
    "opt_results = max_sharpe_ratio(mean_returns=ann_mu, cov_matrix=cov_matrix, risk_free_rate=rf)\n",
    "\n",
    "print(\"Optimized Weights:\", opt_results.x)\n",
    "print(\"Maximized Sharpe Ratio:\", -opt_results.fun)\n"
   ]
  },
  {
   "cell_type": "code",
   "execution_count": 196,
   "metadata": {
    "colab": {
     "base_uri": "https://localhost:8080/"
    },
    "id": "mrCNbM-1oUF4",
    "outputId": "9eaac0fa-6af7-4f67-d98b-501db1a77211"
   },
   "outputs": [
    {
     "name": "stdout",
     "output_type": "stream",
     "text": [
      "Optimized Weights: [1.00000000e+00 2.22044605e-16]\n",
      "Maximum Expected Portfolio Return: 0.45723580963795146\n"
     ]
    }
   ],
   "source": [
    "# Maximum return portfolio\n",
    "\n",
    "# Function to calculate the negative portfolio return (since we're minimizing)\n",
    "def neg_portfolio_return(weights, mean_returns):\n",
    "    return -portfolio_return(weights, mean_returns)\n",
    "\n",
    "# Function to be called by the optimizer to maximize the portfolio return\n",
    "def max_return_portfolio(mean_returns, cov_matrix):\n",
    "    num_assets = len(mean_returns)\n",
    "    args = (mean_returns,)\n",
    "    constraints = ({'type': 'eq', 'fun': lambda x: np.sum(x) - 1})  # Budget constraint\n",
    "    bounds = tuple((0, 1) for asset in range(num_assets))  # Long-only constraint\n",
    "\n",
    "    # Initial guess (equal distribution)\n",
    "    init_guess = num_assets * [1. / num_assets,]\n",
    "\n",
    "    # Optimization to maximize the return (by minimizing the negative return)\n",
    "    opt_results = minimize(neg_portfolio_return, init_guess, args=args,\n",
    "                           method='SLSQP', bounds=bounds, constraints=constraints)\n",
    "\n",
    "    return opt_results\n",
    "\n",
    "# Example usage:\n",
    "mean_returns = ann_mu  # assuming ann_mu is a variable containing the annualized mean returns\n",
    "cov_matrix = cov_matrix  # assuming cov_matrix is a variable containing the annualized covariance matrix\n",
    "\n",
    "opt_results = max_return_portfolio(mean_returns=mean_returns, cov_matrix=cov_matrix)\n",
    "\n",
    "print(\"Optimized Weights:\", opt_results.x)\n",
    "print(\"Maximum Expected Portfolio Return:\", -opt_results.fun)\n"
   ]
  },
  {
   "cell_type": "code",
   "execution_count": 197,
   "metadata": {
    "colab": {
     "base_uri": "https://localhost:8080/"
    },
    "id": "cm7kIutsptc5",
    "outputId": "69fa99bb-ce6b-40a5-c321-024501bab702"
   },
   "outputs": [
    {
     "name": "stdout",
     "output_type": "stream",
     "text": [
      "Optimized Weights: [0.17805287 0.82194713]\n",
      "Minimum Portfolio Volatility: 0.14696221420438757\n"
     ]
    }
   ],
   "source": [
    "# Minimum variance portfolio\n",
    "\n",
    "# Function to be called by the optimizer to minimize portfolio variance\n",
    "def min_variance_portfolio(mean_returns, cov_matrix):\n",
    "    num_assets = len(mean_returns)\n",
    "    args = (cov_matrix,)\n",
    "    constraints = ({'type': 'eq', 'fun': lambda x: np.sum(x) - 1})  # Budget constraint\n",
    "    bounds = tuple((0, 1) for asset in range(num_assets))  # Long-only constraint\n",
    "\n",
    "    # Initial guess (equal distribution)\n",
    "    init_guess = num_assets * [1. / num_assets,]\n",
    "\n",
    "    # Objective function to minimize (portfolio volatility)\n",
    "    def portfolio_volatility(weights, cov_matrix):\n",
    "        return np.sqrt(np.dot(weights.T, np.dot(cov_matrix, weights)))\n",
    "\n",
    "    # Optimization to minimize the volatility\n",
    "    opt_results = minimize(portfolio_volatility, init_guess, args=args,\n",
    "                           method='SLSQP', bounds=bounds, constraints=constraints)\n",
    "\n",
    "    return opt_results\n",
    "\n",
    "# Example usage:\n",
    "mean_returns = ann_mu  # assuming ann_mu is a variable containing the annualized mean returns\n",
    "cov_matrix = cov_matrix  # assuming cov_matrix is a variable containing the annualized covariance matrix\n",
    "\n",
    "opt_results = min_variance_portfolio(mean_returns=mean_returns, cov_matrix=cov_matrix)\n",
    "\n",
    "print(\"Optimized Weights:\", opt_results.x)\n",
    "print(\"Minimum Portfolio Volatility:\", opt_results.fun)\n"
   ]
  },
  {
   "cell_type": "code",
   "execution_count": 198,
   "metadata": {
    "colab": {
     "base_uri": "https://localhost:8080/"
    },
    "id": "CooWBu1bqsxO",
    "outputId": "f9a06501-3d96-4f90-c539-f3753acfc839"
   },
   "outputs": [
    {
     "name": "stdout",
     "output_type": "stream",
     "text": [
      "Optimized Weights: [0.45897327 0.54102673]\n",
      "Optimized Objective Value: 0.07747229502776265\n"
     ]
    }
   ],
   "source": [
    "# MVO for a given lambda\n",
    "\n",
    "# Function to be called by the optimizer to minimize the mvo objective\n",
    "def mvo_with_risk_aversion(mean_returns, cov_matrix, risk_aversion):\n",
    "    num_assets = len(mean_returns)\n",
    "    args = (cov_matrix, mean_returns, risk_aversion)\n",
    "\n",
    "    # Define the objective function\n",
    "    def objective_function(weights, cov_matrix, mean_returns, risk_aversion):\n",
    "        # Calculate the portfolio return and volatility\n",
    "        p_ret = portfolio_return(weights, mean_returns)\n",
    "        p_vol = portfolio_volatility(weights, cov_matrix)\n",
    "        return risk_aversion * p_vol - p_ret\n",
    "\n",
    "    # Constraints: Weights sum to 1\n",
    "    constraints = ({'type': 'eq', 'fun': lambda x: np.sum(x) - 1})\n",
    "\n",
    "    # Bounds for weights: No short selling\n",
    "    bounds = tuple((0, 1) for asset in range(num_assets))\n",
    "\n",
    "    # Initial guess: Equal weights\n",
    "    init_guess = num_assets * [1. / num_assets, ]\n",
    "\n",
    "    # Optimization\n",
    "    opt_results = minimize(objective_function, init_guess, args=args,\n",
    "                           method='SLSQP', bounds=bounds, constraints=constraints)\n",
    "\n",
    "    return opt_results\n",
    "\n",
    "# Example usage:\n",
    "lambda_value = 2  # This is the risk aversion parameter\n",
    "opt_results = mvo_with_risk_aversion(mean_returns=ann_mu, cov_matrix=cov_matrix, risk_aversion=lambda_value)\n",
    "\n",
    "print(\"Optimized Weights:\", opt_results.x)\n",
    "print(\"Optimized Objective Value:\", opt_results.fun)\n"
   ]
  },
  {
   "cell_type": "code",
   "execution_count": 199,
   "metadata": {
    "colab": {
     "base_uri": "https://localhost:8080/",
     "height": 718
    },
    "id": "BaCog6TMrNgM",
    "outputId": "0be8dde4-c166-40c7-bf9b-d5f890a919b5"
   },
   "outputs": [
    {
     "data": {
      "image/png": "[encoded data removed]",
      "text/plain": [
       "<Figure size 1200x800 with 1 Axes>"
      ]
     },
     "metadata": {},
     "output_type": "display_data"
    }
   ],
   "source": [
    "# Draw efficient frontier\n",
    "\n",
    "# Define a range of lambda values\n",
    "lambda_values = np.linspace(0.01, 5, 100)\n",
    "\n",
    "# Prepare lists to hold the results\n",
    "portfolio_returns = []\n",
    "portfolio_volatilities = []\n",
    "\n",
    "# Calculate optimal portfolio for each lambda value\n",
    "for lambda_value in lambda_values:\n",
    "    opt_results = mvo_with_risk_aversion(mean_returns, cov_matrix, lambda_value)\n",
    "    weights = opt_results.x\n",
    "    p_ret = portfolio_return(weights, mean_returns)\n",
    "    p_vol = portfolio_volatility(weights, cov_matrix)\n",
    "    portfolio_returns.append(p_ret)\n",
    "    portfolio_volatilities.append(p_vol)\n",
    "\n",
    "# Convert lists to numpy arrays for plotting\n",
    "portfolio_returns = np.array(portfolio_returns)\n",
    "portfolio_volatilities = np.array(portfolio_volatilities)\n",
    "\n",
    "# Plot the efficient frontier\n",
    "plt.figure(figsize=(12, 8))\n",
    "plt.plot(portfolio_volatilities, portfolio_returns, 'o-', markersize=3, label='Efficient Frontier')\n",
    "plt.title('Efficient Frontier')\n",
    "plt.xlabel('Portfolio Volatility (Standard Deviation)')\n",
    "plt.ylabel('Portfolio Return')\n",
    "plt.legend()\n",
    "plt.grid(True)\n",
    "plt.show()\n"
   ]
  },
  {
   "cell_type": "code",
   "execution_count": 200,
   "metadata": {
    "colab": {
     "base_uri": "https://localhost:8080/",
     "height": 718
    },
    "id": "BYDzIU4xsaYK",
    "outputId": "6f767e86-0e5e-4125-ac4f-7f8168788239"
   },
   "outputs": [
    {
     "data": {
      "image/png": "[encoded data removed]",
      "text/plain": [
       "<Figure size 1200x800 with 1 Axes>"
      ]
     },
     "metadata": {},
     "output_type": "display_data"
    }
   ],
   "source": [
    "# Identify the maximum return portfolio\n",
    "max_return_idx = np.argmax(portfolio_returns)\n",
    "max_return_volatility = portfolio_volatilities[max_return_idx]\n",
    "max_return = portfolio_returns[max_return_idx]\n",
    "\n",
    "# Identify the minimum variance portfolio\n",
    "min_vol_idx = np.argmin(portfolio_volatilities)\n",
    "min_volatility = portfolio_volatilities[min_vol_idx]\n",
    "min_return = portfolio_returns[min_vol_idx]\n",
    "\n",
    "# Find the maximum Sharpe ratio portfolio\n",
    "sharpe_opt_results = max_sharpe_ratio(mean_returns=ann_mu, cov_matrix=cov_matrix, risk_free_rate=rf)\n",
    "max_sharpe_weights = sharpe_opt_results.x\n",
    "max_sharpe_return = portfolio_return(max_sharpe_weights, ann_mu)\n",
    "max_sharpe_volatility = portfolio_volatility(max_sharpe_weights, cov_matrix)\n",
    "\n",
    "# Find the equal weightage portfolio\n",
    "equal_weights = np.array([1. / len(ann_mu)] * len(ann_mu))\n",
    "equal_weight_return = portfolio_return(equal_weights, ann_mu)\n",
    "equal_weight_volatility = portfolio_volatility(equal_weights, cov_matrix)\n",
    "\n",
    "# Plot the efficient frontier\n",
    "plt.figure(figsize=(12, 8))\n",
    "plt.plot(portfolio_volatilities, portfolio_returns, 'o-', markersize=3, label='Efficient Frontier')\n",
    "plt.scatter(max_return_volatility, max_return, marker='*', color='red', s=200, label='Maximum Return Portfolio')\n",
    "plt.scatter(min_volatility, min_return, marker='*', color='green', s=200, label='Minimum Variance Portfolio')\n",
    "plt.scatter(max_sharpe_volatility, max_sharpe_return, marker='*', color='blue', s=200, label='Maximum Sharpe Ratio Portfolio')\n",
    "plt.scatter(equal_weight_volatility, equal_weight_return, marker='*', color='orange', s=200, label='Equal Weightage Portfolio')\n",
    "\n",
    "# Add label text for the portfolios\n",
    "plt.text(max_return_volatility, max_return, ' Max Return', fontsize=9, color='red')\n",
    "plt.text(min_volatility, min_return, ' Min Variance', fontsize=9, color='green')\n",
    "plt.text(max_sharpe_volatility, max_sharpe_return, ' Max Sharpe Ratio', fontsize=9, color='blue')\n",
    "plt.text(equal_weight_volatility, equal_weight_return, ' Equal Weight', fontsize=9, color='orange')\n",
    "\n",
    "plt.title('Efficient Frontier with Highlighted Portfolios')\n",
    "plt.xlabel('Portfolio Volatility (Standard Deviation)')\n",
    "plt.ylabel('Portfolio Return')\n",
    "plt.legend()\n",
    "plt.grid(True)\n",
    "plt.show()"
   ]
  },
  {
   "cell_type": "markdown",
   "metadata": {
    "id": "8kuHWaroFF1x"
   },
   "source": [
    "# Three risky assets"
   ]
  },
  {
   "cell_type": "code",
   "execution_count": 211,
   "metadata": {
    "colab": {
     "base_uri": "https://localhost:8080/"
    },
    "id": "TEZj1v2XFRby",
    "outputId": "7ddb006e-a78f-47a7-b1cd-f9f466f8e4af"
   },
   "outputs": [
    {
     "name": "stderr",
     "output_type": "stream",
     "text": [
      "[*********************100%%**********************]  3 of 3 completed"
     ]
    },
    {
     "name": "stdout",
     "output_type": "stream",
     "text": [
      "Annualized return:  Ticker\n",
      "GOOG    0.457236\n",
      "MSFT    0.465174\n",
      "WMT     0.109790\n",
      "dtype: float64\n",
      "Annualized variance:  Ticker      GOOG      MSFT       WMT\n",
      "Ticker                              \n",
      "GOOG    0.094051  0.039409  0.005888\n",
      "MSFT    0.039409  0.062544  0.004831\n",
      "WMT     0.005888  0.004831  0.025004\n"
     ]
    },
    {
     "name": "stderr",
     "output_type": "stream",
     "text": [
      "\n"
     ]
    }
   ],
   "source": [
    "# Download stock data, which is automatically indexed by date\n",
    "symbol = ['GOOG','MSFT','WMT']\n",
    "df = yf.download(symbol, start=\"2023-01-01\", end=\"2023-12-31\")['Adj Close']\n",
    "df = np.log(df / df.shift(1))\n",
    "mean_returns = df.mean() * 252\n",
    "cov_matrix = df.cov() * 252\n",
    "print('Annualized return: ', mean_returns)\n",
    "print('Annualized variance: ', cov_matrix)"
   ]
  },
  {
   "cell_type": "code",
   "execution_count": 212,
   "metadata": {
    "colab": {
     "base_uri": "https://localhost:8080/",
     "height": 718
    },
    "id": "rWz2CeYAFRZv",
    "outputId": "e4806bcd-5c91-4d4e-e524-eeaacd4b9982"
   },
   "outputs": [
    {
     "data": {
      "image/png": "[encoded data removed]",
      "text/plain": [
       "<Figure size 1200x800 with 1 Axes>"
      ]
     },
     "metadata": {},
     "output_type": "display_data"
    }
   ],
   "source": [
    "# Draw efficient frontier\n",
    "\n",
    "# Define a range of lambda values\n",
    "lambda_values = np.linspace(0.01, 5, 100)\n",
    "\n",
    "# Prepare lists to hold the results\n",
    "portfolio_returns = []\n",
    "portfolio_volatilities = []\n",
    "\n",
    "# Calculate optimal portfolio for each lambda value\n",
    "for lambda_value in lambda_values:\n",
    "    opt_results = mvo_with_risk_aversion(mean_returns, cov_matrix, lambda_value)\n",
    "    weights = opt_results.x\n",
    "    p_ret = portfolio_return(weights, mean_returns)\n",
    "    p_vol = portfolio_volatility(weights, cov_matrix)\n",
    "    portfolio_returns.append(p_ret)\n",
    "    portfolio_volatilities.append(p_vol)\n",
    "\n",
    "# Convert lists to numpy arrays for plotting\n",
    "portfolio_returns = np.array(portfolio_returns)\n",
    "portfolio_volatilities = np.array(portfolio_volatilities)\n",
    "\n",
    "# Plot the efficient frontier\n",
    "plt.figure(figsize=(12, 8))\n",
    "plt.plot(portfolio_volatilities, portfolio_returns, 'o-', markersize=3, label='Efficient Frontier')\n",
    "plt.title('Efficient Frontier')\n",
    "plt.xlabel('Portfolio Volatility (Standard Deviation)')\n",
    "plt.ylabel('Portfolio Return')\n",
    "plt.legend()\n",
    "plt.grid(True)\n",
    "plt.show()\n"
   ]
  },
  {
   "cell_type": "code",
   "execution_count": 213,
   "metadata": {
    "colab": {
     "base_uri": "https://localhost:8080/",
     "height": 718
    },
    "id": "5QLW3Sg8HMjP",
    "outputId": "8325125f-d8f3-4093-8736-4e13009e3bff"
   },
   "outputs": [
    {
     "data": {
      "image/png": "[encoded data removed]",
      "text/plain": [
       "<Figure size 1200x800 with 1 Axes>"
      ]
     },
     "metadata": {},
     "output_type": "display_data"
    }
   ],
   "source": [
    "# Identify the maximum return portfolio\n",
    "max_return_idx = np.argmax(portfolio_returns)\n",
    "max_return_volatility = portfolio_volatilities[max_return_idx]\n",
    "max_return = portfolio_returns[max_return_idx]\n",
    "\n",
    "# Identify the minimum variance portfolio\n",
    "min_vol_idx = np.argmin(portfolio_volatilities)\n",
    "min_volatility = portfolio_volatilities[min_vol_idx]\n",
    "min_return = portfolio_returns[min_vol_idx]\n",
    "\n",
    "# Find the maximum Sharpe ratio portfolio\n",
    "sharpe_opt_results = max_sharpe_ratio(mean_returns=ann_mu, cov_matrix=cov_matrix, risk_free_rate=rf)\n",
    "max_sharpe_weights = sharpe_opt_results.x\n",
    "max_sharpe_return = portfolio_return(max_sharpe_weights, ann_mu)\n",
    "max_sharpe_volatility = portfolio_volatility(max_sharpe_weights, cov_matrix)\n",
    "\n",
    "# Find the equal weightage portfolio\n",
    "equal_weights = np.array([1. / len(ann_mu)] * len(ann_mu))\n",
    "equal_weight_return = portfolio_return(equal_weights, ann_mu)\n",
    "equal_weight_volatility = portfolio_volatility(equal_weights, cov_matrix)\n",
    "\n",
    "# Plot the efficient frontier\n",
    "plt.figure(figsize=(12, 8))\n",
    "plt.plot(portfolio_volatilities, portfolio_returns, 'o-', markersize=3, label='Efficient Frontier')\n",
    "plt.scatter(max_return_volatility, max_return, marker='*', color='red', s=200, label='Maximum Return Portfolio')\n",
    "plt.scatter(min_volatility, min_return, marker='*', color='green', s=200, label='Minimum Variance Portfolio')\n",
    "plt.scatter(max_sharpe_volatility, max_sharpe_return, marker='*', color='blue', s=200, label='Maximum Sharpe Ratio Portfolio')\n",
    "plt.scatter(equal_weight_volatility, equal_weight_return, marker='*', color='orange', s=200, label='Equal Weightage Portfolio')\n",
    "\n",
    "# Add label text for the portfolios\n",
    "plt.text(max_return_volatility, max_return, ' Max Return', fontsize=9, color='red')\n",
    "plt.text(min_volatility, min_return, ' Min Variance', fontsize=9, color='green')\n",
    "plt.text(max_sharpe_volatility, max_sharpe_return, ' Max Sharpe Ratio', fontsize=9, color='blue')\n",
    "plt.text(equal_weight_volatility, equal_weight_return, ' Equal Weight', fontsize=9, color='orange')\n",
    "\n",
    "plt.title('Efficient Frontier with Highlighted Portfolios')\n",
    "plt.xlabel('Portfolio Volatility (Standard Deviation)')\n",
    "plt.ylabel('Portfolio Return')\n",
    "plt.legend()\n",
    "plt.grid(True)\n",
    "plt.show()"
   ]
  },
  {
   "cell_type": "code",
   "execution_count": 214,
   "metadata": {
    "colab": {
     "base_uri": "https://localhost:8080/",
     "height": 718
    },
    "id": "VWjrjM4dh7uh",
    "outputId": "50e70c2a-0057-496d-96f8-c6bc344e4ca4"
   },
   "outputs": [
    {
     "data": {
      "image/png": "[encoded data removed]",
      "text/plain": [
       "<Figure size 1200x800 with 1 Axes>"
      ]
     },
     "metadata": {},
     "output_type": "display_data"
    }
   ],
   "source": [
    "# Add custom portfolio\n",
    "custom_weights = np.array([0.5, 0.4, 0.1])\n",
    "custom_portfolio_return = portfolio_return(custom_weights, ann_mu)\n",
    "custom_portfolio_volatility = portfolio_volatility(custom_weights, cov_matrix)\n",
    "\n",
    "# Plot the efficient frontier with all the portfolios\n",
    "plt.figure(figsize=(12, 8))\n",
    "plt.plot(portfolio_volatilities, portfolio_returns, 'o-', markersize=3, label='Efficient Frontier')\n",
    "plt.scatter(max_return_volatility, max_return, marker='*', color='red', s=200, label='Maximum Return Portfolio')\n",
    "plt.scatter(min_volatility, min_return, marker='*', color='green', s=200, label='Minimum Variance Portfolio')\n",
    "plt.scatter(max_sharpe_volatility, max_sharpe_return, marker='*', color='blue', s=200, label='Maximum Sharpe Ratio Portfolio')\n",
    "plt.scatter(equal_weight_volatility, equal_weight_return, marker='*', color='orange', s=200, label='Equal Weightage Portfolio')\n",
    "plt.scatter(custom_portfolio_volatility, custom_portfolio_return, marker='*', color='purple', s=200, label='Custom Portfolio')\n",
    "\n",
    "# Add label text for all the portfolios\n",
    "plt.text(max_return_volatility, max_return, ' Max Return', fontsize=9, color='red')\n",
    "plt.text(min_volatility, min_return, ' Min Variance', fontsize=9, color='green')\n",
    "plt.text(max_sharpe_volatility, max_sharpe_return, ' Max Sharpe Ratio', fontsize=9, color='blue')\n",
    "plt.text(equal_weight_volatility, equal_weight_return, ' Equal Weight', fontsize=9, color='orange')\n",
    "plt.text(custom_portfolio_volatility, custom_portfolio_return, ' Custom Portfolio', fontsize=9, color='purple')\n",
    "\n",
    "plt.title('Efficient Frontier with Highlighted Portfolios')\n",
    "plt.xlabel('Portfolio Volatility (Standard Deviation)')\n",
    "plt.ylabel('Portfolio Return')\n",
    "plt.legend()\n",
    "plt.grid(True)\n",
    "plt.show()\n"
   ]
  },
  {
   "cell_type": "code",
   "execution_count": 202,
   "metadata": {
    "colab": {
     "base_uri": "https://localhost:8080/"
    },
    "id": "brzzTilzjE3I",
    "outputId": "faef4821-e6b8-42eb-ddd3-45d55ec4c865"
   },
   "outputs": [
    {
     "data": {
      "text/plain": [
       "array([0.5, 0.5])"
      ]
     },
     "execution_count": 202,
     "metadata": {},
     "output_type": "execute_result"
    }
   ],
   "source": [
    "equal_weights"
   ]
  },
  {
   "cell_type": "code",
   "execution_count": 202,
   "metadata": {
    "id": "g0VPH4pYjKTO"
   },
   "outputs": [],
   "source": []
  }
 ],
 "metadata": {
  "colab": {
   "collapsed_sections": [
    "b_HdettSWV0f",
    "Dap-xT3GWalh",
    "8kuHWaroFF1x"
   ],
   "provenance": []
  },
  "kernelspec": {
   "display_name": "Python 3 (ipykernel)",
   "language": "python",
   "name": "python3"
  },
  "language_info": {
   "codemirror_mode": {
    "name": "ipython",
    "version": 3
   },
   "file_extension": ".py",
   "mimetype": "text/x-python",
   "name": "python",
   "nbconvert_exporter": "python",
   "pygments_lexer": "ipython3",
   "version": "3.12.9"
  }
 },
 "nbformat": 4,
 "nbformat_minor": 4
}
