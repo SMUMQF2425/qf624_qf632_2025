{
 "cells": [
  {
   "cell_type": "code",
   "execution_count": 1,
   "metadata": {},
   "outputs": [],
   "source": [
    "import pandas as pd\n",
    "from matplotlib import pyplot as plt"
   ]
  },
  {
   "cell_type": "markdown",
   "metadata": {},
   "source": [
    "#### Standard function to plot dendrogram\n",
    "\n",
    "Run this cell below first"
   ]
  },
  {
   "cell_type": "code",
   "execution_count": 2,
   "metadata": {
    "id": "VPMz6CWKIzeE"
   },
   "outputs": [],
   "source": [
    "import numpy as np\n",
    "\n",
    "from matplotlib import pyplot as plt\n",
    "from scipy.cluster.hierarchy import dendrogram\n",
    "from sklearn.cluster import AgglomerativeClustering\n",
    "\n",
    "\n",
    "def plot_dendrogram(model, **kwargs):\n",
    "    # Create linkage matrix and then plot the dendrogram\n",
    "\n",
    "    # create the counts of samples under each node\n",
    "    counts = np.zeros(model.children_.shape[0])\n",
    "    n_samples = len(model.labels_)\n",
    "    for i, merge in enumerate(model.children_):\n",
    "        current_count = 0\n",
    "        for child_idx in merge:\n",
    "            if child_idx < n_samples:\n",
    "                current_count += 1  # leaf node\n",
    "            else:\n",
    "                current_count += counts[child_idx - n_samples]\n",
    "        counts[i] = current_count\n",
    "\n",
    "    linkage_matrix = np.column_stack([model.children_, model.distances_,\n",
    "                                      counts]).astype(float)\n",
    "\n",
    "    # Plot the corresponding dendrogram\n",
    "    dendrogram(linkage_matrix, **kwargs)\n"
   ]
  },
  {
   "cell_type": "markdown",
   "metadata": {},
   "source": [
    "## Hierarchical clustering"
   ]
  },
  {
   "cell_type": "markdown",
   "metadata": {},
   "source": [
    "### Toy example Hotel.csv"
   ]
  },
  {
   "cell_type": "code",
   "execution_count": 3,
   "metadata": {
    "scrolled": true
   },
   "outputs": [
    {
     "data": {
      "text/html": [
       "<div>\n",
       "<style scoped>\n",
       "    .dataframe tbody tr th:only-of-type {\n",
       "        vertical-align: middle;\n",
       "    }\n",
       "\n",
       "    .dataframe tbody tr th {\n",
       "        vertical-align: top;\n",
       "    }\n",
       "\n",
       "    .dataframe thead th {\n",
       "        text-align: right;\n",
       "    }\n",
       "</style>\n",
       "<table border=\"1\" class=\"dataframe\">\n",
       "  <thead>\n",
       "    <tr style=\"text-align: right;\">\n",
       "      <th></th>\n",
       "      <th>FACILITY</th>\n",
       "      <th>LOCATION</th>\n",
       "    </tr>\n",
       "    <tr>\n",
       "      <th>HOTEL</th>\n",
       "      <th></th>\n",
       "      <th></th>\n",
       "    </tr>\n",
       "  </thead>\n",
       "  <tbody>\n",
       "    <tr>\n",
       "      <th>A</th>\n",
       "      <td>3</td>\n",
       "      <td>3</td>\n",
       "    </tr>\n",
       "    <tr>\n",
       "      <th>B</th>\n",
       "      <td>6</td>\n",
       "      <td>4</td>\n",
       "    </tr>\n",
       "    <tr>\n",
       "      <th>C</th>\n",
       "      <td>2</td>\n",
       "      <td>1</td>\n",
       "    </tr>\n",
       "    <tr>\n",
       "      <th>D</th>\n",
       "      <td>8</td>\n",
       "      <td>9</td>\n",
       "    </tr>\n",
       "    <tr>\n",
       "      <th>E</th>\n",
       "      <td>7</td>\n",
       "      <td>5</td>\n",
       "    </tr>\n",
       "    <tr>\n",
       "      <th>F</th>\n",
       "      <td>10</td>\n",
       "      <td>8</td>\n",
       "    </tr>\n",
       "  </tbody>\n",
       "</table>\n",
       "</div>"
      ],
      "text/plain": [
       "       FACILITY  LOCATION\n",
       "HOTEL                    \n",
       "A             3         3\n",
       "B             6         4\n",
       "C             2         1\n",
       "D             8         9\n",
       "E             7         5\n",
       "F            10         8"
      ]
     },
     "metadata": {},
     "output_type": "display_data"
    }
   ],
   "source": [
    "data = pd.read_csv('Hotel.csv',index_col=0)\n",
    "display(data)"
   ]
  },
  {
   "cell_type": "markdown",
   "metadata": {},
   "source": [
    "#### Exercise\n",
    "\n",
    "Run Agglomerative Clustering\n",
    "- Use single linkage\n",
    "- set `distance_threshold` to 0\n",
    "- take note what needs to be done with `n_clusters`, if `distance_threshold` is set to a value explicitly\n",
    "\n",
    "Refer to documentation\n",
    "\n",
    "https://scikit-learn.org/stable/modules/generated/sklearn.cluster.AgglomerativeClustering.html"
   ]
  },
  {
   "cell_type": "code",
   "execution_count": 4,
   "metadata": {
    "scrolled": true
   },
   "outputs": [
    {
     "name": "stdout",
     "output_type": "stream",
     "text": [
      "[[1 4]\n",
      " [0 2]\n",
      " [3 5]\n",
      " [7 6]\n",
      " [9 8]]\n",
      "[1.41421356 2.23606798 2.23606798 3.16227766 4.12310563]\n"
     ]
    }
   ],
   "source": [
    "from sklearn.cluster import AgglomerativeClustering\n",
    "\n",
    "model = AgglomerativeClustering(linkage='single', \n",
    "                                distance_threshold=0, \n",
    "                                n_clusters=None)\n",
    "model_single = model.fit(data)\n",
    "\n",
    "print(model_single.children_)\n",
    "print(model_single.distances_)"
   ]
  },
  {
   "cell_type": "markdown",
   "metadata": {},
   "source": [
    "Plot the dendrogram"
   ]
  },
  {
   "cell_type": "code",
   "execution_count": 5,
   "metadata": {
    "scrolled": true
   },
   "outputs": [
    {
     "data": {
      "image/png": "[encoded data removed]",
      "text/plain": [
       "<Figure size 640x480 with 1 Axes>"
      ]
     },
     "metadata": {},
     "output_type": "display_data"
    }
   ],
   "source": [
    "plt.title('Hierarchical Clustering Dendrogram - Single Linkage')\n",
    "plot_dendrogram(model_single)\n",
    "plt.xlabel(\"Number of points in node (or index of point if no parenthesis).\")\n",
    "plt.show()"
   ]
  },
  {
   "attachments": {},
   "cell_type": "markdown",
   "metadata": {},
   "source": [
    "How to interpret the dendrogram:\n",
    "\n",
    "- 1 and 4 are hotel B and E, Squared Euclidean distance is 2, and Euclidean distance is 1.414, this becomes label 6\n",
    "- next merge 0 and 2, A and C, Squared Euclidean distance is 5, and Euclidean distance is 2.236, this becomes label 7\n",
    "- next merge 3 and 5, D and F, Squared Euclidean distance is 5, and Euclidean distance is 2.236, this becomes label 8\n",
    "- next closest cluster is 6 (B,E) and 7 (A,C), using single linkage, nearest two points are B vs. A; hence Squared Euclidean distance is 10, and Euclidean distance is 3.162, which is the height of the blue line connecting (0,2) and (1,4). This (B,E,A,C) is labelled 9\n",
    "- Finally we are merging 9 (B,E,A,C) and 8 (D,F). Using single linkage, nearest two points are E vs. F; hence Squared Euclidean distance is 17, and Euclidean distance is 4.123"
   ]
  },
  {
   "cell_type": "markdown",
   "metadata": {},
   "source": [
    "Show how many clusters are formed"
   ]
  },
  {
   "cell_type": "code",
   "execution_count": 6,
   "metadata": {},
   "outputs": [
    {
     "name": "stdout",
     "output_type": "stream",
     "text": [
      "6\n"
     ]
    }
   ],
   "source": [
    "print(model_single.n_clusters_)"
   ]
  },
  {
   "cell_type": "markdown",
   "metadata": {},
   "source": [
    "Why are there so many clusters? What does `distance_threshold=0` do to the final results?\n",
    "\n",
    "Any two clusters with distance above 0 shall not be merged. Hence all observations stay as a single cluster. Totally 6 clusters."
   ]
  },
  {
   "cell_type": "markdown",
   "metadata": {},
   "source": [
    "#### Exercise\n",
    "Let's set distance_threshold to 2.5, how many clusters will be formed based on the dendrogram above?"
   ]
  },
  {
   "cell_type": "code",
   "execution_count": 7,
   "metadata": {
    "scrolled": true
   },
   "outputs": [
    {
     "name": "stdout",
     "output_type": "stream",
     "text": [
      "[[1 4]\n",
      " [0 2]\n",
      " [3 5]\n",
      " [7 6]\n",
      " [9 8]]\n",
      "[1.41421356 2.23606798 2.23606798 3.16227766 4.12310563]\n"
     ]
    }
   ],
   "source": [
    "from sklearn.cluster import AgglomerativeClustering\n",
    "\n",
    "model = AgglomerativeClustering(linkage='single', \n",
    "                                distance_threshold=2.5, \n",
    "                                n_clusters=None)\n",
    "model_single = model.fit(data)\n",
    "\n",
    "print(model_single.children_)\n",
    "print(model_single.distances_)"
   ]
  },
  {
   "cell_type": "markdown",
   "metadata": {},
   "source": [
    "Show how many clusters are formed"
   ]
  },
  {
   "cell_type": "code",
   "execution_count": 8,
   "metadata": {},
   "outputs": [
    {
     "name": "stdout",
     "output_type": "stream",
     "text": [
      "3\n"
     ]
    }
   ],
   "source": [
    "print(model_single.n_clusters_)"
   ]
  },
  {
   "cell_type": "code",
   "execution_count": 9,
   "metadata": {
    "scrolled": true
   },
   "outputs": [
    {
     "name": "stdout",
     "output_type": "stream",
     "text": [
      "[2 1 2 0 1 0]\n"
     ]
    }
   ],
   "source": [
    "print(model_single.labels_)"
   ]
  },
  {
   "attachments": {},
   "cell_type": "markdown",
   "metadata": {},
   "source": [
    "#### Interpret and give the clusters appropriate names, in order to illustrate each cluster’s pattern\n",
    "\n",
    "Create a new table with the original data PLUS the cluster label"
   ]
  },
  {
   "cell_type": "code",
   "execution_count": 10,
   "metadata": {
    "scrolled": true
   },
   "outputs": [
    {
     "data": {
      "text/html": [
       "<div>\n",
       "<style scoped>\n",
       "    .dataframe tbody tr th:only-of-type {\n",
       "        vertical-align: middle;\n",
       "    }\n",
       "\n",
       "    .dataframe tbody tr th {\n",
       "        vertical-align: top;\n",
       "    }\n",
       "\n",
       "    .dataframe thead th {\n",
       "        text-align: right;\n",
       "    }\n",
       "</style>\n",
       "<table border=\"1\" class=\"dataframe\">\n",
       "  <thead>\n",
       "    <tr style=\"text-align: right;\">\n",
       "      <th></th>\n",
       "      <th>FACILITY</th>\n",
       "      <th>LOCATION</th>\n",
       "      <th>cluster</th>\n",
       "    </tr>\n",
       "    <tr>\n",
       "      <th>HOTEL</th>\n",
       "      <th></th>\n",
       "      <th></th>\n",
       "      <th></th>\n",
       "    </tr>\n",
       "  </thead>\n",
       "  <tbody>\n",
       "    <tr>\n",
       "      <th>A</th>\n",
       "      <td>3</td>\n",
       "      <td>3</td>\n",
       "      <td>2</td>\n",
       "    </tr>\n",
       "    <tr>\n",
       "      <th>B</th>\n",
       "      <td>6</td>\n",
       "      <td>4</td>\n",
       "      <td>1</td>\n",
       "    </tr>\n",
       "    <tr>\n",
       "      <th>C</th>\n",
       "      <td>2</td>\n",
       "      <td>1</td>\n",
       "      <td>2</td>\n",
       "    </tr>\n",
       "    <tr>\n",
       "      <th>D</th>\n",
       "      <td>8</td>\n",
       "      <td>9</td>\n",
       "      <td>0</td>\n",
       "    </tr>\n",
       "    <tr>\n",
       "      <th>E</th>\n",
       "      <td>7</td>\n",
       "      <td>5</td>\n",
       "      <td>1</td>\n",
       "    </tr>\n",
       "    <tr>\n",
       "      <th>F</th>\n",
       "      <td>10</td>\n",
       "      <td>8</td>\n",
       "      <td>0</td>\n",
       "    </tr>\n",
       "  </tbody>\n",
       "</table>\n",
       "</div>"
      ],
      "text/plain": [
       "       FACILITY  LOCATION  cluster\n",
       "HOTEL                             \n",
       "A             3         3        2\n",
       "B             6         4        1\n",
       "C             2         1        2\n",
       "D             8         9        0\n",
       "E             7         5        1\n",
       "F            10         8        0"
      ]
     },
     "metadata": {},
     "output_type": "display_data"
    }
   ],
   "source": [
    "data_cluster = data.copy() # we do not want to modify original data set\n",
    "data_cluster['cluster'] = model_single.labels_\n",
    "display(data_cluster)"
   ]
  },
  {
   "cell_type": "markdown",
   "metadata": {},
   "source": [
    "#### Exercise\n",
    "\n",
    "Give the cluster labels more meaningful names based on the scores"
   ]
  },
  {
   "cell_type": "code",
   "execution_count": 11,
   "metadata": {},
   "outputs": [
    {
     "data": {
      "text/html": [
       "<div>\n",
       "<style scoped>\n",
       "    .dataframe tbody tr th:only-of-type {\n",
       "        vertical-align: middle;\n",
       "    }\n",
       "\n",
       "    .dataframe tbody tr th {\n",
       "        vertical-align: top;\n",
       "    }\n",
       "\n",
       "    .dataframe thead th {\n",
       "        text-align: right;\n",
       "    }\n",
       "</style>\n",
       "<table border=\"1\" class=\"dataframe\">\n",
       "  <thead>\n",
       "    <tr style=\"text-align: right;\">\n",
       "      <th></th>\n",
       "      <th>FACILITY</th>\n",
       "      <th>LOCATION</th>\n",
       "      <th>cluster</th>\n",
       "    </tr>\n",
       "    <tr>\n",
       "      <th>HOTEL</th>\n",
       "      <th></th>\n",
       "      <th></th>\n",
       "      <th></th>\n",
       "    </tr>\n",
       "  </thead>\n",
       "  <tbody>\n",
       "    <tr>\n",
       "      <th>A</th>\n",
       "      <td>3</td>\n",
       "      <td>3</td>\n",
       "      <td>below average</td>\n",
       "    </tr>\n",
       "    <tr>\n",
       "      <th>B</th>\n",
       "      <td>6</td>\n",
       "      <td>4</td>\n",
       "      <td>average</td>\n",
       "    </tr>\n",
       "    <tr>\n",
       "      <th>C</th>\n",
       "      <td>2</td>\n",
       "      <td>1</td>\n",
       "      <td>below average</td>\n",
       "    </tr>\n",
       "    <tr>\n",
       "      <th>D</th>\n",
       "      <td>8</td>\n",
       "      <td>9</td>\n",
       "      <td>star hotel</td>\n",
       "    </tr>\n",
       "    <tr>\n",
       "      <th>E</th>\n",
       "      <td>7</td>\n",
       "      <td>5</td>\n",
       "      <td>average</td>\n",
       "    </tr>\n",
       "    <tr>\n",
       "      <th>F</th>\n",
       "      <td>10</td>\n",
       "      <td>8</td>\n",
       "      <td>star hotel</td>\n",
       "    </tr>\n",
       "  </tbody>\n",
       "</table>\n",
       "</div>"
      ],
      "text/plain": [
       "       FACILITY  LOCATION        cluster\n",
       "HOTEL                                   \n",
       "A             3         3  below average\n",
       "B             6         4        average\n",
       "C             2         1  below average\n",
       "D             8         9     star hotel\n",
       "E             7         5        average\n",
       "F            10         8     star hotel"
      ]
     },
     "metadata": {},
     "output_type": "display_data"
    }
   ],
   "source": [
    "data_cluster['cluster'] = data_cluster['cluster'].map({0:'star hotel', 1:'average', 2:'below average'})\n",
    "display(data_cluster)"
   ]
  },
  {
   "cell_type": "markdown",
   "metadata": {},
   "source": [
    "## Clustering with K-means "
   ]
  },
  {
   "cell_type": "markdown",
   "metadata": {},
   "source": [
    "### Toy example Hotel.csv"
   ]
  },
  {
   "cell_type": "code",
   "execution_count": 12,
   "metadata": {
    "scrolled": true
   },
   "outputs": [
    {
     "data": {
      "text/html": [
       "<div>\n",
       "<style scoped>\n",
       "    .dataframe tbody tr th:only-of-type {\n",
       "        vertical-align: middle;\n",
       "    }\n",
       "\n",
       "    .dataframe tbody tr th {\n",
       "        vertical-align: top;\n",
       "    }\n",
       "\n",
       "    .dataframe thead th {\n",
       "        text-align: right;\n",
       "    }\n",
       "</style>\n",
       "<table border=\"1\" class=\"dataframe\">\n",
       "  <thead>\n",
       "    <tr style=\"text-align: right;\">\n",
       "      <th></th>\n",
       "      <th>FACILITY</th>\n",
       "      <th>LOCATION</th>\n",
       "    </tr>\n",
       "    <tr>\n",
       "      <th>HOTEL</th>\n",
       "      <th></th>\n",
       "      <th></th>\n",
       "    </tr>\n",
       "  </thead>\n",
       "  <tbody>\n",
       "    <tr>\n",
       "      <th>A</th>\n",
       "      <td>3</td>\n",
       "      <td>3</td>\n",
       "    </tr>\n",
       "    <tr>\n",
       "      <th>B</th>\n",
       "      <td>6</td>\n",
       "      <td>4</td>\n",
       "    </tr>\n",
       "    <tr>\n",
       "      <th>C</th>\n",
       "      <td>2</td>\n",
       "      <td>1</td>\n",
       "    </tr>\n",
       "    <tr>\n",
       "      <th>D</th>\n",
       "      <td>8</td>\n",
       "      <td>9</td>\n",
       "    </tr>\n",
       "    <tr>\n",
       "      <th>E</th>\n",
       "      <td>7</td>\n",
       "      <td>5</td>\n",
       "    </tr>\n",
       "    <tr>\n",
       "      <th>F</th>\n",
       "      <td>10</td>\n",
       "      <td>8</td>\n",
       "    </tr>\n",
       "  </tbody>\n",
       "</table>\n",
       "</div>"
      ],
      "text/plain": [
       "       FACILITY  LOCATION\n",
       "HOTEL                    \n",
       "A             3         3\n",
       "B             6         4\n",
       "C             2         1\n",
       "D             8         9\n",
       "E             7         5\n",
       "F            10         8"
      ]
     },
     "metadata": {},
     "output_type": "display_data"
    }
   ],
   "source": [
    "data = pd.read_csv('Hotel.csv',index_col=0)\n",
    "display(data)"
   ]
  },
  {
   "cell_type": "code",
   "execution_count": 13,
   "metadata": {
    "colab": {
     "base_uri": "https://localhost:8080/"
    },
    "executionInfo": {
     "elapsed": 6213,
     "status": "ok",
     "timestamp": 1635747717528,
     "user": {
      "displayName": "Bin Huang",
      "photoUrl": "https://lh3.googleusercontent.com/a/default-user=s64",
      "userId": "02213439757281353194"
     },
     "user_tz": -480
    },
    "id": "so1IxcYD_lZa",
    "outputId": "84a01147-48cb-4526-83bb-86f88b2234af",
    "scrolled": true
   },
   "outputs": [
    {
     "name": "stdout",
     "output_type": "stream",
     "text": [
      "[[8.33333333 7.33333333]\n",
      " [3.66666667 2.66666667]]\n",
      "[1 1 1 0 0 0]\n"
     ]
    }
   ],
   "source": [
    "from sklearn.cluster import KMeans\n",
    "\n",
    "k = 2\n",
    "# sklearn's kmeans only uses Euclidean distance \n",
    "model = KMeans(n_clusters=k, random_state=0)\n",
    "model = model.fit(data)\n",
    "\n",
    "print(model.cluster_centers_)\n",
    "print(model.labels_)"
   ]
  },
  {
   "cell_type": "markdown",
   "metadata": {},
   "source": [
    "What is the optimal k value? Try different k values, and plot the elbow line"
   ]
  },
  {
   "cell_type": "code",
   "execution_count": 14,
   "metadata": {
    "colab": {
     "base_uri": "https://localhost:8080/",
     "height": 531
    },
    "executionInfo": {
     "elapsed": 87892,
     "status": "ok",
     "timestamp": 1635747839786,
     "user": {
      "displayName": "Bin Huang",
      "photoUrl": "https://lh3.googleusercontent.com/a/default-user=s64",
      "userId": "02213439757281353194"
     },
     "user_tz": -480
    },
    "id": "lu4jeL1hbEYW",
    "outputId": "4b54f2d9-4195-4537-f62b-cbb6050b72b1",
    "scrolled": true
   },
   "outputs": [
    {
     "data": {
      "image/png": "[encoded data removed]",
      "text/plain": [
       "<Figure size 640x480 with 1 Axes>"
      ]
     },
     "metadata": {},
     "output_type": "display_data"
    }
   ],
   "source": [
    "sum_squared_distances = []\n",
    "for k in range(2, 6):\n",
    "    model = KMeans(n_clusters=k, random_state=0)\n",
    "    model = model.fit(data)\n",
    "    #calculate sum of squared distances of each observation to its own cluster's centroid\n",
    "    sum_squared_distances.append(model.inertia_)\n",
    "    \n",
    "# plot elbow line\n",
    "fig = plt.figure()\n",
    "plt.plot(range(2, 6), sum_squared_distances, marker='o')\n",
    "plt.xlabel('Number of clusters')\n",
    "plt.ylabel('Sum of squared distances')\n",
    "plt.show()"
   ]
  },
  {
   "cell_type": "markdown",
   "metadata": {},
   "source": [
    "#### Exercise\n",
    "Rerun K-Means with K=3"
   ]
  },
  {
   "cell_type": "code",
   "execution_count": 15,
   "metadata": {},
   "outputs": [],
   "source": [
    "k = 3\n",
    "model = KMeans(n_clusters=k, random_state=0)\n",
    "model = model.fit(data)"
   ]
  },
  {
   "cell_type": "markdown",
   "metadata": {},
   "source": [
    "#### Exercise\n",
    "Calculate silhouette score\n",
    "\n",
    "Refer to the documentation https://scikit-learn.org/stable/modules/generated/sklearn.metrics.silhouette_score.html"
   ]
  },
  {
   "cell_type": "code",
   "execution_count": 16,
   "metadata": {},
   "outputs": [
    {
     "data": {
      "text/plain": [
       "np.float64(0.5692187198567012)"
      ]
     },
     "execution_count": 16,
     "metadata": {},
     "output_type": "execute_result"
    }
   ],
   "source": [
    "from sklearn.metrics import silhouette_score\n",
    "silhouette_score(data, model.labels_)"
   ]
  },
  {
   "cell_type": "markdown",
   "metadata": {},
   "source": [
    "### Use FARM_CREDIT.csv for agglomerative clustering"
   ]
  },
  {
   "cell_type": "code",
   "execution_count": 17,
   "metadata": {
    "colab": {
     "base_uri": "https://localhost:8080/",
     "height": 1000
    },
    "executionInfo": {
     "elapsed": 2525,
     "status": "ok",
     "timestamp": 1635747621906,
     "user": {
      "displayName": "Bin Huang",
      "photoUrl": "https://lh3.googleusercontent.com/a/default-user=s64",
      "userId": "02213439757281353194"
     },
     "user_tz": -480
    },
    "id": "3EzKChFlexeg",
    "outputId": "4e4aaeed-1c4b-4d4d-fdfa-042dd1c9d6d5",
    "scrolled": true
   },
   "outputs": [
    {
     "data": {
      "text/html": [
       "<div>\n",
       "<style scoped>\n",
       "    .dataframe tbody tr th:only-of-type {\n",
       "        vertical-align: middle;\n",
       "    }\n",
       "\n",
       "    .dataframe tbody tr th {\n",
       "        vertical-align: top;\n",
       "    }\n",
       "\n",
       "    .dataframe thead th {\n",
       "        text-align: right;\n",
       "    }\n",
       "</style>\n",
       "<table border=\"1\" class=\"dataframe\">\n",
       "  <thead>\n",
       "    <tr style=\"text-align: right;\">\n",
       "      <th></th>\n",
       "      <th>NET_INCOME</th>\n",
       "      <th>FR1</th>\n",
       "      <th>FR2</th>\n",
       "      <th>FR3</th>\n",
       "      <th>FR4</th>\n",
       "      <th>FR5</th>\n",
       "    </tr>\n",
       "    <tr>\n",
       "      <th>ID</th>\n",
       "      <th></th>\n",
       "      <th></th>\n",
       "      <th></th>\n",
       "      <th></th>\n",
       "      <th></th>\n",
       "      <th></th>\n",
       "    </tr>\n",
       "  </thead>\n",
       "  <tbody>\n",
       "    <tr>\n",
       "      <th>1</th>\n",
       "      <td>7863.858</td>\n",
       "      <td>2.978</td>\n",
       "      <td>0.551</td>\n",
       "      <td>0.634</td>\n",
       "      <td>0.670</td>\n",
       "      <td>0.345</td>\n",
       "    </tr>\n",
       "    <tr>\n",
       "      <th>2</th>\n",
       "      <td>9329.172</td>\n",
       "      <td>2.048</td>\n",
       "      <td>0.377</td>\n",
       "      <td>0.748</td>\n",
       "      <td>0.519</td>\n",
       "      <td>0.766</td>\n",
       "    </tr>\n",
       "    <tr>\n",
       "      <th>3</th>\n",
       "      <td>12726.490</td>\n",
       "      <td>3.224</td>\n",
       "      <td>0.319</td>\n",
       "      <td>0.478</td>\n",
       "      <td>0.238</td>\n",
       "      <td>0.728</td>\n",
       "    </tr>\n",
       "    <tr>\n",
       "      <th>4</th>\n",
       "      <td>5988.046</td>\n",
       "      <td>3.938</td>\n",
       "      <td>0.482</td>\n",
       "      <td>0.350</td>\n",
       "      <td>0.086</td>\n",
       "      <td>0.326</td>\n",
       "    </tr>\n",
       "    <tr>\n",
       "      <th>5</th>\n",
       "      <td>6502.307</td>\n",
       "      <td>2.616</td>\n",
       "      <td>0.450</td>\n",
       "      <td>0.621</td>\n",
       "      <td>0.133</td>\n",
       "      <td>0.345</td>\n",
       "    </tr>\n",
       "    <tr>\n",
       "      <th>6</th>\n",
       "      <td>7110.178</td>\n",
       "      <td>1.959</td>\n",
       "      <td>0.408</td>\n",
       "      <td>0.697</td>\n",
       "      <td>0.146</td>\n",
       "      <td>0.762</td>\n",
       "    </tr>\n",
       "    <tr>\n",
       "      <th>7</th>\n",
       "      <td>8189.929</td>\n",
       "      <td>1.549</td>\n",
       "      <td>0.273</td>\n",
       "      <td>0.878</td>\n",
       "      <td>0.319</td>\n",
       "      <td>17.751</td>\n",
       "    </tr>\n",
       "    <tr>\n",
       "      <th>8</th>\n",
       "      <td>7471.071</td>\n",
       "      <td>2.710</td>\n",
       "      <td>0.579</td>\n",
       "      <td>0.537</td>\n",
       "      <td>0.903</td>\n",
       "      <td>0.272</td>\n",
       "    </tr>\n",
       "    <tr>\n",
       "      <th>9</th>\n",
       "      <td>6933.622</td>\n",
       "      <td>2.553</td>\n",
       "      <td>0.319</td>\n",
       "      <td>0.502</td>\n",
       "      <td>0.178</td>\n",
       "      <td>0.871</td>\n",
       "    </tr>\n",
       "    <tr>\n",
       "      <th>10</th>\n",
       "      <td>7002.576</td>\n",
       "      <td>2.259</td>\n",
       "      <td>0.458</td>\n",
       "      <td>0.614</td>\n",
       "      <td>0.914</td>\n",
       "      <td>0.818</td>\n",
       "    </tr>\n",
       "    <tr>\n",
       "      <th>11</th>\n",
       "      <td>8218.483</td>\n",
       "      <td>3.174</td>\n",
       "      <td>0.363</td>\n",
       "      <td>0.396</td>\n",
       "      <td>0.132</td>\n",
       "      <td>0.703</td>\n",
       "    </tr>\n",
       "    <tr>\n",
       "      <th>12</th>\n",
       "      <td>8852.883</td>\n",
       "      <td>2.635</td>\n",
       "      <td>0.371</td>\n",
       "      <td>0.676</td>\n",
       "      <td>0.876</td>\n",
       "      <td>0.505</td>\n",
       "    </tr>\n",
       "    <tr>\n",
       "      <th>13</th>\n",
       "      <td>7324.214</td>\n",
       "      <td>3.244</td>\n",
       "      <td>0.450</td>\n",
       "      <td>0.410</td>\n",
       "      <td>0.996</td>\n",
       "      <td>0.574</td>\n",
       "    </tr>\n",
       "    <tr>\n",
       "      <th>14</th>\n",
       "      <td>12108.400</td>\n",
       "      <td>1.800</td>\n",
       "      <td>0.566</td>\n",
       "      <td>0.657</td>\n",
       "      <td>0.403</td>\n",
       "      <td>0.609</td>\n",
       "    </tr>\n",
       "    <tr>\n",
       "      <th>15</th>\n",
       "      <td>11141.150</td>\n",
       "      <td>2.098</td>\n",
       "      <td>0.374</td>\n",
       "      <td>0.936</td>\n",
       "      <td>0.957</td>\n",
       "      <td>0.407</td>\n",
       "    </tr>\n",
       "    <tr>\n",
       "      <th>16</th>\n",
       "      <td>11815.550</td>\n",
       "      <td>4.616</td>\n",
       "      <td>0.244</td>\n",
       "      <td>0.537</td>\n",
       "      <td>0.997</td>\n",
       "      <td>0.531</td>\n",
       "    </tr>\n",
       "    <tr>\n",
       "      <th>17</th>\n",
       "      <td>10797.670</td>\n",
       "      <td>3.206</td>\n",
       "      <td>0.510</td>\n",
       "      <td>0.480</td>\n",
       "      <td>0.739</td>\n",
       "      <td>0.403</td>\n",
       "    </tr>\n",
       "    <tr>\n",
       "      <th>18</th>\n",
       "      <td>10105.990</td>\n",
       "      <td>2.149</td>\n",
       "      <td>0.382</td>\n",
       "      <td>0.775</td>\n",
       "      <td>0.854</td>\n",
       "      <td>1.087</td>\n",
       "    </tr>\n",
       "    <tr>\n",
       "      <th>19</th>\n",
       "      <td>6891.693</td>\n",
       "      <td>3.036</td>\n",
       "      <td>0.368</td>\n",
       "      <td>0.442</td>\n",
       "      <td>0.716</td>\n",
       "      <td>2.481</td>\n",
       "    </tr>\n",
       "    <tr>\n",
       "      <th>20</th>\n",
       "      <td>10988.730</td>\n",
       "      <td>3.244</td>\n",
       "      <td>0.789</td>\n",
       "      <td>0.421</td>\n",
       "      <td>0.516</td>\n",
       "      <td>0.181</td>\n",
       "    </tr>\n",
       "    <tr>\n",
       "      <th>21</th>\n",
       "      <td>6257.719</td>\n",
       "      <td>3.373</td>\n",
       "      <td>0.381</td>\n",
       "      <td>0.678</td>\n",
       "      <td>0.935</td>\n",
       "      <td>0.574</td>\n",
       "    </tr>\n",
       "    <tr>\n",
       "      <th>22</th>\n",
       "      <td>7695.842</td>\n",
       "      <td>3.930</td>\n",
       "      <td>0.520</td>\n",
       "      <td>0.345</td>\n",
       "      <td>0.308</td>\n",
       "      <td>0.418</td>\n",
       "    </tr>\n",
       "    <tr>\n",
       "      <th>23</th>\n",
       "      <td>8682.256</td>\n",
       "      <td>1.770</td>\n",
       "      <td>0.539</td>\n",
       "      <td>0.848</td>\n",
       "      <td>0.685</td>\n",
       "      <td>0.329</td>\n",
       "    </tr>\n",
       "    <tr>\n",
       "      <th>24</th>\n",
       "      <td>10477.400</td>\n",
       "      <td>3.244</td>\n",
       "      <td>0.657</td>\n",
       "      <td>0.443</td>\n",
       "      <td>0.265</td>\n",
       "      <td>0.305</td>\n",
       "    </tr>\n",
       "    <tr>\n",
       "      <th>25</th>\n",
       "      <td>8351.489</td>\n",
       "      <td>3.636</td>\n",
       "      <td>0.369</td>\n",
       "      <td>0.526</td>\n",
       "      <td>0.270</td>\n",
       "      <td>0.412</td>\n",
       "    </tr>\n",
       "    <tr>\n",
       "      <th>26</th>\n",
       "      <td>8774.890</td>\n",
       "      <td>2.971</td>\n",
       "      <td>0.553</td>\n",
       "      <td>0.519</td>\n",
       "      <td>0.208</td>\n",
       "      <td>0.345</td>\n",
       "    </tr>\n",
       "    <tr>\n",
       "      <th>27</th>\n",
       "      <td>7774.668</td>\n",
       "      <td>2.479</td>\n",
       "      <td>0.689</td>\n",
       "      <td>0.723</td>\n",
       "      <td>0.155</td>\n",
       "      <td>0.187</td>\n",
       "    </tr>\n",
       "    <tr>\n",
       "      <th>28</th>\n",
       "      <td>5901.957</td>\n",
       "      <td>2.524</td>\n",
       "      <td>0.582</td>\n",
       "      <td>0.424</td>\n",
       "      <td>0.645</td>\n",
       "      <td>0.349</td>\n",
       "    </tr>\n",
       "    <tr>\n",
       "      <th>29</th>\n",
       "      <td>8388.346</td>\n",
       "      <td>2.677</td>\n",
       "      <td>0.546</td>\n",
       "      <td>0.640</td>\n",
       "      <td>0.829</td>\n",
       "      <td>0.331</td>\n",
       "    </tr>\n",
       "    <tr>\n",
       "      <th>30</th>\n",
       "      <td>9331.109</td>\n",
       "      <td>3.070</td>\n",
       "      <td>0.618</td>\n",
       "      <td>0.616</td>\n",
       "      <td>0.633</td>\n",
       "      <td>0.160</td>\n",
       "    </tr>\n",
       "  </tbody>\n",
       "</table>\n",
       "</div>"
      ],
      "text/plain": [
       "    NET_INCOME    FR1    FR2    FR3    FR4     FR5\n",
       "ID                                                \n",
       "1     7863.858  2.978  0.551  0.634  0.670   0.345\n",
       "2     9329.172  2.048  0.377  0.748  0.519   0.766\n",
       "3    12726.490  3.224  0.319  0.478  0.238   0.728\n",
       "4     5988.046  3.938  0.482  0.350  0.086   0.326\n",
       "5     6502.307  2.616  0.450  0.621  0.133   0.345\n",
       "6     7110.178  1.959  0.408  0.697  0.146   0.762\n",
       "7     8189.929  1.549  0.273  0.878  0.319  17.751\n",
       "8     7471.071  2.710  0.579  0.537  0.903   0.272\n",
       "9     6933.622  2.553  0.319  0.502  0.178   0.871\n",
       "10    7002.576  2.259  0.458  0.614  0.914   0.818\n",
       "11    8218.483  3.174  0.363  0.396  0.132   0.703\n",
       "12    8852.883  2.635  0.371  0.676  0.876   0.505\n",
       "13    7324.214  3.244  0.450  0.410  0.996   0.574\n",
       "14   12108.400  1.800  0.566  0.657  0.403   0.609\n",
       "15   11141.150  2.098  0.374  0.936  0.957   0.407\n",
       "16   11815.550  4.616  0.244  0.537  0.997   0.531\n",
       "17   10797.670  3.206  0.510  0.480  0.739   0.403\n",
       "18   10105.990  2.149  0.382  0.775  0.854   1.087\n",
       "19    6891.693  3.036  0.368  0.442  0.716   2.481\n",
       "20   10988.730  3.244  0.789  0.421  0.516   0.181\n",
       "21    6257.719  3.373  0.381  0.678  0.935   0.574\n",
       "22    7695.842  3.930  0.520  0.345  0.308   0.418\n",
       "23    8682.256  1.770  0.539  0.848  0.685   0.329\n",
       "24   10477.400  3.244  0.657  0.443  0.265   0.305\n",
       "25    8351.489  3.636  0.369  0.526  0.270   0.412\n",
       "26    8774.890  2.971  0.553  0.519  0.208   0.345\n",
       "27    7774.668  2.479  0.689  0.723  0.155   0.187\n",
       "28    5901.957  2.524  0.582  0.424  0.645   0.349\n",
       "29    8388.346  2.677  0.546  0.640  0.829   0.331\n",
       "30    9331.109  3.070  0.618  0.616  0.633   0.160"
      ]
     },
     "metadata": {},
     "output_type": "display_data"
    },
    {
     "name": "stdout",
     "output_type": "stream",
     "text": [
      "(30, 6)\n"
     ]
    }
   ],
   "source": [
    "data_orig = pd.read_csv('FARM_CREDIT.csv', index_col=0)\n",
    "display(data_orig)\n",
    "print(data_orig.shape)\n",
    "var_names = data_orig.columns"
   ]
  },
  {
   "cell_type": "code",
   "execution_count": 18,
   "metadata": {},
   "outputs": [
    {
     "data": {
      "text/html": [
       "<div>\n",
       "<style scoped>\n",
       "    .dataframe tbody tr th:only-of-type {\n",
       "        vertical-align: middle;\n",
       "    }\n",
       "\n",
       "    .dataframe tbody tr th {\n",
       "        vertical-align: top;\n",
       "    }\n",
       "\n",
       "    .dataframe thead th {\n",
       "        text-align: right;\n",
       "    }\n",
       "</style>\n",
       "<table border=\"1\" class=\"dataframe\">\n",
       "  <thead>\n",
       "    <tr style=\"text-align: right;\">\n",
       "      <th></th>\n",
       "      <th>NET_INCOME</th>\n",
       "      <th>FR1</th>\n",
       "      <th>FR2</th>\n",
       "      <th>FR3</th>\n",
       "      <th>FR4</th>\n",
       "      <th>FR5</th>\n",
       "    </tr>\n",
       "  </thead>\n",
       "  <tbody>\n",
       "    <tr>\n",
       "      <th>count</th>\n",
       "      <td>30.000000</td>\n",
       "      <td>30.000000</td>\n",
       "      <td>30.000000</td>\n",
       "      <td>30.000000</td>\n",
       "      <td>30.000000</td>\n",
       "      <td>30.000000</td>\n",
       "    </tr>\n",
       "    <tr>\n",
       "      <th>mean</th>\n",
       "      <td>8633.256267</td>\n",
       "      <td>2.823667</td>\n",
       "      <td>0.469567</td>\n",
       "      <td>0.585033</td>\n",
       "      <td>0.540833</td>\n",
       "      <td>1.129167</td>\n",
       "    </tr>\n",
       "    <tr>\n",
       "      <th>std</th>\n",
       "      <td>1888.390191</td>\n",
       "      <td>0.709010</td>\n",
       "      <td>0.129205</td>\n",
       "      <td>0.157296</td>\n",
       "      <td>0.315499</td>\n",
       "      <td>3.168304</td>\n",
       "    </tr>\n",
       "    <tr>\n",
       "      <th>min</th>\n",
       "      <td>5901.957000</td>\n",
       "      <td>1.549000</td>\n",
       "      <td>0.244000</td>\n",
       "      <td>0.345000</td>\n",
       "      <td>0.086000</td>\n",
       "      <td>0.160000</td>\n",
       "    </tr>\n",
       "    <tr>\n",
       "      <th>25%</th>\n",
       "      <td>7163.687000</td>\n",
       "      <td>2.314000</td>\n",
       "      <td>0.371750</td>\n",
       "      <td>0.451750</td>\n",
       "      <td>0.244750</td>\n",
       "      <td>0.334500</td>\n",
       "    </tr>\n",
       "    <tr>\n",
       "      <th>50%</th>\n",
       "      <td>8284.986000</td>\n",
       "      <td>2.840500</td>\n",
       "      <td>0.454000</td>\n",
       "      <td>0.575500</td>\n",
       "      <td>0.576000</td>\n",
       "      <td>0.415000</td>\n",
       "    </tr>\n",
       "    <tr>\n",
       "      <th>75%</th>\n",
       "      <td>9912.269750</td>\n",
       "      <td>3.239000</td>\n",
       "      <td>0.552500</td>\n",
       "      <td>0.677500</td>\n",
       "      <td>0.847750</td>\n",
       "      <td>0.721750</td>\n",
       "    </tr>\n",
       "    <tr>\n",
       "      <th>max</th>\n",
       "      <td>12726.490000</td>\n",
       "      <td>4.616000</td>\n",
       "      <td>0.789000</td>\n",
       "      <td>0.936000</td>\n",
       "      <td>0.997000</td>\n",
       "      <td>17.751000</td>\n",
       "    </tr>\n",
       "  </tbody>\n",
       "</table>\n",
       "</div>"
      ],
      "text/plain": [
       "         NET_INCOME        FR1        FR2        FR3        FR4        FR5\n",
       "count     30.000000  30.000000  30.000000  30.000000  30.000000  30.000000\n",
       "mean    8633.256267   2.823667   0.469567   0.585033   0.540833   1.129167\n",
       "std     1888.390191   0.709010   0.129205   0.157296   0.315499   3.168304\n",
       "min     5901.957000   1.549000   0.244000   0.345000   0.086000   0.160000\n",
       "25%     7163.687000   2.314000   0.371750   0.451750   0.244750   0.334500\n",
       "50%     8284.986000   2.840500   0.454000   0.575500   0.576000   0.415000\n",
       "75%     9912.269750   3.239000   0.552500   0.677500   0.847750   0.721750\n",
       "max    12726.490000   4.616000   0.789000   0.936000   0.997000  17.751000"
      ]
     },
     "execution_count": 18,
     "metadata": {},
     "output_type": "execute_result"
    }
   ],
   "source": [
    "data_orig.describe()"
   ]
  },
  {
   "cell_type": "markdown",
   "metadata": {},
   "source": [
    "Performce min-max normalization to standardize all columns to range of [0,1]"
   ]
  },
  {
   "cell_type": "code",
   "execution_count": 19,
   "metadata": {
    "colab": {
     "base_uri": "https://localhost:8080/",
     "height": 295
    },
    "executionInfo": {
     "elapsed": 8,
     "status": "ok",
     "timestamp": 1635747639483,
     "user": {
      "displayName": "Bin Huang",
      "photoUrl": "https://lh3.googleusercontent.com/a/default-user=s64",
      "userId": "02213439757281353194"
     },
     "user_tz": -480
    },
    "id": "hevz6nr_wL4e",
    "outputId": "70f5a4d8-fd0b-4feb-a91a-609b4096cca6",
    "scrolled": true
   },
   "outputs": [
    {
     "data": {
      "text/html": [
       "<div>\n",
       "<style scoped>\n",
       "    .dataframe tbody tr th:only-of-type {\n",
       "        vertical-align: middle;\n",
       "    }\n",
       "\n",
       "    .dataframe tbody tr th {\n",
       "        vertical-align: top;\n",
       "    }\n",
       "\n",
       "    .dataframe thead th {\n",
       "        text-align: right;\n",
       "    }\n",
       "</style>\n",
       "<table border=\"1\" class=\"dataframe\">\n",
       "  <thead>\n",
       "    <tr style=\"text-align: right;\">\n",
       "      <th></th>\n",
       "      <th>NET_INCOME</th>\n",
       "      <th>FR1</th>\n",
       "      <th>FR2</th>\n",
       "      <th>FR3</th>\n",
       "      <th>FR4</th>\n",
       "      <th>FR5</th>\n",
       "    </tr>\n",
       "  </thead>\n",
       "  <tbody>\n",
       "    <tr>\n",
       "      <th>count</th>\n",
       "      <td>30.000000</td>\n",
       "      <td>30.000000</td>\n",
       "      <td>30.000000</td>\n",
       "      <td>30.000000</td>\n",
       "      <td>30.000000</td>\n",
       "      <td>30.000000</td>\n",
       "    </tr>\n",
       "    <tr>\n",
       "      <th>mean</th>\n",
       "      <td>0.400218</td>\n",
       "      <td>0.415607</td>\n",
       "      <td>0.413884</td>\n",
       "      <td>0.406148</td>\n",
       "      <td>0.499268</td>\n",
       "      <td>0.055094</td>\n",
       "    </tr>\n",
       "    <tr>\n",
       "      <th>std</th>\n",
       "      <td>0.276706</td>\n",
       "      <td>0.231174</td>\n",
       "      <td>0.237073</td>\n",
       "      <td>0.266153</td>\n",
       "      <td>0.346322</td>\n",
       "      <td>0.180109</td>\n",
       "    </tr>\n",
       "    <tr>\n",
       "      <th>min</th>\n",
       "      <td>0.000000</td>\n",
       "      <td>0.000000</td>\n",
       "      <td>0.000000</td>\n",
       "      <td>0.000000</td>\n",
       "      <td>0.000000</td>\n",
       "      <td>0.000000</td>\n",
       "    </tr>\n",
       "    <tr>\n",
       "      <th>25%</th>\n",
       "      <td>0.184882</td>\n",
       "      <td>0.249429</td>\n",
       "      <td>0.234404</td>\n",
       "      <td>0.180626</td>\n",
       "      <td>0.174259</td>\n",
       "      <td>0.009920</td>\n",
       "    </tr>\n",
       "    <tr>\n",
       "      <th>50%</th>\n",
       "      <td>0.349186</td>\n",
       "      <td>0.421096</td>\n",
       "      <td>0.385321</td>\n",
       "      <td>0.390017</td>\n",
       "      <td>0.537870</td>\n",
       "      <td>0.014496</td>\n",
       "    </tr>\n",
       "    <tr>\n",
       "      <th>75%</th>\n",
       "      <td>0.587632</td>\n",
       "      <td>0.551027</td>\n",
       "      <td>0.566055</td>\n",
       "      <td>0.562606</td>\n",
       "      <td>0.836169</td>\n",
       "      <td>0.031934</td>\n",
       "    </tr>\n",
       "    <tr>\n",
       "      <th>max</th>\n",
       "      <td>1.000000</td>\n",
       "      <td>1.000000</td>\n",
       "      <td>1.000000</td>\n",
       "      <td>1.000000</td>\n",
       "      <td>1.000000</td>\n",
       "      <td>1.000000</td>\n",
       "    </tr>\n",
       "  </tbody>\n",
       "</table>\n",
       "</div>"
      ],
      "text/plain": [
       "       NET_INCOME        FR1        FR2        FR3        FR4        FR5\n",
       "count   30.000000  30.000000  30.000000  30.000000  30.000000  30.000000\n",
       "mean     0.400218   0.415607   0.413884   0.406148   0.499268   0.055094\n",
       "std      0.276706   0.231174   0.237073   0.266153   0.346322   0.180109\n",
       "min      0.000000   0.000000   0.000000   0.000000   0.000000   0.000000\n",
       "25%      0.184882   0.249429   0.234404   0.180626   0.174259   0.009920\n",
       "50%      0.349186   0.421096   0.385321   0.390017   0.537870   0.014496\n",
       "75%      0.587632   0.551027   0.566055   0.562606   0.836169   0.031934\n",
       "max      1.000000   1.000000   1.000000   1.000000   1.000000   1.000000"
      ]
     },
     "execution_count": 19,
     "metadata": {},
     "output_type": "execute_result"
    }
   ],
   "source": [
    "from sklearn.preprocessing import MinMaxScaler\n",
    "\n",
    "scaler = MinMaxScaler().fit(data_orig)\n",
    "data_scaled = scaler.transform(data_orig)\n",
    "data_scaled = pd.DataFrame(data_scaled, columns=var_names)\n",
    "\n",
    "data_scaled.describe()"
   ]
  },
  {
   "cell_type": "markdown",
   "metadata": {},
   "source": [
    "#### Exercise\n",
    "- Use 'ward' linkage\n",
    "- set distance threshold to 1.6\n",
    "- remember to handle n_clusters if distance_threshold is set"
   ]
  },
  {
   "cell_type": "code",
   "execution_count": 20,
   "metadata": {
    "colab": {
     "base_uri": "https://localhost:8080/"
    },
    "id": "rlDuwKg99tFu",
    "outputId": "00ff3654-3aea-4d96-a9ec-a62dda11bd17"
   },
   "outputs": [],
   "source": [
    "from sklearn.cluster import AgglomerativeClustering\n",
    "\n",
    "model = AgglomerativeClustering(linkage='ward', \n",
    "                                distance_threshold=1.6, \n",
    "                                n_clusters=None)\n",
    "model_ward = model.fit(data_scaled)"
   ]
  },
  {
   "cell_type": "code",
   "execution_count": 21,
   "metadata": {
    "colab": {
     "base_uri": "https://localhost:8080/",
     "height": 301
    },
    "id": "mMymWO3eI6mi",
    "outputId": "32c7c1b7-e52c-4927-ebfa-c3cd0b27f4dc",
    "scrolled": true
   },
   "outputs": [
    {
     "data": {
      "image/png": "[encoded data removed]",
      "text/plain": [
       "<Figure size 640x480 with 1 Axes>"
      ]
     },
     "metadata": {},
     "output_type": "display_data"
    }
   ],
   "source": [
    "plt.title('Hierarchical Clustering Dendrogram - Ward Linkage')\n",
    "plot_dendrogram(model_ward)\n",
    "plt.xlabel(\"Number of points in node (or index of point if no parenthesis).\")\n",
    "plt.show()"
   ]
  },
  {
   "cell_type": "code",
   "execution_count": 22,
   "metadata": {},
   "outputs": [
    {
     "name": "stdout",
     "output_type": "stream",
     "text": [
      "[2 1 0 0 0 0 1 2 0 2 0 1 2 0 1 2 2 1 2 0 2 0 1 0 0 0 0 2 2 2]\n"
     ]
    }
   ],
   "source": [
    "print(model_ward.labels_)"
   ]
  },
  {
   "cell_type": "markdown",
   "metadata": {},
   "source": [
    "#### Exercise\n",
    "- Use 'ward' linkage\n",
    "- set n_clusters to 3, and leave distance threshold unspecifified"
   ]
  },
  {
   "cell_type": "code",
   "execution_count": 23,
   "metadata": {
    "scrolled": true
   },
   "outputs": [
    {
     "name": "stdout",
     "output_type": "stream",
     "text": [
      "[2 1 0 0 0 0 1 2 0 2 0 1 2 0 1 2 2 1 2 0 2 0 1 0 0 0 0 2 2 2]\n"
     ]
    }
   ],
   "source": [
    "model = AgglomerativeClustering(linkage='ward',\n",
    "                                n_clusters=3)\n",
    "model_ward = model.fit(data_scaled)\n",
    "print(model_ward.labels_)"
   ]
  },
  {
   "cell_type": "markdown",
   "metadata": {},
   "source": [
    "Is the clustering result the same as above with distance_threshold set as 1.6?\n",
    "\n",
    "Yes"
   ]
  },
  {
   "cell_type": "markdown",
   "metadata": {},
   "source": [
    "### Use FARM_CREDIT.csv for k-means"
   ]
  },
  {
   "cell_type": "markdown",
   "metadata": {},
   "source": [
    "What is the optimal k value? Try different k values, and plot the elbow line"
   ]
  },
  {
   "cell_type": "code",
   "execution_count": 24,
   "metadata": {
    "colab": {
     "base_uri": "https://localhost:8080/",
     "height": 531
    },
    "executionInfo": {
     "elapsed": 87892,
     "status": "ok",
     "timestamp": 1635747839786,
     "user": {
      "displayName": "Bin Huang",
      "photoUrl": "https://lh3.googleusercontent.com/a/default-user=s64",
      "userId": "02213439757281353194"
     },
     "user_tz": -480
    },
    "id": "lu4jeL1hbEYW",
    "outputId": "4b54f2d9-4195-4537-f62b-cbb6050b72b1",
    "scrolled": true
   },
   "outputs": [
    {
     "data": {
      "image/png": "[encoded data removed]",
      "text/plain": [
       "<Figure size 640x480 with 1 Axes>"
      ]
     },
     "metadata": {},
     "output_type": "display_data"
    }
   ],
   "source": [
    "sum_squared_distances = []\n",
    "for k in range(2, 16):\n",
    "    model = KMeans(n_clusters=k, random_state=0)\n",
    "    model = model.fit(data_scaled)\n",
    "    sum_squared_distances.append(model.inertia_)\n",
    "\n",
    "fig = plt.figure()\n",
    "plt.plot(range(2, 16), sum_squared_distances, marker='o')\n",
    "plt.xlabel('Number of clusters')\n",
    "plt.ylabel('Sum of squared distances')\n",
    "plt.show()"
   ]
  },
  {
   "cell_type": "markdown",
   "metadata": {},
   "source": [
    "Is it obvious which k is the best?\n",
    "\n",
    "- Pick the best k in your opinion\n",
    "- Rerun K-Means\n",
    "- Check Average silhouette score to assess the clustering quality"
   ]
  },
  {
   "cell_type": "code",
   "execution_count": 25,
   "metadata": {},
   "outputs": [
    {
     "name": "stdout",
     "output_type": "stream",
     "text": [
      "0.1657348808155415\n"
     ]
    }
   ],
   "source": [
    "k = 4\n",
    "model = KMeans(n_clusters=k, random_state=0)\n",
    "model = model.fit(data_scaled)\n",
    "print(silhouette_score(data_scaled, model.labels_))"
   ]
  },
  {
   "cell_type": "markdown",
   "metadata": {},
   "source": [
    "#### Interpret the cluster results\n",
    "Let's go with 4 clusters and add a cluster integer label into the table"
   ]
  },
  {
   "cell_type": "code",
   "execution_count": 26,
   "metadata": {},
   "outputs": [
    {
     "name": "stdout",
     "output_type": "stream",
     "text": [
      "0.1657348808155415\n"
     ]
    }
   ],
   "source": [
    "k = 4\n",
    "model = KMeans(n_clusters=k, random_state=0)\n",
    "model = model.fit(data_scaled)\n",
    "print(silhouette_score(data_scaled, model.labels_))"
   ]
  },
  {
   "cell_type": "code",
   "execution_count": 27,
   "metadata": {},
   "outputs": [],
   "source": [
    "data_scaled[\"Cluster\"] = model.labels_"
   ]
  },
  {
   "cell_type": "code",
   "execution_count": 28,
   "metadata": {
    "colab": {
     "base_uri": "https://localhost:8080/",
     "height": 312
    },
    "executionInfo": {
     "elapsed": 355,
     "status": "ok",
     "timestamp": 1635252381217,
     "user": {
      "displayName": "Bin Huang",
      "photoUrl": "https://lh3.googleusercontent.com/a/default-user=s64",
      "userId": "02213439757281353194"
     },
     "user_tz": -480
    },
    "id": "5XbIHnppYwbv",
    "outputId": "f2f4d8e4-f792-4b97-d513-8e1c1a297503"
   },
   "outputs": [
    {
     "name": "stdout",
     "output_type": "stream",
     "text": [
      "Cluster 0\n"
     ]
    },
    {
     "data": {
      "text/html": [
       "<div>\n",
       "<style scoped>\n",
       "    .dataframe tbody tr th:only-of-type {\n",
       "        vertical-align: middle;\n",
       "    }\n",
       "\n",
       "    .dataframe tbody tr th {\n",
       "        vertical-align: top;\n",
       "    }\n",
       "\n",
       "    .dataframe thead th {\n",
       "        text-align: right;\n",
       "    }\n",
       "</style>\n",
       "<table border=\"1\" class=\"dataframe\">\n",
       "  <thead>\n",
       "    <tr style=\"text-align: right;\">\n",
       "      <th></th>\n",
       "      <th>NET_INCOME</th>\n",
       "      <th>FR1</th>\n",
       "      <th>FR2</th>\n",
       "      <th>FR3</th>\n",
       "      <th>FR4</th>\n",
       "      <th>FR5</th>\n",
       "      <th>Cluster</th>\n",
       "    </tr>\n",
       "  </thead>\n",
       "  <tbody>\n",
       "    <tr>\n",
       "      <th>count</th>\n",
       "      <td>6.000000</td>\n",
       "      <td>6.000000</td>\n",
       "      <td>6.000000</td>\n",
       "      <td>6.000000</td>\n",
       "      <td>6.000000</td>\n",
       "      <td>6.000000</td>\n",
       "      <td>6.0</td>\n",
       "    </tr>\n",
       "    <tr>\n",
       "      <th>mean</th>\n",
       "      <td>0.750362</td>\n",
       "      <td>0.614607</td>\n",
       "      <td>0.511621</td>\n",
       "      <td>0.255217</td>\n",
       "      <td>0.525430</td>\n",
       "      <td>0.012772</td>\n",
       "      <td>0.0</td>\n",
       "    </tr>\n",
       "    <tr>\n",
       "      <th>std</th>\n",
       "      <td>0.170153</td>\n",
       "      <td>0.190002</td>\n",
       "      <td>0.382570</td>\n",
       "      <td>0.119873</td>\n",
       "      <td>0.318465</td>\n",
       "      <td>0.012401</td>\n",
       "      <td>0.0</td>\n",
       "    </tr>\n",
       "    <tr>\n",
       "      <th>min</th>\n",
       "      <td>0.502474</td>\n",
       "      <td>0.495924</td>\n",
       "      <td>0.000000</td>\n",
       "      <td>0.128596</td>\n",
       "      <td>0.166850</td>\n",
       "      <td>0.000000</td>\n",
       "      <td>0.0</td>\n",
       "    </tr>\n",
       "    <tr>\n",
       "      <th>25%</th>\n",
       "      <td>0.682173</td>\n",
       "      <td>0.541735</td>\n",
       "      <td>0.225229</td>\n",
       "      <td>0.180626</td>\n",
       "      <td>0.265368</td>\n",
       "      <td>0.002956</td>\n",
       "      <td>0.0</td>\n",
       "    </tr>\n",
       "    <tr>\n",
       "      <th>50%</th>\n",
       "      <td>0.731368</td>\n",
       "      <td>0.549397</td>\n",
       "      <td>0.587156</td>\n",
       "      <td>0.226734</td>\n",
       "      <td>0.536224</td>\n",
       "      <td>0.011028</td>\n",
       "      <td>0.0</td>\n",
       "    </tr>\n",
       "    <tr>\n",
       "      <th>75%</th>\n",
       "      <td>0.836231</td>\n",
       "      <td>0.552657</td>\n",
       "      <td>0.739908</td>\n",
       "      <td>0.300761</td>\n",
       "      <td>0.687706</td>\n",
       "      <td>0.019271</td>\n",
       "      <td>0.0</td>\n",
       "    </tr>\n",
       "    <tr>\n",
       "      <th>max</th>\n",
       "      <td>1.000000</td>\n",
       "      <td>1.000000</td>\n",
       "      <td>1.000000</td>\n",
       "      <td>0.458545</td>\n",
       "      <td>1.000000</td>\n",
       "      <td>0.032289</td>\n",
       "      <td>0.0</td>\n",
       "    </tr>\n",
       "  </tbody>\n",
       "</table>\n",
       "</div>"
      ],
      "text/plain": [
       "       NET_INCOME       FR1       FR2       FR3       FR4       FR5  Cluster\n",
       "count    6.000000  6.000000  6.000000  6.000000  6.000000  6.000000      6.0\n",
       "mean     0.750362  0.614607  0.511621  0.255217  0.525430  0.012772      0.0\n",
       "std      0.170153  0.190002  0.382570  0.119873  0.318465  0.012401      0.0\n",
       "min      0.502474  0.495924  0.000000  0.128596  0.166850  0.000000      0.0\n",
       "25%      0.682173  0.541735  0.225229  0.180626  0.265368  0.002956      0.0\n",
       "50%      0.731368  0.549397  0.587156  0.226734  0.536224  0.011028      0.0\n",
       "75%      0.836231  0.552657  0.739908  0.300761  0.687706  0.019271      0.0\n",
       "max      1.000000  1.000000  1.000000  0.458545  1.000000  0.032289      0.0"
      ]
     },
     "execution_count": 28,
     "metadata": {},
     "output_type": "execute_result"
    }
   ],
   "source": [
    "print(\"Cluster\", 0)\n",
    "data_scaled[data_scaled[\"Cluster\"]==0].describe()"
   ]
  },
  {
   "cell_type": "code",
   "execution_count": 29,
   "metadata": {
    "colab": {
     "base_uri": "https://localhost:8080/",
     "height": 312
    },
    "executionInfo": {
     "elapsed": 327,
     "status": "ok",
     "timestamp": 1635252397217,
     "user": {
      "displayName": "Bin Huang",
      "photoUrl": "https://lh3.googleusercontent.com/a/default-user=s64",
      "userId": "02213439757281353194"
     },
     "user_tz": -480
    },
    "id": "7nhbzjXtYmoi",
    "outputId": "a505d560-8299-4641-aae8-78ac9eb57aeb",
    "scrolled": true
   },
   "outputs": [
    {
     "name": "stdout",
     "output_type": "stream",
     "text": [
      "Cluster 1\n"
     ]
    },
    {
     "data": {
      "text/html": [
       "<div>\n",
       "<style scoped>\n",
       "    .dataframe tbody tr th:only-of-type {\n",
       "        vertical-align: middle;\n",
       "    }\n",
       "\n",
       "    .dataframe tbody tr th {\n",
       "        vertical-align: top;\n",
       "    }\n",
       "\n",
       "    .dataframe thead th {\n",
       "        text-align: right;\n",
       "    }\n",
       "</style>\n",
       "<table border=\"1\" class=\"dataframe\">\n",
       "  <thead>\n",
       "    <tr style=\"text-align: right;\">\n",
       "      <th></th>\n",
       "      <th>NET_INCOME</th>\n",
       "      <th>FR1</th>\n",
       "      <th>FR2</th>\n",
       "      <th>FR3</th>\n",
       "      <th>FR4</th>\n",
       "      <th>FR5</th>\n",
       "      <th>Cluster</th>\n",
       "    </tr>\n",
       "  </thead>\n",
       "  <tbody>\n",
       "    <tr>\n",
       "      <th>count</th>\n",
       "      <td>2.000000</td>\n",
       "      <td>2.000000</td>\n",
       "      <td>2.000000</td>\n",
       "      <td>2.000000</td>\n",
       "      <td>2.000000</td>\n",
       "      <td>2.000000</td>\n",
       "      <td>2.0</td>\n",
       "    </tr>\n",
       "    <tr>\n",
       "      <th>mean</th>\n",
       "      <td>0.591920</td>\n",
       "      <td>0.192533</td>\n",
       "      <td>0.703670</td>\n",
       "      <td>0.583756</td>\n",
       "      <td>0.211855</td>\n",
       "      <td>0.013530</td>\n",
       "      <td>1.0</td>\n",
       "    </tr>\n",
       "    <tr>\n",
       "      <th>std</th>\n",
       "      <td>0.449029</td>\n",
       "      <td>0.156546</td>\n",
       "      <td>0.159586</td>\n",
       "      <td>0.078966</td>\n",
       "      <td>0.192494</td>\n",
       "      <td>0.016963</td>\n",
       "      <td>0.0</td>\n",
       "    </tr>\n",
       "    <tr>\n",
       "      <th>min</th>\n",
       "      <td>0.274409</td>\n",
       "      <td>0.081839</td>\n",
       "      <td>0.590826</td>\n",
       "      <td>0.527919</td>\n",
       "      <td>0.075741</td>\n",
       "      <td>0.001535</td>\n",
       "      <td>1.0</td>\n",
       "    </tr>\n",
       "    <tr>\n",
       "      <th>25%</th>\n",
       "      <td>0.433164</td>\n",
       "      <td>0.137186</td>\n",
       "      <td>0.647248</td>\n",
       "      <td>0.555838</td>\n",
       "      <td>0.143798</td>\n",
       "      <td>0.007532</td>\n",
       "      <td>1.0</td>\n",
       "    </tr>\n",
       "    <tr>\n",
       "      <th>50%</th>\n",
       "      <td>0.591920</td>\n",
       "      <td>0.192533</td>\n",
       "      <td>0.703670</td>\n",
       "      <td>0.583756</td>\n",
       "      <td>0.211855</td>\n",
       "      <td>0.013530</td>\n",
       "      <td>1.0</td>\n",
       "    </tr>\n",
       "    <tr>\n",
       "      <th>75%</th>\n",
       "      <td>0.750676</td>\n",
       "      <td>0.247881</td>\n",
       "      <td>0.760092</td>\n",
       "      <td>0.611675</td>\n",
       "      <td>0.279912</td>\n",
       "      <td>0.019527</td>\n",
       "      <td>1.0</td>\n",
       "    </tr>\n",
       "    <tr>\n",
       "      <th>max</th>\n",
       "      <td>0.909431</td>\n",
       "      <td>0.303228</td>\n",
       "      <td>0.816514</td>\n",
       "      <td>0.639594</td>\n",
       "      <td>0.347969</td>\n",
       "      <td>0.025524</td>\n",
       "      <td>1.0</td>\n",
       "    </tr>\n",
       "  </tbody>\n",
       "</table>\n",
       "</div>"
      ],
      "text/plain": [
       "       NET_INCOME       FR1       FR2       FR3       FR4       FR5  Cluster\n",
       "count    2.000000  2.000000  2.000000  2.000000  2.000000  2.000000      2.0\n",
       "mean     0.591920  0.192533  0.703670  0.583756  0.211855  0.013530      1.0\n",
       "std      0.449029  0.156546  0.159586  0.078966  0.192494  0.016963      0.0\n",
       "min      0.274409  0.081839  0.590826  0.527919  0.075741  0.001535      1.0\n",
       "25%      0.433164  0.137186  0.647248  0.555838  0.143798  0.007532      1.0\n",
       "50%      0.591920  0.192533  0.703670  0.583756  0.211855  0.013530      1.0\n",
       "75%      0.750676  0.247881  0.760092  0.611675  0.279912  0.019527      1.0\n",
       "max      0.909431  0.303228  0.816514  0.639594  0.347969  0.025524      1.0"
      ]
     },
     "execution_count": 29,
     "metadata": {},
     "output_type": "execute_result"
    }
   ],
   "source": [
    "print(\"Cluster\", 1)\n",
    "data_scaled[data_scaled[\"Cluster\"]==1].describe()"
   ]
  },
  {
   "cell_type": "code",
   "execution_count": 30,
   "metadata": {
    "colab": {
     "base_uri": "https://localhost:8080/",
     "height": 312
    },
    "executionInfo": {
     "elapsed": 327,
     "status": "ok",
     "timestamp": 1635252397217,
     "user": {
      "displayName": "Bin Huang",
      "photoUrl": "https://lh3.googleusercontent.com/a/default-user=s64",
      "userId": "02213439757281353194"
     },
     "user_tz": -480
    },
    "id": "7nhbzjXtYmoi",
    "outputId": "a505d560-8299-4641-aae8-78ac9eb57aeb",
    "scrolled": true
   },
   "outputs": [
    {
     "name": "stdout",
     "output_type": "stream",
     "text": [
      "Cluster 2\n"
     ]
    },
    {
     "data": {
      "text/html": [
       "<div>\n",
       "<style scoped>\n",
       "    .dataframe tbody tr th:only-of-type {\n",
       "        vertical-align: middle;\n",
       "    }\n",
       "\n",
       "    .dataframe tbody tr th {\n",
       "        vertical-align: top;\n",
       "    }\n",
       "\n",
       "    .dataframe thead th {\n",
       "        text-align: right;\n",
       "    }\n",
       "</style>\n",
       "<table border=\"1\" class=\"dataframe\">\n",
       "  <thead>\n",
       "    <tr style=\"text-align: right;\">\n",
       "      <th></th>\n",
       "      <th>NET_INCOME</th>\n",
       "      <th>FR1</th>\n",
       "      <th>FR2</th>\n",
       "      <th>FR3</th>\n",
       "      <th>FR4</th>\n",
       "      <th>FR5</th>\n",
       "      <th>Cluster</th>\n",
       "    </tr>\n",
       "  </thead>\n",
       "  <tbody>\n",
       "    <tr>\n",
       "      <th>count</th>\n",
       "      <td>10.000000</td>\n",
       "      <td>10.000000</td>\n",
       "      <td>10.000000</td>\n",
       "      <td>10.000000</td>\n",
       "      <td>10.000000</td>\n",
       "      <td>10.000000</td>\n",
       "      <td>10.0</td>\n",
       "    </tr>\n",
       "    <tr>\n",
       "      <th>mean</th>\n",
       "      <td>0.214625</td>\n",
       "      <td>0.435605</td>\n",
       "      <td>0.344771</td>\n",
       "      <td>0.305922</td>\n",
       "      <td>0.171789</td>\n",
       "      <td>0.117571</td>\n",
       "      <td>2.0</td>\n",
       "    </tr>\n",
       "    <tr>\n",
       "      <th>std</th>\n",
       "      <td>0.150633</td>\n",
       "      <td>0.261994</td>\n",
       "      <td>0.188579</td>\n",
       "      <td>0.284163</td>\n",
       "      <td>0.177851</td>\n",
       "      <td>0.310264</td>\n",
       "      <td>0.0</td>\n",
       "    </tr>\n",
       "    <tr>\n",
       "      <th>min</th>\n",
       "      <td>0.000000</td>\n",
       "      <td>0.000000</td>\n",
       "      <td>0.053211</td>\n",
       "      <td>0.000000</td>\n",
       "      <td>0.000000</td>\n",
       "      <td>0.009437</td>\n",
       "      <td>2.0</td>\n",
       "    </tr>\n",
       "    <tr>\n",
       "      <th>25%</th>\n",
       "      <td>0.103770</td>\n",
       "      <td>0.320264</td>\n",
       "      <td>0.221101</td>\n",
       "      <td>0.098139</td>\n",
       "      <td>0.055159</td>\n",
       "      <td>0.010574</td>\n",
       "      <td>2.0</td>\n",
       "    </tr>\n",
       "    <tr>\n",
       "      <th>50%</th>\n",
       "      <td>0.219950</td>\n",
       "      <td>0.405771</td>\n",
       "      <td>0.339450</td>\n",
       "      <td>0.280034</td>\n",
       "      <td>0.117453</td>\n",
       "      <td>0.014496</td>\n",
       "      <td>2.0</td>\n",
       "    </tr>\n",
       "    <tr>\n",
       "      <th>75%</th>\n",
       "      <td>0.338395</td>\n",
       "      <td>0.642811</td>\n",
       "      <td>0.488991</td>\n",
       "      <td>0.426819</td>\n",
       "      <td>0.233260</td>\n",
       "      <td>0.033384</td>\n",
       "      <td>2.0</td>\n",
       "    </tr>\n",
       "    <tr>\n",
       "      <th>max</th>\n",
       "      <td>0.420971</td>\n",
       "      <td>0.778937</td>\n",
       "      <td>0.620183</td>\n",
       "      <td>0.901861</td>\n",
       "      <td>0.613611</td>\n",
       "      <td>1.000000</td>\n",
       "      <td>2.0</td>\n",
       "    </tr>\n",
       "  </tbody>\n",
       "</table>\n",
       "</div>"
      ],
      "text/plain": [
       "       NET_INCOME        FR1        FR2        FR3        FR4        FR5  \\\n",
       "count   10.000000  10.000000  10.000000  10.000000  10.000000  10.000000   \n",
       "mean     0.214625   0.435605   0.344771   0.305922   0.171789   0.117571   \n",
       "std      0.150633   0.261994   0.188579   0.284163   0.177851   0.310264   \n",
       "min      0.000000   0.000000   0.053211   0.000000   0.000000   0.009437   \n",
       "25%      0.103770   0.320264   0.221101   0.098139   0.055159   0.010574   \n",
       "50%      0.219950   0.405771   0.339450   0.280034   0.117453   0.014496   \n",
       "75%      0.338395   0.642811   0.488991   0.426819   0.233260   0.033384   \n",
       "max      0.420971   0.778937   0.620183   0.901861   0.613611   1.000000   \n",
       "\n",
       "       Cluster  \n",
       "count     10.0  \n",
       "mean       2.0  \n",
       "std        0.0  \n",
       "min        2.0  \n",
       "25%        2.0  \n",
       "50%        2.0  \n",
       "75%        2.0  \n",
       "max        2.0  "
      ]
     },
     "execution_count": 30,
     "metadata": {},
     "output_type": "execute_result"
    }
   ],
   "source": [
    "print(\"Cluster\", 2)\n",
    "data_scaled[data_scaled[\"Cluster\"]==2].describe()"
   ]
  },
  {
   "cell_type": "code",
   "execution_count": 31,
   "metadata": {
    "colab": {
     "base_uri": "https://localhost:8080/",
     "height": 312
    },
    "executionInfo": {
     "elapsed": 327,
     "status": "ok",
     "timestamp": 1635252397217,
     "user": {
      "displayName": "Bin Huang",
      "photoUrl": "https://lh3.googleusercontent.com/a/default-user=s64",
      "userId": "02213439757281353194"
     },
     "user_tz": -480
    },
    "id": "7nhbzjXtYmoi",
    "outputId": "a505d560-8299-4641-aae8-78ac9eb57aeb",
    "scrolled": true
   },
   "outputs": [
    {
     "name": "stdout",
     "output_type": "stream",
     "text": [
      "Cluster 3\n"
     ]
    },
    {
     "data": {
      "text/html": [
       "<div>\n",
       "<style scoped>\n",
       "    .dataframe tbody tr th:only-of-type {\n",
       "        vertical-align: middle;\n",
       "    }\n",
       "\n",
       "    .dataframe tbody tr th {\n",
       "        vertical-align: top;\n",
       "    }\n",
       "\n",
       "    .dataframe thead th {\n",
       "        text-align: right;\n",
       "    }\n",
       "</style>\n",
       "<table border=\"1\" class=\"dataframe\">\n",
       "  <thead>\n",
       "    <tr style=\"text-align: right;\">\n",
       "      <th></th>\n",
       "      <th>NET_INCOME</th>\n",
       "      <th>FR1</th>\n",
       "      <th>FR2</th>\n",
       "      <th>FR3</th>\n",
       "      <th>FR4</th>\n",
       "      <th>FR5</th>\n",
       "      <th>Cluster</th>\n",
       "    </tr>\n",
       "  </thead>\n",
       "  <tbody>\n",
       "    <tr>\n",
       "      <th>count</th>\n",
       "      <td>12.000000</td>\n",
       "      <td>12.000000</td>\n",
       "      <td>12.000000</td>\n",
       "      <td>12.000000</td>\n",
       "      <td>12.000000</td>\n",
       "      <td>12.000000</td>\n",
       "      <td>12.0</td>\n",
       "    </tr>\n",
       "    <tr>\n",
       "      <th>mean</th>\n",
       "      <td>0.347856</td>\n",
       "      <td>0.336621</td>\n",
       "      <td>0.374312</td>\n",
       "      <td>0.535533</td>\n",
       "      <td>0.806989</td>\n",
       "      <td>0.031119</td>\n",
       "      <td>3.0</td>\n",
       "    </tr>\n",
       "    <tr>\n",
       "      <th>std</th>\n",
       "      <td>0.209625</td>\n",
       "      <td>0.168151</td>\n",
       "      <td>0.153964</td>\n",
       "      <td>0.260830</td>\n",
       "      <td>0.157059</td>\n",
       "      <td>0.034613</td>\n",
       "      <td>0.0</td>\n",
       "    </tr>\n",
       "    <tr>\n",
       "      <th>min</th>\n",
       "      <td>0.052130</td>\n",
       "      <td>0.072057</td>\n",
       "      <td>0.227523</td>\n",
       "      <td>0.109983</td>\n",
       "      <td>0.475302</td>\n",
       "      <td>0.006367</td>\n",
       "      <td>3.0</td>\n",
       "    </tr>\n",
       "    <tr>\n",
       "      <th>25%</th>\n",
       "      <td>0.196621</td>\n",
       "      <td>0.191474</td>\n",
       "      <td>0.242661</td>\n",
       "      <td>0.422589</td>\n",
       "      <td>0.683041</td>\n",
       "      <td>0.010318</td>\n",
       "      <td>3.0</td>\n",
       "    </tr>\n",
       "    <tr>\n",
       "      <th>50%</th>\n",
       "      <td>0.325904</td>\n",
       "      <td>0.360939</td>\n",
       "      <td>0.315596</td>\n",
       "      <td>0.529611</td>\n",
       "      <td>0.855104</td>\n",
       "      <td>0.021574</td>\n",
       "      <td>3.0</td>\n",
       "    </tr>\n",
       "    <tr>\n",
       "      <th>75%</th>\n",
       "      <td>0.449847</td>\n",
       "      <td>0.470655</td>\n",
       "      <td>0.544495</td>\n",
       "      <td>0.693316</td>\n",
       "      <td>0.914654</td>\n",
       "      <td>0.035188</td>\n",
       "      <td>3.0</td>\n",
       "    </tr>\n",
       "    <tr>\n",
       "      <th>max</th>\n",
       "      <td>0.767700</td>\n",
       "      <td>0.594718</td>\n",
       "      <td>0.614679</td>\n",
       "      <td>1.000000</td>\n",
       "      <td>0.998902</td>\n",
       "      <td>0.131942</td>\n",
       "      <td>3.0</td>\n",
       "    </tr>\n",
       "  </tbody>\n",
       "</table>\n",
       "</div>"
      ],
      "text/plain": [
       "       NET_INCOME        FR1        FR2        FR3        FR4        FR5  \\\n",
       "count   12.000000  12.000000  12.000000  12.000000  12.000000  12.000000   \n",
       "mean     0.347856   0.336621   0.374312   0.535533   0.806989   0.031119   \n",
       "std      0.209625   0.168151   0.153964   0.260830   0.157059   0.034613   \n",
       "min      0.052130   0.072057   0.227523   0.109983   0.475302   0.006367   \n",
       "25%      0.196621   0.191474   0.242661   0.422589   0.683041   0.010318   \n",
       "50%      0.325904   0.360939   0.315596   0.529611   0.855104   0.021574   \n",
       "75%      0.449847   0.470655   0.544495   0.693316   0.914654   0.035188   \n",
       "max      0.767700   0.594718   0.614679   1.000000   0.998902   0.131942   \n",
       "\n",
       "       Cluster  \n",
       "count     12.0  \n",
       "mean       3.0  \n",
       "std        0.0  \n",
       "min        3.0  \n",
       "25%        3.0  \n",
       "50%        3.0  \n",
       "75%        3.0  \n",
       "max        3.0  "
      ]
     },
     "execution_count": 31,
     "metadata": {},
     "output_type": "execute_result"
    }
   ],
   "source": [
    "print(\"Cluster\", 3)\n",
    "data_scaled[data_scaled[\"Cluster\"]==3].describe()"
   ]
  },
  {
   "cell_type": "markdown",
   "metadata": {},
   "source": [
    "How would you give meaningful names to the 4 clusters based on the distribution of financial numbers? How can the 4 clusters be useful for bank's operation when reviewing each farm's loan application?\n",
    "\n",
    "e.g. \n",
    "- cluster 0 has high FR3 and high FR5\n",
    "- cluster 1 has high net_income and high FR1\n",
    "- cluster 2 is lower on all variables \n",
    "- cluster 3 has high FR4\n",
    "\n",
    "Based on the 4 clusters' characteristics, the bank can make loan approval process different for each cluster."
   ]
  },
  {
   "cell_type": "markdown",
   "metadata": {},
   "source": [
    "### Dimension Reduction\n",
    "\n",
    "#### Principle Component Analysis"
   ]
  },
  {
   "cell_type": "code",
   "execution_count": 32,
   "metadata": {
    "scrolled": true
   },
   "outputs": [
    {
     "data": {
      "text/html": [
       "<div>\n",
       "<style scoped>\n",
       "    .dataframe tbody tr th:only-of-type {\n",
       "        vertical-align: middle;\n",
       "    }\n",
       "\n",
       "    .dataframe tbody tr th {\n",
       "        vertical-align: top;\n",
       "    }\n",
       "\n",
       "    .dataframe thead th {\n",
       "        text-align: right;\n",
       "    }\n",
       "</style>\n",
       "<table border=\"1\" class=\"dataframe\">\n",
       "  <thead>\n",
       "    <tr style=\"text-align: right;\">\n",
       "      <th></th>\n",
       "      <th>X1</th>\n",
       "      <th>X2</th>\n",
       "      <th>X3</th>\n",
       "      <th>X4</th>\n",
       "      <th>X5</th>\n",
       "      <th>X6</th>\n",
       "      <th>X7</th>\n",
       "      <th>X8</th>\n",
       "      <th>X9</th>\n",
       "      <th>X10</th>\n",
       "      <th>...</th>\n",
       "      <th>X86</th>\n",
       "      <th>X87</th>\n",
       "      <th>X88</th>\n",
       "      <th>X89</th>\n",
       "      <th>X90</th>\n",
       "      <th>X91</th>\n",
       "      <th>X92</th>\n",
       "      <th>X93</th>\n",
       "      <th>X94</th>\n",
       "      <th>X95</th>\n",
       "    </tr>\n",
       "  </thead>\n",
       "  <tbody>\n",
       "    <tr>\n",
       "      <th>0</th>\n",
       "      <td>0.370594</td>\n",
       "      <td>0.424389</td>\n",
       "      <td>0.405750</td>\n",
       "      <td>0.601457</td>\n",
       "      <td>0.601457</td>\n",
       "      <td>0.998969</td>\n",
       "      <td>0.796887</td>\n",
       "      <td>0.808809</td>\n",
       "      <td>0.302646</td>\n",
       "      <td>0.780985</td>\n",
       "      <td>...</td>\n",
       "      <td>0.716845</td>\n",
       "      <td>0.009219</td>\n",
       "      <td>0.622879</td>\n",
       "      <td>0.601453</td>\n",
       "      <td>0.827890</td>\n",
       "      <td>0.290202</td>\n",
       "      <td>0.026601</td>\n",
       "      <td>0.564050</td>\n",
       "      <td>1</td>\n",
       "      <td>0.016469</td>\n",
       "    </tr>\n",
       "    <tr>\n",
       "      <th>1</th>\n",
       "      <td>0.464291</td>\n",
       "      <td>0.538214</td>\n",
       "      <td>0.516730</td>\n",
       "      <td>0.610235</td>\n",
       "      <td>0.610235</td>\n",
       "      <td>0.998946</td>\n",
       "      <td>0.797380</td>\n",
       "      <td>0.809301</td>\n",
       "      <td>0.303556</td>\n",
       "      <td>0.781506</td>\n",
       "      <td>...</td>\n",
       "      <td>0.795297</td>\n",
       "      <td>0.008323</td>\n",
       "      <td>0.623652</td>\n",
       "      <td>0.610237</td>\n",
       "      <td>0.839969</td>\n",
       "      <td>0.283846</td>\n",
       "      <td>0.264577</td>\n",
       "      <td>0.570175</td>\n",
       "      <td>1</td>\n",
       "      <td>0.020794</td>\n",
       "    </tr>\n",
       "    <tr>\n",
       "      <th>2</th>\n",
       "      <td>0.426071</td>\n",
       "      <td>0.499019</td>\n",
       "      <td>0.472295</td>\n",
       "      <td>0.601450</td>\n",
       "      <td>0.601364</td>\n",
       "      <td>0.998857</td>\n",
       "      <td>0.796403</td>\n",
       "      <td>0.808388</td>\n",
       "      <td>0.302035</td>\n",
       "      <td>0.780284</td>\n",
       "      <td>...</td>\n",
       "      <td>0.774670</td>\n",
       "      <td>0.040003</td>\n",
       "      <td>0.623841</td>\n",
       "      <td>0.601449</td>\n",
       "      <td>0.836774</td>\n",
       "      <td>0.290189</td>\n",
       "      <td>0.026555</td>\n",
       "      <td>0.563706</td>\n",
       "      <td>1</td>\n",
       "      <td>0.016474</td>\n",
       "    </tr>\n",
       "    <tr>\n",
       "      <th>3</th>\n",
       "      <td>0.399844</td>\n",
       "      <td>0.451265</td>\n",
       "      <td>0.457733</td>\n",
       "      <td>0.583541</td>\n",
       "      <td>0.583541</td>\n",
       "      <td>0.998700</td>\n",
       "      <td>0.796967</td>\n",
       "      <td>0.808966</td>\n",
       "      <td>0.303350</td>\n",
       "      <td>0.781241</td>\n",
       "      <td>...</td>\n",
       "      <td>0.739555</td>\n",
       "      <td>0.003252</td>\n",
       "      <td>0.622929</td>\n",
       "      <td>0.583538</td>\n",
       "      <td>0.834697</td>\n",
       "      <td>0.281721</td>\n",
       "      <td>0.026697</td>\n",
       "      <td>0.564663</td>\n",
       "      <td>1</td>\n",
       "      <td>0.023982</td>\n",
       "    </tr>\n",
       "    <tr>\n",
       "      <th>4</th>\n",
       "      <td>0.465022</td>\n",
       "      <td>0.538432</td>\n",
       "      <td>0.522298</td>\n",
       "      <td>0.598783</td>\n",
       "      <td>0.598783</td>\n",
       "      <td>0.998973</td>\n",
       "      <td>0.797366</td>\n",
       "      <td>0.809304</td>\n",
       "      <td>0.303475</td>\n",
       "      <td>0.781550</td>\n",
       "      <td>...</td>\n",
       "      <td>0.795016</td>\n",
       "      <td>0.003878</td>\n",
       "      <td>0.623521</td>\n",
       "      <td>0.598782</td>\n",
       "      <td>0.839973</td>\n",
       "      <td>0.278514</td>\n",
       "      <td>0.024752</td>\n",
       "      <td>0.575617</td>\n",
       "      <td>1</td>\n",
       "      <td>0.035490</td>\n",
       "    </tr>\n",
       "    <tr>\n",
       "      <th>...</th>\n",
       "      <td>...</td>\n",
       "      <td>...</td>\n",
       "      <td>...</td>\n",
       "      <td>...</td>\n",
       "      <td>...</td>\n",
       "      <td>...</td>\n",
       "      <td>...</td>\n",
       "      <td>...</td>\n",
       "      <td>...</td>\n",
       "      <td>...</td>\n",
       "      <td>...</td>\n",
       "      <td>...</td>\n",
       "      <td>...</td>\n",
       "      <td>...</td>\n",
       "      <td>...</td>\n",
       "      <td>...</td>\n",
       "      <td>...</td>\n",
       "      <td>...</td>\n",
       "      <td>...</td>\n",
       "      <td>...</td>\n",
       "      <td>...</td>\n",
       "    </tr>\n",
       "    <tr>\n",
       "      <th>94</th>\n",
       "      <td>0.512992</td>\n",
       "      <td>0.565962</td>\n",
       "      <td>0.564163</td>\n",
       "      <td>0.596780</td>\n",
       "      <td>0.596780</td>\n",
       "      <td>0.998992</td>\n",
       "      <td>0.797418</td>\n",
       "      <td>0.809337</td>\n",
       "      <td>0.303526</td>\n",
       "      <td>0.781595</td>\n",
       "      <td>...</td>\n",
       "      <td>0.816488</td>\n",
       "      <td>0.003693</td>\n",
       "      <td>0.623753</td>\n",
       "      <td>0.596778</td>\n",
       "      <td>0.841562</td>\n",
       "      <td>0.278746</td>\n",
       "      <td>0.026901</td>\n",
       "      <td>0.565633</td>\n",
       "      <td>1</td>\n",
       "      <td>0.034046</td>\n",
       "    </tr>\n",
       "    <tr>\n",
       "      <th>95</th>\n",
       "      <td>0.529859</td>\n",
       "      <td>0.586023</td>\n",
       "      <td>0.579956</td>\n",
       "      <td>0.637606</td>\n",
       "      <td>0.637606</td>\n",
       "      <td>0.999099</td>\n",
       "      <td>0.797548</td>\n",
       "      <td>0.809443</td>\n",
       "      <td>0.303531</td>\n",
       "      <td>0.781709</td>\n",
       "      <td>...</td>\n",
       "      <td>0.827879</td>\n",
       "      <td>0.001718</td>\n",
       "      <td>0.623735</td>\n",
       "      <td>0.637605</td>\n",
       "      <td>0.842203</td>\n",
       "      <td>0.277826</td>\n",
       "      <td>0.026802</td>\n",
       "      <td>0.565210</td>\n",
       "      <td>1</td>\n",
       "      <td>0.041011</td>\n",
       "    </tr>\n",
       "    <tr>\n",
       "      <th>96</th>\n",
       "      <td>0.474187</td>\n",
       "      <td>0.532817</td>\n",
       "      <td>0.524064</td>\n",
       "      <td>0.620526</td>\n",
       "      <td>0.620382</td>\n",
       "      <td>0.999026</td>\n",
       "      <td>0.797426</td>\n",
       "      <td>0.809323</td>\n",
       "      <td>0.303471</td>\n",
       "      <td>0.781577</td>\n",
       "      <td>...</td>\n",
       "      <td>0.797257</td>\n",
       "      <td>0.011141</td>\n",
       "      <td>0.623853</td>\n",
       "      <td>0.620526</td>\n",
       "      <td>0.840113</td>\n",
       "      <td>0.276063</td>\n",
       "      <td>0.026800</td>\n",
       "      <td>0.565199</td>\n",
       "      <td>1</td>\n",
       "      <td>0.080289</td>\n",
       "    </tr>\n",
       "    <tr>\n",
       "      <th>97</th>\n",
       "      <td>0.496807</td>\n",
       "      <td>0.570704</td>\n",
       "      <td>0.543552</td>\n",
       "      <td>0.602848</td>\n",
       "      <td>0.602848</td>\n",
       "      <td>0.999005</td>\n",
       "      <td>0.797458</td>\n",
       "      <td>0.809366</td>\n",
       "      <td>0.303569</td>\n",
       "      <td>0.781604</td>\n",
       "      <td>...</td>\n",
       "      <td>0.819659</td>\n",
       "      <td>0.000854</td>\n",
       "      <td>0.624077</td>\n",
       "      <td>0.602848</td>\n",
       "      <td>0.841634</td>\n",
       "      <td>0.277752</td>\n",
       "      <td>0.026824</td>\n",
       "      <td>0.565312</td>\n",
       "      <td>1</td>\n",
       "      <td>0.041761</td>\n",
       "    </tr>\n",
       "    <tr>\n",
       "      <th>98</th>\n",
       "      <td>0.526885</td>\n",
       "      <td>0.571522</td>\n",
       "      <td>0.571819</td>\n",
       "      <td>0.619575</td>\n",
       "      <td>0.619568</td>\n",
       "      <td>0.999092</td>\n",
       "      <td>0.797537</td>\n",
       "      <td>0.809416</td>\n",
       "      <td>0.303524</td>\n",
       "      <td>0.781673</td>\n",
       "      <td>...</td>\n",
       "      <td>0.820055</td>\n",
       "      <td>0.001733</td>\n",
       "      <td>0.623707</td>\n",
       "      <td>0.619575</td>\n",
       "      <td>0.841929</td>\n",
       "      <td>0.279356</td>\n",
       "      <td>0.026826</td>\n",
       "      <td>0.565319</td>\n",
       "      <td>1</td>\n",
       "      <td>0.030939</td>\n",
       "    </tr>\n",
       "  </tbody>\n",
       "</table>\n",
       "<p>99 rows × 95 columns</p>\n",
       "</div>"
      ],
      "text/plain": [
       "          X1        X2        X3        X4        X5        X6        X7  \\\n",
       "0   0.370594  0.424389  0.405750  0.601457  0.601457  0.998969  0.796887   \n",
       "1   0.464291  0.538214  0.516730  0.610235  0.610235  0.998946  0.797380   \n",
       "2   0.426071  0.499019  0.472295  0.601450  0.601364  0.998857  0.796403   \n",
       "3   0.399844  0.451265  0.457733  0.583541  0.583541  0.998700  0.796967   \n",
       "4   0.465022  0.538432  0.522298  0.598783  0.598783  0.998973  0.797366   \n",
       "..       ...       ...       ...       ...       ...       ...       ...   \n",
       "94  0.512992  0.565962  0.564163  0.596780  0.596780  0.998992  0.797418   \n",
       "95  0.529859  0.586023  0.579956  0.637606  0.637606  0.999099  0.797548   \n",
       "96  0.474187  0.532817  0.524064  0.620526  0.620382  0.999026  0.797426   \n",
       "97  0.496807  0.570704  0.543552  0.602848  0.602848  0.999005  0.797458   \n",
       "98  0.526885  0.571522  0.571819  0.619575  0.619568  0.999092  0.797537   \n",
       "\n",
       "          X8        X9       X10  ...       X86       X87       X88       X89  \\\n",
       "0   0.808809  0.302646  0.780985  ...  0.716845  0.009219  0.622879  0.601453   \n",
       "1   0.809301  0.303556  0.781506  ...  0.795297  0.008323  0.623652  0.610237   \n",
       "2   0.808388  0.302035  0.780284  ...  0.774670  0.040003  0.623841  0.601449   \n",
       "3   0.808966  0.303350  0.781241  ...  0.739555  0.003252  0.622929  0.583538   \n",
       "4   0.809304  0.303475  0.781550  ...  0.795016  0.003878  0.623521  0.598782   \n",
       "..       ...       ...       ...  ...       ...       ...       ...       ...   \n",
       "94  0.809337  0.303526  0.781595  ...  0.816488  0.003693  0.623753  0.596778   \n",
       "95  0.809443  0.303531  0.781709  ...  0.827879  0.001718  0.623735  0.637605   \n",
       "96  0.809323  0.303471  0.781577  ...  0.797257  0.011141  0.623853  0.620526   \n",
       "97  0.809366  0.303569  0.781604  ...  0.819659  0.000854  0.624077  0.602848   \n",
       "98  0.809416  0.303524  0.781673  ...  0.820055  0.001733  0.623707  0.619575   \n",
       "\n",
       "         X90       X91       X92       X93  X94       X95  \n",
       "0   0.827890  0.290202  0.026601  0.564050    1  0.016469  \n",
       "1   0.839969  0.283846  0.264577  0.570175    1  0.020794  \n",
       "2   0.836774  0.290189  0.026555  0.563706    1  0.016474  \n",
       "3   0.834697  0.281721  0.026697  0.564663    1  0.023982  \n",
       "4   0.839973  0.278514  0.024752  0.575617    1  0.035490  \n",
       "..       ...       ...       ...       ...  ...       ...  \n",
       "94  0.841562  0.278746  0.026901  0.565633    1  0.034046  \n",
       "95  0.842203  0.277826  0.026802  0.565210    1  0.041011  \n",
       "96  0.840113  0.276063  0.026800  0.565199    1  0.080289  \n",
       "97  0.841634  0.277752  0.026824  0.565312    1  0.041761  \n",
       "98  0.841929  0.279356  0.026826  0.565319    1  0.030939  \n",
       "\n",
       "[99 rows x 95 columns]"
      ]
     },
     "metadata": {},
     "output_type": "display_data"
    }
   ],
   "source": [
    "data = pd.read_csv('High Dimension.csv')\n",
    "display(data)"
   ]
  },
  {
   "cell_type": "markdown",
   "metadata": {},
   "source": [
    "Run PCA with all components kept"
   ]
  },
  {
   "cell_type": "code",
   "execution_count": 33,
   "metadata": {},
   "outputs": [],
   "source": [
    "from sklearn import decomposition\n",
    "pca = decomposition.PCA()\n",
    "data_pca = pca.fit_transform(data)"
   ]
  },
  {
   "cell_type": "markdown",
   "metadata": {},
   "source": [
    "Display all components as linear combination of original input variables, with explained_variance, up to component 10"
   ]
  },
  {
   "cell_type": "code",
   "execution_count": 34,
   "metadata": {},
   "outputs": [
    {
     "name": "stdout",
     "output_type": "stream",
     "text": [
      "================\n",
      "0-th component: 24.66% of original variance\n",
      "(-0.000 x X1) + (-0.000 x X2) + (-0.000 x X3) + (-0.000 x X4) + (-0.000 x X5) + (-0.000 x X6) + (-0.000 x X7) + (-0.000 x X8) + (-0.000 x X9) + (-0.000 x X10) + (0.245 x X11) + (-0.026 x X12) + (-0.000 x X13) + (0.000 x X14) + (-0.000 x X15) + (-0.000 x X16) + (-0.000 x X17) + (-0.000 x X18) + (-0.000 x X19) + (0.000 x X20) + (0.000 x X21) + (0.000 x X22) + (-0.000 x X23) + (-0.000 x X24) + (0.000 x X25) + (-0.000 x X26) + (-0.000 x X27) + (-0.000 x X28) + (-0.094 x X29) + (-0.000 x X30) + (-0.000 x X31) + (0.000 x X32) + (-0.000 x X33) + (-0.000 x X34) + (0.000 x X35) + (0.000 x X36) + (0.000 x X37) + (-0.000 x X38) + (-0.000 x X39) + (0.000 x X40) + (0.000 x X41) + (0.000 x X42) + (-0.000 x X43) + (0.000 x X44) + (0.000 x X45) + (0.000 x X46) + (-0.000 x X47) + (-0.407 x X48) + (-0.210 x X49) + (0.000 x X50) + (0.000 x X51) + (-0.000 x X52) + (-0.000 x X53) + (-0.000 x X54) + (0.000 x X55) + (0.000 x X56) + (-0.000 x X57) + (-0.000 x X58) + (-0.009 x X59) + (0.000 x X60) + (-0.000 x X61) + (0.000 x X62) + (-0.000 x X63) + (0.000 x X64) + (-0.000 x X65) + (0.000 x X66) + (-0.000 x X67) + (-0.000 x X68) + (-0.000 x X69) + (0.000 x X70) + (0.830 x X71) + (0.058 x X72) + (-0.000 x X73) + (-0.170 x X74) + (0.000 x X75) + (0.000 x X76) + (0.000 x X77) + (0.000 x X78) + (-0.000 x X79) + (-0.000 x X80) + (-0.000 x X81) + (0.000 x X82) + (-0.000 x X83) + (0.000 x X84) + (0.000 x X85) + (-0.000 x X86) + (0.000 x X87) + (-0.000 x X88) + (-0.000 x X89) + (0.000 x X90) + (-0.000 x X91) + (-0.000 x X92) + (0.000 x X93) + (-0.000 x X94) + (-0.000 x X95)\n",
      "================\n",
      "1-th component: 22.3% of original variance\n",
      "(-0.000 x X1) + (-0.000 x X2) + (-0.000 x X3) + (0.000 x X4) + (0.000 x X5) + (0.000 x X6) + (-0.000 x X7) + (-0.000 x X8) + (-0.000 x X9) + (0.000 x X10) + (-0.389 x X11) + (0.017 x X12) + (-0.000 x X13) + (-0.000 x X14) + (0.000 x X15) + (-0.000 x X16) + (-0.000 x X17) + (-0.000 x X18) + (-0.000 x X19) + (0.000 x X20) + (-0.000 x X21) + (0.000 x X22) + (-0.000 x X23) + (-0.000 x X24) + (-0.000 x X25) + (0.000 x X26) + (0.000 x X27) + (-0.000 x X28) + (-0.003 x X29) + (-0.000 x X30) + (-0.000 x X31) + (0.000 x X32) + (-0.000 x X33) + (-0.000 x X34) + (0.000 x X35) + (0.000 x X36) + (0.000 x X37) + (-0.000 x X38) + (-0.000 x X39) + (-0.000 x X40) + (-0.000 x X41) + (0.000 x X42) + (-0.000 x X43) + (-0.000 x X44) + (-0.000 x X45) + (-0.000 x X46) + (0.000 x X47) + (0.261 x X48) + (-0.326 x X49) + (-0.000 x X50) + (-0.000 x X51) + (-0.000 x X52) + (-0.000 x X53) + (-0.000 x X54) + (-0.000 x X55) + (-0.000 x X56) + (0.000 x X57) + (-0.000 x X58) + (-0.019 x X59) + (-0.000 x X60) + (0.000 x X61) + (-0.000 x X62) + (0.000 x X63) + (0.000 x X64) + (0.000 x X65) + (-0.000 x X66) + (0.000 x X67) + (-0.000 x X68) + (-0.000 x X69) + (0.000 x X70) + (0.171 x X71) + (0.744 x X72) + (-0.000 x X73) + (0.302 x X74) + (0.000 x X75) + (0.000 x X76) + (0.000 x X77) + (-0.000 x X78) + (-0.000 x X79) + (0.000 x X80) + (-0.000 x X81) + (0.000 x X82) + (-0.000 x X83) + (0.000 x X84) + (0.000 x X85) + (-0.000 x X86) + (-0.000 x X87) + (0.000 x X88) + (0.000 x X89) + (0.000 x X90) + (-0.000 x X91) + (0.000 x X92) + (-0.000 x X93) + (-0.000 x X94) + (0.000 x X95)\n",
      "================\n",
      "2-th component: 16.4% of original variance\n",
      "(0.000 x X1) + (0.000 x X2) + (0.000 x X3) + (0.000 x X4) + (0.000 x X5) + (0.000 x X6) + (0.000 x X7) + (0.000 x X8) + (0.000 x X9) + (0.000 x X10) + (-0.347 x X11) + (0.065 x X12) + (0.000 x X13) + (0.000 x X14) + (0.000 x X15) + (0.000 x X16) + (0.000 x X17) + (0.000 x X18) + (0.000 x X19) + (0.000 x X20) + (-0.000 x X21) + (-0.000 x X22) + (0.000 x X23) + (-0.000 x X24) + (0.000 x X25) + (0.000 x X26) + (0.000 x X27) + (0.000 x X28) + (-0.054 x X29) + (0.000 x X30) + (0.000 x X31) + (0.000 x X32) + (-0.000 x X33) + (-0.000 x X34) + (-0.000 x X35) + (-0.000 x X36) + (-0.000 x X37) + (0.000 x X38) + (0.000 x X39) + (0.000 x X40) + (-0.000 x X41) + (-0.000 x X42) + (0.000 x X43) + (-0.000 x X44) + (-0.000 x X45) + (-0.000 x X46) + (-0.000 x X47) + (0.653 x X48) + (0.293 x X49) + (-0.000 x X50) + (-0.000 x X51) + (-0.000 x X52) + (0.000 x X53) + (-0.000 x X54) + (-0.000 x X55) + (-0.000 x X56) + (-0.000 x X57) + (-0.000 x X58) + (0.000 x X59) + (-0.000 x X60) + (0.000 x X61) + (0.000 x X62) + (0.000 x X63) + (-0.000 x X64) + (-0.000 x X65) + (0.000 x X66) + (0.000 x X67) + (0.000 x X68) + (-0.000 x X69) + (-0.000 x X70) + (0.455 x X71) + (-0.275 x X72) + (-0.000 x X73) + (-0.279 x X74) + (-0.000 x X75) + (-0.000 x X76) + (-0.000 x X77) + (0.000 x X78) + (0.000 x X79) + (-0.000 x X80) + (-0.000 x X81) + (0.000 x X82) + (-0.000 x X83) + (0.000 x X84) + (-0.000 x X85) + (0.000 x X86) + (0.000 x X87) + (-0.000 x X88) + (0.000 x X89) + (-0.000 x X90) + (0.000 x X91) + (0.000 x X92) + (-0.000 x X93) + (-0.000 x X94) + (0.000 x X95)\n",
      "================\n",
      "3-th component: 12.27% of original variance\n",
      "(0.000 x X1) + (0.000 x X2) + (0.000 x X3) + (-0.000 x X4) + (-0.000 x X5) + (-0.000 x X6) + (-0.000 x X7) + (0.000 x X8) + (0.000 x X9) + (0.000 x X10) + (0.717 x X11) + (-0.051 x X12) + (-0.000 x X13) + (-0.000 x X14) + (-0.000 x X15) + (-0.000 x X16) + (-0.000 x X17) + (-0.000 x X18) + (0.000 x X19) + (-0.000 x X20) + (0.000 x X21) + (0.000 x X22) + (0.000 x X23) + (0.000 x X24) + (0.000 x X25) + (-0.000 x X26) + (-0.000 x X27) + (0.000 x X28) + (-0.064 x X29) + (0.000 x X30) + (0.000 x X31) + (0.000 x X32) + (-0.000 x X33) + (-0.000 x X34) + (-0.000 x X35) + (-0.000 x X36) + (0.000 x X37) + (-0.000 x X38) + (0.000 x X39) + (0.000 x X40) + (0.000 x X41) + (0.000 x X42) + (0.000 x X43) + (0.000 x X44) + (0.000 x X45) + (0.000 x X46) + (0.000 x X47) + (0.474 x X48) + (-0.062 x X49) + (0.000 x X50) + (0.000 x X51) + (0.000 x X52) + (0.000 x X53) + (0.000 x X54) + (-0.000 x X55) + (0.000 x X56) + (-0.000 x X57) + (-0.000 x X58) + (-0.020 x X59) + (0.000 x X60) + (-0.000 x X61) + (0.000 x X62) + (0.000 x X63) + (0.000 x X64) + (-0.000 x X65) + (0.000 x X66) + (0.000 x X67) + (0.000 x X68) + (0.000 x X69) + (-0.000 x X70) + (-0.099 x X71) + (0.346 x X72) + (-0.000 x X73) + (-0.347 x X74) + (-0.000 x X75) + (-0.000 x X76) + (0.000 x X77) + (0.000 x X78) + (0.000 x X79) + (-0.000 x X80) + (-0.000 x X81) + (-0.000 x X82) + (0.000 x X83) + (0.000 x X84) + (-0.000 x X85) + (0.000 x X86) + (-0.000 x X87) + (-0.000 x X88) + (-0.000 x X89) + (-0.000 x X90) + (0.000 x X91) + (0.000 x X92) + (-0.000 x X93) + (0.000 x X94) + (-0.000 x X95)\n",
      "================\n",
      "4-th component: 11.7% of original variance\n",
      "(-0.000 x X1) + (-0.000 x X2) + (-0.000 x X3) + (0.000 x X4) + (0.000 x X5) + (-0.000 x X6) + (-0.000 x X7) + (-0.000 x X8) + (-0.000 x X9) + (-0.000 x X10) + (0.132 x X11) + (-0.005 x X12) + (0.000 x X13) + (-0.000 x X14) + (-0.000 x X15) + (-0.000 x X16) + (-0.000 x X17) + (-0.000 x X18) + (-0.000 x X19) + (-0.000 x X20) + (-0.000 x X21) + (-0.000 x X22) + (-0.000 x X23) + (-0.000 x X24) + (-0.000 x X25) + (0.000 x X26) + (0.000 x X27) + (0.000 x X28) + (-0.106 x X29) + (-0.000 x X30) + (-0.000 x X31) + (-0.000 x X32) + (-0.000 x X33) + (0.000 x X34) + (-0.000 x X35) + (0.000 x X36) + (0.000 x X37) + (-0.000 x X38) + (-0.000 x X39) + (-0.000 x X40) + (-0.000 x X41) + (-0.000 x X42) + (-0.000 x X43) + (-0.000 x X44) + (-0.000 x X45) + (-0.000 x X46) + (0.000 x X47) + (-0.144 x X48) + (0.857 x X49) + (-0.000 x X50) + (-0.000 x X51) + (-0.000 x X52) + (0.000 x X53) + (-0.000 x X54) + (-0.000 x X55) + (-0.000 x X56) + (-0.000 x X57) + (0.000 x X58) + (-0.013 x X59) + (-0.000 x X60) + (-0.000 x X61) + (-0.000 x X62) + (-0.000 x X63) + (-0.000 x X64) + (-0.000 x X65) + (-0.000 x X66) + (-0.000 x X67) + (-0.000 x X68) + (-0.000 x X69) + (-0.000 x X70) + (0.125 x X71) + (0.359 x X72) + (-0.000 x X73) + (0.267 x X74) + (-0.000 x X75) + (0.000 x X76) + (-0.000 x X77) + (-0.000 x X78) + (-0.000 x X79) + (-0.000 x X80) + (-0.000 x X81) + (-0.000 x X82) + (-0.000 x X83) + (0.000 x X84) + (0.000 x X85) + (-0.000 x X86) + (-0.000 x X87) + (-0.000 x X88) + (0.000 x X89) + (0.000 x X90) + (-0.000 x X91) + (-0.000 x X92) + (-0.000 x X93) + (0.000 x X94) + (-0.000 x X95)\n",
      "================\n",
      "5-th component: 7.32% of original variance\n",
      "(0.000 x X1) + (-0.000 x X2) + (0.000 x X3) + (-0.000 x X4) + (-0.000 x X5) + (0.000 x X6) + (0.000 x X7) + (0.000 x X8) + (0.000 x X9) + (0.000 x X10) + (0.359 x X11) + (-0.010 x X12) + (0.000 x X13) + (0.000 x X14) + (0.000 x X15) + (0.000 x X16) + (0.000 x X17) + (0.000 x X18) + (0.000 x X19) + (0.000 x X20) + (0.000 x X21) + (0.000 x X22) + (0.000 x X23) + (-0.000 x X24) + (-0.000 x X25) + (-0.000 x X26) + (-0.000 x X27) + (-0.000 x X28) + (0.275 x X29) + (0.000 x X30) + (-0.000 x X31) + (0.000 x X32) + (0.000 x X33) + (0.000 x X34) + (-0.000 x X35) + (-0.000 x X36) + (-0.000 x X37) + (0.000 x X38) + (0.000 x X39) + (-0.000 x X40) + (-0.000 x X41) + (0.000 x X42) + (0.000 x X43) + (-0.000 x X44) + (0.000 x X45) + (-0.000 x X46) + (0.000 x X47) + (0.296 x X48) + (-0.104 x X49) + (0.000 x X50) + (0.000 x X51) + (0.000 x X52) + (-0.000 x X53) + (0.000 x X54) + (0.000 x X55) + (0.000 x X56) + (0.000 x X57) + (0.000 x X58) + (-0.016 x X59) + (-0.000 x X60) + (0.000 x X61) + (0.000 x X62) + (0.000 x X63) + (0.000 x X64) + (0.000 x X65) + (-0.000 x X66) + (-0.000 x X67) + (0.000 x X68) + (0.000 x X69) + (0.000 x X70) + (0.217 x X71) + (-0.312 x X72) + (0.000 x X73) + (0.743 x X74) + (0.000 x X75) + (0.000 x X76) + (0.000 x X77) + (-0.000 x X78) + (-0.000 x X79) + (0.000 x X80) + (0.000 x X81) + (0.000 x X82) + (-0.000 x X83) + (-0.000 x X84) + (0.000 x X85) + (0.000 x X86) + (-0.000 x X87) + (0.000 x X88) + (-0.000 x X89) + (0.000 x X90) + (-0.000 x X91) + (-0.000 x X92) + (0.000 x X93) + (0.000 x X94) + (0.000 x X95)\n",
      "================\n",
      "6-th component: 4.48% of original variance\n",
      "(0.000 x X1) + (0.000 x X2) + (0.000 x X3) + (0.000 x X4) + (0.000 x X5) + (0.000 x X6) + (0.000 x X7) + (0.000 x X8) + (0.000 x X9) + (0.000 x X10) + (-0.040 x X11) + (-0.035 x X12) + (-0.000 x X13) + (-0.000 x X14) + (0.000 x X15) + (0.000 x X16) + (0.000 x X17) + (0.000 x X18) + (0.000 x X19) + (-0.000 x X20) + (0.000 x X21) + (0.000 x X22) + (0.000 x X23) + (0.000 x X24) + (-0.000 x X25) + (-0.000 x X26) + (-0.000 x X27) + (-0.000 x X28) + (0.946 x X29) + (0.000 x X30) + (-0.000 x X31) + (-0.000 x X32) + (0.000 x X33) + (0.000 x X34) + (0.000 x X35) + (-0.000 x X36) + (-0.000 x X37) + (0.000 x X38) + (0.000 x X39) + (-0.000 x X40) + (-0.000 x X41) + (0.000 x X42) + (0.000 x X43) + (-0.000 x X44) + (0.000 x X45) + (-0.000 x X46) + (0.000 x X47) + (-0.071 x X48) + (0.118 x X49) + (-0.000 x X50) + (-0.000 x X51) + (0.000 x X52) + (0.000 x X53) + (0.000 x X54) + (0.000 x X55) + (0.000 x X56) + (0.000 x X57) + (0.000 x X58) + (0.026 x X59) + (0.000 x X60) + (-0.000 x X61) + (-0.000 x X62) + (0.000 x X63) + (0.000 x X64) + (0.000 x X65) + (-0.000 x X66) + (-0.000 x X67) + (0.000 x X68) + (0.000 x X69) + (-0.000 x X70) + (0.054 x X71) + (0.146 x X72) + (0.000 x X73) + (-0.241 x X74) + (-0.000 x X75) + (-0.000 x X76) + (0.000 x X77) + (-0.000 x X78) + (-0.000 x X79) + (0.000 x X80) + (-0.000 x X81) + (-0.000 x X82) + (-0.000 x X83) + (-0.000 x X84) + (0.000 x X85) + (0.000 x X86) + (-0.000 x X87) + (-0.000 x X88) + (0.000 x X89) + (0.000 x X90) + (-0.000 x X91) + (-0.000 x X92) + (0.000 x X93) + (-0.000 x X94) + (0.000 x X95)\n",
      "================\n",
      "7-th component: 0.49% of original variance\n",
      "(0.000 x X1) + (0.000 x X2) + (0.000 x X3) + (0.000 x X4) + (0.000 x X5) + (0.000 x X6) + (0.000 x X7) + (0.000 x X8) + (0.000 x X9) + (0.000 x X10) + (0.057 x X11) + (0.874 x X12) + (0.000 x X13) + (0.000 x X14) + (-0.000 x X15) + (0.000 x X16) + (0.000 x X17) + (0.000 x X18) + (0.000 x X19) + (0.000 x X20) + (-0.000 x X21) + (0.000 x X22) + (0.000 x X23) + (-0.000 x X24) + (0.000 x X25) + (0.000 x X26) + (0.000 x X27) + (0.000 x X28) + (0.040 x X29) + (0.000 x X30) + (0.000 x X31) + (0.000 x X32) + (0.000 x X33) + (0.000 x X34) + (0.000 x X35) + (-0.000 x X36) + (-0.000 x X37) + (0.000 x X38) + (0.000 x X39) + (-0.000 x X40) + (0.000 x X41) + (0.000 x X42) + (0.000 x X43) + (-0.000 x X44) + (-0.000 x X45) + (0.000 x X46) + (0.000 x X47) + (-0.037 x X48) + (-0.012 x X49) + (-0.000 x X50) + (-0.000 x X51) + (0.000 x X52) + (-0.000 x X53) + (0.000 x X54) + (-0.000 x X55) + (-0.000 x X56) + (-0.000 x X57) + (0.000 x X58) + (-0.479 x X59) + (-0.000 x X60) + (0.000 x X61) + (0.000 x X62) + (0.000 x X63) + (-0.000 x X64) + (-0.000 x X65) + (-0.000 x X66) + (0.000 x X67) + (0.000 x X68) + (0.000 x X69) + (-0.000 x X70) + (-0.015 x X71) + (0.017 x X72) + (-0.000 x X73) + (-0.017 x X74) + (0.000 x X75) + (-0.000 x X76) + (-0.000 x X77) + (-0.000 x X78) + (0.000 x X79) + (0.000 x X80) + (0.000 x X81) + (0.000 x X82) + (0.000 x X83) + (-0.000 x X84) + (-0.000 x X85) + (0.000 x X86) + (0.000 x X87) + (0.000 x X88) + (0.000 x X89) + (-0.000 x X90) + (-0.000 x X91) + (-0.000 x X92) + (0.000 x X93) + (0.000 x X94) + (0.000 x X95)\n",
      "================\n",
      "8-th component: 0.38% of original variance\n",
      "(-0.000 x X1) + (0.000 x X2) + (-0.000 x X3) + (0.000 x X4) + (0.000 x X5) + (-0.000 x X6) + (-0.000 x X7) + (-0.000 x X8) + (-0.000 x X9) + (-0.000 x X10) + (0.051 x X11) + (0.477 x X12) + (0.000 x X13) + (0.000 x X14) + (-0.000 x X15) + (0.000 x X16) + (0.000 x X17) + (0.000 x X18) + (-0.000 x X19) + (-0.000 x X20) + (-0.000 x X21) + (-0.000 x X22) + (-0.000 x X23) + (0.000 x X24) + (0.000 x X25) + (0.000 x X26) + (0.000 x X27) + (0.000 x X28) + (-0.005 x X29) + (-0.000 x X30) + (0.000 x X31) + (-0.000 x X32) + (0.000 x X33) + (0.000 x X34) + (-0.000 x X35) + (0.000 x X36) + (0.000 x X37) + (-0.000 x X38) + (0.000 x X39) + (-0.000 x X40) + (0.000 x X41) + (-0.000 x X42) + (-0.000 x X43) + (0.000 x X44) + (-0.000 x X45) + (0.000 x X46) + (-0.000 x X47) + (-0.002 x X48) + (-0.010 x X49) + (-0.000 x X50) + (-0.000 x X51) + (-0.000 x X52) + (0.000 x X53) + (0.000 x X54) + (-0.000 x X55) + (0.000 x X56) + (-0.000 x X57) + (0.000 x X58) + (0.877 x X59) + (-0.000 x X60) + (0.000 x X61) + (0.000 x X62) + (0.000 x X63) + (-0.000 x X64) + (0.000 x X65) + (-0.000 x X66) + (0.000 x X67) + (-0.000 x X68) + (-0.000 x X69) + (-0.000 x X70) + (0.005 x X71) + (0.029 x X72) + (0.000 x X73) + (0.012 x X74) + (0.000 x X75) + (-0.000 x X76) + (-0.000 x X77) + (-0.000 x X78) + (0.000 x X79) + (0.000 x X80) + (0.000 x X81) + (-0.000 x X82) + (0.000 x X83) + (-0.000 x X84) + (-0.000 x X85) + (0.000 x X86) + (0.000 x X87) + (0.000 x X88) + (0.000 x X89) + (-0.000 x X90) + (0.000 x X91) + (-0.000 x X92) + (0.000 x X93) + (0.000 x X94) + (0.000 x X95)\n",
      "================\n",
      "9-th component: 0.0% of original variance\n",
      "(-0.014 x X1) + (-0.028 x X2) + (-0.020 x X3) + (-0.008 x X4) + (-0.008 x X5) + (-0.000 x X6) + (-0.000 x X7) + (-0.000 x X8) + (-0.000 x X9) + (-0.000 x X10) + (-0.000 x X11) + (0.000 x X12) + (-0.006 x X13) + (-0.022 x X14) + (-0.052 x X15) + (-0.008 x X16) + (-0.008 x X17) + (-0.008 x X18) + (-0.009 x X19) + (-0.002 x X20) + (0.016 x X21) + (-0.001 x X22) + (-0.008 x X23) + (-0.000 x X24) + (-0.000 x X25) + (-0.001 x X26) + (-0.001 x X27) + (-0.000 x X28) + (-0.000 x X29) + (-0.000 x X30) + (-0.000 x X31) + (-0.003 x X32) + (-0.004 x X33) + (-0.002 x X34) + (0.001 x X35) + (0.007 x X36) + (0.006 x X37) + (-0.006 x X38) + (-0.000 x X39) + (-0.001 x X40) + (-0.001 x X41) + (-0.001 x X42) + (-0.008 x X43) + (0.003 x X44) + (0.080 x X45) + (-0.000 x X46) + (0.001 x X47) + (0.000 x X48) + (0.000 x X49) + (0.024 x X50) + (-0.001 x X51) + (-0.004 x X52) + (-0.009 x X53) + (-0.014 x X54) + (0.206 x X55) + (0.229 x X56) + (0.054 x X57) + (-0.002 x X58) + (0.000 x X59) + (0.086 x X60) + (0.008 x X61) + (-0.002 x X62) + (-0.004 x X63) + (0.662 x X64) + (-0.001 x X65) + (0.003 x X66) + (-0.035 x X67) + (-0.008 x X68) + (-0.000 x X69) + (0.011 x X70) + (-0.000 x X71) + (0.000 x X72) + (-0.000 x X73) + (-0.000 x X74) + (0.000 x X75) + (0.034 x X76) + (0.662 x X77) + (0.003 x X78) + (-0.014 x X79) + (0.001 x X80) + (0.001 x X81) + (-0.007 x X82) + (-0.004 x X83) + (0.020 x X84) + (0.036 x X85) + (-0.019 x X86) + (-0.023 x X87) + (0.000 x X88) + (-0.008 x X89) + (0.004 x X90) + (-0.002 x X91) + (-0.010 x X92) + (0.013 x X93) + (-0.000 x X94) + (0.012 x X95)\n"
     ]
    }
   ],
   "source": [
    "for i, component in enumerate(pca.components_[:10]):\n",
    "    print(\"================\")\n",
    "    print(\"{}-th component: {}% of original variance\".format(i, round(100 * pca.explained_variance_ratio_[i], 2)))\n",
    "    print(\" + \".join(\"({:.3f} x {:s})\".format(value, name) for value, name in zip(component, data.columns)))"
   ]
  },
  {
   "cell_type": "markdown",
   "metadata": {},
   "source": [
    "Plot cummulative explained variance against no. of principal components, up to component 10"
   ]
  },
  {
   "cell_type": "code",
   "execution_count": 35,
   "metadata": {},
   "outputs": [
    {
     "data": {
      "image/png": "[encoded data removed]",
      "text/plain": [
       "<Figure size 640x480 with 1 Axes>"
      ]
     },
     "metadata": {},
     "output_type": "display_data"
    }
   ],
   "source": [
    "cum_exp_variance = np.cumsum(pca.explained_variance_ratio_[:10])\n",
    "plt.step(range(0,len(cum_exp_variance)), cum_exp_variance, where='mid')\n",
    "plt.ylabel('Cumulative explained variance')\n",
    "plt.xlabel('Principal component index')\n",
    "plt.tight_layout()\n",
    "plt.show()"
   ]
  },
  {
   "cell_type": "markdown",
   "metadata": {},
   "source": [
    "#### Exercise\n",
    "\n",
    "- How many top components shall we keep to have total explained variance of 80%?\n",
    "- Run PCA again with only that many top components. Which parameter shall be set?\n",
    "\n",
    "Refer to documentation\n",
    "\n",
    "https://scikit-learn.org/stable/modules/generated/sklearn.decomposition.PCA.html"
   ]
  },
  {
   "cell_type": "code",
   "execution_count": 36,
   "metadata": {},
   "outputs": [
    {
     "data": {
      "text/plain": [
       "array([[-7.74174342e+08,  4.72095808e+08, -2.04123693e+09,\n",
       "        -3.89368608e+08, -1.44608707e+09],\n",
       "       [-5.70246123e+09,  4.03011198e+09,  3.01753213e+09,\n",
       "         3.69204617e+09, -1.43360914e+09],\n",
       "       [-2.63137327e+09, -5.38361255e+09,  5.35555876e+07,\n",
       "        -3.07914234e+09, -1.85192183e+09],\n",
       "       [ 2.86061503e+08,  7.22478104e+08,  8.38318153e+09,\n",
       "         9.78246055e+08,  6.54518735e+09],\n",
       "       [ 5.91976640e+09, -2.58539233e+09, -1.77537013e+09,\n",
       "         3.99945205e+09, -1.53449342e+08],\n",
       "       [ 3.29433276e+09, -3.96434463e+09,  5.74433407e+09,\n",
       "        -2.33228031e+09,  6.42137268e+09],\n",
       "       [-1.59885070e+09,  3.18386954e+09, -3.72024639e+09,\n",
       "        -3.52845491e+07, -2.03468391e+07],\n",
       "       [ 6.67144403e+09, -2.10228490e+09, -2.22580650e+09,\n",
       "         5.08238089e+09,  3.31650495e+08],\n",
       "       [-1.26786091e+09,  2.65594663e+09, -3.24049514e+09,\n",
       "         8.52949110e+08, -6.78271520e+08],\n",
       "       [ 4.11902714e+09, -3.29662064e+09, -1.21729572e+09,\n",
       "         2.36256423e+09, -1.29841732e+09],\n",
       "       [ 2.75823277e+09, -1.53782349e+09,  1.19772303e+09,\n",
       "        -1.81761861e+09, -1.84284435e+09],\n",
       "       [-1.59956824e+09,  1.85129502e+09, -2.35854144e+09,\n",
       "         5.47908585e+08, -1.09668753e+09],\n",
       "       [-2.37308673e+09,  2.08427238e+09, -3.94169635e+09,\n",
       "        -2.03106416e+09, -3.41768273e+08],\n",
       "       [ 5.30352726e+09,  3.28741864e+09,  4.92950617e+08,\n",
       "        -3.17154324e+09,  7.45055712e+08],\n",
       "       [-8.80857315e+08, -4.59550809e+09, -3.57993422e+09,\n",
       "         5.98487434e+09,  9.35571786e+09],\n",
       "       [ 2.61709375e+09,  3.77702548e+09,  7.84647995e+09,\n",
       "         3.20330566e+09, -1.51562716e+09],\n",
       "       [-5.70204236e+09, -4.77011735e+09,  5.41143280e+09,\n",
       "         1.44867960e+08, -3.67804548e+08],\n",
       "       [-4.42622225e+09,  3.13073581e+09,  1.54463877e+09,\n",
       "         2.89749907e+09, -2.17236648e+09],\n",
       "       [-9.84238023e+07, -6.34905843e+09, -2.48863482e+09,\n",
       "         1.37395396e+09, -3.07004010e+09],\n",
       "       [-2.76909117e+09,  3.89838517e+09, -5.05883105e+09,\n",
       "        -2.65227666e+09,  1.00757918e+09],\n",
       "       [-4.81050815e+09, -5.63021070e+09,  3.89283857e+08,\n",
       "        -5.37104851e+09,  5.27159152e+09],\n",
       "       [-3.33168677e+09, -1.98290922e+09, -2.90087652e+09,\n",
       "        -5.64550666e+09, -1.82741015e+09],\n",
       "       [ 4.87891835e+09,  2.58252429e+09,  5.41288049e+08,\n",
       "        -2.09631960e+09,  1.32738624e+08],\n",
       "       [-1.83655129e+09, -4.66135356e+09, -5.35453534e+08,\n",
       "        -2.54865616e+09, -4.20873150e+09],\n",
       "       [ 5.80851295e+09,  2.26669020e+09,  1.29817075e+09,\n",
       "        -1.27129338e+09, -2.58914183e+08],\n",
       "       [-5.85939543e+09,  3.15756854e+09,  2.25237624e+09,\n",
       "         2.26649214e+09,  4.60222698e+09],\n",
       "       [ 3.17523291e+09,  1.60219946e+09,  2.54963414e+08,\n",
       "        -1.99133140e+09,  3.87242594e+08],\n",
       "       [-3.12804621e+09,  3.34645956e+09, -4.02367688e+09,\n",
       "        -2.39965923e+09,  3.71450147e+08],\n",
       "       [-3.89196986e+09,  3.14330065e+09,  1.04571501e+09,\n",
       "         2.82535894e+09, -1.88384818e+09],\n",
       "       [ 1.72118756e+09, -3.64499124e+09, -4.38441318e+09,\n",
       "         5.58632725e+09, -2.64809879e+08],\n",
       "       [-2.75652522e+09, -9.00879496e+08, -1.37885391e+09,\n",
       "        -1.24717877e+09,  2.79177252e+09],\n",
       "       [ 6.44656325e+09,  3.69003241e+09,  1.18600097e+09,\n",
       "        -1.10396643e+09,  1.14006910e+09],\n",
       "       [ 6.14583383e+09, -2.57887971e+09, -2.36472134e+09,\n",
       "         5.19313495e+09,  1.90283804e+06],\n",
       "       [-2.74873966e+09,  5.42731964e+09, -5.74130453e+09,\n",
       "        -2.15867789e+09,  1.74493060e+09],\n",
       "       [ 4.20373210e+09, -2.99819481e+09, -1.53239977e+09,\n",
       "         2.78981366e+09, -1.09633464e+09],\n",
       "       [ 2.65416561e+09, -1.43763784e+09,  1.05650011e+09,\n",
       "        -1.56553577e+09, -1.83136631e+09],\n",
       "       [-4.64745975e+09,  4.66693418e+09, -1.02960376e+09,\n",
       "         5.19167773e+08, -4.53951652e+08],\n",
       "       [-2.37936767e+09,  2.80227308e+09, -3.37818133e+09,\n",
       "        -8.72597146e+08, -2.23718422e+08],\n",
       "       [ 5.37385606e+09,  2.40581064e+09,  9.68315896e+08,\n",
       "        -2.80372625e+09,  1.41744617e+08],\n",
       "       [-1.68208501e+09, -1.00133436e+10, -2.20366635e+09,\n",
       "         2.65209546e+09,  4.87307798e+09],\n",
       "       [-4.33394264e+09,  2.55849594e+09,  3.51785214e+09,\n",
       "         3.28541722e+09, -3.03589152e+09],\n",
       "       [-5.94576136e+09, -5.11444842e+09,  5.71951237e+09,\n",
       "         6.11373890e+07,  5.20069085e+08],\n",
       "       [-4.66141400e+09,  5.31561491e+09, -4.82661551e+08,\n",
       "         1.75786377e+09, -4.18233356e+08],\n",
       "       [ 3.51719023e+09, -3.21513018e+09, -1.08751209e+09,\n",
       "         1.27605067e+09, -1.59325960e+09],\n",
       "       [-4.60090286e+09,  5.23234705e+09, -1.89656658e+09,\n",
       "         2.46119076e+07,  1.63170741e+08],\n",
       "       [ 3.63911938e+09,  3.11459984e+08,  3.46136955e+09,\n",
       "        -1.81167867e+09,  7.84890988e+09],\n",
       "       [-3.12490781e+09, -2.34516464e+09, -2.66128903e+09,\n",
       "        -5.20480288e+09, -2.14321860e+09],\n",
       "       [ 5.17729881e+09,  3.28616965e+09,  3.90185162e+08,\n",
       "        -2.44597457e+09,  5.57308348e+08],\n",
       "       [-3.67707287e+09, -7.47429576e+09,  1.97430585e+09,\n",
       "        -3.10052899e+09,  3.14743379e+09],\n",
       "       [-1.39779297e+09,  1.60897330e+09, -2.84183480e+09,\n",
       "         9.74390408e+07, -1.03144590e+09],\n",
       "       [-6.61932991e+09,  2.66924449e+09,  3.58666479e+09,\n",
       "         2.76770451e+09,  4.05330396e+09],\n",
       "       [ 1.67326669e+09, -2.82620597e+08,  2.33719757e+09,\n",
       "        -2.61881972e+09,  7.62581256e+09],\n",
       "       [-6.88216403e+09,  8.15665147e+09,  3.32648698e+08,\n",
       "         1.91210011e+09,  4.88756875e+08],\n",
       "       [-1.71983604e+09,  2.99712359e+09, -3.08599854e+09,\n",
       "         6.64586859e+08, -5.66334691e+08],\n",
       "       [-2.51189001e+09,  3.68603674e+08, -1.17924249e+09,\n",
       "         9.16520580e+09, -2.40529356e+08],\n",
       "       [ 5.29062081e+09,  1.76886563e+09,  7.67976445e+08,\n",
       "        -1.02574115e+09, -2.13479281e+08],\n",
       "       [ 3.51053513e+09,  4.80066188e+09, -1.46750505e+09,\n",
       "        -3.52918466e+09,  1.63559177e+09],\n",
       "       [ 4.59671064e+09,  1.26065999e+09,  9.08840384e+08,\n",
       "        -2.61283478e+09, -3.98248698e+08],\n",
       "       [ 4.74271620e+09,  2.75073909e+09,  5.14194462e+08,\n",
       "        -1.88391446e+09,  9.59449742e+07],\n",
       "       [ 5.70682490e+09, -3.87464166e+09, -1.90938786e+09,\n",
       "         4.18719074e+09, -6.18790341e+08],\n",
       "       [-2.54075956e+09,  4.89229057e+09, -5.34307145e+09,\n",
       "        -1.88568738e+09,  1.43174307e+09],\n",
       "       [ 3.67524923e+09, -3.24943623e+09, -1.96434669e+09,\n",
       "         2.72265409e+09, -1.05950133e+09],\n",
       "       [ 2.04229838e+09, -1.40155701e+09,  6.67248892e+08,\n",
       "        -2.00705596e+09, -2.33543427e+09],\n",
       "       [-1.56825446e+09,  4.24259307e+09, -4.30943584e+09,\n",
       "        -6.54425211e+08,  1.45030070e+09],\n",
       "       [-5.27816854e+09,  5.40789832e+09,  2.27796919e+09,\n",
       "         3.62878247e+09, -6.60898716e+08],\n",
       "       [-2.48572439e+09,  3.64115521e+09, -4.66609095e+09,\n",
       "        -2.00981938e+09,  6.47436045e+08],\n",
       "       [-3.18734257e+09, -8.36871158e+09, -2.71160585e+09,\n",
       "        -2.26414530e+08,  7.06415778e+09],\n",
       "       [ 3.61865586e+09,  3.79489367e+09,  7.28442445e+09,\n",
       "         2.07724113e+09, -1.70618877e+09],\n",
       "       [-6.46901379e+09, -5.19600418e+09,  5.55395334e+09,\n",
       "        -8.67813840e+08,  2.83418328e+09],\n",
       "       [-1.97617753e+09,  1.72006930e+09, -3.41795673e+09,\n",
       "        -1.04568635e+09, -8.63885877e+08],\n",
       "       [ 2.03196837e+09, -5.31643058e+09, -7.06256374e+08,\n",
       "        -3.65676886e+07, -2.79965934e+09],\n",
       "       [ 3.14937069e+09,  4.89770186e+09,  3.85980294e+09,\n",
       "        -8.99023561e+08,  1.38969574e+08],\n",
       "       [-3.88303010e+09, -7.14858583e+09,  1.83757902e+09,\n",
       "        -3.54863088e+09,  3.66055620e+09],\n",
       "       [-1.86035312e+09, -4.64500664e+09, -4.70549970e+08,\n",
       "        -2.59767941e+09, -4.21153048e+09],\n",
       "       [ 6.52613431e+09,  3.07678487e+09,  1.50605593e+09,\n",
       "        -8.21497803e+08,  2.47075313e+07],\n",
       "       [-5.42786540e+09, -2.33386194e+09,  5.29468599e+09,\n",
       "         1.69231226e+09, -5.45762717e+09],\n",
       "       [ 8.70836711e+09, -1.13077204e+09, -2.01335969e+09,\n",
       "         5.63653481e+09,  1.25116825e+09],\n",
       "       [-6.44727647e+09,  2.04670134e+09,  4.25778308e+09,\n",
       "         2.98930333e+09,  3.32114122e+09],\n",
       "       [-2.56776457e+09, -3.29360494e+09, -1.71469733e+09,\n",
       "        -4.10941067e+09, -2.95777077e+09],\n",
       "       [-5.68881840e+09, -2.14768151e+09,  5.80720037e+09,\n",
       "         1.93353824e+09, -5.52234989e+09],\n",
       "       [-4.12727155e+09,  5.16481636e+09, -5.32460994e+08,\n",
       "         2.29642288e+09, -5.82833106e+08],\n",
       "       [-1.87132354e+09, -4.58939649e+09, -5.98675750e+08,\n",
       "        -2.62739978e+09, -4.13884730e+09],\n",
       "       [ 3.28771881e+09,  4.88768210e+08,  5.25188901e+08,\n",
       "        -2.12512722e+09, -5.15591628e+08],\n",
       "       [ 4.13670697e+09, -3.71786582e+09, -1.47858259e+09,\n",
       "         2.60103186e+09, -1.28790792e+09],\n",
       "       [-1.80738914e+09, -4.66055205e+09, -5.18604414e+08,\n",
       "        -2.52867685e+09, -4.17583265e+09],\n",
       "       [ 3.91567871e+09, -3.51642965e+09, -1.09804840e+09,\n",
       "         2.11432522e+09, -1.64378028e+09],\n",
       "       [ 1.72974027e+09, -1.78535577e+09,  6.41725838e+08,\n",
       "        -2.02901382e+09, -2.61854001e+09],\n",
       "       [-3.02664865e+09,  4.27564527e+09, -4.64634687e+09,\n",
       "        -2.16964017e+09,  8.81899404e+08],\n",
       "       [ 6.00073272e+09,  3.82053529e+09,  7.00784293e+08,\n",
       "        -2.21163322e+09,  8.28765770e+08],\n",
       "       [ 9.33870995e+08, -8.06556250e+08, -6.67398228e+09,\n",
       "         7.34216163e+09,  7.83824535e+08],\n",
       "       [-8.22723909e+08, -6.03455085e+09, -4.24164142e+09,\n",
       "         9.83396146e+08, -1.98039270e+09],\n",
       "       [ 3.10315680e+09,  3.43313402e+09,  7.06718281e+09,\n",
       "         1.95560004e+09, -1.88831455e+09],\n",
       "       [-4.93272552e+09, -1.97628392e+09,  2.69982895e+09,\n",
       "        -8.61957986e+08, -4.13474446e+09],\n",
       "       [ 1.78574458e+09,  4.82752284e+08,  8.94984591e+09,\n",
       "         1.48718126e+08, -3.40459314e+09],\n",
       "       [ 5.78896800e+08, -4.25712982e+09, -1.07048290e+09,\n",
       "        -5.39355500e+08, -2.75546219e+09],\n",
       "       [ 4.17069830e+09,  3.13138245e+09,  3.61846516e+08,\n",
       "        -3.55686820e+09,  6.01689385e+08],\n",
       "       [ 5.27232040e+09, -2.21402369e+09,  3.29399909e+09,\n",
       "        -3.85180871e+09, -1.32167714e+09],\n",
       "       [ 6.29261822e+09,  4.28851493e+09,  8.14070366e+08,\n",
       "        -1.38529952e+09,  9.42869929e+08],\n",
       "       [-1.85170554e+09,  2.45326577e+09, -3.68693178e+09,\n",
       "        -8.59719290e+08, -2.43904032e+08]])"
      ]
     },
     "metadata": {},
     "output_type": "display_data"
    }
   ],
   "source": [
    "from sklearn import decomposition\n",
    "pca = decomposition.PCA(n_components=5)\n",
    "data_pca = pca.fit_transform(data)\n",
    "display(data_pca)"
   ]
  },
  {
   "cell_type": "markdown",
   "metadata": {},
   "source": [
    "Now we can perform cluster analysis on the top few components from PCA"
   ]
  }
 ],
 "metadata": {
  "colab": {
   "collapsed_sections": [],
   "name": "Farm_Credit.ipynb",
   "provenance": []
  },
  "kernelspec": {
   "display_name": "Python 3 (ipykernel)",
   "language": "python",
   "name": "python3"
  },
  "language_info": {
   "codemirror_mode": {
    "name": "ipython",
    "version": 3
   },
   "file_extension": ".py",
   "mimetype": "text/x-python",
   "name": "python",
   "nbconvert_exporter": "python",
   "pygments_lexer": "ipython3",
   "version": "3.12.9"
  }
 },
 "nbformat": 4,
 "nbformat_minor": 4
}
